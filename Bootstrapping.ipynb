{
 "cells": [
  {
   "cell_type": "markdown",
   "id": "incorrect-operation",
   "metadata": {},
   "source": [
    "# Basic Package Mangement"
   ]
  },
  {
   "cell_type": "code",
   "execution_count": 1,
   "id": "hungarian-easter",
   "metadata": {
    "scrolled": true
   },
   "outputs": [
    {
     "name": "stderr",
     "output_type": "stream",
     "text": [
      "Loading required package: pacman\n",
      "Warning message:\n",
      "\"package 'pacman' was built under R version 3.6.3\""
     ]
    }
   ],
   "source": [
    "#install.packages(\"pacman\") # Execute this once.\n",
    "require(pacman)"
   ]
  },
  {
   "cell_type": "markdown",
   "id": "chemical-wireless",
   "metadata": {},
   "source": [
    "### Clearing and unloading packages"
   ]
  },
  {
   "cell_type": "code",
   "execution_count": 53,
   "id": "brief-render",
   "metadata": {
    "scrolled": false
   },
   "outputs": [
    {
     "name": "stderr",
     "output_type": "stream",
     "text": [
      "The following packages have been unloaded:\n",
      "\breadxl, ResourceSelection, magrittr, mosaic, ggridges, mosaicData, ggformula, ggstance, Matrix, lattice, forcats, stringr, dplyr, purrr, readr, tidyr, tibble, ggplot2, tidyverse, pacman\n",
      "\n"
     ]
    }
   ],
   "source": [
    "# Run this block, when done coding or before starting coding.\n",
    "p_unload(all)\n",
    "detach(\"package:datasets\", unload=TRUE)\n",
    "rm(list=ls()) # removes all previous stored variables"
   ]
  },
  {
   "cell_type": "markdown",
   "id": "fallen-revelation",
   "metadata": {},
   "source": [
    "### Loading packages"
   ]
  },
  {
   "cell_type": "code",
   "execution_count": 2,
   "id": "convinced-texas",
   "metadata": {},
   "outputs": [],
   "source": [
    "pacman::p_load(pacman, tidyverse, mosaic, magrittr, ResourceSelection)"
   ]
  },
  {
   "cell_type": "markdown",
   "id": "entire-taylor",
   "metadata": {},
   "source": [
    "# Initializing the dataframe"
   ]
  },
  {
   "cell_type": "code",
   "execution_count": 3,
   "id": "swiss-allen",
   "metadata": {},
   "outputs": [
    {
     "data": {
      "text/html": [
       "<table>\n",
       "<thead><tr><th scope=col>interval</th><th scope=col>age</th><th scope=col>infected</th><th scope=col>tested</th><th scope=col>female_deaths</th><th scope=col>male_deaths</th><th scope=col>tot_deaths</th><th scope=col>comorbidity</th><th scope=col>infected_fem</th><th scope=col>infected_male</th><th scope=col>tot_male</th><th scope=col>tot_fem</th><th scope=col>tot_num</th></tr></thead>\n",
       "<tbody>\n",
       "\t<tr><td> 1     </td><td>0-9    </td><td> 15400 </td><td> 395142</td><td>   0   </td><td>   1   </td><td>   1   </td><td>   1   </td><td>  7372 </td><td>  8028 </td><td> 313571</td><td> 297559</td><td> 611130</td></tr>\n",
       "\t<tr><td> 2     </td><td>10-19  </td><td> 34025 </td><td> 605344</td><td>   0   </td><td>   0   </td><td>   0   </td><td>   0   </td><td> 16626 </td><td> 17399 </td><td> 348964</td><td> 331889</td><td> 680853</td></tr>\n",
       "\t<tr><td> 3     </td><td>20-29  </td><td> 41545 </td><td> 688922</td><td>   0   </td><td>   0   </td><td>   0   </td><td>   0   </td><td> 21296 </td><td> 20249 </td><td> 397572</td><td> 381907</td><td> 779479</td></tr>\n",
       "\t<tr><td> 4     </td><td>30-39  </td><td> 30514 </td><td> 604186</td><td>   4   </td><td>   2   </td><td>   6   </td><td>   3   </td><td> 15615 </td><td> 14899 </td><td> 352231</td><td> 341194</td><td> 693425</td></tr>\n",
       "\t<tr><td> 5     </td><td>40-49  </td><td> 32482 </td><td> 646070</td><td>   3   </td><td>   4   </td><td>   7   </td><td>   5   </td><td> 17345 </td><td> 15137 </td><td> 376117</td><td> 375174</td><td> 751291</td></tr>\n",
       "\t<tr><td> 6     </td><td>50-59  </td><td> 31843 </td><td> 660087</td><td>  21   </td><td>  32   </td><td>  53   </td><td>  37   </td><td> 16507 </td><td> 15336 </td><td> 402188</td><td> 398825</td><td> 801013</td></tr>\n",
       "\t<tr><td> 7     </td><td>60-69  </td><td> 17558 </td><td> 490990</td><td>  73   </td><td> 122   </td><td> 195   </td><td> 153   </td><td>  8562 </td><td>  8996 </td><td> 327021</td><td> 338282</td><td> 666262</td></tr>\n",
       "\t<tr><td> 8     </td><td>70-79  </td><td> 10910 </td><td> 370426</td><td> 229   </td><td> 395   </td><td> 624   </td><td> 516   </td><td>  5378 </td><td>  5532 </td><td> 272021</td><td> 300894</td><td> 572915</td></tr>\n",
       "\t<tr><td> 9     </td><td>80-89  </td><td>  5760 </td><td> 140654</td><td> 441   </td><td> 523   </td><td> 964   </td><td> 784   </td><td>  3330 </td><td>  2430 </td><td>  99560</td><td> 135830</td><td> 235390</td></tr>\n",
       "\t<tr><td>10     </td><td>90+    </td><td>  1805 </td><td>  28610</td><td> 325   </td><td> 220   </td><td> 545   </td><td> 433   </td><td>  1277 </td><td>   528 </td><td>  13237</td><td>  32228</td><td>  45455</td></tr>\n",
       "\t<tr><td>11     </td><td>Alle   </td><td>221842 </td><td>4630431</td><td>1096   </td><td>1299   </td><td>2395   </td><td>1932   </td><td>113308 </td><td>108534 </td><td>2902482</td><td>2933782</td><td>5837213</td></tr>\n",
       "</tbody>\n",
       "</table>\n"
      ],
      "text/latex": [
       "\\begin{tabular}{r|lllllllllllll}\n",
       " interval & age & infected & tested & female\\_deaths & male\\_deaths & tot\\_deaths & comorbidity & infected\\_fem & infected\\_male & tot\\_male & tot\\_fem & tot\\_num\\\\\n",
       "\\hline\n",
       "\t  1      & 0-9     &  15400  &  395142 &    0    &    1    &    1    &    1    &   7372  &   8028  &  313571 &  297559 &  611130\\\\\n",
       "\t  2      & 10-19   &  34025  &  605344 &    0    &    0    &    0    &    0    &  16626  &  17399  &  348964 &  331889 &  680853\\\\\n",
       "\t  3      & 20-29   &  41545  &  688922 &    0    &    0    &    0    &    0    &  21296  &  20249  &  397572 &  381907 &  779479\\\\\n",
       "\t  4      & 30-39   &  30514  &  604186 &    4    &    2    &    6    &    3    &  15615  &  14899  &  352231 &  341194 &  693425\\\\\n",
       "\t  5      & 40-49   &  32482  &  646070 &    3    &    4    &    7    &    5    &  17345  &  15137  &  376117 &  375174 &  751291\\\\\n",
       "\t  6      & 50-59   &  31843  &  660087 &   21    &   32    &   53    &   37    &  16507  &  15336  &  402188 &  398825 &  801013\\\\\n",
       "\t  7      & 60-69   &  17558  &  490990 &   73    &  122    &  195    &  153    &   8562  &   8996  &  327021 &  338282 &  666262\\\\\n",
       "\t  8      & 70-79   &  10910  &  370426 &  229    &  395    &  624    &  516    &   5378  &   5532  &  272021 &  300894 &  572915\\\\\n",
       "\t  9      & 80-89   &   5760  &  140654 &  441    &  523    &  964    &  784    &   3330  &   2430  &   99560 &  135830 &  235390\\\\\n",
       "\t 10      & 90+     &   1805  &   28610 &  325    &  220    &  545    &  433    &   1277  &    528  &   13237 &   32228 &   45455\\\\\n",
       "\t 11      & Alle    & 221842  & 4630431 & 1096    & 1299    & 2395    & 1932    & 113308  & 108534  & 2902482 & 2933782 & 5837213\\\\\n",
       "\\end{tabular}\n"
      ],
      "text/markdown": [
       "\n",
       "| interval | age | infected | tested | female_deaths | male_deaths | tot_deaths | comorbidity | infected_fem | infected_male | tot_male | tot_fem | tot_num |\n",
       "|---|---|---|---|---|---|---|---|---|---|---|---|---|\n",
       "|  1      | 0-9     |  15400  |  395142 |    0    |    1    |    1    |    1    |   7372  |   8028  |  313571 |  297559 |  611130 |\n",
       "|  2      | 10-19   |  34025  |  605344 |    0    |    0    |    0    |    0    |  16626  |  17399  |  348964 |  331889 |  680853 |\n",
       "|  3      | 20-29   |  41545  |  688922 |    0    |    0    |    0    |    0    |  21296  |  20249  |  397572 |  381907 |  779479 |\n",
       "|  4      | 30-39   |  30514  |  604186 |    4    |    2    |    6    |    3    |  15615  |  14899  |  352231 |  341194 |  693425 |\n",
       "|  5      | 40-49   |  32482  |  646070 |    3    |    4    |    7    |    5    |  17345  |  15137  |  376117 |  375174 |  751291 |\n",
       "|  6      | 50-59   |  31843  |  660087 |   21    |   32    |   53    |   37    |  16507  |  15336  |  402188 |  398825 |  801013 |\n",
       "|  7      | 60-69   |  17558  |  490990 |   73    |  122    |  195    |  153    |   8562  |   8996  |  327021 |  338282 |  666262 |\n",
       "|  8      | 70-79   |  10910  |  370426 |  229    |  395    |  624    |  516    |   5378  |   5532  |  272021 |  300894 |  572915 |\n",
       "|  9      | 80-89   |   5760  |  140654 |  441    |  523    |  964    |  784    |   3330  |   2430  |   99560 |  135830 |  235390 |\n",
       "| 10      | 90+     |   1805  |   28610 |  325    |  220    |  545    |  433    |   1277  |    528  |   13237 |   32228 |   45455 |\n",
       "| 11      | Alle    | 221842  | 4630431 | 1096    | 1299    | 2395    | 1932    | 113308  | 108534  | 2902482 | 2933782 | 5837213 |\n",
       "\n"
      ],
      "text/plain": [
       "   interval age   infected tested  female_deaths male_deaths tot_deaths\n",
       "1   1       0-9    15400    395142    0             1           1      \n",
       "2   2       10-19  34025    605344    0             0           0      \n",
       "3   3       20-29  41545    688922    0             0           0      \n",
       "4   4       30-39  30514    604186    4             2           6      \n",
       "5   5       40-49  32482    646070    3             4           7      \n",
       "6   6       50-59  31843    660087   21            32          53      \n",
       "7   7       60-69  17558    490990   73           122         195      \n",
       "8   8       70-79  10910    370426  229           395         624      \n",
       "9   9       80-89   5760    140654  441           523         964      \n",
       "10 10       90+     1805     28610  325           220         545      \n",
       "11 11       Alle  221842   4630431 1096          1299        2395      \n",
       "   comorbidity infected_fem infected_male tot_male tot_fem tot_num\n",
       "1     1          7372         8028         313571   297559  611130\n",
       "2     0         16626        17399         348964   331889  680853\n",
       "3     0         21296        20249         397572   381907  779479\n",
       "4     3         15615        14899         352231   341194  693425\n",
       "5     5         17345        15137         376117   375174  751291\n",
       "6    37         16507        15336         402188   398825  801013\n",
       "7   153          8562         8996         327021   338282  666262\n",
       "8   516          5378         5532         272021   300894  572915\n",
       "9   784          3330         2430          99560   135830  235390\n",
       "10  433          1277          528          13237    32228   45455\n",
       "11 1932        113308       108534        2902482  2933782 5837213"
      ]
     },
     "metadata": {},
     "output_type": "display_data"
    }
   ],
   "source": [
    "library(\"readxl\")\n",
    "df <- read_excel(\"data/DeathsDK160321.xlsx\")\n",
    "df"
   ]
  },
  {
   "cell_type": "markdown",
   "id": "under-eleven",
   "metadata": {},
   "source": [
    "### Plotting and testing"
   ]
  },
  {
   "cell_type": "code",
   "execution_count": 4,
   "id": "aboriginal-release",
   "metadata": {},
   "outputs": [],
   "source": [
    "mortality = df %>% \n",
    "  filter(age != \"Alle\") %>% \n",
    "  select(age, infected, tested, tot_deaths) %>% \n",
    "  mutate(`Mortality given Infected` = tot_deaths/infected) %>% \n",
    "  rename(Age = age) %>% \n",
    "  select(-tested,-tot_deaths)"
   ]
  },
  {
   "cell_type": "code",
   "execution_count": 5,
   "id": "certain-wisdom",
   "metadata": {},
   "outputs": [
    {
     "data": {
      "text/html": [
       "<table>\n",
       "<thead><tr><th scope=col>Age</th><th scope=col>infected</th><th scope=col>Mortality given Infected</th></tr></thead>\n",
       "<tbody>\n",
       "\t<tr><td>0-9         </td><td>15400       </td><td>6.493506e-05</td></tr>\n",
       "\t<tr><td>10-19       </td><td>34025       </td><td>0.000000e+00</td></tr>\n",
       "\t<tr><td>20-29       </td><td>41545       </td><td>0.000000e+00</td></tr>\n",
       "\t<tr><td>30-39       </td><td>30514       </td><td>1.966311e-04</td></tr>\n",
       "\t<tr><td>40-49       </td><td>32482       </td><td>2.155040e-04</td></tr>\n",
       "\t<tr><td>50-59       </td><td>31843       </td><td>1.664416e-03</td></tr>\n",
       "\t<tr><td>60-69       </td><td>17558       </td><td>1.110605e-02</td></tr>\n",
       "\t<tr><td>70-79       </td><td>10910       </td><td>5.719523e-02</td></tr>\n",
       "\t<tr><td>80-89       </td><td> 5760       </td><td>1.673611e-01</td></tr>\n",
       "\t<tr><td>90+         </td><td> 1805       </td><td>3.019391e-01</td></tr>\n",
       "</tbody>\n",
       "</table>\n"
      ],
      "text/latex": [
       "\\begin{tabular}{r|lll}\n",
       " Age & infected & Mortality given Infected\\\\\n",
       "\\hline\n",
       "\t 0-9          & 15400        & 6.493506e-05\\\\\n",
       "\t 10-19        & 34025        & 0.000000e+00\\\\\n",
       "\t 20-29        & 41545        & 0.000000e+00\\\\\n",
       "\t 30-39        & 30514        & 1.966311e-04\\\\\n",
       "\t 40-49        & 32482        & 2.155040e-04\\\\\n",
       "\t 50-59        & 31843        & 1.664416e-03\\\\\n",
       "\t 60-69        & 17558        & 1.110605e-02\\\\\n",
       "\t 70-79        & 10910        & 5.719523e-02\\\\\n",
       "\t 80-89        &  5760        & 1.673611e-01\\\\\n",
       "\t 90+          &  1805        & 3.019391e-01\\\\\n",
       "\\end{tabular}\n"
      ],
      "text/markdown": [
       "\n",
       "| Age | infected | Mortality given Infected |\n",
       "|---|---|---|\n",
       "| 0-9          | 15400        | 6.493506e-05 |\n",
       "| 10-19        | 34025        | 0.000000e+00 |\n",
       "| 20-29        | 41545        | 0.000000e+00 |\n",
       "| 30-39        | 30514        | 1.966311e-04 |\n",
       "| 40-49        | 32482        | 2.155040e-04 |\n",
       "| 50-59        | 31843        | 1.664416e-03 |\n",
       "| 60-69        | 17558        | 1.110605e-02 |\n",
       "| 70-79        | 10910        | 5.719523e-02 |\n",
       "| 80-89        |  5760        | 1.673611e-01 |\n",
       "| 90+          |  1805        | 3.019391e-01 |\n",
       "\n"
      ],
      "text/plain": [
       "   Age   infected Mortality given Infected\n",
       "1  0-9   15400    6.493506e-05            \n",
       "2  10-19 34025    0.000000e+00            \n",
       "3  20-29 41545    0.000000e+00            \n",
       "4  30-39 30514    1.966311e-04            \n",
       "5  40-49 32482    2.155040e-04            \n",
       "6  50-59 31843    1.664416e-03            \n",
       "7  60-69 17558    1.110605e-02            \n",
       "8  70-79 10910    5.719523e-02            \n",
       "9  80-89  5760    1.673611e-01            \n",
       "10 90+    1805    3.019391e-01            "
      ]
     },
     "metadata": {},
     "output_type": "display_data"
    }
   ],
   "source": [
    "mortality"
   ]
  },
  {
   "cell_type": "code",
   "execution_count": 6,
   "id": "executive-princess",
   "metadata": {},
   "outputs": [],
   "source": [
    "Binomial_Bootstrap = function(p,n, B = 10000){\n",
    "  #Generate new MEAN data\n",
    "  p_B = rbinom(B,n,p)/n\n",
    "}"
   ]
  },
  {
   "cell_type": "code",
   "execution_count": 7,
   "id": "invalid-triple",
   "metadata": {},
   "outputs": [],
   "source": [
    "Quantiles_Binomial = mortality %>% \n",
    "  mutate(Bootstraps = map2(`Mortality given Infected`, infected, Binomial_Bootstrap, B = 10000)) %>% \n",
    "  mutate(Quantiles = map(Bootstraps, quantile, c(0.025,0.975))) %>% \n",
    "  mutate(`2.5% quantile` = unlist(map(Quantiles, function(x){x[1]}))) %>% \n",
    "  mutate(`97.5% quantile` = unlist(map(Quantiles, function(x){x[2]}))) %>% \n",
    "  select(Age, `2.5% quantile`, `97.5% quantile`)"
   ]
  },
  {
   "cell_type": "code",
   "execution_count": 8,
   "id": "daily-rochester",
   "metadata": {},
   "outputs": [
    {
     "data": {
      "text/html": [
       "<table>\n",
       "<thead><tr><th scope=col>Age</th><th scope=col>2.5% quantile</th><th scope=col>97.5% quantile</th></tr></thead>\n",
       "<tbody>\n",
       "\t<tr><td>0-9         </td><td>0.000000e+00</td><td>0.0001948052</td></tr>\n",
       "\t<tr><td>10-19       </td><td>0.000000e+00</td><td>0.0000000000</td></tr>\n",
       "\t<tr><td>20-29       </td><td>0.000000e+00</td><td>0.0000000000</td></tr>\n",
       "\t<tr><td>30-39       </td><td>6.554368e-05</td><td>0.0003604903</td></tr>\n",
       "\t<tr><td>40-49       </td><td>6.157256e-05</td><td>0.0004002217</td></tr>\n",
       "\t<tr><td>50-59       </td><td>1.224759e-03</td><td>0.0021354772</td></tr>\n",
       "\t<tr><td>60-69       </td><td>9.568288e-03</td><td>0.0127007632</td></tr>\n",
       "\t<tr><td>70-79       </td><td>5.279560e-02</td><td>0.0615948671</td></tr>\n",
       "\t<tr><td>80-89       </td><td>1.576389e-01</td><td>0.1769097222</td></tr>\n",
       "\t<tr><td>90+         </td><td>2.808864e-01</td><td>0.3235457064</td></tr>\n",
       "</tbody>\n",
       "</table>\n"
      ],
      "text/latex": [
       "\\begin{tabular}{r|lll}\n",
       " Age & 2.5\\% quantile & 97.5\\% quantile\\\\\n",
       "\\hline\n",
       "\t 0-9          & 0.000000e+00 & 0.0001948052\\\\\n",
       "\t 10-19        & 0.000000e+00 & 0.0000000000\\\\\n",
       "\t 20-29        & 0.000000e+00 & 0.0000000000\\\\\n",
       "\t 30-39        & 6.554368e-05 & 0.0003604903\\\\\n",
       "\t 40-49        & 6.157256e-05 & 0.0004002217\\\\\n",
       "\t 50-59        & 1.224759e-03 & 0.0021354772\\\\\n",
       "\t 60-69        & 9.568288e-03 & 0.0127007632\\\\\n",
       "\t 70-79        & 5.279560e-02 & 0.0615948671\\\\\n",
       "\t 80-89        & 1.576389e-01 & 0.1769097222\\\\\n",
       "\t 90+          & 2.808864e-01 & 0.3235457064\\\\\n",
       "\\end{tabular}\n"
      ],
      "text/markdown": [
       "\n",
       "| Age | 2.5% quantile | 97.5% quantile |\n",
       "|---|---|---|\n",
       "| 0-9          | 0.000000e+00 | 0.0001948052 |\n",
       "| 10-19        | 0.000000e+00 | 0.0000000000 |\n",
       "| 20-29        | 0.000000e+00 | 0.0000000000 |\n",
       "| 30-39        | 6.554368e-05 | 0.0003604903 |\n",
       "| 40-49        | 6.157256e-05 | 0.0004002217 |\n",
       "| 50-59        | 1.224759e-03 | 0.0021354772 |\n",
       "| 60-69        | 9.568288e-03 | 0.0127007632 |\n",
       "| 70-79        | 5.279560e-02 | 0.0615948671 |\n",
       "| 80-89        | 1.576389e-01 | 0.1769097222 |\n",
       "| 90+          | 2.808864e-01 | 0.3235457064 |\n",
       "\n"
      ],
      "text/plain": [
       "   Age   2.5% quantile 97.5% quantile\n",
       "1  0-9   0.000000e+00  0.0001948052  \n",
       "2  10-19 0.000000e+00  0.0000000000  \n",
       "3  20-29 0.000000e+00  0.0000000000  \n",
       "4  30-39 6.554368e-05  0.0003604903  \n",
       "5  40-49 6.157256e-05  0.0004002217  \n",
       "6  50-59 1.224759e-03  0.0021354772  \n",
       "7  60-69 9.568288e-03  0.0127007632  \n",
       "8  70-79 5.279560e-02  0.0615948671  \n",
       "9  80-89 1.576389e-01  0.1769097222  \n",
       "10 90+   2.808864e-01  0.3235457064  "
      ]
     },
     "metadata": {},
     "output_type": "display_data"
    }
   ],
   "source": [
    "Quantiles_Binomial"
   ]
  },
  {
   "cell_type": "code",
   "execution_count": 9,
   "id": "passive-identifier",
   "metadata": {},
   "outputs": [],
   "source": [
    "Bernoulli_Bootstrap = function(p,n, B = 10000){\n",
    "  #Generate new MEAN data\n",
    "  p_B = replicate(B,mean(rbernoulli(n,p)))\n",
    "}"
   ]
  },
  {
   "cell_type": "code",
   "execution_count": 10,
   "id": "commercial-there",
   "metadata": {},
   "outputs": [],
   "source": [
    "Quantiles_Bernoulli = mortality %>% \n",
    "  mutate(Bootstraps = map2(`Mortality given Infected`, infected, Bernoulli_Bootstrap, B = 1000)) %>% \n",
    "  mutate(Quantiles = map(Bootstraps, quantile, c(0.025,0.975))) %>% \n",
    "  mutate(`2.5% quantile` = unlist(map(Quantiles, function(x){x[1]}))) %>% \n",
    "  mutate(`97.5% quantile` = unlist(map(Quantiles, function(x){x[2]}))) %>% \n",
    "  select(Age, `2.5% quantile`, `97.5% quantile`)"
   ]
  },
  {
   "cell_type": "code",
   "execution_count": 12,
   "id": "supreme-marks",
   "metadata": {},
   "outputs": [
    {
     "data": {
      "text/html": [
       "<table>\n",
       "<thead><tr><th scope=col>Age</th><th scope=col>2.5% quantile</th><th scope=col>97.5% quantile</th></tr></thead>\n",
       "<tbody>\n",
       "\t<tr><td>0-9         </td><td>0.000000e+00</td><td>0.0001948052</td></tr>\n",
       "\t<tr><td>10-19       </td><td>0.000000e+00</td><td>0.0000000000</td></tr>\n",
       "\t<tr><td>20-29       </td><td>0.000000e+00</td><td>0.0000000000</td></tr>\n",
       "\t<tr><td>30-39       </td><td>6.554368e-05</td><td>0.0003604903</td></tr>\n",
       "\t<tr><td>40-49       </td><td>6.157256e-05</td><td>0.0004002217</td></tr>\n",
       "\t<tr><td>50-59       </td><td>1.224759e-03</td><td>0.0021048582</td></tr>\n",
       "\t<tr><td>60-69       </td><td>9.625242e-03</td><td>0.0126438091</td></tr>\n",
       "\t<tr><td>70-79       </td><td>5.315995e-02</td><td>0.0613221815</td></tr>\n",
       "\t<tr><td>80-89       </td><td>1.578125e-01</td><td>0.1758723958</td></tr>\n",
       "\t<tr><td>90+         </td><td>2.819806e-01</td><td>0.3235457064</td></tr>\n",
       "</tbody>\n",
       "</table>\n"
      ],
      "text/latex": [
       "\\begin{tabular}{r|lll}\n",
       " Age & 2.5\\% quantile & 97.5\\% quantile\\\\\n",
       "\\hline\n",
       "\t 0-9          & 0.000000e+00 & 0.0001948052\\\\\n",
       "\t 10-19        & 0.000000e+00 & 0.0000000000\\\\\n",
       "\t 20-29        & 0.000000e+00 & 0.0000000000\\\\\n",
       "\t 30-39        & 6.554368e-05 & 0.0003604903\\\\\n",
       "\t 40-49        & 6.157256e-05 & 0.0004002217\\\\\n",
       "\t 50-59        & 1.224759e-03 & 0.0021048582\\\\\n",
       "\t 60-69        & 9.625242e-03 & 0.0126438091\\\\\n",
       "\t 70-79        & 5.315995e-02 & 0.0613221815\\\\\n",
       "\t 80-89        & 1.578125e-01 & 0.1758723958\\\\\n",
       "\t 90+          & 2.819806e-01 & 0.3235457064\\\\\n",
       "\\end{tabular}\n"
      ],
      "text/markdown": [
       "\n",
       "| Age | 2.5% quantile | 97.5% quantile |\n",
       "|---|---|---|\n",
       "| 0-9          | 0.000000e+00 | 0.0001948052 |\n",
       "| 10-19        | 0.000000e+00 | 0.0000000000 |\n",
       "| 20-29        | 0.000000e+00 | 0.0000000000 |\n",
       "| 30-39        | 6.554368e-05 | 0.0003604903 |\n",
       "| 40-49        | 6.157256e-05 | 0.0004002217 |\n",
       "| 50-59        | 1.224759e-03 | 0.0021048582 |\n",
       "| 60-69        | 9.625242e-03 | 0.0126438091 |\n",
       "| 70-79        | 5.315995e-02 | 0.0613221815 |\n",
       "| 80-89        | 1.578125e-01 | 0.1758723958 |\n",
       "| 90+          | 2.819806e-01 | 0.3235457064 |\n",
       "\n"
      ],
      "text/plain": [
       "   Age   2.5% quantile 97.5% quantile\n",
       "1  0-9   0.000000e+00  0.0001948052  \n",
       "2  10-19 0.000000e+00  0.0000000000  \n",
       "3  20-29 0.000000e+00  0.0000000000  \n",
       "4  30-39 6.554368e-05  0.0003604903  \n",
       "5  40-49 6.157256e-05  0.0004002217  \n",
       "6  50-59 1.224759e-03  0.0021048582  \n",
       "7  60-69 9.625242e-03  0.0126438091  \n",
       "8  70-79 5.315995e-02  0.0613221815  \n",
       "9  80-89 1.578125e-01  0.1758723958  \n",
       "10 90+   2.819806e-01  0.3235457064  "
      ]
     },
     "metadata": {},
     "output_type": "display_data"
    }
   ],
   "source": [
    "Quantiles_Bernoulli"
   ]
  },
  {
   "cell_type": "code",
   "execution_count": 13,
   "id": "bearing-harassment",
   "metadata": {},
   "outputs": [],
   "source": [
    "Quantiles_Bernoulli %<>% mutate(Bootstrap = \"Bernoulli\")\n",
    "Quantiles_Binomial %<>% mutate(Bootstrap = \"Binomial\")"
   ]
  },
  {
   "cell_type": "code",
   "execution_count": 14,
   "id": "piano-adolescent",
   "metadata": {},
   "outputs": [],
   "source": [
    "Quantiles = rbind(Quantiles_Bernoulli,Quantiles_Binomial)"
   ]
  },
  {
   "cell_type": "code",
   "execution_count": 15,
   "id": "available-target",
   "metadata": {},
   "outputs": [
    {
     "data": {
      "text/html": [
       "<table>\n",
       "<thead><tr><th scope=col>Age</th><th scope=col>2.5% quantile</th><th scope=col>97.5% quantile</th><th scope=col>Bootstrap</th></tr></thead>\n",
       "<tbody>\n",
       "\t<tr><td>0-9         </td><td>0.000000e+00</td><td>0.0001948052</td><td>Bernoulli   </td></tr>\n",
       "\t<tr><td>10-19       </td><td>0.000000e+00</td><td>0.0000000000</td><td>Bernoulli   </td></tr>\n",
       "\t<tr><td>20-29       </td><td>0.000000e+00</td><td>0.0000000000</td><td>Bernoulli   </td></tr>\n",
       "\t<tr><td>30-39       </td><td>6.554368e-05</td><td>0.0003604903</td><td>Bernoulli   </td></tr>\n",
       "\t<tr><td>40-49       </td><td>6.157256e-05</td><td>0.0004002217</td><td>Bernoulli   </td></tr>\n",
       "\t<tr><td>50-59       </td><td>1.224759e-03</td><td>0.0021048582</td><td>Bernoulli   </td></tr>\n",
       "\t<tr><td>60-69       </td><td>9.625242e-03</td><td>0.0126438091</td><td>Bernoulli   </td></tr>\n",
       "\t<tr><td>70-79       </td><td>5.315995e-02</td><td>0.0613221815</td><td>Bernoulli   </td></tr>\n",
       "\t<tr><td>80-89       </td><td>1.578125e-01</td><td>0.1758723958</td><td>Bernoulli   </td></tr>\n",
       "\t<tr><td>90+         </td><td>2.819806e-01</td><td>0.3235457064</td><td>Bernoulli   </td></tr>\n",
       "\t<tr><td>0-9         </td><td>0.000000e+00</td><td>0.0001948052</td><td>Binomial    </td></tr>\n",
       "\t<tr><td>10-19       </td><td>0.000000e+00</td><td>0.0000000000</td><td>Binomial    </td></tr>\n",
       "\t<tr><td>20-29       </td><td>0.000000e+00</td><td>0.0000000000</td><td>Binomial    </td></tr>\n",
       "\t<tr><td>30-39       </td><td>6.554368e-05</td><td>0.0003604903</td><td>Binomial    </td></tr>\n",
       "\t<tr><td>40-49       </td><td>6.157256e-05</td><td>0.0004002217</td><td>Binomial    </td></tr>\n",
       "\t<tr><td>50-59       </td><td>1.224759e-03</td><td>0.0021354772</td><td>Binomial    </td></tr>\n",
       "\t<tr><td>60-69       </td><td>9.568288e-03</td><td>0.0127007632</td><td>Binomial    </td></tr>\n",
       "\t<tr><td>70-79       </td><td>5.279560e-02</td><td>0.0615948671</td><td>Binomial    </td></tr>\n",
       "\t<tr><td>80-89       </td><td>1.576389e-01</td><td>0.1769097222</td><td>Binomial    </td></tr>\n",
       "\t<tr><td>90+         </td><td>2.808864e-01</td><td>0.3235457064</td><td>Binomial    </td></tr>\n",
       "</tbody>\n",
       "</table>\n"
      ],
      "text/latex": [
       "\\begin{tabular}{r|llll}\n",
       " Age & 2.5\\% quantile & 97.5\\% quantile & Bootstrap\\\\\n",
       "\\hline\n",
       "\t 0-9          & 0.000000e+00 & 0.0001948052 & Bernoulli   \\\\\n",
       "\t 10-19        & 0.000000e+00 & 0.0000000000 & Bernoulli   \\\\\n",
       "\t 20-29        & 0.000000e+00 & 0.0000000000 & Bernoulli   \\\\\n",
       "\t 30-39        & 6.554368e-05 & 0.0003604903 & Bernoulli   \\\\\n",
       "\t 40-49        & 6.157256e-05 & 0.0004002217 & Bernoulli   \\\\\n",
       "\t 50-59        & 1.224759e-03 & 0.0021048582 & Bernoulli   \\\\\n",
       "\t 60-69        & 9.625242e-03 & 0.0126438091 & Bernoulli   \\\\\n",
       "\t 70-79        & 5.315995e-02 & 0.0613221815 & Bernoulli   \\\\\n",
       "\t 80-89        & 1.578125e-01 & 0.1758723958 & Bernoulli   \\\\\n",
       "\t 90+          & 2.819806e-01 & 0.3235457064 & Bernoulli   \\\\\n",
       "\t 0-9          & 0.000000e+00 & 0.0001948052 & Binomial    \\\\\n",
       "\t 10-19        & 0.000000e+00 & 0.0000000000 & Binomial    \\\\\n",
       "\t 20-29        & 0.000000e+00 & 0.0000000000 & Binomial    \\\\\n",
       "\t 30-39        & 6.554368e-05 & 0.0003604903 & Binomial    \\\\\n",
       "\t 40-49        & 6.157256e-05 & 0.0004002217 & Binomial    \\\\\n",
       "\t 50-59        & 1.224759e-03 & 0.0021354772 & Binomial    \\\\\n",
       "\t 60-69        & 9.568288e-03 & 0.0127007632 & Binomial    \\\\\n",
       "\t 70-79        & 5.279560e-02 & 0.0615948671 & Binomial    \\\\\n",
       "\t 80-89        & 1.576389e-01 & 0.1769097222 & Binomial    \\\\\n",
       "\t 90+          & 2.808864e-01 & 0.3235457064 & Binomial    \\\\\n",
       "\\end{tabular}\n"
      ],
      "text/markdown": [
       "\n",
       "| Age | 2.5% quantile | 97.5% quantile | Bootstrap |\n",
       "|---|---|---|---|\n",
       "| 0-9          | 0.000000e+00 | 0.0001948052 | Bernoulli    |\n",
       "| 10-19        | 0.000000e+00 | 0.0000000000 | Bernoulli    |\n",
       "| 20-29        | 0.000000e+00 | 0.0000000000 | Bernoulli    |\n",
       "| 30-39        | 6.554368e-05 | 0.0003604903 | Bernoulli    |\n",
       "| 40-49        | 6.157256e-05 | 0.0004002217 | Bernoulli    |\n",
       "| 50-59        | 1.224759e-03 | 0.0021048582 | Bernoulli    |\n",
       "| 60-69        | 9.625242e-03 | 0.0126438091 | Bernoulli    |\n",
       "| 70-79        | 5.315995e-02 | 0.0613221815 | Bernoulli    |\n",
       "| 80-89        | 1.578125e-01 | 0.1758723958 | Bernoulli    |\n",
       "| 90+          | 2.819806e-01 | 0.3235457064 | Bernoulli    |\n",
       "| 0-9          | 0.000000e+00 | 0.0001948052 | Binomial     |\n",
       "| 10-19        | 0.000000e+00 | 0.0000000000 | Binomial     |\n",
       "| 20-29        | 0.000000e+00 | 0.0000000000 | Binomial     |\n",
       "| 30-39        | 6.554368e-05 | 0.0003604903 | Binomial     |\n",
       "| 40-49        | 6.157256e-05 | 0.0004002217 | Binomial     |\n",
       "| 50-59        | 1.224759e-03 | 0.0021354772 | Binomial     |\n",
       "| 60-69        | 9.568288e-03 | 0.0127007632 | Binomial     |\n",
       "| 70-79        | 5.279560e-02 | 0.0615948671 | Binomial     |\n",
       "| 80-89        | 1.576389e-01 | 0.1769097222 | Binomial     |\n",
       "| 90+          | 2.808864e-01 | 0.3235457064 | Binomial     |\n",
       "\n"
      ],
      "text/plain": [
       "   Age   2.5% quantile 97.5% quantile Bootstrap\n",
       "1  0-9   0.000000e+00  0.0001948052   Bernoulli\n",
       "2  10-19 0.000000e+00  0.0000000000   Bernoulli\n",
       "3  20-29 0.000000e+00  0.0000000000   Bernoulli\n",
       "4  30-39 6.554368e-05  0.0003604903   Bernoulli\n",
       "5  40-49 6.157256e-05  0.0004002217   Bernoulli\n",
       "6  50-59 1.224759e-03  0.0021048582   Bernoulli\n",
       "7  60-69 9.625242e-03  0.0126438091   Bernoulli\n",
       "8  70-79 5.315995e-02  0.0613221815   Bernoulli\n",
       "9  80-89 1.578125e-01  0.1758723958   Bernoulli\n",
       "10 90+   2.819806e-01  0.3235457064   Bernoulli\n",
       "11 0-9   0.000000e+00  0.0001948052   Binomial \n",
       "12 10-19 0.000000e+00  0.0000000000   Binomial \n",
       "13 20-29 0.000000e+00  0.0000000000   Binomial \n",
       "14 30-39 6.554368e-05  0.0003604903   Binomial \n",
       "15 40-49 6.157256e-05  0.0004002217   Binomial \n",
       "16 50-59 1.224759e-03  0.0021354772   Binomial \n",
       "17 60-69 9.568288e-03  0.0127007632   Binomial \n",
       "18 70-79 5.279560e-02  0.0615948671   Binomial \n",
       "19 80-89 1.576389e-01  0.1769097222   Binomial \n",
       "20 90+   2.808864e-01  0.3235457064   Binomial "
      ]
     },
     "metadata": {},
     "output_type": "display_data"
    }
   ],
   "source": [
    "Quantiles"
   ]
  },
  {
   "cell_type": "code",
   "execution_count": 16,
   "id": "separate-argument",
   "metadata": {
    "scrolled": true
   },
   "outputs": [
    {
     "name": "stderr",
     "output_type": "stream",
     "text": [
      "Warning message:\n",
      "\"attributes are not identical across measure variables;\n",
      "they will be dropped\""
     ]
    },
    {
     "data": {
      "image/png": "[encoded data removed]",
      "text/plain": [
       "plot without title"
      ]
     },
     "metadata": {},
     "output_type": "display_data"
    }
   ],
   "source": [
    "Quantiles %>% gather(\"Quantile\",\"Value\", -Age,-Bootstrap) %>% \n",
    "  ggplot(aes(x = Age, y = Value, fill = Bootstrap)) + \n",
    "  geom_bar(stat = \"identity\",position=position_dodge()) + \n",
    "  facet_grid(vars(Quantile)) +\n",
    "  theme(axis.text.x = element_text(angle = 45, hjust=1)) + \n",
    "  ylab(\"Mortality given Infected\")"
   ]
  },
  {
   "cell_type": "markdown",
   "id": "celtic-dairy",
   "metadata": {},
   "source": [
    "# Logistisk regression på en kategorisk variabel"
   ]
  },
  {
   "cell_type": "markdown",
   "id": "worth-african",
   "metadata": {},
   "source": [
    "Vi vil undersøge, hvad sandsynligheden er for at man dør givet en specifik alder.\n",
    "Dog kan der opstå et problem, da modellen oftest operere på kontinuerete forklarende variable.\n",
    "\n",
    "Da kan det være nødvendigt at undersøge, hvorvidt det har nogen betydning i vores tilfælde. Vi har nemlig en variabel der originalt er kontinuert - altså variablen alder, men denne variabel er gjort diskret ved at afrunde alderen til kun at indeholde år. Efterfølgende er alderen yderligere opdelt kategorisk, så der er tale om en aldersgruppe.\n",
    "\n",
    "Har dette nogen signifikant betydning for resultatet?"
   ]
  },
  {
   "cell_type": "code",
   "execution_count": 17,
   "id": "alleged-interest",
   "metadata": {},
   "outputs": [
    {
     "data": {
      "text/html": [
       "<table>\n",
       "<thead><tr><th scope=col>age</th><th scope=col>total</th><th scope=col>male</th><th scope=col>female</th><th scope=col>P</th></tr></thead>\n",
       "<tbody>\n",
       "\t<tr><td>0         </td><td>61191     </td><td>31303     </td><td>29888     </td><td>0.01047783</td></tr>\n",
       "\t<tr><td>1         </td><td>61663     </td><td>31758     </td><td>29905     </td><td>0.01055865</td></tr>\n",
       "\t<tr><td>2         </td><td>61967     </td><td>31909     </td><td>30058     </td><td>0.01061071</td></tr>\n",
       "\t<tr><td>3         </td><td>62185     </td><td>31852     </td><td>30333     </td><td>0.01064803</td></tr>\n",
       "\t<tr><td>4         </td><td>62844     </td><td>32402     </td><td>30442     </td><td>0.01076088</td></tr>\n",
       "\t<tr><td>5         </td><td>59740     </td><td>30627     </td><td>29113     </td><td>0.01022937</td></tr>\n",
       "</tbody>\n",
       "</table>\n"
      ],
      "text/latex": [
       "\\begin{tabular}{r|lllll}\n",
       " age & total & male & female & P\\\\\n",
       "\\hline\n",
       "\t 0          & 61191      & 31303      & 29888      & 0.01047783\\\\\n",
       "\t 1          & 61663      & 31758      & 29905      & 0.01055865\\\\\n",
       "\t 2          & 61967      & 31909      & 30058      & 0.01061071\\\\\n",
       "\t 3          & 62185      & 31852      & 30333      & 0.01064803\\\\\n",
       "\t 4          & 62844      & 32402      & 30442      & 0.01076088\\\\\n",
       "\t 5          & 59740      & 30627      & 29113      & 0.01022937\\\\\n",
       "\\end{tabular}\n"
      ],
      "text/markdown": [
       "\n",
       "| age | total | male | female | P |\n",
       "|---|---|---|---|---|\n",
       "| 0          | 61191      | 31303      | 29888      | 0.01047783 |\n",
       "| 1          | 61663      | 31758      | 29905      | 0.01055865 |\n",
       "| 2          | 61967      | 31909      | 30058      | 0.01061071 |\n",
       "| 3          | 62185      | 31852      | 30333      | 0.01064803 |\n",
       "| 4          | 62844      | 32402      | 30442      | 0.01076088 |\n",
       "| 5          | 59740      | 30627      | 29113      | 0.01022937 |\n",
       "\n"
      ],
      "text/plain": [
       "  age total male  female P         \n",
       "1 0   61191 31303 29888  0.01047783\n",
       "2 1   61663 31758 29905  0.01055865\n",
       "3 2   61967 31909 30058  0.01061071\n",
       "4 3   62185 31852 30333  0.01064803\n",
       "5 4   62844 32402 30442  0.01076088\n",
       "6 5   59740 30627 29113  0.01022937"
      ]
     },
     "metadata": {},
     "output_type": "display_data"
    }
   ],
   "source": [
    "DKpop <- read_excel(\"data/folketal.xlsx\") # Indlæs datasættet for den befolkning og dets fordeling af alder.\n",
    "DKpop %<>% mutate(P = total/sum(total)) # Tilføjer en søjle med sandsynlighed for at være en given alder.\n",
    "head(DKpop)"
   ]
  },
  {
   "cell_type": "code",
   "execution_count": 18,
   "id": "emotional-strap",
   "metadata": {},
   "outputs": [],
   "source": [
    "# En funktioner der returnere en tabel af personer med alder konverteret til en kontinuert værdi og \n",
    "# en bernoulli værdi der indikere om personen døde af covid-19 eller ej.\n",
    "Sampler = function(n, beta_0, beta_1, uniform_displace = T){\n",
    "    X = with(DKpop, sample(age, n, replace = T, prob = P))\n",
    "    if (uniform_displace){\n",
    "        X = X + runif(n,0,1)\n",
    "    }\n",
    "    P_X = ilogit(beta_0 + beta_1*X)\n",
    "    Y = rbernoulli(n,P_X)\n",
    "    return(tibble(age = X,dead = Y))\n",
    "}"
   ]
  },
  {
   "cell_type": "code",
   "execution_count": 19,
   "id": "worth-major",
   "metadata": {},
   "outputs": [
    {
     "data": {
      "text/html": [
       "<table>\n",
       "<thead><tr><th scope=col>age</th><th scope=col>dead</th></tr></thead>\n",
       "<tbody>\n",
       "\t<tr><td>49.662081</td><td>FALSE    </td></tr>\n",
       "\t<tr><td> 6.470777</td><td>FALSE    </td></tr>\n",
       "\t<tr><td>55.229794</td><td>FALSE    </td></tr>\n",
       "\t<tr><td>51.250086</td><td>FALSE    </td></tr>\n",
       "\t<tr><td>35.237434</td><td>FALSE    </td></tr>\n",
       "\t<tr><td>69.464217</td><td>FALSE    </td></tr>\n",
       "\t<tr><td>68.107915</td><td>FALSE    </td></tr>\n",
       "\t<tr><td>34.010012</td><td>FALSE    </td></tr>\n",
       "\t<tr><td>87.760901</td><td> TRUE    </td></tr>\n",
       "\t<tr><td>62.939404</td><td>FALSE    </td></tr>\n",
       "</tbody>\n",
       "</table>\n"
      ],
      "text/latex": [
       "\\begin{tabular}{r|ll}\n",
       " age & dead\\\\\n",
       "\\hline\n",
       "\t 49.662081 & FALSE    \\\\\n",
       "\t  6.470777 & FALSE    \\\\\n",
       "\t 55.229794 & FALSE    \\\\\n",
       "\t 51.250086 & FALSE    \\\\\n",
       "\t 35.237434 & FALSE    \\\\\n",
       "\t 69.464217 & FALSE    \\\\\n",
       "\t 68.107915 & FALSE    \\\\\n",
       "\t 34.010012 & FALSE    \\\\\n",
       "\t 87.760901 &  TRUE    \\\\\n",
       "\t 62.939404 & FALSE    \\\\\n",
       "\\end{tabular}\n"
      ],
      "text/markdown": [
       "\n",
       "| age | dead |\n",
       "|---|---|\n",
       "| 49.662081 | FALSE     |\n",
       "|  6.470777 | FALSE     |\n",
       "| 55.229794 | FALSE     |\n",
       "| 51.250086 | FALSE     |\n",
       "| 35.237434 | FALSE     |\n",
       "| 69.464217 | FALSE     |\n",
       "| 68.107915 | FALSE     |\n",
       "| 34.010012 | FALSE     |\n",
       "| 87.760901 |  TRUE     |\n",
       "| 62.939404 | FALSE     |\n",
       "\n"
      ],
      "text/plain": [
       "   age       dead \n",
       "1  49.662081 FALSE\n",
       "2   6.470777 FALSE\n",
       "3  55.229794 FALSE\n",
       "4  51.250086 FALSE\n",
       "5  35.237434 FALSE\n",
       "6  69.464217 FALSE\n",
       "7  68.107915 FALSE\n",
       "8  34.010012 FALSE\n",
       "9  87.760901  TRUE\n",
       "10 62.939404 FALSE"
      ]
     },
     "metadata": {},
     "output_type": "display_data"
    }
   ],
   "source": [
    "alpha = -9 # Vores intercept, som glm modellen skal forsøge at estimere.\n",
    "beta = 0.1 # Hældningskoefficenten, som glm modellen skal forsøge at estimere.\n",
    "\n",
    "Sampled_Data = Sampler(1000,alpha,beta) # Kalder funktionen, hvor 1000 personer samples.\n",
    "head(Sampled_Data, 10)"
   ]
  },
  {
   "cell_type": "code",
   "execution_count": 20,
   "id": "smoking-zimbabwe",
   "metadata": {
    "scrolled": true
   },
   "outputs": [
    {
     "data": {
      "image/png": "[encoded data removed]",
      "text/plain": [
       "plot without title"
      ]
     },
     "metadata": {},
     "output_type": "display_data"
    }
   ],
   "source": [
    "plot(Sampled_Data$dead)"
   ]
  },
  {
   "cell_type": "code",
   "execution_count": 21,
   "id": "legal-lingerie",
   "metadata": {
    "scrolled": true
   },
   "outputs": [
    {
     "data": {
      "image/png": "[encoded data removed]",
      "text/plain": [
       "plot without title"
      ]
     },
     "metadata": {},
     "output_type": "display_data"
    }
   ],
   "source": [
    "Sampled_Data %>% \n",
    "  ggplot(aes(x = age, y = dead)) + geom_point()"
   ]
  },
  {
   "cell_type": "code",
   "execution_count": 22,
   "id": "underlying-samba",
   "metadata": {},
   "outputs": [
    {
     "data": {
      "text/html": [
       "<table>\n",
       "<thead><tr><th scope=col>age</th><th scope=col>P(Dead|Age)</th></tr></thead>\n",
       "<tbody>\n",
       "\t<tr><td>0       </td><td>1.000123</td></tr>\n",
       "\t<tr><td>1       </td><td>1.000136</td></tr>\n",
       "\t<tr><td>2       </td><td>1.000151</td></tr>\n",
       "\t<tr><td>3       </td><td>1.000167</td></tr>\n",
       "\t<tr><td>4       </td><td>1.000184</td></tr>\n",
       "\t<tr><td>5       </td><td>1.000203</td></tr>\n",
       "</tbody>\n",
       "</table>\n"
      ],
      "text/latex": [
       "\\begin{tabular}{r|ll}\n",
       " age & P(Dead\\textbar{}Age)\\\\\n",
       "\\hline\n",
       "\t 0        & 1.000123\\\\\n",
       "\t 1        & 1.000136\\\\\n",
       "\t 2        & 1.000151\\\\\n",
       "\t 3        & 1.000167\\\\\n",
       "\t 4        & 1.000184\\\\\n",
       "\t 5        & 1.000203\\\\\n",
       "\\end{tabular}\n"
      ],
      "text/markdown": [
       "\n",
       "| age | P(Dead|Age) |\n",
       "|---|---|\n",
       "| 0        | 1.000123 |\n",
       "| 1        | 1.000136 |\n",
       "| 2        | 1.000151 |\n",
       "| 3        | 1.000167 |\n",
       "| 4        | 1.000184 |\n",
       "| 5        | 1.000203 |\n",
       "\n"
      ],
      "text/plain": [
       "  age P(Dead|Age)\n",
       "1 0   1.000123   \n",
       "2 1   1.000136   \n",
       "3 2   1.000151   \n",
       "4 3   1.000167   \n",
       "5 4   1.000184   \n",
       "6 5   1.000203   "
      ]
     },
     "metadata": {},
     "output_type": "display_data"
    },
    {
     "data": {
      "text/html": [
       "<table>\n",
       "<thead><tr><th scope=col>age</th><th scope=col>P(Dead|Age)</th></tr></thead>\n",
       "<tbody>\n",
       "\t<tr><td>115     </td><td>1.924142</td></tr>\n",
       "\t<tr><td>116     </td><td>1.930862</td></tr>\n",
       "\t<tr><td>117     </td><td>1.937027</td></tr>\n",
       "\t<tr><td>118     </td><td>1.942676</td></tr>\n",
       "\t<tr><td>119     </td><td>1.947846</td></tr>\n",
       "\t<tr><td>120     </td><td>1.952574</td></tr>\n",
       "</tbody>\n",
       "</table>\n"
      ],
      "text/latex": [
       "\\begin{tabular}{r|ll}\n",
       " age & P(Dead\\textbar{}Age)\\\\\n",
       "\\hline\n",
       "\t 115      & 1.924142\\\\\n",
       "\t 116      & 1.930862\\\\\n",
       "\t 117      & 1.937027\\\\\n",
       "\t 118      & 1.942676\\\\\n",
       "\t 119      & 1.947846\\\\\n",
       "\t 120      & 1.952574\\\\\n",
       "\\end{tabular}\n"
      ],
      "text/markdown": [
       "\n",
       "| age | P(Dead|Age) |\n",
       "|---|---|\n",
       "| 115      | 1.924142 |\n",
       "| 116      | 1.930862 |\n",
       "| 117      | 1.937027 |\n",
       "| 118      | 1.942676 |\n",
       "| 119      | 1.947846 |\n",
       "| 120      | 1.952574 |\n",
       "\n"
      ],
      "text/plain": [
       "  age P(Dead|Age)\n",
       "1 115 1.924142   \n",
       "2 116 1.930862   \n",
       "3 117 1.937027   \n",
       "4 118 1.942676   \n",
       "5 119 1.947846   \n",
       "6 120 1.952574   "
      ]
     },
     "metadata": {},
     "output_type": "display_data"
    }
   ],
   "source": [
    "# En tabel, der indeholder sandsynligheden for at dø givet man er x år gammel.\n",
    "Logit_Curve = tibble(age = 0:120, `P(Dead|Age)` = ilogit(alpha + beta*0:120)+1)\n",
    "\n",
    "head(Logit_Curve)\n",
    "tail(Logit_Curve)"
   ]
  },
  {
   "cell_type": "code",
   "execution_count": 23,
   "id": "fourth-layer",
   "metadata": {
    "scrolled": true
   },
   "outputs": [
    {
     "data": {
      "image/png": "[encoded data removed]",
      "text/plain": [
       "plot without title"
      ]
     },
     "metadata": {},
     "output_type": "display_data"
    }
   ],
   "source": [
    "Sampled_Data %>%\n",
    "    ggplot(aes(x = age, y = dead, color = \"Sampled Data\")) + geom_point(alpha = 0.5) + \n",
    "    geom_line(data = Logit_Curve, aes(x = age, y = `P(Dead|Age)`, color = \"P(Dead|Age)\"), size = .87, inherit.aes = F) + \n",
    "    xlab(\"Age\") + ylab(\"Dead\") + labs(color = \"\")"
   ]
  },
  {
   "cell_type": "code",
   "execution_count": 24,
   "id": "congressional-judgment",
   "metadata": {},
   "outputs": [
    {
     "data": {
      "text/html": [
       "<table>\n",
       "<thead><tr><th scope=col>age</th><th scope=col>dead</th><th scope=col>age_truncated</th></tr></thead>\n",
       "<tbody>\n",
       "\t<tr><td>49.662081</td><td>FALSE    </td><td>40       </td></tr>\n",
       "\t<tr><td> 6.470777</td><td>FALSE    </td><td> 0       </td></tr>\n",
       "\t<tr><td>55.229794</td><td>FALSE    </td><td>50       </td></tr>\n",
       "\t<tr><td>51.250086</td><td>FALSE    </td><td>50       </td></tr>\n",
       "\t<tr><td>35.237434</td><td>FALSE    </td><td>30       </td></tr>\n",
       "\t<tr><td>69.464217</td><td>FALSE    </td><td>60       </td></tr>\n",
       "</tbody>\n",
       "</table>\n"
      ],
      "text/latex": [
       "\\begin{tabular}{r|lll}\n",
       " age & dead & age\\_truncated\\\\\n",
       "\\hline\n",
       "\t 49.662081 & FALSE     & 40       \\\\\n",
       "\t  6.470777 & FALSE     &  0       \\\\\n",
       "\t 55.229794 & FALSE     & 50       \\\\\n",
       "\t 51.250086 & FALSE     & 50       \\\\\n",
       "\t 35.237434 & FALSE     & 30       \\\\\n",
       "\t 69.464217 & FALSE     & 60       \\\\\n",
       "\\end{tabular}\n"
      ],
      "text/markdown": [
       "\n",
       "| age | dead | age_truncated |\n",
       "|---|---|---|\n",
       "| 49.662081 | FALSE     | 40        |\n",
       "|  6.470777 | FALSE     |  0        |\n",
       "| 55.229794 | FALSE     | 50        |\n",
       "| 51.250086 | FALSE     | 50        |\n",
       "| 35.237434 | FALSE     | 30        |\n",
       "| 69.464217 | FALSE     | 60        |\n",
       "\n"
      ],
      "text/plain": [
       "  age       dead  age_truncated\n",
       "1 49.662081 FALSE 40           \n",
       "2  6.470777 FALSE  0           \n",
       "3 55.229794 FALSE 50           \n",
       "4 51.250086 FALSE 50           \n",
       "5 35.237434 FALSE 30           \n",
       "6 69.464217 FALSE 60           "
      ]
     },
     "metadata": {},
     "output_type": "display_data"
    }
   ],
   "source": [
    "Sampled_Data %<>% mutate(age_truncated = floor(age/10)*10) # Tilføjer en søjle med trunkerede alder.\n",
    "head(Sampled_Data)"
   ]
  },
  {
   "cell_type": "code",
   "execution_count": 25,
   "id": "catholic-rwanda",
   "metadata": {
    "scrolled": false
   },
   "outputs": [
    {
     "data": {
      "text/plain": [
       "\n",
       "Call:\n",
       "glm(formula = dead ~ age, family = \"binomial\", data = Sampled_Data)\n",
       "\n",
       "Deviance Residuals: \n",
       "    Min       1Q   Median       3Q      Max  \n",
       "-1.2528  -0.2559  -0.0882  -0.0299   3.5753  \n",
       "\n",
       "Coefficients:\n",
       "            Estimate Std. Error z value Pr(>|z|)    \n",
       "(Intercept) -9.51316    0.94003 -10.120   <2e-16 ***\n",
       "age          0.10838    0.01268   8.548   <2e-16 ***\n",
       "---\n",
       "Signif. codes:  0 '***' 0.001 '**' 0.01 '*' 0.05 '.' 0.1 ' ' 1\n",
       "\n",
       "(Dispersion parameter for binomial family taken to be 1)\n",
       "\n",
       "    Null deviance: 431.63  on 999  degrees of freedom\n",
       "Residual deviance: 276.25  on 998  degrees of freedom\n",
       "AIC: 280.25\n",
       "\n",
       "Number of Fisher Scoring iterations: 8\n"
      ]
     },
     "metadata": {},
     "output_type": "display_data"
    }
   ],
   "source": [
    "# Model for kontinuert alder.\n",
    "glm.main <- glm(dead ~ age, family = \"binomial\", data = Sampled_Data)\n",
    "summary(glm.main)"
   ]
  },
  {
   "cell_type": "code",
   "execution_count": 26,
   "id": "disturbed-ridge",
   "metadata": {},
   "outputs": [
    {
     "data": {
      "text/plain": [
       "\n",
       "Call:\n",
       "glm(formula = dead ~ age_truncated, family = \"binomial\", data = Sampled_Data)\n",
       "\n",
       "Deviance Residuals: \n",
       "    Min       1Q   Median       3Q      Max  \n",
       "-1.0283  -0.2426  -0.0855  -0.0299   3.6500  \n",
       "\n",
       "Coefficients:\n",
       "              Estimate Std. Error z value Pr(>|z|)    \n",
       "(Intercept)   -8.75971    0.84739 -10.337   <2e-16 ***\n",
       "age_truncated  0.10498    0.01227   8.555   <2e-16 ***\n",
       "---\n",
       "Signif. codes:  0 '***' 0.001 '**' 0.01 '*' 0.05 '.' 0.1 ' ' 1\n",
       "\n",
       "(Dispersion parameter for binomial family taken to be 1)\n",
       "\n",
       "    Null deviance: 431.63  on 999  degrees of freedom\n",
       "Residual deviance: 279.35  on 998  degrees of freedom\n",
       "AIC: 283.35\n",
       "\n",
       "Number of Fisher Scoring iterations: 8\n"
      ]
     },
     "metadata": {},
     "output_type": "display_data"
    }
   ],
   "source": [
    "# Model for trunkeret alder.\n",
    "glm.truncated <- glm(dead ~ age_truncated, family = \"binomial\", data = Sampled_Data)\n",
    "summary(glm.truncated)"
   ]
  },
  {
   "cell_type": "code",
   "execution_count": 27,
   "id": "oriental-bundle",
   "metadata": {},
   "outputs": [
    {
     "data": {
      "text/html": [
       "0.0501070970023909"
      ],
      "text/latex": [
       "0.0501070970023909"
      ],
      "text/markdown": [
       "0.0501070970023909"
      ],
      "text/plain": [
       "[1] 0.0501071"
      ]
     },
     "metadata": {},
     "output_type": "display_data"
    }
   ],
   "source": [
    "`P(Age)` = DKpop$P\n",
    "`P(Dead|Age)` = ilogit(alpha + beta*DKpop$age)\n",
    "(`P(Dead)` = sum(`P(Dead|Age)`*`P(Age)`))"
   ]
  },
  {
   "cell_type": "code",
   "execution_count": 28,
   "id": "patient-labor",
   "metadata": {
    "scrolled": true
   },
   "outputs": [
    {
     "data": {
      "text/html": [
       "<table>\n",
       "<thead><tr><th scope=col>Resid. Df</th><th scope=col>Resid. Dev</th><th scope=col>Df</th><th scope=col>Deviance</th><th scope=col>Pr(&gt;Chi)</th></tr></thead>\n",
       "<tbody>\n",
       "\t<tr><td>998      </td><td>276.2491 </td><td>NA       </td><td>       NA</td><td>NA       </td></tr>\n",
       "\t<tr><td>998      </td><td>279.3503 </td><td> 0       </td><td>-3.101272</td><td>NA       </td></tr>\n",
       "</tbody>\n",
       "</table>\n"
      ],
      "text/latex": [
       "\\begin{tabular}{r|lllll}\n",
       " Resid. Df & Resid. Dev & Df & Deviance & Pr(>Chi)\\\\\n",
       "\\hline\n",
       "\t 998       & 276.2491  & NA        &        NA & NA       \\\\\n",
       "\t 998       & 279.3503  &  0        & -3.101272 & NA       \\\\\n",
       "\\end{tabular}\n"
      ],
      "text/markdown": [
       "\n",
       "| Resid. Df | Resid. Dev | Df | Deviance | Pr(>Chi) |\n",
       "|---|---|---|---|---|\n",
       "| 998       | 276.2491  | NA        |        NA | NA        |\n",
       "| 998       | 279.3503  |  0        | -3.101272 | NA        |\n",
       "\n"
      ],
      "text/plain": [
       "  Resid. Df Resid. Dev Df Deviance  Pr(>Chi)\n",
       "1 998       276.2491   NA        NA NA      \n",
       "2 998       279.3503    0 -3.101272 NA      "
      ]
     },
     "metadata": {},
     "output_type": "display_data"
    }
   ],
   "source": [
    "anova(glm.main, glm.truncated, test=\"Chisq\")"
   ]
  },
  {
   "cell_type": "markdown",
   "id": "defined-mortgage",
   "metadata": {},
   "source": [
    "## Assess the performance of the model"
   ]
  },
  {
   "cell_type": "markdown",
   "id": "increased-expert",
   "metadata": {},
   "source": [
    "https://www.guru99.com/r-generalized-linear-model.html\n",
    "\n",
    "The confusion matrix is a better choice to evaluate the classification performance compared with other metrics. The general idea is to count the number of times True instances are classified are False."
   ]
  },
  {
   "cell_type": "code",
   "execution_count": 29,
   "id": "soviet-annual",
   "metadata": {},
   "outputs": [
    {
     "data": {
      "text/plain": [
       "       \n",
       "        FALSE TRUE\n",
       "  FALSE   942    2\n",
       "  TRUE     44   12"
      ]
     },
     "metadata": {},
     "output_type": "display_data"
    }
   ],
   "source": [
    "predict <- predict(glm.main, Sampled_Data, type = 'response') # Beregn forudsigelserne for response sandsynligheden.\n",
    "# confusion matrix\n",
    "table_mat <- table(Sampled_Data$dead, predict > 0.5) # Hvis forudsigelserne er større end 0.5 returner 1 ellers 0.\n",
    "table_mat # Søjlerne er selve forudsigelsen, hvor rækkerne er, hvad forudsigelsen burde værre."
   ]
  },
  {
   "cell_type": "markdown",
   "id": "continuous-wichita",
   "metadata": {},
   "source": [
    "Calculating the model accuracy by summing the true positive + true negative over the total observation"
   ]
  },
  {
   "cell_type": "code",
   "execution_count": 30,
   "id": "chinese-elite",
   "metadata": {},
   "outputs": [
    {
     "data": {
      "text/html": [
       "0.954"
      ],
      "text/latex": [
       "0.954"
      ],
      "text/markdown": [
       "0.954"
      ],
      "text/plain": [
       "[1] 0.954"
      ]
     },
     "metadata": {},
     "output_type": "display_data"
    }
   ],
   "source": [
    "accuracy_Test <- sum(diag(table_mat)) / sum(table_mat)\n",
    "accuracy_Test"
   ]
  },
  {
   "cell_type": "markdown",
   "id": "productive-stroke",
   "metadata": {},
   "source": [
    "Repeating same procedure for the other model."
   ]
  },
  {
   "cell_type": "code",
   "execution_count": 31,
   "id": "optical-cooling",
   "metadata": {},
   "outputs": [
    {
     "data": {
      "text/plain": [
       "       \n",
       "        FALSE TRUE\n",
       "  FALSE   944    0\n",
       "  TRUE     47    9"
      ]
     },
     "metadata": {},
     "output_type": "display_data"
    }
   ],
   "source": [
    "predict.trunc <- predict(glm.truncated, Sampled_Data, type = 'response') # Beregn forudsigelserne for response sandsynligheden.\n",
    "# confusion matrix\n",
    "table_mat.trunc <- table(Sampled_Data$dead, predict.trunc > 0.5) # Hvis forudsigelserne er større end 0.5 returner 1 ellers 0.\n",
    "table_mat.trunc # Søjlerne er selve forudsigelsen, hvor rækkerne er, hvad forudsigelsen burde værre."
   ]
  },
  {
   "cell_type": "code",
   "execution_count": 32,
   "id": "insured-daughter",
   "metadata": {},
   "outputs": [
    {
     "data": {
      "text/html": [
       "0.953"
      ],
      "text/latex": [
       "0.953"
      ],
      "text/markdown": [
       "0.953"
      ],
      "text/plain": [
       "[1] 0.953"
      ]
     },
     "metadata": {},
     "output_type": "display_data"
    }
   ],
   "source": [
    "accuracy_Test.trunc <- sum(diag(table_mat.trunc)) / sum(table_mat.trunc)\n",
    "accuracy_Test.trunc"
   ]
  },
  {
   "cell_type": "markdown",
   "id": "hollywood-payment",
   "metadata": {},
   "source": [
    "### $R^2$"
   ]
  },
  {
   "cell_type": "markdown",
   "id": "supreme-myanmar",
   "metadata": {},
   "source": [
    "https://stats.stackexchange.com/questions/46345/how-to-calculate-goodness-of-fit-in-glm-r/46358"
   ]
  },
  {
   "cell_type": "code",
   "execution_count": 33,
   "id": "apparent-supply",
   "metadata": {},
   "outputs": [
    {
     "data": {
      "text/html": [
       "0.359990824399132"
      ],
      "text/latex": [
       "0.359990824399132"
      ],
      "text/markdown": [
       "0.359990824399132"
      ],
      "text/plain": [
       "[1] 0.3599908"
      ]
     },
     "metadata": {},
     "output_type": "display_data"
    }
   ],
   "source": [
    "with(summary(glm.main), 1 - deviance/null.deviance)"
   ]
  },
  {
   "cell_type": "code",
   "execution_count": 34,
   "id": "binary-battery",
   "metadata": {},
   "outputs": [
    {
     "data": {
      "text/html": [
       "0.35280584887224"
      ],
      "text/latex": [
       "0.35280584887224"
      ],
      "text/markdown": [
       "0.35280584887224"
      ],
      "text/plain": [
       "[1] 0.3528058"
      ]
     },
     "metadata": {},
     "output_type": "display_data"
    }
   ],
   "source": [
    "with(summary(glm.truncated), 1 - deviance/null.deviance)"
   ]
  },
  {
   "cell_type": "markdown",
   "id": "compliant-seven",
   "metadata": {},
   "source": [
    "### Hosmer-Lemeshow Goodness of Fit"
   ]
  },
  {
   "cell_type": "markdown",
   "id": "verified-mounting",
   "metadata": {},
   "source": [
    "https://www.theanalysisfactor.com/r-glm-model-fit/\n",
    "\n",
    "How well our model fits depends on the difference between the model and the observed data.  One approach for binary data is to implement a Hosmer Lemeshow goodness of fit test."
   ]
  },
  {
   "cell_type": "code",
   "execution_count": 35,
   "id": "isolated-stability",
   "metadata": {},
   "outputs": [
    {
     "data": {
      "text/plain": [
       "\n",
       "\tHosmer and Lemeshow goodness of fit (GOF) test\n",
       "\n",
       "data:  Sampled_Data$dead, fitted(glm.main)\n",
       "X-squared = 6.9621, df = 8, p-value = 0.5407\n"
      ]
     },
     "metadata": {},
     "output_type": "display_data"
    }
   ],
   "source": [
    "hoslem.test(Sampled_Data$dead, fitted(glm.main))"
   ]
  },
  {
   "cell_type": "code",
   "execution_count": 36,
   "id": "considered-toddler",
   "metadata": {
    "scrolled": true
   },
   "outputs": [
    {
     "data": {
      "text/plain": [
       "\n",
       "\tHosmer and Lemeshow goodness of fit (GOF) test\n",
       "\n",
       "data:  Sampled_Data$dead, fitted(glm.truncated)\n",
       "X-squared = 7.1438, df = 8, p-value = 0.5212\n"
      ]
     },
     "metadata": {},
     "output_type": "display_data"
    }
   ],
   "source": [
    "hoslem.test(Sampled_Data$dead, fitted(glm.truncated))"
   ]
  },
  {
   "cell_type": "markdown",
   "id": "athletic-tsunami",
   "metadata": {},
   "source": [
    "Our models appears to fit well because we have no significant difference between the models and the observed data (i.e. the p-value is above 0.05).\n",
    "\n",
    "As with all measures of model fit, we’ll use this as just one piece of information in deciding how well this model fits.  It doesn’t work well in very large or very small data sets, but is often useful nonetheless."
   ]
  },
  {
   "cell_type": "markdown",
   "id": "closing-frost",
   "metadata": {},
   "source": [
    "## Har alder og/eller køn en betydning for dødeligheden?"
   ]
  },
  {
   "cell_type": "code",
   "execution_count": 37,
   "id": "entitled-claim",
   "metadata": {},
   "outputs": [],
   "source": [
    "temp_df <- df %>% \n",
    "  filter(age != \"Alle\")\n",
    "unfolded_data = pmap_dfr(temp_df, \n",
    "                      function(interval, tot_deaths, infected, infected_male,infected_fem, male_deaths, female_deaths,...) {\n",
    "                           data.frame(age_group = interval,\n",
    "                                      dead = c(rep(1, tot_deaths), rep(0, infected - tot_deaths)),\n",
    "                                      gender = c(rep(\"Male\", male_deaths),\n",
    "                                                rep(\"Female\", female_deaths),\n",
    "                                                rep(\"Male\",infected_male-male_deaths),\n",
    "                                                rep(\"Female\",infected_fem-female_deaths)))\n",
    "                                     \n",
    "                      }\n",
    ")"
   ]
  },
  {
   "cell_type": "code",
   "execution_count": 38,
   "id": "suffering-devon",
   "metadata": {},
   "outputs": [
    {
     "data": {
      "text/html": [
       "221842"
      ],
      "text/latex": [
       "221842"
      ],
      "text/markdown": [
       "221842"
      ],
      "text/plain": [
       "[1] 221842"
      ]
     },
     "metadata": {},
     "output_type": "display_data"
    }
   ],
   "source": [
    "nrow(unfolded_data)"
   ]
  },
  {
   "cell_type": "code",
   "execution_count": 39,
   "id": "grand-election",
   "metadata": {},
   "outputs": [
    {
     "name": "stdout",
     "output_type": "stream",
     "text": [
      "'data.frame':\t221842 obs. of  3 variables:\n",
      " $ age_group: num  1 1 1 1 1 1 1 1 1 1 ...\n",
      " $ dead     : num  1 0 0 0 0 0 0 0 0 0 ...\n",
      " $ gender   : Factor w/ 2 levels \"Female\",\"Male\": 2 2 2 2 2 2 2 2 2 2 ...\n"
     ]
    }
   ],
   "source": [
    "str(unfolded_data)"
   ]
  },
  {
   "cell_type": "code",
   "execution_count": 40,
   "id": "indian-invitation",
   "metadata": {},
   "outputs": [],
   "source": [
    "unfolded_data$age_group <- as.factor(unfolded_data$age_group)\n",
    "unfolded_data$dead <- as.factor(unfolded_data$dead)"
   ]
  },
  {
   "cell_type": "code",
   "execution_count": 41,
   "id": "overhead-corps",
   "metadata": {},
   "outputs": [
    {
     "name": "stdout",
     "output_type": "stream",
     "text": [
      "'data.frame':\t221842 obs. of  3 variables:\n",
      " $ age_group: Factor w/ 10 levels \"1\",\"2\",\"3\",\"4\",..: 1 1 1 1 1 1 1 1 1 1 ...\n",
      " $ dead     : Factor w/ 2 levels \"0\",\"1\": 2 1 1 1 1 1 1 1 1 1 ...\n",
      " $ gender   : Factor w/ 2 levels \"Female\",\"Male\": 2 2 2 2 2 2 2 2 2 2 ...\n"
     ]
    }
   ],
   "source": [
    "str(unfolded_data)"
   ]
  },
  {
   "cell_type": "code",
   "execution_count": 42,
   "id": "adverse-robertson",
   "metadata": {
    "scrolled": true
   },
   "outputs": [
    {
     "data": {
      "text/html": [
       "<table>\n",
       "<thead><tr><th scope=col>age_group</th><th scope=col>dead</th><th scope=col>gender</th></tr></thead>\n",
       "<tbody>\n",
       "\t<tr><td>1   </td><td>1   </td><td>Male</td></tr>\n",
       "\t<tr><td>1   </td><td>0   </td><td>Male</td></tr>\n",
       "\t<tr><td>1   </td><td>0   </td><td>Male</td></tr>\n",
       "\t<tr><td>1   </td><td>0   </td><td>Male</td></tr>\n",
       "\t<tr><td>1   </td><td>0   </td><td>Male</td></tr>\n",
       "\t<tr><td>1   </td><td>0   </td><td>Male</td></tr>\n",
       "</tbody>\n",
       "</table>\n"
      ],
      "text/latex": [
       "\\begin{tabular}{r|lll}\n",
       " age\\_group & dead & gender\\\\\n",
       "\\hline\n",
       "\t 1    & 1    & Male\\\\\n",
       "\t 1    & 0    & Male\\\\\n",
       "\t 1    & 0    & Male\\\\\n",
       "\t 1    & 0    & Male\\\\\n",
       "\t 1    & 0    & Male\\\\\n",
       "\t 1    & 0    & Male\\\\\n",
       "\\end{tabular}\n"
      ],
      "text/markdown": [
       "\n",
       "| age_group | dead | gender |\n",
       "|---|---|---|\n",
       "| 1    | 1    | Male |\n",
       "| 1    | 0    | Male |\n",
       "| 1    | 0    | Male |\n",
       "| 1    | 0    | Male |\n",
       "| 1    | 0    | Male |\n",
       "| 1    | 0    | Male |\n",
       "\n"
      ],
      "text/plain": [
       "  age_group dead gender\n",
       "1 1         1    Male  \n",
       "2 1         0    Male  \n",
       "3 1         0    Male  \n",
       "4 1         0    Male  \n",
       "5 1         0    Male  \n",
       "6 1         0    Male  "
      ]
     },
     "metadata": {},
     "output_type": "display_data"
    }
   ],
   "source": [
    "head(unfolded_data)"
   ]
  },
  {
   "cell_type": "markdown",
   "id": "crucial-count",
   "metadata": {},
   "source": [
    "## Hypotesetest"
   ]
  },
  {
   "cell_type": "markdown",
   "id": "careful-decrease",
   "metadata": {},
   "source": [
    "$$H_0: \\text{Aldersgruppen er uafhængig af dødeligheden}$$"
   ]
  },
  {
   "cell_type": "markdown",
   "id": "social-single",
   "metadata": {},
   "source": [
    "$$H_a: \\text{Aldersgruppen er afhængig af dødeligheden}$$"
   ]
  },
  {
   "cell_type": "code",
   "execution_count": 43,
   "id": "unlike-attention",
   "metadata": {},
   "outputs": [
    {
     "data": {
      "text/html": [
       "8.71022964509395"
      ],
      "text/latex": [
       "8.71022964509395"
      ],
      "text/markdown": [
       "8.71022964509395"
      ],
      "text/plain": [
       "[1] 8.71023"
      ]
     },
     "metadata": {},
     "output_type": "display_data"
    },
    {
     "data": {
      "text/html": [
       "4.29636313096101"
      ],
      "text/latex": [
       "4.29636313096101"
      ],
      "text/markdown": [
       "4.29636313096101"
      ],
      "text/plain": [
       "[1] 4.296363"
      ]
     },
     "metadata": {},
     "output_type": "display_data"
    }
   ],
   "source": [
    "dead <- subset(unfolded_data, dead == 1)\n",
    "alive <- subset(unfolded_data, dead == 0)\n",
    "mean(as.integer(dead$age_group))\n",
    "mean(as.integer(alive$age_group))"
   ]
  },
  {
   "cell_type": "code",
   "execution_count": 44,
   "id": "cognitive-glass",
   "metadata": {},
   "outputs": [
    {
     "data": {
      "text/plain": [
       "\n",
       "\tWelch Two Sample t-test\n",
       "\n",
       "data:  as.integer(alive$age_group) and as.integer(dead$age_group)\n",
       "t = -204.8, df = 2609.3, p-value < 2.2e-16\n",
       "alternative hypothesis: true difference in means is not equal to 0\n",
       "95 percent confidence interval:\n",
       " -4.456127 -4.371606\n",
       "sample estimates:\n",
       "mean of x mean of y \n",
       " 4.296363  8.710230 \n"
      ]
     },
     "metadata": {},
     "output_type": "display_data"
    }
   ],
   "source": [
    "t.test(as.integer(alive$age_group), as.integer(dead$age_group), alternative=\"two.sided\", conf.level = 0.95)"
   ]
  },
  {
   "cell_type": "markdown",
   "id": "generic-kernel",
   "metadata": {},
   "source": [
    "Det ses med et 95% konfidensniveau, at de der overlever er signifikant yngre end de der dør... Omkring 4 aldergrupper sepperere dem. Alder har dermed en betydning for dødeligheden."
   ]
  },
  {
   "cell_type": "markdown",
   "id": "checked-support",
   "metadata": {},
   "source": [
    "$$H_0: \\text{Køn er uafhængig af dødeligheden}$$"
   ]
  },
  {
   "cell_type": "markdown",
   "id": "uniform-queue",
   "metadata": {},
   "source": [
    "$$H_a: \\text{Køn er afhængig af dødeligheden}$$"
   ]
  },
  {
   "cell_type": "code",
   "execution_count": 45,
   "id": "agricultural-magnitude",
   "metadata": {
    "scrolled": true
   },
   "outputs": [
    {
     "data": {
      "text/html": [
       "0.011968599701476"
      ],
      "text/latex": [
       "0.011968599701476"
      ],
      "text/markdown": [
       "0.011968599701476"
      ],
      "text/plain": [
       "[1] 0.0119686"
      ]
     },
     "metadata": {},
     "output_type": "display_data"
    },
    {
     "data": {
      "text/html": [
       "0.00967275037949659"
      ],
      "text/latex": [
       "0.00967275037949659"
      ],
      "text/markdown": [
       "0.00967275037949659"
      ],
      "text/plain": [
       "[1] 0.00967275"
      ]
     },
     "metadata": {},
     "output_type": "display_data"
    }
   ],
   "source": [
    "men <- subset(unfolded_data, gender == \"Male\")\n",
    "women <- subset(unfolded_data, gender == \"Female\")\n",
    "mean(as.integer(men$dead == 1))\n",
    "mean(as.integer(women$dead == 1))"
   ]
  },
  {
   "cell_type": "code",
   "execution_count": 46,
   "id": "aquatic-angola",
   "metadata": {},
   "outputs": [
    {
     "data": {
      "text/plain": [
       "\n",
       "\tWelch Two Sample t-test\n",
       "\n",
       "data:  as.integer(men$dead == 1) and as.integer(women$dead == 1)\n",
       "t = 5.2192, df = 217102, p-value = 1.799e-07\n",
       "alternative hypothesis: true difference in means is not equal to 0\n",
       "95 percent confidence interval:\n",
       " 0.001433687 0.003158011\n",
       "sample estimates:\n",
       " mean of x  mean of y \n",
       "0.01196860 0.00967275 \n"
      ]
     },
     "metadata": {},
     "output_type": "display_data"
    }
   ],
   "source": [
    "t.test(as.integer(men$dead == 1), as.integer(women$dead == 1), alternative=\"two.sided\", conf.level = 0.95)"
   ]
  },
  {
   "cell_type": "markdown",
   "id": "injured-comment",
   "metadata": {},
   "source": [
    "Det ses med et 95% konfidensniveau, at kvinders dødelighed er signifikant lavere end mændendes. Køn har dermed en betydning for dødeligheden.\n",
    "\n",
    "Disse test er (måske) ikke specielt gode for den type data vi arbejder med og derfor anvender vi glm modellere istedet for at konkludere, hvorvidt alder og køn har en signifikant betydning for dødeligheden."
   ]
  },
  {
   "cell_type": "markdown",
   "id": "answering-petite",
   "metadata": {},
   "source": [
    "### GLM testing"
   ]
  },
  {
   "cell_type": "code",
   "execution_count": 47,
   "id": "lesbian-associate",
   "metadata": {
    "scrolled": false
   },
   "outputs": [
    {
     "data": {
      "text/plain": [
       "\n",
       "Call:\n",
       "glm(formula = dead ~ 1, family = \"binomial\", data = unfolded_data)\n",
       "\n",
       "Deviance Residuals: \n",
       "    Min       1Q   Median       3Q      Max  \n",
       "-0.1473  -0.1473  -0.1473  -0.1473   3.0095  \n",
       "\n",
       "Coefficients:\n",
       "            Estimate Std. Error z value Pr(>|z|)    \n",
       "(Intercept) -4.51773    0.02054  -219.9   <2e-16 ***\n",
       "---\n",
       "Signif. codes:  0 '***' 0.001 '**' 0.01 '*' 0.05 '.' 0.1 ' ' 1\n",
       "\n",
       "(Dispersion parameter for binomial family taken to be 1)\n",
       "\n",
       "    Null deviance: 26456  on 221841  degrees of freedom\n",
       "Residual deviance: 26456  on 221841  degrees of freedom\n",
       "AIC: 26458\n",
       "\n",
       "Number of Fisher Scoring iterations: 7\n"
      ]
     },
     "metadata": {},
     "output_type": "display_data"
    }
   ],
   "source": [
    "model.default <- glm(dead ~ 1, family = \"binomial\", data=unfolded_data)\n",
    "summary(model.default)"
   ]
  },
  {
   "cell_type": "code",
   "execution_count": 48,
   "id": "funky-agenda",
   "metadata": {},
   "outputs": [
    {
     "data": {
      "text/plain": [
       "\n",
       "Call:\n",
       "glm(formula = dead ~ age_group, family = \"binomial\", data = unfolded_data)\n",
       "\n",
       "Deviance Residuals: \n",
       "    Min       1Q   Median       3Q      Max  \n",
       "-0.8479  -0.0577  -0.0198   0.0000   4.3914  \n",
       "\n",
       "Coefficients:\n",
       "            Estimate Std. Error z value Pr(>|z|)    \n",
       "(Intercept)   -9.642      1.000  -9.642  < 2e-16 ***\n",
       "age_group2   -11.924    158.480  -0.075   0.9400    \n",
       "age_group3   -11.924    143.422  -0.083   0.9337    \n",
       "age_group4     1.108      1.080   1.026   0.3050    \n",
       "age_group5     1.200      1.069   1.122   0.2618    \n",
       "age_group6     3.245      1.009   3.215   0.0013 ** \n",
       "age_group7     5.153      1.003   5.139 2.75e-07 ***\n",
       "age_group8     6.840      1.001   6.834 8.28e-12 ***\n",
       "age_group9     8.038      1.001   8.032 9.56e-16 ***\n",
       "age_group10    8.804      1.001   8.792  < 2e-16 ***\n",
       "---\n",
       "Signif. codes:  0 '***' 0.001 '**' 0.01 '*' 0.05 '.' 0.1 ' ' 1\n",
       "\n",
       "(Dispersion parameter for binomial family taken to be 1)\n",
       "\n",
       "    Null deviance: 26456  on 221841  degrees of freedom\n",
       "Residual deviance: 15392  on 221832  degrees of freedom\n",
       "AIC: 15412\n",
       "\n",
       "Number of Fisher Scoring iterations: 20\n"
      ]
     },
     "metadata": {},
     "output_type": "display_data"
    }
   ],
   "source": [
    "model.age <- glm(dead ~ age_group, family = \"binomial\", data=unfolded_data)\n",
    "summary(model.age)"
   ]
  },
  {
   "cell_type": "code",
   "execution_count": 49,
   "id": "liberal-copyright",
   "metadata": {},
   "outputs": [
    {
     "data": {
      "text/plain": [
       "\n",
       "Call:\n",
       "glm(formula = dead ~ gender, family = \"binomial\", data = unfolded_data)\n",
       "\n",
       "Deviance Residuals: \n",
       "    Min       1Q   Median       3Q      Max  \n",
       "-0.1552  -0.1552  -0.1394  -0.1394   3.0458  \n",
       "\n",
       "Coefficients:\n",
       "            Estimate Std. Error  z value Pr(>|z|)    \n",
       "(Intercept) -4.62872    0.03035 -152.497  < 2e-16 ***\n",
       "genderMale   0.21529    0.04124    5.221 1.78e-07 ***\n",
       "---\n",
       "Signif. codes:  0 '***' 0.001 '**' 0.01 '*' 0.05 '.' 0.1 ' ' 1\n",
       "\n",
       "(Dispersion parameter for binomial family taken to be 1)\n",
       "\n",
       "    Null deviance: 26456  on 221841  degrees of freedom\n",
       "Residual deviance: 26429  on 221840  degrees of freedom\n",
       "AIC: 26433\n",
       "\n",
       "Number of Fisher Scoring iterations: 7\n"
      ]
     },
     "metadata": {},
     "output_type": "display_data"
    }
   ],
   "source": [
    "model.gender <- glm(dead ~ gender, family = \"binomial\", data=unfolded_data)\n",
    "summary(model.gender)"
   ]
  },
  {
   "cell_type": "code",
   "execution_count": 50,
   "id": "hawaiian-gnome",
   "metadata": {},
   "outputs": [
    {
     "data": {
      "text/plain": [
       "\n",
       "Call:\n",
       "glm(formula = dead ~ age_group + gender, family = \"binomial\", \n",
       "    data = unfolded_data)\n",
       "\n",
       "Deviance Residuals: \n",
       "    Min       1Q   Median       3Q      Max  \n",
       "-0.9981  -0.0491  -0.0177   0.0000   4.3368  \n",
       "\n",
       "Coefficients:\n",
       "             Estimate Std. Error z value Pr(>|z|)    \n",
       "(Intercept)  -9.98864    1.00049  -9.984  < 2e-16 ***\n",
       "age_group2  -11.90939  157.76669  -0.075  0.93983    \n",
       "age_group3  -11.89564  142.76818  -0.083  0.93360    \n",
       "age_group4    1.12682    1.08017   1.043  0.29686    \n",
       "age_group5    1.23131    1.06910   1.152  0.24943    \n",
       "age_group6    3.26813    1.00944   3.238  0.00121 ** \n",
       "age_group7    5.15888    1.00263   5.145 2.67e-07 ***\n",
       "age_group8    6.85232    1.00089   6.846 7.58e-12 ***\n",
       "age_group9    8.10960    1.00069   8.104 5.32e-16 ***\n",
       "age_group10   8.96628    1.00148   8.953  < 2e-16 ***\n",
       "genderMale    0.58479    0.04579  12.772  < 2e-16 ***\n",
       "---\n",
       "Signif. codes:  0 '***' 0.001 '**' 0.01 '*' 0.05 '.' 0.1 ' ' 1\n",
       "\n",
       "(Dispersion parameter for binomial family taken to be 1)\n",
       "\n",
       "    Null deviance: 26456  on 221841  degrees of freedom\n",
       "Residual deviance: 15226  on 221831  degrees of freedom\n",
       "AIC: 15248\n",
       "\n",
       "Number of Fisher Scoring iterations: 20\n"
      ]
     },
     "metadata": {},
     "output_type": "display_data"
    }
   ],
   "source": [
    "model.age_and_gender <- glm(dead ~ age_group + gender, family = \"binomial\", data=unfolded_data)\n",
    "summary(model.age_and_gender)"
   ]
  },
  {
   "cell_type": "code",
   "execution_count": 51,
   "id": "authentic-circuit",
   "metadata": {
    "scrolled": false
   },
   "outputs": [
    {
     "data": {
      "text/plain": [
       "\n",
       "Call:\n",
       "glm(formula = dead ~ age_group * gender, family = \"binomial\", \n",
       "    data = unfolded_data)\n",
       "\n",
       "Deviance Residuals: \n",
       "    Min       1Q   Median       3Q      Max  \n",
       "-1.0383  -0.0505  -0.0186   0.0000   4.2404  \n",
       "\n",
       "Coefficients:\n",
       "                         Estimate Std. Error z value Pr(>|z|)\n",
       "(Intercept)            -2.157e+01  3.405e+02  -0.063    0.949\n",
       "age_group2              3.008e-06  4.090e+02   0.000    1.000\n",
       "age_group3              3.008e-06  3.950e+02   0.000    1.000\n",
       "age_group4              1.330e+01  3.405e+02   0.039    0.969\n",
       "age_group5              1.290e+01  3.405e+02   0.038    0.970\n",
       "age_group6              1.490e+01  3.405e+02   0.044    0.965\n",
       "age_group7              1.681e+01  3.405e+02   0.049    0.961\n",
       "age_group8              1.845e+01  3.405e+02   0.054    0.957\n",
       "age_group9              1.969e+01  3.405e+02   0.058    0.954\n",
       "age_group10             2.049e+01  3.405e+02   0.060    0.952\n",
       "genderMale              1.258e+01  3.405e+02   0.037    0.971\n",
       "age_group2:genderMale  -1.258e+01  4.652e+02  -0.027    0.978\n",
       "age_group3:genderMale  -1.258e+01  4.452e+02  -0.028    0.977\n",
       "age_group4:genderMale  -1.322e+01  3.405e+02  -0.039    0.969\n",
       "age_group5:genderMale  -1.215e+01  3.405e+02  -0.036    0.972\n",
       "age_group6:genderMale  -1.208e+01  3.405e+02  -0.035    0.972\n",
       "age_group7:genderMale  -1.211e+01  3.405e+02  -0.036    0.972\n",
       "age_group8:genderMale  -1.203e+01  3.405e+02  -0.035    0.972\n",
       "age_group9:genderMale  -1.199e+01  3.405e+02  -0.035    0.972\n",
       "age_group10:genderMale -1.184e+01  3.405e+02  -0.035    0.972\n",
       "\n",
       "(Dispersion parameter for binomial family taken to be 1)\n",
       "\n",
       "    Null deviance: 26456  on 221841  degrees of freedom\n",
       "Residual deviance: 15220  on 221822  degrees of freedom\n",
       "AIC: 15260\n",
       "\n",
       "Number of Fisher Scoring iterations: 20\n"
      ]
     },
     "metadata": {},
     "output_type": "display_data"
    }
   ],
   "source": [
    "model.age_interakt_gender <- glm(dead ~ age_group * gender, family = \"binomial\", data=unfolded_data)\n",
    "summary(model.age_interakt_gender)"
   ]
  },
  {
   "cell_type": "code",
   "execution_count": 52,
   "id": "disciplinary-somerset",
   "metadata": {},
   "outputs": [
    {
     "data": {
      "text/html": [
       "<table>\n",
       "<thead><tr><th scope=col>Resid. Df</th><th scope=col>Resid. Dev</th><th scope=col>Df</th><th scope=col>Deviance</th><th scope=col>Pr(&gt;Chi)</th></tr></thead>\n",
       "<tbody>\n",
       "\t<tr><td>221832      </td><td>15391.88    </td><td>NA          </td><td>      NA    </td><td>          NA</td></tr>\n",
       "\t<tr><td>221831      </td><td>15226.15    </td><td> 1          </td><td>165.7327    </td><td>6.327982e-38</td></tr>\n",
       "</tbody>\n",
       "</table>\n"
      ],
      "text/latex": [
       "\\begin{tabular}{r|lllll}\n",
       " Resid. Df & Resid. Dev & Df & Deviance & Pr(>Chi)\\\\\n",
       "\\hline\n",
       "\t 221832       & 15391.88     & NA           &       NA     &           NA\\\\\n",
       "\t 221831       & 15226.15     &  1           & 165.7327     & 6.327982e-38\\\\\n",
       "\\end{tabular}\n"
      ],
      "text/markdown": [
       "\n",
       "| Resid. Df | Resid. Dev | Df | Deviance | Pr(>Chi) |\n",
       "|---|---|---|---|---|\n",
       "| 221832       | 15391.88     | NA           |       NA     |           NA |\n",
       "| 221831       | 15226.15     |  1           | 165.7327     | 6.327982e-38 |\n",
       "\n"
      ],
      "text/plain": [
       "  Resid. Df Resid. Dev Df Deviance Pr(>Chi)    \n",
       "1 221832    15391.88   NA       NA           NA\n",
       "2 221831    15226.15    1 165.7327 6.327982e-38"
      ]
     },
     "metadata": {},
     "output_type": "display_data"
    }
   ],
   "source": [
    "#anova(model.default, model.age, test = \"Chisq\")\n",
    "#anova(model.default, model.gender, test = \"Chisq\")\n",
    "#anova(model.age, model.gender, test = \"Chisq\")\n",
    "anova(model.age, model.age_and_gender, test = \"Chisq\")\n",
    "#anova(model.age_and_gender, model.age_interakt_gender, test = \"Chisq\")"
   ]
  },
  {
   "cell_type": "markdown",
   "id": "corrected-agreement",
   "metadata": {},
   "source": [
    "#### Ressourcer til yderligere undersøgelse"
   ]
  },
  {
   "cell_type": "markdown",
   "id": "cultural-outreach",
   "metadata": {},
   "source": [
    "https://www.cdc.gov/csels/dsepd/ss1978/lesson3/section3.html#:~:text=An%20age%2Dspecific%20mortality%20rate,age%20group%20in%20the%20population.\n",
    "\n",
    "https://www.ncbi.nlm.nih.gov/pmc/articles/PMC4028711/\n",
    "\n",
    "https://www.un.org/development/desa/pd/sites/www.un.org.development.desa.pd/files/files/documents/2020/Jan/un_1955_age_and_sex_patterns_of_mortality_-_model_life-tables_for_under-developed_countries_0.pdf\n",
    "\n",
    "https://www.demogr.mpg.de/books/drm/009/12.pdf\n",
    "\n",
    "https://www.sciencedirect.com/science/article/pii/S2352827319300680"
   ]
  }
 ],
 "metadata": {
  "kernelspec": {
   "display_name": "R",
   "language": "R",
   "name": "ir"
  },
  "language_info": {
   "codemirror_mode": "r",
   "file_extension": ".r",
   "mimetype": "text/x-r-source",
   "name": "R",
   "pygments_lexer": "r",
   "version": "3.6.1"
  }
 },
 "nbformat": 4,
 "nbformat_minor": 5
}
