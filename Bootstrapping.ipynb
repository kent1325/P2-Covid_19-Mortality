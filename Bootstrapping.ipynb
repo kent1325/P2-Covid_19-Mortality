{
 "cells": [
  {
   "cell_type": "markdown",
   "id": "incorrect-operation",
   "metadata": {},
   "source": [
    "# Basic Package Mangement"
   ]
  },
  {
   "cell_type": "code",
   "execution_count": 1,
   "id": "hungarian-easter",
   "metadata": {
    "scrolled": true
   },
   "outputs": [
    {
     "name": "stderr",
     "output_type": "stream",
     "text": [
      "Loading required package: pacman\n",
      "Warning message:\n",
      "\"package 'pacman' was built under R version 3.6.3\""
     ]
    }
   ],
   "source": [
    "#install.packages(\"pacman\") # Execute this once.\n",
    "require(pacman)"
   ]
  },
  {
   "cell_type": "markdown",
   "id": "chemical-wireless",
   "metadata": {},
   "source": [
    "### Clearing and unloading packages"
   ]
  },
  {
   "cell_type": "code",
   "execution_count": 123,
   "id": "brief-render",
   "metadata": {
    "scrolled": false
   },
   "outputs": [
    {
     "name": "stderr",
     "output_type": "stream",
     "text": [
      "The following packages have been unloaded:\n",
      "\breadxl, mosaic, ggridges, mosaicData, ggformula, ggstance, Matrix, lattice, forcats, stringr, dplyr, purrr, readr, tidyr, tibble, ggplot2, tidyverse, pacman\n",
      "\n"
     ]
    }
   ],
   "source": [
    "# Run this block, when done coding or before starting coding.\n",
    "p_unload(all)\n",
    "detach(\"package:datasets\", unload=TRUE)\n",
    "rm(list=ls()) # removes all previous stored variables"
   ]
  },
  {
   "cell_type": "markdown",
   "id": "fallen-revelation",
   "metadata": {},
   "source": [
    "### Loading packages"
   ]
  },
  {
   "cell_type": "code",
   "execution_count": 3,
   "id": "convinced-texas",
   "metadata": {},
   "outputs": [],
   "source": [
    "pacman::p_load(pacman, tidyverse, mosaic, magrittr)"
   ]
  },
  {
   "cell_type": "markdown",
   "id": "entire-taylor",
   "metadata": {},
   "source": [
    "# Initializing the dataframe"
   ]
  },
  {
   "cell_type": "code",
   "execution_count": 4,
   "id": "swiss-allen",
   "metadata": {},
   "outputs": [
    {
     "data": {
      "text/html": [
       "<table>\n",
       "<thead><tr><th scope=col>interval</th><th scope=col>age</th><th scope=col>infected</th><th scope=col>tested</th><th scope=col>female_deaths</th><th scope=col>male_deaths</th><th scope=col>tot_deaths</th><th scope=col>comorbidity</th><th scope=col>infected_fem</th><th scope=col>infected_male</th><th scope=col>tot_male</th><th scope=col>tot_fem</th><th scope=col>tot_num</th></tr></thead>\n",
       "<tbody>\n",
       "\t<tr><td> 1     </td><td>0-9    </td><td> 15400 </td><td> 395142</td><td>   0   </td><td>   1   </td><td>   1   </td><td>   1   </td><td>  7372 </td><td>  8028 </td><td> 313571</td><td> 297559</td><td> 611130</td></tr>\n",
       "\t<tr><td> 2     </td><td>10-19  </td><td> 34025 </td><td> 605344</td><td>   0   </td><td>   0   </td><td>   0   </td><td>   0   </td><td> 16626 </td><td> 17399 </td><td> 348964</td><td> 331889</td><td> 680853</td></tr>\n",
       "\t<tr><td> 3     </td><td>20-29  </td><td> 41545 </td><td> 688922</td><td>   0   </td><td>   0   </td><td>   0   </td><td>   0   </td><td> 21296 </td><td> 20249 </td><td> 397572</td><td> 381907</td><td> 779479</td></tr>\n",
       "\t<tr><td> 4     </td><td>30-39  </td><td> 30514 </td><td> 604186</td><td>   4   </td><td>   2   </td><td>   6   </td><td>   3   </td><td> 15615 </td><td> 14899 </td><td> 352231</td><td> 341194</td><td> 693425</td></tr>\n",
       "\t<tr><td> 5     </td><td>40-49  </td><td> 32482 </td><td> 646070</td><td>   3   </td><td>   4   </td><td>   7   </td><td>   5   </td><td> 17345 </td><td> 15137 </td><td> 376117</td><td> 375174</td><td> 751291</td></tr>\n",
       "\t<tr><td> 6     </td><td>50-59  </td><td> 31843 </td><td> 660087</td><td>  21   </td><td>  32   </td><td>  53   </td><td>  37   </td><td> 16507 </td><td> 15336 </td><td> 402188</td><td> 398825</td><td> 801013</td></tr>\n",
       "\t<tr><td> 7     </td><td>60-69  </td><td> 17558 </td><td> 490990</td><td>  73   </td><td> 122   </td><td> 195   </td><td> 153   </td><td>  8562 </td><td>  8996 </td><td> 327021</td><td> 338282</td><td> 666262</td></tr>\n",
       "\t<tr><td> 8     </td><td>70-79  </td><td> 10910 </td><td> 370426</td><td> 229   </td><td> 395   </td><td> 624   </td><td> 516   </td><td>  5378 </td><td>  5532 </td><td> 272021</td><td> 300894</td><td> 572915</td></tr>\n",
       "\t<tr><td> 9     </td><td>80-89  </td><td>  5760 </td><td> 140654</td><td> 441   </td><td> 523   </td><td> 964   </td><td> 784   </td><td>  3330 </td><td>  2430 </td><td>  99560</td><td> 135830</td><td> 235390</td></tr>\n",
       "\t<tr><td>10     </td><td>90+    </td><td>  1805 </td><td>  28610</td><td> 325   </td><td> 220   </td><td> 545   </td><td> 433   </td><td>  1277 </td><td>   528 </td><td>  13237</td><td>  32228</td><td>  45455</td></tr>\n",
       "\t<tr><td>11     </td><td>Alle   </td><td>221842 </td><td>4630431</td><td>1096   </td><td>1299   </td><td>2395   </td><td>1932   </td><td>113308 </td><td>108534 </td><td>2902482</td><td>2933782</td><td>5837213</td></tr>\n",
       "</tbody>\n",
       "</table>\n"
      ],
      "text/latex": [
       "\\begin{tabular}{r|lllllllllllll}\n",
       " interval & age & infected & tested & female\\_deaths & male\\_deaths & tot\\_deaths & comorbidity & infected\\_fem & infected\\_male & tot\\_male & tot\\_fem & tot\\_num\\\\\n",
       "\\hline\n",
       "\t  1      & 0-9     &  15400  &  395142 &    0    &    1    &    1    &    1    &   7372  &   8028  &  313571 &  297559 &  611130\\\\\n",
       "\t  2      & 10-19   &  34025  &  605344 &    0    &    0    &    0    &    0    &  16626  &  17399  &  348964 &  331889 &  680853\\\\\n",
       "\t  3      & 20-29   &  41545  &  688922 &    0    &    0    &    0    &    0    &  21296  &  20249  &  397572 &  381907 &  779479\\\\\n",
       "\t  4      & 30-39   &  30514  &  604186 &    4    &    2    &    6    &    3    &  15615  &  14899  &  352231 &  341194 &  693425\\\\\n",
       "\t  5      & 40-49   &  32482  &  646070 &    3    &    4    &    7    &    5    &  17345  &  15137  &  376117 &  375174 &  751291\\\\\n",
       "\t  6      & 50-59   &  31843  &  660087 &   21    &   32    &   53    &   37    &  16507  &  15336  &  402188 &  398825 &  801013\\\\\n",
       "\t  7      & 60-69   &  17558  &  490990 &   73    &  122    &  195    &  153    &   8562  &   8996  &  327021 &  338282 &  666262\\\\\n",
       "\t  8      & 70-79   &  10910  &  370426 &  229    &  395    &  624    &  516    &   5378  &   5532  &  272021 &  300894 &  572915\\\\\n",
       "\t  9      & 80-89   &   5760  &  140654 &  441    &  523    &  964    &  784    &   3330  &   2430  &   99560 &  135830 &  235390\\\\\n",
       "\t 10      & 90+     &   1805  &   28610 &  325    &  220    &  545    &  433    &   1277  &    528  &   13237 &   32228 &   45455\\\\\n",
       "\t 11      & Alle    & 221842  & 4630431 & 1096    & 1299    & 2395    & 1932    & 113308  & 108534  & 2902482 & 2933782 & 5837213\\\\\n",
       "\\end{tabular}\n"
      ],
      "text/markdown": [
       "\n",
       "| interval | age | infected | tested | female_deaths | male_deaths | tot_deaths | comorbidity | infected_fem | infected_male | tot_male | tot_fem | tot_num |\n",
       "|---|---|---|---|---|---|---|---|---|---|---|---|---|\n",
       "|  1      | 0-9     |  15400  |  395142 |    0    |    1    |    1    |    1    |   7372  |   8028  |  313571 |  297559 |  611130 |\n",
       "|  2      | 10-19   |  34025  |  605344 |    0    |    0    |    0    |    0    |  16626  |  17399  |  348964 |  331889 |  680853 |\n",
       "|  3      | 20-29   |  41545  |  688922 |    0    |    0    |    0    |    0    |  21296  |  20249  |  397572 |  381907 |  779479 |\n",
       "|  4      | 30-39   |  30514  |  604186 |    4    |    2    |    6    |    3    |  15615  |  14899  |  352231 |  341194 |  693425 |\n",
       "|  5      | 40-49   |  32482  |  646070 |    3    |    4    |    7    |    5    |  17345  |  15137  |  376117 |  375174 |  751291 |\n",
       "|  6      | 50-59   |  31843  |  660087 |   21    |   32    |   53    |   37    |  16507  |  15336  |  402188 |  398825 |  801013 |\n",
       "|  7      | 60-69   |  17558  |  490990 |   73    |  122    |  195    |  153    |   8562  |   8996  |  327021 |  338282 |  666262 |\n",
       "|  8      | 70-79   |  10910  |  370426 |  229    |  395    |  624    |  516    |   5378  |   5532  |  272021 |  300894 |  572915 |\n",
       "|  9      | 80-89   |   5760  |  140654 |  441    |  523    |  964    |  784    |   3330  |   2430  |   99560 |  135830 |  235390 |\n",
       "| 10      | 90+     |   1805  |   28610 |  325    |  220    |  545    |  433    |   1277  |    528  |   13237 |   32228 |   45455 |\n",
       "| 11      | Alle    | 221842  | 4630431 | 1096    | 1299    | 2395    | 1932    | 113308  | 108534  | 2902482 | 2933782 | 5837213 |\n",
       "\n"
      ],
      "text/plain": [
       "   interval age   infected tested  female_deaths male_deaths tot_deaths\n",
       "1   1       0-9    15400    395142    0             1           1      \n",
       "2   2       10-19  34025    605344    0             0           0      \n",
       "3   3       20-29  41545    688922    0             0           0      \n",
       "4   4       30-39  30514    604186    4             2           6      \n",
       "5   5       40-49  32482    646070    3             4           7      \n",
       "6   6       50-59  31843    660087   21            32          53      \n",
       "7   7       60-69  17558    490990   73           122         195      \n",
       "8   8       70-79  10910    370426  229           395         624      \n",
       "9   9       80-89   5760    140654  441           523         964      \n",
       "10 10       90+     1805     28610  325           220         545      \n",
       "11 11       Alle  221842   4630431 1096          1299        2395      \n",
       "   comorbidity infected_fem infected_male tot_male tot_fem tot_num\n",
       "1     1          7372         8028         313571   297559  611130\n",
       "2     0         16626        17399         348964   331889  680853\n",
       "3     0         21296        20249         397572   381907  779479\n",
       "4     3         15615        14899         352231   341194  693425\n",
       "5     5         17345        15137         376117   375174  751291\n",
       "6    37         16507        15336         402188   398825  801013\n",
       "7   153          8562         8996         327021   338282  666262\n",
       "8   516          5378         5532         272021   300894  572915\n",
       "9   784          3330         2430          99560   135830  235390\n",
       "10  433          1277          528          13237    32228   45455\n",
       "11 1932        113308       108534        2902482  2933782 5837213"
      ]
     },
     "metadata": {},
     "output_type": "display_data"
    }
   ],
   "source": [
    "library(\"readxl\")\n",
    "df <- read_excel(\"data/DeathsDK160321.xlsx\")\n",
    "df"
   ]
  },
  {
   "cell_type": "code",
   "execution_count": 5,
   "id": "northern-carrier",
   "metadata": {},
   "outputs": [
    {
     "data": {
      "text/html": [
       "<table>\n",
       "<thead><tr><th scope=col>interval</th><th scope=col>age</th><th scope=col>infected</th><th scope=col>tested</th><th scope=col>female_deaths</th><th scope=col>male_deaths</th><th scope=col>tot_deaths</th><th scope=col>comorbidity</th><th scope=col>infected_fem</th><th scope=col>infected_male</th><th scope=col>tot_male</th><th scope=col>tot_fem</th><th scope=col>tot_num</th></tr></thead>\n",
       "<tbody>\n",
       "\t<tr><td> 1    </td><td>0-9   </td><td>15400 </td><td>395142</td><td>  0   </td><td>  1   </td><td>  1   </td><td>  1   </td><td> 7372 </td><td> 8028 </td><td>313571</td><td>297559</td><td>611130</td></tr>\n",
       "\t<tr><td> 2    </td><td>10-19 </td><td>34025 </td><td>605344</td><td>  0   </td><td>  0   </td><td>  0   </td><td>  0   </td><td>16626 </td><td>17399 </td><td>348964</td><td>331889</td><td>680853</td></tr>\n",
       "\t<tr><td> 3    </td><td>20-29 </td><td>41545 </td><td>688922</td><td>  0   </td><td>  0   </td><td>  0   </td><td>  0   </td><td>21296 </td><td>20249 </td><td>397572</td><td>381907</td><td>779479</td></tr>\n",
       "\t<tr><td> 4    </td><td>30-39 </td><td>30514 </td><td>604186</td><td>  4   </td><td>  2   </td><td>  6   </td><td>  3   </td><td>15615 </td><td>14899 </td><td>352231</td><td>341194</td><td>693425</td></tr>\n",
       "\t<tr><td> 5    </td><td>40-49 </td><td>32482 </td><td>646070</td><td>  3   </td><td>  4   </td><td>  7   </td><td>  5   </td><td>17345 </td><td>15137 </td><td>376117</td><td>375174</td><td>751291</td></tr>\n",
       "\t<tr><td> 6    </td><td>50-59 </td><td>31843 </td><td>660087</td><td> 21   </td><td> 32   </td><td> 53   </td><td> 37   </td><td>16507 </td><td>15336 </td><td>402188</td><td>398825</td><td>801013</td></tr>\n",
       "\t<tr><td> 7    </td><td>60-69 </td><td>17558 </td><td>490990</td><td> 73   </td><td>122   </td><td>195   </td><td>153   </td><td> 8562 </td><td> 8996 </td><td>327021</td><td>338282</td><td>666262</td></tr>\n",
       "\t<tr><td> 8    </td><td>70-79 </td><td>10910 </td><td>370426</td><td>229   </td><td>395   </td><td>624   </td><td>516   </td><td> 5378 </td><td> 5532 </td><td>272021</td><td>300894</td><td>572915</td></tr>\n",
       "\t<tr><td> 9    </td><td>80-89 </td><td> 5760 </td><td>140654</td><td>441   </td><td>523   </td><td>964   </td><td>784   </td><td> 3330 </td><td> 2430 </td><td> 99560</td><td>135830</td><td>235390</td></tr>\n",
       "\t<tr><td>10    </td><td>90+   </td><td> 1805 </td><td> 28610</td><td>325   </td><td>220   </td><td>545   </td><td>433   </td><td> 1277 </td><td>  528 </td><td> 13237</td><td> 32228</td><td> 45455</td></tr>\n",
       "</tbody>\n",
       "</table>\n"
      ],
      "text/latex": [
       "\\begin{tabular}{r|lllllllllllll}\n",
       " interval & age & infected & tested & female\\_deaths & male\\_deaths & tot\\_deaths & comorbidity & infected\\_fem & infected\\_male & tot\\_male & tot\\_fem & tot\\_num\\\\\n",
       "\\hline\n",
       "\t  1     & 0-9    & 15400  & 395142 &   0    &   1    &   1    &   1    &  7372  &  8028  & 313571 & 297559 & 611130\\\\\n",
       "\t  2     & 10-19  & 34025  & 605344 &   0    &   0    &   0    &   0    & 16626  & 17399  & 348964 & 331889 & 680853\\\\\n",
       "\t  3     & 20-29  & 41545  & 688922 &   0    &   0    &   0    &   0    & 21296  & 20249  & 397572 & 381907 & 779479\\\\\n",
       "\t  4     & 30-39  & 30514  & 604186 &   4    &   2    &   6    &   3    & 15615  & 14899  & 352231 & 341194 & 693425\\\\\n",
       "\t  5     & 40-49  & 32482  & 646070 &   3    &   4    &   7    &   5    & 17345  & 15137  & 376117 & 375174 & 751291\\\\\n",
       "\t  6     & 50-59  & 31843  & 660087 &  21    &  32    &  53    &  37    & 16507  & 15336  & 402188 & 398825 & 801013\\\\\n",
       "\t  7     & 60-69  & 17558  & 490990 &  73    & 122    & 195    & 153    &  8562  &  8996  & 327021 & 338282 & 666262\\\\\n",
       "\t  8     & 70-79  & 10910  & 370426 & 229    & 395    & 624    & 516    &  5378  &  5532  & 272021 & 300894 & 572915\\\\\n",
       "\t  9     & 80-89  &  5760  & 140654 & 441    & 523    & 964    & 784    &  3330  &  2430  &  99560 & 135830 & 235390\\\\\n",
       "\t 10     & 90+    &  1805  &  28610 & 325    & 220    & 545    & 433    &  1277  &   528  &  13237 &  32228 &  45455\\\\\n",
       "\\end{tabular}\n"
      ],
      "text/markdown": [
       "\n",
       "| interval | age | infected | tested | female_deaths | male_deaths | tot_deaths | comorbidity | infected_fem | infected_male | tot_male | tot_fem | tot_num |\n",
       "|---|---|---|---|---|---|---|---|---|---|---|---|---|\n",
       "|  1     | 0-9    | 15400  | 395142 |   0    |   1    |   1    |   1    |  7372  |  8028  | 313571 | 297559 | 611130 |\n",
       "|  2     | 10-19  | 34025  | 605344 |   0    |   0    |   0    |   0    | 16626  | 17399  | 348964 | 331889 | 680853 |\n",
       "|  3     | 20-29  | 41545  | 688922 |   0    |   0    |   0    |   0    | 21296  | 20249  | 397572 | 381907 | 779479 |\n",
       "|  4     | 30-39  | 30514  | 604186 |   4    |   2    |   6    |   3    | 15615  | 14899  | 352231 | 341194 | 693425 |\n",
       "|  5     | 40-49  | 32482  | 646070 |   3    |   4    |   7    |   5    | 17345  | 15137  | 376117 | 375174 | 751291 |\n",
       "|  6     | 50-59  | 31843  | 660087 |  21    |  32    |  53    |  37    | 16507  | 15336  | 402188 | 398825 | 801013 |\n",
       "|  7     | 60-69  | 17558  | 490990 |  73    | 122    | 195    | 153    |  8562  |  8996  | 327021 | 338282 | 666262 |\n",
       "|  8     | 70-79  | 10910  | 370426 | 229    | 395    | 624    | 516    |  5378  |  5532  | 272021 | 300894 | 572915 |\n",
       "|  9     | 80-89  |  5760  | 140654 | 441    | 523    | 964    | 784    |  3330  |  2430  |  99560 | 135830 | 235390 |\n",
       "| 10     | 90+    |  1805  |  28610 | 325    | 220    | 545    | 433    |  1277  |   528  |  13237 |  32228 |  45455 |\n",
       "\n"
      ],
      "text/plain": [
       "   interval age   infected tested female_deaths male_deaths tot_deaths\n",
       "1   1       0-9   15400    395142   0             1           1       \n",
       "2   2       10-19 34025    605344   0             0           0       \n",
       "3   3       20-29 41545    688922   0             0           0       \n",
       "4   4       30-39 30514    604186   4             2           6       \n",
       "5   5       40-49 32482    646070   3             4           7       \n",
       "6   6       50-59 31843    660087  21            32          53       \n",
       "7   7       60-69 17558    490990  73           122         195       \n",
       "8   8       70-79 10910    370426 229           395         624       \n",
       "9   9       80-89  5760    140654 441           523         964       \n",
       "10 10       90+    1805     28610 325           220         545       \n",
       "   comorbidity infected_fem infected_male tot_male tot_fem tot_num\n",
       "1    1          7372         8028         313571   297559  611130 \n",
       "2    0         16626        17399         348964   331889  680853 \n",
       "3    0         21296        20249         397572   381907  779479 \n",
       "4    3         15615        14899         352231   341194  693425 \n",
       "5    5         17345        15137         376117   375174  751291 \n",
       "6   37         16507        15336         402188   398825  801013 \n",
       "7  153          8562         8996         327021   338282  666262 \n",
       "8  516          5378         5532         272021   300894  572915 \n",
       "9  784          3330         2430          99560   135830  235390 \n",
       "10 433          1277          528          13237    32228   45455 "
      ]
     },
     "metadata": {},
     "output_type": "display_data"
    }
   ],
   "source": [
    "df_no_sum <- df[-c(11), ]\n",
    "df_no_sum"
   ]
  },
  {
   "cell_type": "markdown",
   "id": "under-eleven",
   "metadata": {},
   "source": [
    "### Plotting and testing"
   ]
  },
  {
   "cell_type": "code",
   "execution_count": 118,
   "id": "empty-soviet",
   "metadata": {},
   "outputs": [],
   "source": [
    "# Compute confidence interval around mean using normal approximation\n",
    "bootstrap_bernoulli <- function(data = df_no_sum, sims = 100000, agegroup) {\n",
    "    n <- data[data$interval == agegroup, ]$infected # Estimated numbers of infected of a certain agegroup in Denmark.\n",
    "    p_hat <- data[data$interval == agegroup, ]$tot_deaths / n # The estimated probability of dying with covid-19 in the specifik agegroup.\n",
    "                          \n",
    "    # Simulate number of infected of size tested, with probability of dying reapeat k times.\n",
    "    sample <- replicate(sims, rbinom(1000, n, p_hat))\n",
    "    # Computing the mean of the simulated observations.\n",
    "    sample_means <- apply(sample, 2, mean)\n",
    "    \n",
    "    return(sample_means)\n",
    "}"
   ]
  },
  {
   "cell_type": "code",
   "execution_count": 117,
   "id": "funky-community",
   "metadata": {
    "scrolled": true
   },
   "outputs": [],
   "source": [
    "samples_mean = list()\n",
    "for (i in 1:10) {\n",
    "    samples_mean[[i]] <- bootstrap_bernoulli(agegroup = i)   \n",
    "}"
   ]
  },
  {
   "cell_type": "code",
   "execution_count": 119,
   "id": "thrown-ghost",
   "metadata": {},
   "outputs": [
    {
     "data": {
      "text/html": [
       "<dl class=dl-horizontal>\n",
       "\t<dt>2.5%</dt>\n",
       "\t\t<dd>543.787</dd>\n",
       "\t<dt>97.5%</dt>\n",
       "\t\t<dd>546.203</dd>\n",
       "</dl>\n"
      ],
      "text/latex": [
       "\\begin{description*}\n",
       "\\item[2.5\\textbackslash{}\\%] 543.787\n",
       "\\item[97.5\\textbackslash{}\\%] 546.203\n",
       "\\end{description*}\n"
      ],
      "text/markdown": [
       "2.5%\n",
       ":   543.78797.5%\n",
       ":   546.203\n",
       "\n"
      ],
      "text/plain": [
       "   2.5%   97.5% \n",
       "543.787 546.203 "
      ]
     },
     "metadata": {},
     "output_type": "display_data"
    }
   ],
   "source": [
    "quantile(unlist(samples_mean[10]), c(0.025, 0.975))"
   ]
  },
  {
   "cell_type": "code",
   "execution_count": 120,
   "id": "grave-giving",
   "metadata": {},
   "outputs": [
    {
     "data": {
      "image/png": "[encoded data removed]",
      "text/plain": [
       "Plot with title \"Histogram of unlist(samples_mean[10])\""
      ]
     },
     "metadata": {},
     "output_type": "display_data"
    }
   ],
   "source": [
    "# Plot the result.\n",
    "hist(unlist(samples_mean[10]))"
   ]
  },
  {
   "cell_type": "markdown",
   "id": "published-cause",
   "metadata": {},
   "source": [
    "### Hypotesetest"
   ]
  },
  {
   "cell_type": "markdown",
   "id": "laden-signature",
   "metadata": {},
   "source": [
    "$H_0:$ Der er ingen signifikant forskel på dødeligheden i de forskellige aldersgrupper."
   ]
  },
  {
   "cell_type": "code",
   "execution_count": 6,
   "id": "aboriginal-release",
   "metadata": {},
   "outputs": [],
   "source": [
    "`p(dead|infected)` = df %>% \n",
    "  filter(age != \"Alle\") %>% \n",
    "  select(age, infected, tested, tot_deaths) %>% \n",
    "  mutate(`Mortality given Infected` = tot_deaths/infected) %>% \n",
    "  rename(Age = age) %>% \n",
    "  select(-tested,-tot_deaths)"
   ]
  },
  {
   "cell_type": "code",
   "execution_count": 14,
   "id": "certain-wisdom",
   "metadata": {},
   "outputs": [
    {
     "data": {
      "text/html": [
       "<table>\n",
       "<thead><tr><th scope=col>Age</th><th scope=col>infected</th><th scope=col>Mortality given Infected</th></tr></thead>\n",
       "<tbody>\n",
       "\t<tr><td>0-9         </td><td>15400       </td><td>6.493506e-05</td></tr>\n",
       "\t<tr><td>10-19       </td><td>34025       </td><td>0.000000e+00</td></tr>\n",
       "\t<tr><td>20-29       </td><td>41545       </td><td>0.000000e+00</td></tr>\n",
       "\t<tr><td>30-39       </td><td>30514       </td><td>1.966311e-04</td></tr>\n",
       "\t<tr><td>40-49       </td><td>32482       </td><td>2.155040e-04</td></tr>\n",
       "\t<tr><td>50-59       </td><td>31843       </td><td>1.664416e-03</td></tr>\n",
       "\t<tr><td>60-69       </td><td>17558       </td><td>1.110605e-02</td></tr>\n",
       "\t<tr><td>70-79       </td><td>10910       </td><td>5.719523e-02</td></tr>\n",
       "\t<tr><td>80-89       </td><td> 5760       </td><td>1.673611e-01</td></tr>\n",
       "\t<tr><td>90+         </td><td> 1805       </td><td>3.019391e-01</td></tr>\n",
       "</tbody>\n",
       "</table>\n"
      ],
      "text/latex": [
       "\\begin{tabular}{r|lll}\n",
       " Age & infected & Mortality given Infected\\\\\n",
       "\\hline\n",
       "\t 0-9          & 15400        & 6.493506e-05\\\\\n",
       "\t 10-19        & 34025        & 0.000000e+00\\\\\n",
       "\t 20-29        & 41545        & 0.000000e+00\\\\\n",
       "\t 30-39        & 30514        & 1.966311e-04\\\\\n",
       "\t 40-49        & 32482        & 2.155040e-04\\\\\n",
       "\t 50-59        & 31843        & 1.664416e-03\\\\\n",
       "\t 60-69        & 17558        & 1.110605e-02\\\\\n",
       "\t 70-79        & 10910        & 5.719523e-02\\\\\n",
       "\t 80-89        &  5760        & 1.673611e-01\\\\\n",
       "\t 90+          &  1805        & 3.019391e-01\\\\\n",
       "\\end{tabular}\n"
      ],
      "text/markdown": [
       "\n",
       "| Age | infected | Mortality given Infected |\n",
       "|---|---|---|\n",
       "| 0-9          | 15400        | 6.493506e-05 |\n",
       "| 10-19        | 34025        | 0.000000e+00 |\n",
       "| 20-29        | 41545        | 0.000000e+00 |\n",
       "| 30-39        | 30514        | 1.966311e-04 |\n",
       "| 40-49        | 32482        | 2.155040e-04 |\n",
       "| 50-59        | 31843        | 1.664416e-03 |\n",
       "| 60-69        | 17558        | 1.110605e-02 |\n",
       "| 70-79        | 10910        | 5.719523e-02 |\n",
       "| 80-89        |  5760        | 1.673611e-01 |\n",
       "| 90+          |  1805        | 3.019391e-01 |\n",
       "\n"
      ],
      "text/plain": [
       "   Age   infected Mortality given Infected\n",
       "1  0-9   15400    6.493506e-05            \n",
       "2  10-19 34025    0.000000e+00            \n",
       "3  20-29 41545    0.000000e+00            \n",
       "4  30-39 30514    1.966311e-04            \n",
       "5  40-49 32482    2.155040e-04            \n",
       "6  50-59 31843    1.664416e-03            \n",
       "7  60-69 17558    1.110605e-02            \n",
       "8  70-79 10910    5.719523e-02            \n",
       "9  80-89  5760    1.673611e-01            \n",
       "10 90+    1805    3.019391e-01            "
      ]
     },
     "metadata": {},
     "output_type": "display_data"
    }
   ],
   "source": [
    "`p(dead|infected)`"
   ]
  },
  {
   "cell_type": "code",
   "execution_count": 7,
   "id": "executive-princess",
   "metadata": {},
   "outputs": [],
   "source": [
    "Binomial_Bootstrap = function(p,n, B = 10000){\n",
    "  #Generate new MEAN data\n",
    "  p_B = rbinom(B,n,p)/n\n",
    "}"
   ]
  },
  {
   "cell_type": "code",
   "execution_count": 8,
   "id": "invalid-triple",
   "metadata": {},
   "outputs": [],
   "source": [
    "Quantiles_Binomial = `p(dead|infected)` %>% \n",
    "  mutate(Bootstraps = map2(`Mortality given Infected`, infected, Binomial_Bootstrap, B = 1000)) %>% \n",
    "  mutate(Quantiles = map(Bootstraps, quantile, c(0.025,0.975))) %>% \n",
    "  mutate(`2.5% quantile` = unlist(map(Quantiles, function(x){x[1]}))) %>% \n",
    "  mutate(`97.5% quantile` = unlist(map(Quantiles, function(x){x[2]}))) %>% \n",
    "  select(Age, `2.5% quantile`, `97.5% quantile`)"
   ]
  },
  {
   "cell_type": "code",
   "execution_count": 15,
   "id": "daily-rochester",
   "metadata": {},
   "outputs": [
    {
     "data": {
      "text/html": [
       "<table>\n",
       "<thead><tr><th scope=col>Age</th><th scope=col>2.5% quantile</th><th scope=col>97.5% quantile</th><th scope=col>Bootstrap</th></tr></thead>\n",
       "<tbody>\n",
       "\t<tr><td>0-9         </td><td>0.000000e+00</td><td>0.0001948052</td><td>Binomial    </td></tr>\n",
       "\t<tr><td>10-19       </td><td>0.000000e+00</td><td>0.0000000000</td><td>Binomial    </td></tr>\n",
       "\t<tr><td>20-29       </td><td>0.000000e+00</td><td>0.0000000000</td><td>Binomial    </td></tr>\n",
       "\t<tr><td>30-39       </td><td>6.554368e-05</td><td>0.0003604903</td><td>Binomial    </td></tr>\n",
       "\t<tr><td>40-49       </td><td>6.157256e-05</td><td>0.0003702050</td><td>Binomial    </td></tr>\n",
       "\t<tr><td>50-59       </td><td>1.256163e-03</td><td>0.0021354772</td><td>Binomial    </td></tr>\n",
       "\t<tr><td>60-69       </td><td>9.568288e-03</td><td>0.0127577173</td><td>Binomial    </td></tr>\n",
       "\t<tr><td>70-79       </td><td>5.316224e-02</td><td>0.0613198900</td><td>Binomial    </td></tr>\n",
       "\t<tr><td>80-89       </td><td>1.576389e-01</td><td>0.1776041667</td><td>Binomial    </td></tr>\n",
       "\t<tr><td>90+         </td><td>2.814404e-01</td><td>0.3224376731</td><td>Binomial    </td></tr>\n",
       "</tbody>\n",
       "</table>\n"
      ],
      "text/latex": [
       "\\begin{tabular}{r|llll}\n",
       " Age & 2.5\\% quantile & 97.5\\% quantile & Bootstrap\\\\\n",
       "\\hline\n",
       "\t 0-9          & 0.000000e+00 & 0.0001948052 & Binomial    \\\\\n",
       "\t 10-19        & 0.000000e+00 & 0.0000000000 & Binomial    \\\\\n",
       "\t 20-29        & 0.000000e+00 & 0.0000000000 & Binomial    \\\\\n",
       "\t 30-39        & 6.554368e-05 & 0.0003604903 & Binomial    \\\\\n",
       "\t 40-49        & 6.157256e-05 & 0.0003702050 & Binomial    \\\\\n",
       "\t 50-59        & 1.256163e-03 & 0.0021354772 & Binomial    \\\\\n",
       "\t 60-69        & 9.568288e-03 & 0.0127577173 & Binomial    \\\\\n",
       "\t 70-79        & 5.316224e-02 & 0.0613198900 & Binomial    \\\\\n",
       "\t 80-89        & 1.576389e-01 & 0.1776041667 & Binomial    \\\\\n",
       "\t 90+          & 2.814404e-01 & 0.3224376731 & Binomial    \\\\\n",
       "\\end{tabular}\n"
      ],
      "text/markdown": [
       "\n",
       "| Age | 2.5% quantile | 97.5% quantile | Bootstrap |\n",
       "|---|---|---|---|\n",
       "| 0-9          | 0.000000e+00 | 0.0001948052 | Binomial     |\n",
       "| 10-19        | 0.000000e+00 | 0.0000000000 | Binomial     |\n",
       "| 20-29        | 0.000000e+00 | 0.0000000000 | Binomial     |\n",
       "| 30-39        | 6.554368e-05 | 0.0003604903 | Binomial     |\n",
       "| 40-49        | 6.157256e-05 | 0.0003702050 | Binomial     |\n",
       "| 50-59        | 1.256163e-03 | 0.0021354772 | Binomial     |\n",
       "| 60-69        | 9.568288e-03 | 0.0127577173 | Binomial     |\n",
       "| 70-79        | 5.316224e-02 | 0.0613198900 | Binomial     |\n",
       "| 80-89        | 1.576389e-01 | 0.1776041667 | Binomial     |\n",
       "| 90+          | 2.814404e-01 | 0.3224376731 | Binomial     |\n",
       "\n"
      ],
      "text/plain": [
       "   Age   2.5% quantile 97.5% quantile Bootstrap\n",
       "1  0-9   0.000000e+00  0.0001948052   Binomial \n",
       "2  10-19 0.000000e+00  0.0000000000   Binomial \n",
       "3  20-29 0.000000e+00  0.0000000000   Binomial \n",
       "4  30-39 6.554368e-05  0.0003604903   Binomial \n",
       "5  40-49 6.157256e-05  0.0003702050   Binomial \n",
       "6  50-59 1.256163e-03  0.0021354772   Binomial \n",
       "7  60-69 9.568288e-03  0.0127577173   Binomial \n",
       "8  70-79 5.316224e-02  0.0613198900   Binomial \n",
       "9  80-89 1.576389e-01  0.1776041667   Binomial \n",
       "10 90+   2.814404e-01  0.3224376731   Binomial "
      ]
     },
     "metadata": {},
     "output_type": "display_data"
    }
   ],
   "source": [
    "Quantiles_Binomial"
   ]
  },
  {
   "cell_type": "code",
   "execution_count": 9,
   "id": "passive-identifier",
   "metadata": {},
   "outputs": [],
   "source": [
    "Bernoulli_Bootstrap = function(p,n, B = 10000){\n",
    "  #Generate new MEAN data\n",
    "  p_B = replicate(B,mean(rbernoulli(n,p)))\n",
    "}"
   ]
  },
  {
   "cell_type": "code",
   "execution_count": 19,
   "id": "commercial-there",
   "metadata": {},
   "outputs": [],
   "source": [
    "Quantiles_Bernoulli = `p(dead|infected)` %>% \n",
    "  mutate(Bootstraps = map2(`Mortality given Infected`, infected, Bernoulli_Bootstrap, B = 1000)) %>% \n",
    "  mutate(Quantiles = map(Bootstraps, quantile, c(0.025,0.975))) %>% \n",
    "  mutate(`2.5% quantile` = unlist(map(Quantiles, function(x){x[1]}))) %>% \n",
    "  mutate(`97.5% quantile` = unlist(map(Quantiles, function(x){x[2]}))) %>% \n",
    "  select(Age, `2.5% quantile`, `97.5% quantile`)"
   ]
  },
  {
   "cell_type": "code",
   "execution_count": 20,
   "id": "supreme-marks",
   "metadata": {},
   "outputs": [
    {
     "data": {
      "text/html": [
       "<table>\n",
       "<thead><tr><th scope=col>Age</th><th scope=col>2.5% quantile</th><th scope=col>97.5% quantile</th></tr></thead>\n",
       "<tbody>\n",
       "\t<tr><td>0-9         </td><td>0.000000e+00</td><td>0.0001948052</td></tr>\n",
       "\t<tr><td>10-19       </td><td>0.000000e+00</td><td>0.0000000000</td></tr>\n",
       "\t<tr><td>20-29       </td><td>0.000000e+00</td><td>0.0000000000</td></tr>\n",
       "\t<tr><td>30-39       </td><td>6.554368e-05</td><td>0.0003604903</td></tr>\n",
       "\t<tr><td>40-49       </td><td>6.157256e-05</td><td>0.0004002217</td></tr>\n",
       "\t<tr><td>50-59       </td><td>1.224759e-03</td><td>0.0021354772</td></tr>\n",
       "\t<tr><td>60-69       </td><td>9.568288e-03</td><td>0.0127577173</td></tr>\n",
       "\t<tr><td>70-79       </td><td>5.288497e-02</td><td>0.0615032081</td></tr>\n",
       "\t<tr><td>80-89       </td><td>1.578125e-01</td><td>0.1770833333</td></tr>\n",
       "\t<tr><td>90+         </td><td>2.803324e-01</td><td>0.3235595568</td></tr>\n",
       "</tbody>\n",
       "</table>\n"
      ],
      "text/latex": [
       "\\begin{tabular}{r|lll}\n",
       " Age & 2.5\\% quantile & 97.5\\% quantile\\\\\n",
       "\\hline\n",
       "\t 0-9          & 0.000000e+00 & 0.0001948052\\\\\n",
       "\t 10-19        & 0.000000e+00 & 0.0000000000\\\\\n",
       "\t 20-29        & 0.000000e+00 & 0.0000000000\\\\\n",
       "\t 30-39        & 6.554368e-05 & 0.0003604903\\\\\n",
       "\t 40-49        & 6.157256e-05 & 0.0004002217\\\\\n",
       "\t 50-59        & 1.224759e-03 & 0.0021354772\\\\\n",
       "\t 60-69        & 9.568288e-03 & 0.0127577173\\\\\n",
       "\t 70-79        & 5.288497e-02 & 0.0615032081\\\\\n",
       "\t 80-89        & 1.578125e-01 & 0.1770833333\\\\\n",
       "\t 90+          & 2.803324e-01 & 0.3235595568\\\\\n",
       "\\end{tabular}\n"
      ],
      "text/markdown": [
       "\n",
       "| Age | 2.5% quantile | 97.5% quantile |\n",
       "|---|---|---|\n",
       "| 0-9          | 0.000000e+00 | 0.0001948052 |\n",
       "| 10-19        | 0.000000e+00 | 0.0000000000 |\n",
       "| 20-29        | 0.000000e+00 | 0.0000000000 |\n",
       "| 30-39        | 6.554368e-05 | 0.0003604903 |\n",
       "| 40-49        | 6.157256e-05 | 0.0004002217 |\n",
       "| 50-59        | 1.224759e-03 | 0.0021354772 |\n",
       "| 60-69        | 9.568288e-03 | 0.0127577173 |\n",
       "| 70-79        | 5.288497e-02 | 0.0615032081 |\n",
       "| 80-89        | 1.578125e-01 | 0.1770833333 |\n",
       "| 90+          | 2.803324e-01 | 0.3235595568 |\n",
       "\n"
      ],
      "text/plain": [
       "   Age   2.5% quantile 97.5% quantile\n",
       "1  0-9   0.000000e+00  0.0001948052  \n",
       "2  10-19 0.000000e+00  0.0000000000  \n",
       "3  20-29 0.000000e+00  0.0000000000  \n",
       "4  30-39 6.554368e-05  0.0003604903  \n",
       "5  40-49 6.157256e-05  0.0004002217  \n",
       "6  50-59 1.224759e-03  0.0021354772  \n",
       "7  60-69 9.568288e-03  0.0127577173  \n",
       "8  70-79 5.288497e-02  0.0615032081  \n",
       "9  80-89 1.578125e-01  0.1770833333  \n",
       "10 90+   2.803324e-01  0.3235595568  "
      ]
     },
     "metadata": {},
     "output_type": "display_data"
    }
   ],
   "source": [
    "Quantiles_Bernoulli"
   ]
  },
  {
   "cell_type": "code",
   "execution_count": 21,
   "id": "bearing-harassment",
   "metadata": {},
   "outputs": [],
   "source": [
    "Quantiles_Bernoulli %<>% mutate(Bootstrap = \"Bernoulli\")\n",
    "Quantiles_Binomial %<>% mutate(Bootstrap = \"Binomial\")"
   ]
  },
  {
   "cell_type": "code",
   "execution_count": 22,
   "id": "piano-adolescent",
   "metadata": {},
   "outputs": [],
   "source": [
    "Quantiles = rbind(Quantiles_Bernoulli,Quantiles_Binomial)"
   ]
  },
  {
   "cell_type": "code",
   "execution_count": 23,
   "id": "available-target",
   "metadata": {},
   "outputs": [
    {
     "data": {
      "text/html": [
       "<table>\n",
       "<thead><tr><th scope=col>Age</th><th scope=col>2.5% quantile</th><th scope=col>97.5% quantile</th><th scope=col>Bootstrap</th></tr></thead>\n",
       "<tbody>\n",
       "\t<tr><td>0-9         </td><td>0.000000e+00</td><td>0.0001948052</td><td>Bernoulli   </td></tr>\n",
       "\t<tr><td>10-19       </td><td>0.000000e+00</td><td>0.0000000000</td><td>Bernoulli   </td></tr>\n",
       "\t<tr><td>20-29       </td><td>0.000000e+00</td><td>0.0000000000</td><td>Bernoulli   </td></tr>\n",
       "\t<tr><td>30-39       </td><td>6.554368e-05</td><td>0.0003604903</td><td>Bernoulli   </td></tr>\n",
       "\t<tr><td>40-49       </td><td>6.157256e-05</td><td>0.0004002217</td><td>Bernoulli   </td></tr>\n",
       "\t<tr><td>50-59       </td><td>1.224759e-03</td><td>0.0021354772</td><td>Bernoulli   </td></tr>\n",
       "\t<tr><td>60-69       </td><td>9.568288e-03</td><td>0.0127577173</td><td>Bernoulli   </td></tr>\n",
       "\t<tr><td>70-79       </td><td>5.288497e-02</td><td>0.0615032081</td><td>Bernoulli   </td></tr>\n",
       "\t<tr><td>80-89       </td><td>1.578125e-01</td><td>0.1770833333</td><td>Bernoulli   </td></tr>\n",
       "\t<tr><td>90+         </td><td>2.803324e-01</td><td>0.3235595568</td><td>Bernoulli   </td></tr>\n",
       "\t<tr><td>0-9         </td><td>0.000000e+00</td><td>0.0001948052</td><td>Binomial    </td></tr>\n",
       "\t<tr><td>10-19       </td><td>0.000000e+00</td><td>0.0000000000</td><td>Binomial    </td></tr>\n",
       "\t<tr><td>20-29       </td><td>0.000000e+00</td><td>0.0000000000</td><td>Binomial    </td></tr>\n",
       "\t<tr><td>30-39       </td><td>6.554368e-05</td><td>0.0003604903</td><td>Binomial    </td></tr>\n",
       "\t<tr><td>40-49       </td><td>6.157256e-05</td><td>0.0003702050</td><td>Binomial    </td></tr>\n",
       "\t<tr><td>50-59       </td><td>1.256163e-03</td><td>0.0021354772</td><td>Binomial    </td></tr>\n",
       "\t<tr><td>60-69       </td><td>9.568288e-03</td><td>0.0127577173</td><td>Binomial    </td></tr>\n",
       "\t<tr><td>70-79       </td><td>5.316224e-02</td><td>0.0613198900</td><td>Binomial    </td></tr>\n",
       "\t<tr><td>80-89       </td><td>1.576389e-01</td><td>0.1776041667</td><td>Binomial    </td></tr>\n",
       "\t<tr><td>90+         </td><td>2.814404e-01</td><td>0.3224376731</td><td>Binomial    </td></tr>\n",
       "</tbody>\n",
       "</table>\n"
      ],
      "text/latex": [
       "\\begin{tabular}{r|llll}\n",
       " Age & 2.5\\% quantile & 97.5\\% quantile & Bootstrap\\\\\n",
       "\\hline\n",
       "\t 0-9          & 0.000000e+00 & 0.0001948052 & Bernoulli   \\\\\n",
       "\t 10-19        & 0.000000e+00 & 0.0000000000 & Bernoulli   \\\\\n",
       "\t 20-29        & 0.000000e+00 & 0.0000000000 & Bernoulli   \\\\\n",
       "\t 30-39        & 6.554368e-05 & 0.0003604903 & Bernoulli   \\\\\n",
       "\t 40-49        & 6.157256e-05 & 0.0004002217 & Bernoulli   \\\\\n",
       "\t 50-59        & 1.224759e-03 & 0.0021354772 & Bernoulli   \\\\\n",
       "\t 60-69        & 9.568288e-03 & 0.0127577173 & Bernoulli   \\\\\n",
       "\t 70-79        & 5.288497e-02 & 0.0615032081 & Bernoulli   \\\\\n",
       "\t 80-89        & 1.578125e-01 & 0.1770833333 & Bernoulli   \\\\\n",
       "\t 90+          & 2.803324e-01 & 0.3235595568 & Bernoulli   \\\\\n",
       "\t 0-9          & 0.000000e+00 & 0.0001948052 & Binomial    \\\\\n",
       "\t 10-19        & 0.000000e+00 & 0.0000000000 & Binomial    \\\\\n",
       "\t 20-29        & 0.000000e+00 & 0.0000000000 & Binomial    \\\\\n",
       "\t 30-39        & 6.554368e-05 & 0.0003604903 & Binomial    \\\\\n",
       "\t 40-49        & 6.157256e-05 & 0.0003702050 & Binomial    \\\\\n",
       "\t 50-59        & 1.256163e-03 & 0.0021354772 & Binomial    \\\\\n",
       "\t 60-69        & 9.568288e-03 & 0.0127577173 & Binomial    \\\\\n",
       "\t 70-79        & 5.316224e-02 & 0.0613198900 & Binomial    \\\\\n",
       "\t 80-89        & 1.576389e-01 & 0.1776041667 & Binomial    \\\\\n",
       "\t 90+          & 2.814404e-01 & 0.3224376731 & Binomial    \\\\\n",
       "\\end{tabular}\n"
      ],
      "text/markdown": [
       "\n",
       "| Age | 2.5% quantile | 97.5% quantile | Bootstrap |\n",
       "|---|---|---|---|\n",
       "| 0-9          | 0.000000e+00 | 0.0001948052 | Bernoulli    |\n",
       "| 10-19        | 0.000000e+00 | 0.0000000000 | Bernoulli    |\n",
       "| 20-29        | 0.000000e+00 | 0.0000000000 | Bernoulli    |\n",
       "| 30-39        | 6.554368e-05 | 0.0003604903 | Bernoulli    |\n",
       "| 40-49        | 6.157256e-05 | 0.0004002217 | Bernoulli    |\n",
       "| 50-59        | 1.224759e-03 | 0.0021354772 | Bernoulli    |\n",
       "| 60-69        | 9.568288e-03 | 0.0127577173 | Bernoulli    |\n",
       "| 70-79        | 5.288497e-02 | 0.0615032081 | Bernoulli    |\n",
       "| 80-89        | 1.578125e-01 | 0.1770833333 | Bernoulli    |\n",
       "| 90+          | 2.803324e-01 | 0.3235595568 | Bernoulli    |\n",
       "| 0-9          | 0.000000e+00 | 0.0001948052 | Binomial     |\n",
       "| 10-19        | 0.000000e+00 | 0.0000000000 | Binomial     |\n",
       "| 20-29        | 0.000000e+00 | 0.0000000000 | Binomial     |\n",
       "| 30-39        | 6.554368e-05 | 0.0003604903 | Binomial     |\n",
       "| 40-49        | 6.157256e-05 | 0.0003702050 | Binomial     |\n",
       "| 50-59        | 1.256163e-03 | 0.0021354772 | Binomial     |\n",
       "| 60-69        | 9.568288e-03 | 0.0127577173 | Binomial     |\n",
       "| 70-79        | 5.316224e-02 | 0.0613198900 | Binomial     |\n",
       "| 80-89        | 1.576389e-01 | 0.1776041667 | Binomial     |\n",
       "| 90+          | 2.814404e-01 | 0.3224376731 | Binomial     |\n",
       "\n"
      ],
      "text/plain": [
       "   Age   2.5% quantile 97.5% quantile Bootstrap\n",
       "1  0-9   0.000000e+00  0.0001948052   Bernoulli\n",
       "2  10-19 0.000000e+00  0.0000000000   Bernoulli\n",
       "3  20-29 0.000000e+00  0.0000000000   Bernoulli\n",
       "4  30-39 6.554368e-05  0.0003604903   Bernoulli\n",
       "5  40-49 6.157256e-05  0.0004002217   Bernoulli\n",
       "6  50-59 1.224759e-03  0.0021354772   Bernoulli\n",
       "7  60-69 9.568288e-03  0.0127577173   Bernoulli\n",
       "8  70-79 5.288497e-02  0.0615032081   Bernoulli\n",
       "9  80-89 1.578125e-01  0.1770833333   Bernoulli\n",
       "10 90+   2.803324e-01  0.3235595568   Bernoulli\n",
       "11 0-9   0.000000e+00  0.0001948052   Binomial \n",
       "12 10-19 0.000000e+00  0.0000000000   Binomial \n",
       "13 20-29 0.000000e+00  0.0000000000   Binomial \n",
       "14 30-39 6.554368e-05  0.0003604903   Binomial \n",
       "15 40-49 6.157256e-05  0.0003702050   Binomial \n",
       "16 50-59 1.256163e-03  0.0021354772   Binomial \n",
       "17 60-69 9.568288e-03  0.0127577173   Binomial \n",
       "18 70-79 5.316224e-02  0.0613198900   Binomial \n",
       "19 80-89 1.576389e-01  0.1776041667   Binomial \n",
       "20 90+   2.814404e-01  0.3224376731   Binomial "
      ]
     },
     "metadata": {},
     "output_type": "display_data"
    }
   ],
   "source": [
    "Quantiles"
   ]
  },
  {
   "cell_type": "code",
   "execution_count": 24,
   "id": "separate-argument",
   "metadata": {},
   "outputs": [
    {
     "name": "stderr",
     "output_type": "stream",
     "text": [
      "Warning message:\n",
      "\"attributes are not identical across measure variables;\n",
      "they will be dropped\""
     ]
    },
    {
     "data": {
      "image/png": "[encoded data removed]",
      "text/plain": [
       "plot without title"
      ]
     },
     "metadata": {},
     "output_type": "display_data"
    }
   ],
   "source": [
    "Quantiles %>% gather(\"Quantile\",\"Value\", -Age,-Bootstrap) %>% \n",
    "  ggplot(aes(x = Age, y = Value, fill = Bootstrap)) + \n",
    "  geom_bar(stat = \"identity\",position=position_dodge()) + \n",
    "  facet_grid(vars(Quantile)) +\n",
    "  theme(axis.text.x = element_text(angle = 45, hjust=1)) + \n",
    "  ylab(\"Mortality given Infected\")"
   ]
  },
  {
   "cell_type": "code",
   "execution_count": 1,
   "id": "advance-swift",
   "metadata": {},
   "outputs": [
    {
     "data": {
      "text/html": [
       "25"
      ],
      "text/latex": [
       "25"
      ],
      "text/markdown": [
       "25"
      ],
      "text/plain": [
       "[1] 25"
      ]
     },
     "metadata": {},
     "output_type": "display_data"
    }
   ],
   "source": [
    "5*5"
   ]
  }
 ],
 "metadata": {
  "kernelspec": {
   "display_name": "R",
   "language": "R",
   "name": "ir"
  },
  "language_info": {
   "codemirror_mode": "r",
   "file_extension": ".r",
   "mimetype": "text/x-r-source",
   "name": "R",
   "pygments_lexer": "r",
   "version": "3.6.1"
  }
 },
 "nbformat": 4,
 "nbformat_minor": 5
}
