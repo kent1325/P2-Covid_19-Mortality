{
 "cells": [
  {
   "cell_type": "markdown",
   "id": "incorrect-operation",
   "metadata": {},
   "source": [
    "# Basic Package Mangement"
   ]
  },
  {
   "cell_type": "code",
   "execution_count": 1,
   "id": "hungarian-easter",
   "metadata": {
    "scrolled": true
   },
   "outputs": [
    {
     "name": "stderr",
     "output_type": "stream",
     "text": [
      "Loading required package: pacman\n",
      "Warning message:\n",
      "\"package 'pacman' was built under R version 3.6.3\""
     ]
    }
   ],
   "source": [
    "#install.packages(\"pacman\") # Execute this once.\n",
    "require(pacman)"
   ]
  },
  {
   "cell_type": "markdown",
   "id": "chemical-wireless",
   "metadata": {},
   "source": [
    "### Clearing and unloading packages"
   ]
  },
  {
   "cell_type": "code",
   "execution_count": null,
   "id": "brief-render",
   "metadata": {
    "scrolled": false
   },
   "outputs": [],
   "source": [
    "# Run this block, when done coding or before starting coding.\n",
    "p_unload(all)\n",
    "detach(\"package:datasets\", unload=TRUE)\n",
    "rm(list=ls()) # removes all previous stored variables"
   ]
  },
  {
   "cell_type": "markdown",
   "id": "fallen-revelation",
   "metadata": {},
   "source": [
    "### Loading packages"
   ]
  },
  {
   "cell_type": "code",
   "execution_count": 2,
   "id": "convinced-texas",
   "metadata": {},
   "outputs": [],
   "source": [
    "pacman::p_load(pacman, tidyverse, mosaic, magrittr, ResourceSelection, lmtest, sjmisc, rlang, magrittr)"
   ]
  },
  {
   "cell_type": "markdown",
   "id": "entire-taylor",
   "metadata": {},
   "source": [
    "# Initializing the dataframe"
   ]
  },
  {
   "cell_type": "code",
   "execution_count": 4,
   "id": "swiss-allen",
   "metadata": {},
   "outputs": [
    {
     "data": {
      "text/html": [
       "<table>\n",
       "<thead><tr><th scope=col>interval</th><th scope=col>age</th><th scope=col>infected</th><th scope=col>tested</th><th scope=col>female_deaths</th><th scope=col>male_deaths</th><th scope=col>tot_deaths</th><th scope=col>comorbidity</th><th scope=col>infected_fem</th><th scope=col>infected_male</th><th scope=col>tot_male</th><th scope=col>tot_fem</th><th scope=col>tot_num</th></tr></thead>\n",
       "<tbody>\n",
       "\t<tr><td> 1     </td><td>0-9    </td><td> 15400 </td><td> 395142</td><td>   0   </td><td>   1   </td><td>   1   </td><td>   1   </td><td>  7372 </td><td>  8028 </td><td> 313571</td><td> 297559</td><td> 611130</td></tr>\n",
       "\t<tr><td> 2     </td><td>10-19  </td><td> 34025 </td><td> 605344</td><td>   0   </td><td>   0   </td><td>   0   </td><td>   0   </td><td> 16626 </td><td> 17399 </td><td> 348964</td><td> 331889</td><td> 680853</td></tr>\n",
       "\t<tr><td> 3     </td><td>20-29  </td><td> 41545 </td><td> 688922</td><td>   0   </td><td>   0   </td><td>   0   </td><td>   0   </td><td> 21296 </td><td> 20249 </td><td> 397572</td><td> 381907</td><td> 779479</td></tr>\n",
       "\t<tr><td> 4     </td><td>30-39  </td><td> 30514 </td><td> 604186</td><td>   4   </td><td>   2   </td><td>   6   </td><td>   3   </td><td> 15615 </td><td> 14899 </td><td> 352231</td><td> 341194</td><td> 693425</td></tr>\n",
       "\t<tr><td> 5     </td><td>40-49  </td><td> 32482 </td><td> 646070</td><td>   3   </td><td>   4   </td><td>   7   </td><td>   5   </td><td> 17345 </td><td> 15137 </td><td> 376117</td><td> 375174</td><td> 751291</td></tr>\n",
       "\t<tr><td> 6     </td><td>50-59  </td><td> 31843 </td><td> 660087</td><td>  21   </td><td>  32   </td><td>  53   </td><td>  37   </td><td> 16507 </td><td> 15336 </td><td> 402188</td><td> 398825</td><td> 801013</td></tr>\n",
       "\t<tr><td> 7     </td><td>60-69  </td><td> 17558 </td><td> 490990</td><td>  73   </td><td> 122   </td><td> 195   </td><td> 153   </td><td>  8562 </td><td>  8996 </td><td> 327021</td><td> 338282</td><td> 666262</td></tr>\n",
       "\t<tr><td> 8     </td><td>70-79  </td><td> 10910 </td><td> 370426</td><td> 229   </td><td> 395   </td><td> 624   </td><td> 516   </td><td>  5378 </td><td>  5532 </td><td> 272021</td><td> 300894</td><td> 572915</td></tr>\n",
       "\t<tr><td> 9     </td><td>80-89  </td><td>  5760 </td><td> 140654</td><td> 441   </td><td> 523   </td><td> 964   </td><td> 784   </td><td>  3330 </td><td>  2430 </td><td>  99560</td><td> 135830</td><td> 235390</td></tr>\n",
       "\t<tr><td>10     </td><td>90+    </td><td>  1805 </td><td>  28610</td><td> 325   </td><td> 220   </td><td> 545   </td><td> 433   </td><td>  1277 </td><td>   528 </td><td>  13237</td><td>  32228</td><td>  45455</td></tr>\n",
       "\t<tr><td>11     </td><td>Alle   </td><td>221842 </td><td>4630431</td><td>1096   </td><td>1299   </td><td>2395   </td><td>1932   </td><td>113308 </td><td>108534 </td><td>2902482</td><td>2933782</td><td>5837213</td></tr>\n",
       "</tbody>\n",
       "</table>\n"
      ],
      "text/latex": [
       "\\begin{tabular}{r|lllllllllllll}\n",
       " interval & age & infected & tested & female\\_deaths & male\\_deaths & tot\\_deaths & comorbidity & infected\\_fem & infected\\_male & tot\\_male & tot\\_fem & tot\\_num\\\\\n",
       "\\hline\n",
       "\t  1      & 0-9     &  15400  &  395142 &    0    &    1    &    1    &    1    &   7372  &   8028  &  313571 &  297559 &  611130\\\\\n",
       "\t  2      & 10-19   &  34025  &  605344 &    0    &    0    &    0    &    0    &  16626  &  17399  &  348964 &  331889 &  680853\\\\\n",
       "\t  3      & 20-29   &  41545  &  688922 &    0    &    0    &    0    &    0    &  21296  &  20249  &  397572 &  381907 &  779479\\\\\n",
       "\t  4      & 30-39   &  30514  &  604186 &    4    &    2    &    6    &    3    &  15615  &  14899  &  352231 &  341194 &  693425\\\\\n",
       "\t  5      & 40-49   &  32482  &  646070 &    3    &    4    &    7    &    5    &  17345  &  15137  &  376117 &  375174 &  751291\\\\\n",
       "\t  6      & 50-59   &  31843  &  660087 &   21    &   32    &   53    &   37    &  16507  &  15336  &  402188 &  398825 &  801013\\\\\n",
       "\t  7      & 60-69   &  17558  &  490990 &   73    &  122    &  195    &  153    &   8562  &   8996  &  327021 &  338282 &  666262\\\\\n",
       "\t  8      & 70-79   &  10910  &  370426 &  229    &  395    &  624    &  516    &   5378  &   5532  &  272021 &  300894 &  572915\\\\\n",
       "\t  9      & 80-89   &   5760  &  140654 &  441    &  523    &  964    &  784    &   3330  &   2430  &   99560 &  135830 &  235390\\\\\n",
       "\t 10      & 90+     &   1805  &   28610 &  325    &  220    &  545    &  433    &   1277  &    528  &   13237 &   32228 &   45455\\\\\n",
       "\t 11      & Alle    & 221842  & 4630431 & 1096    & 1299    & 2395    & 1932    & 113308  & 108534  & 2902482 & 2933782 & 5837213\\\\\n",
       "\\end{tabular}\n"
      ],
      "text/markdown": [
       "\n",
       "| interval | age | infected | tested | female_deaths | male_deaths | tot_deaths | comorbidity | infected_fem | infected_male | tot_male | tot_fem | tot_num |\n",
       "|---|---|---|---|---|---|---|---|---|---|---|---|---|\n",
       "|  1      | 0-9     |  15400  |  395142 |    0    |    1    |    1    |    1    |   7372  |   8028  |  313571 |  297559 |  611130 |\n",
       "|  2      | 10-19   |  34025  |  605344 |    0    |    0    |    0    |    0    |  16626  |  17399  |  348964 |  331889 |  680853 |\n",
       "|  3      | 20-29   |  41545  |  688922 |    0    |    0    |    0    |    0    |  21296  |  20249  |  397572 |  381907 |  779479 |\n",
       "|  4      | 30-39   |  30514  |  604186 |    4    |    2    |    6    |    3    |  15615  |  14899  |  352231 |  341194 |  693425 |\n",
       "|  5      | 40-49   |  32482  |  646070 |    3    |    4    |    7    |    5    |  17345  |  15137  |  376117 |  375174 |  751291 |\n",
       "|  6      | 50-59   |  31843  |  660087 |   21    |   32    |   53    |   37    |  16507  |  15336  |  402188 |  398825 |  801013 |\n",
       "|  7      | 60-69   |  17558  |  490990 |   73    |  122    |  195    |  153    |   8562  |   8996  |  327021 |  338282 |  666262 |\n",
       "|  8      | 70-79   |  10910  |  370426 |  229    |  395    |  624    |  516    |   5378  |   5532  |  272021 |  300894 |  572915 |\n",
       "|  9      | 80-89   |   5760  |  140654 |  441    |  523    |  964    |  784    |   3330  |   2430  |   99560 |  135830 |  235390 |\n",
       "| 10      | 90+     |   1805  |   28610 |  325    |  220    |  545    |  433    |   1277  |    528  |   13237 |   32228 |   45455 |\n",
       "| 11      | Alle    | 221842  | 4630431 | 1096    | 1299    | 2395    | 1932    | 113308  | 108534  | 2902482 | 2933782 | 5837213 |\n",
       "\n"
      ],
      "text/plain": [
       "   interval age   infected tested  female_deaths male_deaths tot_deaths\n",
       "1   1       0-9    15400    395142    0             1           1      \n",
       "2   2       10-19  34025    605344    0             0           0      \n",
       "3   3       20-29  41545    688922    0             0           0      \n",
       "4   4       30-39  30514    604186    4             2           6      \n",
       "5   5       40-49  32482    646070    3             4           7      \n",
       "6   6       50-59  31843    660087   21            32          53      \n",
       "7   7       60-69  17558    490990   73           122         195      \n",
       "8   8       70-79  10910    370426  229           395         624      \n",
       "9   9       80-89   5760    140654  441           523         964      \n",
       "10 10       90+     1805     28610  325           220         545      \n",
       "11 11       Alle  221842   4630431 1096          1299        2395      \n",
       "   comorbidity infected_fem infected_male tot_male tot_fem tot_num\n",
       "1     1          7372         8028         313571   297559  611130\n",
       "2     0         16626        17399         348964   331889  680853\n",
       "3     0         21296        20249         397572   381907  779479\n",
       "4     3         15615        14899         352231   341194  693425\n",
       "5     5         17345        15137         376117   375174  751291\n",
       "6    37         16507        15336         402188   398825  801013\n",
       "7   153          8562         8996         327021   338282  666262\n",
       "8   516          5378         5532         272021   300894  572915\n",
       "9   784          3330         2430          99560   135830  235390\n",
       "10  433          1277          528          13237    32228   45455\n",
       "11 1932        113308       108534        2902482  2933782 5837213"
      ]
     },
     "metadata": {},
     "output_type": "display_data"
    }
   ],
   "source": [
    "library(\"readxl\")\n",
    "df <- read_excel(\"data/DeathsDK160321.xlsx\")\n",
    "df"
   ]
  },
  {
   "cell_type": "markdown",
   "id": "under-eleven",
   "metadata": {},
   "source": [
    "# Validitet af datasæt og Binomial vs Bernoulli"
   ]
  },
  {
   "cell_type": "code",
   "execution_count": 5,
   "id": "aboriginal-release",
   "metadata": {},
   "outputs": [],
   "source": [
    "mortality = df %>% \n",
    "  filter(age != \"Alle\") %>% \n",
    "  select(age, infected, tested, tot_deaths) %>% \n",
    "  mutate(`Mortality given Infected` = tot_deaths/infected) %>% \n",
    "  rename(Age = age) %>% \n",
    "  select(-tested,-tot_deaths)"
   ]
  },
  {
   "cell_type": "code",
   "execution_count": 6,
   "id": "certain-wisdom",
   "metadata": {},
   "outputs": [
    {
     "data": {
      "text/html": [
       "<table>\n",
       "<thead><tr><th scope=col>Age</th><th scope=col>infected</th><th scope=col>Mortality given Infected</th></tr></thead>\n",
       "<tbody>\n",
       "\t<tr><td>0-9         </td><td>15400       </td><td>6.493506e-05</td></tr>\n",
       "\t<tr><td>10-19       </td><td>34025       </td><td>0.000000e+00</td></tr>\n",
       "\t<tr><td>20-29       </td><td>41545       </td><td>0.000000e+00</td></tr>\n",
       "\t<tr><td>30-39       </td><td>30514       </td><td>1.966311e-04</td></tr>\n",
       "\t<tr><td>40-49       </td><td>32482       </td><td>2.155040e-04</td></tr>\n",
       "\t<tr><td>50-59       </td><td>31843       </td><td>1.664416e-03</td></tr>\n",
       "\t<tr><td>60-69       </td><td>17558       </td><td>1.110605e-02</td></tr>\n",
       "\t<tr><td>70-79       </td><td>10910       </td><td>5.719523e-02</td></tr>\n",
       "\t<tr><td>80-89       </td><td> 5760       </td><td>1.673611e-01</td></tr>\n",
       "\t<tr><td>90+         </td><td> 1805       </td><td>3.019391e-01</td></tr>\n",
       "</tbody>\n",
       "</table>\n"
      ],
      "text/latex": [
       "\\begin{tabular}{r|lll}\n",
       " Age & infected & Mortality given Infected\\\\\n",
       "\\hline\n",
       "\t 0-9          & 15400        & 6.493506e-05\\\\\n",
       "\t 10-19        & 34025        & 0.000000e+00\\\\\n",
       "\t 20-29        & 41545        & 0.000000e+00\\\\\n",
       "\t 30-39        & 30514        & 1.966311e-04\\\\\n",
       "\t 40-49        & 32482        & 2.155040e-04\\\\\n",
       "\t 50-59        & 31843        & 1.664416e-03\\\\\n",
       "\t 60-69        & 17558        & 1.110605e-02\\\\\n",
       "\t 70-79        & 10910        & 5.719523e-02\\\\\n",
       "\t 80-89        &  5760        & 1.673611e-01\\\\\n",
       "\t 90+          &  1805        & 3.019391e-01\\\\\n",
       "\\end{tabular}\n"
      ],
      "text/markdown": [
       "\n",
       "| Age | infected | Mortality given Infected |\n",
       "|---|---|---|\n",
       "| 0-9          | 15400        | 6.493506e-05 |\n",
       "| 10-19        | 34025        | 0.000000e+00 |\n",
       "| 20-29        | 41545        | 0.000000e+00 |\n",
       "| 30-39        | 30514        | 1.966311e-04 |\n",
       "| 40-49        | 32482        | 2.155040e-04 |\n",
       "| 50-59        | 31843        | 1.664416e-03 |\n",
       "| 60-69        | 17558        | 1.110605e-02 |\n",
       "| 70-79        | 10910        | 5.719523e-02 |\n",
       "| 80-89        |  5760        | 1.673611e-01 |\n",
       "| 90+          |  1805        | 3.019391e-01 |\n",
       "\n"
      ],
      "text/plain": [
       "   Age   infected Mortality given Infected\n",
       "1  0-9   15400    6.493506e-05            \n",
       "2  10-19 34025    0.000000e+00            \n",
       "3  20-29 41545    0.000000e+00            \n",
       "4  30-39 30514    1.966311e-04            \n",
       "5  40-49 32482    2.155040e-04            \n",
       "6  50-59 31843    1.664416e-03            \n",
       "7  60-69 17558    1.110605e-02            \n",
       "8  70-79 10910    5.719523e-02            \n",
       "9  80-89  5760    1.673611e-01            \n",
       "10 90+    1805    3.019391e-01            "
      ]
     },
     "metadata": {},
     "output_type": "display_data"
    }
   ],
   "source": [
    "mortality"
   ]
  },
  {
   "cell_type": "code",
   "execution_count": 7,
   "id": "executive-princess",
   "metadata": {},
   "outputs": [],
   "source": [
    "Binomial_Bootstrap = function(p,n, B = 10000){\n",
    "  #Generate new MEAN data\n",
    "  p_B = rbinom(B,n,p)/n\n",
    "}"
   ]
  },
  {
   "cell_type": "code",
   "execution_count": 8,
   "id": "invalid-triple",
   "metadata": {},
   "outputs": [],
   "source": [
    "Quantiles_Binomial = mortality %>% \n",
    "  mutate(Bootstraps = map2(`Mortality given Infected`, infected, Binomial_Bootstrap, B = 10000)) %>% \n",
    "  mutate(Quantiles = map(Bootstraps, quantile, c(0.025,0.975))) %>% \n",
    "  mutate(`2.5% quantile` = unlist(map(Quantiles, function(x){x[1]}))) %>% \n",
    "  mutate(`97.5% quantile` = unlist(map(Quantiles, function(x){x[2]}))) %>% \n",
    "  select(Age, `2.5% quantile`, `97.5% quantile`)"
   ]
  },
  {
   "cell_type": "code",
   "execution_count": 9,
   "id": "daily-rochester",
   "metadata": {},
   "outputs": [
    {
     "data": {
      "text/html": [
       "<table>\n",
       "<thead><tr><th scope=col>Age</th><th scope=col>2.5% quantile</th><th scope=col>97.5% quantile</th></tr></thead>\n",
       "<tbody>\n",
       "\t<tr><td>0-9         </td><td>0.000000e+00</td><td>0.0001948052</td></tr>\n",
       "\t<tr><td>10-19       </td><td>0.000000e+00</td><td>0.0000000000</td></tr>\n",
       "\t<tr><td>20-29       </td><td>0.000000e+00</td><td>0.0000000000</td></tr>\n",
       "\t<tr><td>30-39       </td><td>6.554368e-05</td><td>0.0003604903</td></tr>\n",
       "\t<tr><td>40-49       </td><td>6.157256e-05</td><td>0.0004002217</td></tr>\n",
       "\t<tr><td>50-59       </td><td>1.224759e-03</td><td>0.0021354772</td></tr>\n",
       "\t<tr><td>60-69       </td><td>9.625242e-03</td><td>0.0127007632</td></tr>\n",
       "\t<tr><td>70-79       </td><td>5.288726e-02</td><td>0.0615032081</td></tr>\n",
       "\t<tr><td>80-89       </td><td>1.576389e-01</td><td>0.1770833333</td></tr>\n",
       "\t<tr><td>90+         </td><td>2.808864e-01</td><td>0.3229916898</td></tr>\n",
       "</tbody>\n",
       "</table>\n"
      ],
      "text/latex": [
       "\\begin{tabular}{r|lll}\n",
       " Age & 2.5\\% quantile & 97.5\\% quantile\\\\\n",
       "\\hline\n",
       "\t 0-9          & 0.000000e+00 & 0.0001948052\\\\\n",
       "\t 10-19        & 0.000000e+00 & 0.0000000000\\\\\n",
       "\t 20-29        & 0.000000e+00 & 0.0000000000\\\\\n",
       "\t 30-39        & 6.554368e-05 & 0.0003604903\\\\\n",
       "\t 40-49        & 6.157256e-05 & 0.0004002217\\\\\n",
       "\t 50-59        & 1.224759e-03 & 0.0021354772\\\\\n",
       "\t 60-69        & 9.625242e-03 & 0.0127007632\\\\\n",
       "\t 70-79        & 5.288726e-02 & 0.0615032081\\\\\n",
       "\t 80-89        & 1.576389e-01 & 0.1770833333\\\\\n",
       "\t 90+          & 2.808864e-01 & 0.3229916898\\\\\n",
       "\\end{tabular}\n"
      ],
      "text/markdown": [
       "\n",
       "| Age | 2.5% quantile | 97.5% quantile |\n",
       "|---|---|---|\n",
       "| 0-9          | 0.000000e+00 | 0.0001948052 |\n",
       "| 10-19        | 0.000000e+00 | 0.0000000000 |\n",
       "| 20-29        | 0.000000e+00 | 0.0000000000 |\n",
       "| 30-39        | 6.554368e-05 | 0.0003604903 |\n",
       "| 40-49        | 6.157256e-05 | 0.0004002217 |\n",
       "| 50-59        | 1.224759e-03 | 0.0021354772 |\n",
       "| 60-69        | 9.625242e-03 | 0.0127007632 |\n",
       "| 70-79        | 5.288726e-02 | 0.0615032081 |\n",
       "| 80-89        | 1.576389e-01 | 0.1770833333 |\n",
       "| 90+          | 2.808864e-01 | 0.3229916898 |\n",
       "\n"
      ],
      "text/plain": [
       "   Age   2.5% quantile 97.5% quantile\n",
       "1  0-9   0.000000e+00  0.0001948052  \n",
       "2  10-19 0.000000e+00  0.0000000000  \n",
       "3  20-29 0.000000e+00  0.0000000000  \n",
       "4  30-39 6.554368e-05  0.0003604903  \n",
       "5  40-49 6.157256e-05  0.0004002217  \n",
       "6  50-59 1.224759e-03  0.0021354772  \n",
       "7  60-69 9.625242e-03  0.0127007632  \n",
       "8  70-79 5.288726e-02  0.0615032081  \n",
       "9  80-89 1.576389e-01  0.1770833333  \n",
       "10 90+   2.808864e-01  0.3229916898  "
      ]
     },
     "metadata": {},
     "output_type": "display_data"
    }
   ],
   "source": [
    "Quantiles_Binomial"
   ]
  },
  {
   "cell_type": "code",
   "execution_count": 10,
   "id": "passive-identifier",
   "metadata": {},
   "outputs": [],
   "source": [
    "Bernoulli_Bootstrap = function(p,n, B = 10000){\n",
    "  #Generate new MEAN data\n",
    "  p_B = replicate(B,mean(rbernoulli(n,p)))\n",
    "}"
   ]
  },
  {
   "cell_type": "code",
   "execution_count": 11,
   "id": "commercial-there",
   "metadata": {},
   "outputs": [],
   "source": [
    "Quantiles_Bernoulli = mortality %>% \n",
    "  mutate(Bootstraps = map2(`Mortality given Infected`, infected, Bernoulli_Bootstrap, B = 1000)) %>% \n",
    "  mutate(Quantiles = map(Bootstraps, quantile, c(0.025,0.975))) %>% \n",
    "  mutate(`2.5% quantile` = unlist(map(Quantiles, function(x){x[1]}))) %>% \n",
    "  mutate(`97.5% quantile` = unlist(map(Quantiles, function(x){x[2]}))) %>% \n",
    "  select(Age, `2.5% quantile`, `97.5% quantile`)"
   ]
  },
  {
   "cell_type": "code",
   "execution_count": 12,
   "id": "supreme-marks",
   "metadata": {},
   "outputs": [
    {
     "data": {
      "text/html": [
       "<table>\n",
       "<thead><tr><th scope=col>Age</th><th scope=col>2.5% quantile</th><th scope=col>97.5% quantile</th></tr></thead>\n",
       "<tbody>\n",
       "\t<tr><td>0-9         </td><td>0.000000e+00</td><td>0.0001948052</td></tr>\n",
       "\t<tr><td>10-19       </td><td>0.000000e+00</td><td>0.0000000000</td></tr>\n",
       "\t<tr><td>20-29       </td><td>0.000000e+00</td><td>0.0000000000</td></tr>\n",
       "\t<tr><td>30-39       </td><td>6.554368e-05</td><td>0.0003604903</td></tr>\n",
       "\t<tr><td>40-49       </td><td>6.157256e-05</td><td>0.0003702050</td></tr>\n",
       "\t<tr><td>50-59       </td><td>1.224759e-03</td><td>0.0021354772</td></tr>\n",
       "\t<tr><td>60-69       </td><td>9.568288e-03</td><td>0.0125868550</td></tr>\n",
       "\t<tr><td>70-79       </td><td>5.261228e-02</td><td>0.0616865261</td></tr>\n",
       "\t<tr><td>80-89       </td><td>1.579861e-01</td><td>0.1776041667</td></tr>\n",
       "\t<tr><td>90+         </td><td>2.819945e-01</td><td>0.3229916898</td></tr>\n",
       "</tbody>\n",
       "</table>\n"
      ],
      "text/latex": [
       "\\begin{tabular}{r|lll}\n",
       " Age & 2.5\\% quantile & 97.5\\% quantile\\\\\n",
       "\\hline\n",
       "\t 0-9          & 0.000000e+00 & 0.0001948052\\\\\n",
       "\t 10-19        & 0.000000e+00 & 0.0000000000\\\\\n",
       "\t 20-29        & 0.000000e+00 & 0.0000000000\\\\\n",
       "\t 30-39        & 6.554368e-05 & 0.0003604903\\\\\n",
       "\t 40-49        & 6.157256e-05 & 0.0003702050\\\\\n",
       "\t 50-59        & 1.224759e-03 & 0.0021354772\\\\\n",
       "\t 60-69        & 9.568288e-03 & 0.0125868550\\\\\n",
       "\t 70-79        & 5.261228e-02 & 0.0616865261\\\\\n",
       "\t 80-89        & 1.579861e-01 & 0.1776041667\\\\\n",
       "\t 90+          & 2.819945e-01 & 0.3229916898\\\\\n",
       "\\end{tabular}\n"
      ],
      "text/markdown": [
       "\n",
       "| Age | 2.5% quantile | 97.5% quantile |\n",
       "|---|---|---|\n",
       "| 0-9          | 0.000000e+00 | 0.0001948052 |\n",
       "| 10-19        | 0.000000e+00 | 0.0000000000 |\n",
       "| 20-29        | 0.000000e+00 | 0.0000000000 |\n",
       "| 30-39        | 6.554368e-05 | 0.0003604903 |\n",
       "| 40-49        | 6.157256e-05 | 0.0003702050 |\n",
       "| 50-59        | 1.224759e-03 | 0.0021354772 |\n",
       "| 60-69        | 9.568288e-03 | 0.0125868550 |\n",
       "| 70-79        | 5.261228e-02 | 0.0616865261 |\n",
       "| 80-89        | 1.579861e-01 | 0.1776041667 |\n",
       "| 90+          | 2.819945e-01 | 0.3229916898 |\n",
       "\n"
      ],
      "text/plain": [
       "   Age   2.5% quantile 97.5% quantile\n",
       "1  0-9   0.000000e+00  0.0001948052  \n",
       "2  10-19 0.000000e+00  0.0000000000  \n",
       "3  20-29 0.000000e+00  0.0000000000  \n",
       "4  30-39 6.554368e-05  0.0003604903  \n",
       "5  40-49 6.157256e-05  0.0003702050  \n",
       "6  50-59 1.224759e-03  0.0021354772  \n",
       "7  60-69 9.568288e-03  0.0125868550  \n",
       "8  70-79 5.261228e-02  0.0616865261  \n",
       "9  80-89 1.579861e-01  0.1776041667  \n",
       "10 90+   2.819945e-01  0.3229916898  "
      ]
     },
     "metadata": {},
     "output_type": "display_data"
    }
   ],
   "source": [
    "Quantiles_Bernoulli"
   ]
  },
  {
   "cell_type": "code",
   "execution_count": 13,
   "id": "bearing-harassment",
   "metadata": {},
   "outputs": [],
   "source": [
    "Quantiles_Bernoulli %<>% mutate(Bootstrap = \"Bernoulli\")\n",
    "Quantiles_Binomial %<>% mutate(Bootstrap = \"Binomial\")"
   ]
  },
  {
   "cell_type": "code",
   "execution_count": 14,
   "id": "piano-adolescent",
   "metadata": {},
   "outputs": [],
   "source": [
    "Quantiles = rbind(Quantiles_Bernoulli,Quantiles_Binomial)"
   ]
  },
  {
   "cell_type": "code",
   "execution_count": 15,
   "id": "available-target",
   "metadata": {},
   "outputs": [
    {
     "data": {
      "text/html": [
       "<table>\n",
       "<thead><tr><th scope=col>Age</th><th scope=col>2.5% quantile</th><th scope=col>97.5% quantile</th><th scope=col>Bootstrap</th></tr></thead>\n",
       "<tbody>\n",
       "\t<tr><td>0-9         </td><td>0.000000e+00</td><td>0.0001948052</td><td>Bernoulli   </td></tr>\n",
       "\t<tr><td>10-19       </td><td>0.000000e+00</td><td>0.0000000000</td><td>Bernoulli   </td></tr>\n",
       "\t<tr><td>20-29       </td><td>0.000000e+00</td><td>0.0000000000</td><td>Bernoulli   </td></tr>\n",
       "\t<tr><td>30-39       </td><td>6.554368e-05</td><td>0.0003604903</td><td>Bernoulli   </td></tr>\n",
       "\t<tr><td>40-49       </td><td>6.157256e-05</td><td>0.0003702050</td><td>Bernoulli   </td></tr>\n",
       "\t<tr><td>50-59       </td><td>1.224759e-03</td><td>0.0021354772</td><td>Bernoulli   </td></tr>\n",
       "\t<tr><td>60-69       </td><td>9.568288e-03</td><td>0.0125868550</td><td>Bernoulli   </td></tr>\n",
       "\t<tr><td>70-79       </td><td>5.261228e-02</td><td>0.0616865261</td><td>Bernoulli   </td></tr>\n",
       "\t<tr><td>80-89       </td><td>1.579861e-01</td><td>0.1776041667</td><td>Bernoulli   </td></tr>\n",
       "\t<tr><td>90+         </td><td>2.819945e-01</td><td>0.3229916898</td><td>Bernoulli   </td></tr>\n",
       "\t<tr><td>0-9         </td><td>0.000000e+00</td><td>0.0001948052</td><td>Binomial    </td></tr>\n",
       "\t<tr><td>10-19       </td><td>0.000000e+00</td><td>0.0000000000</td><td>Binomial    </td></tr>\n",
       "\t<tr><td>20-29       </td><td>0.000000e+00</td><td>0.0000000000</td><td>Binomial    </td></tr>\n",
       "\t<tr><td>30-39       </td><td>6.554368e-05</td><td>0.0003604903</td><td>Binomial    </td></tr>\n",
       "\t<tr><td>40-49       </td><td>6.157256e-05</td><td>0.0004002217</td><td>Binomial    </td></tr>\n",
       "\t<tr><td>50-59       </td><td>1.224759e-03</td><td>0.0021354772</td><td>Binomial    </td></tr>\n",
       "\t<tr><td>60-69       </td><td>9.625242e-03</td><td>0.0127007632</td><td>Binomial    </td></tr>\n",
       "\t<tr><td>70-79       </td><td>5.288726e-02</td><td>0.0615032081</td><td>Binomial    </td></tr>\n",
       "\t<tr><td>80-89       </td><td>1.576389e-01</td><td>0.1770833333</td><td>Binomial    </td></tr>\n",
       "\t<tr><td>90+         </td><td>2.808864e-01</td><td>0.3229916898</td><td>Binomial    </td></tr>\n",
       "</tbody>\n",
       "</table>\n"
      ],
      "text/latex": [
       "\\begin{tabular}{r|llll}\n",
       " Age & 2.5\\% quantile & 97.5\\% quantile & Bootstrap\\\\\n",
       "\\hline\n",
       "\t 0-9          & 0.000000e+00 & 0.0001948052 & Bernoulli   \\\\\n",
       "\t 10-19        & 0.000000e+00 & 0.0000000000 & Bernoulli   \\\\\n",
       "\t 20-29        & 0.000000e+00 & 0.0000000000 & Bernoulli   \\\\\n",
       "\t 30-39        & 6.554368e-05 & 0.0003604903 & Bernoulli   \\\\\n",
       "\t 40-49        & 6.157256e-05 & 0.0003702050 & Bernoulli   \\\\\n",
       "\t 50-59        & 1.224759e-03 & 0.0021354772 & Bernoulli   \\\\\n",
       "\t 60-69        & 9.568288e-03 & 0.0125868550 & Bernoulli   \\\\\n",
       "\t 70-79        & 5.261228e-02 & 0.0616865261 & Bernoulli   \\\\\n",
       "\t 80-89        & 1.579861e-01 & 0.1776041667 & Bernoulli   \\\\\n",
       "\t 90+          & 2.819945e-01 & 0.3229916898 & Bernoulli   \\\\\n",
       "\t 0-9          & 0.000000e+00 & 0.0001948052 & Binomial    \\\\\n",
       "\t 10-19        & 0.000000e+00 & 0.0000000000 & Binomial    \\\\\n",
       "\t 20-29        & 0.000000e+00 & 0.0000000000 & Binomial    \\\\\n",
       "\t 30-39        & 6.554368e-05 & 0.0003604903 & Binomial    \\\\\n",
       "\t 40-49        & 6.157256e-05 & 0.0004002217 & Binomial    \\\\\n",
       "\t 50-59        & 1.224759e-03 & 0.0021354772 & Binomial    \\\\\n",
       "\t 60-69        & 9.625242e-03 & 0.0127007632 & Binomial    \\\\\n",
       "\t 70-79        & 5.288726e-02 & 0.0615032081 & Binomial    \\\\\n",
       "\t 80-89        & 1.576389e-01 & 0.1770833333 & Binomial    \\\\\n",
       "\t 90+          & 2.808864e-01 & 0.3229916898 & Binomial    \\\\\n",
       "\\end{tabular}\n"
      ],
      "text/markdown": [
       "\n",
       "| Age | 2.5% quantile | 97.5% quantile | Bootstrap |\n",
       "|---|---|---|---|\n",
       "| 0-9          | 0.000000e+00 | 0.0001948052 | Bernoulli    |\n",
       "| 10-19        | 0.000000e+00 | 0.0000000000 | Bernoulli    |\n",
       "| 20-29        | 0.000000e+00 | 0.0000000000 | Bernoulli    |\n",
       "| 30-39        | 6.554368e-05 | 0.0003604903 | Bernoulli    |\n",
       "| 40-49        | 6.157256e-05 | 0.0003702050 | Bernoulli    |\n",
       "| 50-59        | 1.224759e-03 | 0.0021354772 | Bernoulli    |\n",
       "| 60-69        | 9.568288e-03 | 0.0125868550 | Bernoulli    |\n",
       "| 70-79        | 5.261228e-02 | 0.0616865261 | Bernoulli    |\n",
       "| 80-89        | 1.579861e-01 | 0.1776041667 | Bernoulli    |\n",
       "| 90+          | 2.819945e-01 | 0.3229916898 | Bernoulli    |\n",
       "| 0-9          | 0.000000e+00 | 0.0001948052 | Binomial     |\n",
       "| 10-19        | 0.000000e+00 | 0.0000000000 | Binomial     |\n",
       "| 20-29        | 0.000000e+00 | 0.0000000000 | Binomial     |\n",
       "| 30-39        | 6.554368e-05 | 0.0003604903 | Binomial     |\n",
       "| 40-49        | 6.157256e-05 | 0.0004002217 | Binomial     |\n",
       "| 50-59        | 1.224759e-03 | 0.0021354772 | Binomial     |\n",
       "| 60-69        | 9.625242e-03 | 0.0127007632 | Binomial     |\n",
       "| 70-79        | 5.288726e-02 | 0.0615032081 | Binomial     |\n",
       "| 80-89        | 1.576389e-01 | 0.1770833333 | Binomial     |\n",
       "| 90+          | 2.808864e-01 | 0.3229916898 | Binomial     |\n",
       "\n"
      ],
      "text/plain": [
       "   Age   2.5% quantile 97.5% quantile Bootstrap\n",
       "1  0-9   0.000000e+00  0.0001948052   Bernoulli\n",
       "2  10-19 0.000000e+00  0.0000000000   Bernoulli\n",
       "3  20-29 0.000000e+00  0.0000000000   Bernoulli\n",
       "4  30-39 6.554368e-05  0.0003604903   Bernoulli\n",
       "5  40-49 6.157256e-05  0.0003702050   Bernoulli\n",
       "6  50-59 1.224759e-03  0.0021354772   Bernoulli\n",
       "7  60-69 9.568288e-03  0.0125868550   Bernoulli\n",
       "8  70-79 5.261228e-02  0.0616865261   Bernoulli\n",
       "9  80-89 1.579861e-01  0.1776041667   Bernoulli\n",
       "10 90+   2.819945e-01  0.3229916898   Bernoulli\n",
       "11 0-9   0.000000e+00  0.0001948052   Binomial \n",
       "12 10-19 0.000000e+00  0.0000000000   Binomial \n",
       "13 20-29 0.000000e+00  0.0000000000   Binomial \n",
       "14 30-39 6.554368e-05  0.0003604903   Binomial \n",
       "15 40-49 6.157256e-05  0.0004002217   Binomial \n",
       "16 50-59 1.224759e-03  0.0021354772   Binomial \n",
       "17 60-69 9.625242e-03  0.0127007632   Binomial \n",
       "18 70-79 5.288726e-02  0.0615032081   Binomial \n",
       "19 80-89 1.576389e-01  0.1770833333   Binomial \n",
       "20 90+   2.808864e-01  0.3229916898   Binomial "
      ]
     },
     "metadata": {},
     "output_type": "display_data"
    }
   ],
   "source": [
    "Quantiles"
   ]
  },
  {
   "cell_type": "code",
   "execution_count": 16,
   "id": "separate-argument",
   "metadata": {
    "scrolled": false
   },
   "outputs": [
    {
     "name": "stderr",
     "output_type": "stream",
     "text": [
      "Warning message:\n",
      "\"attributes are not identical across measure variables;\n",
      "they will be dropped\""
     ]
    },
    {
     "data": {
      "image/png": "[encoded data removed]",
      "text/plain": [
       "plot without title"
      ]
     },
     "metadata": {},
     "output_type": "display_data"
    }
   ],
   "source": [
    "Quantiles %>% gather(\"Quantile\",\"Value\", -Age,-Bootstrap) %>% \n",
    "  ggplot(aes(x = Age, y = Value, fill = Bootstrap)) + \n",
    "  geom_bar(stat = \"identity\",position=position_dodge()) + \n",
    "  facet_grid(vars(Quantile)) +\n",
    "  theme(axis.text.x = element_text(angle = 45, hjust=1)) + \n",
    "  ylab(\"Mortality given Infected\")"
   ]
  },
  {
   "cell_type": "markdown",
   "id": "celtic-dairy",
   "metadata": {},
   "source": [
    "# Logistisk regression på en kategorisk variabel"
   ]
  },
  {
   "cell_type": "markdown",
   "id": "worth-african",
   "metadata": {},
   "source": [
    "Vi vil undersøge, hvad sandsynligheden er for at man dør givet en specifik alder.\n",
    "Dog kan der opstå et problem, da modellen oftest operere på kontinuerete forklarende variable.\n",
    "\n",
    "Da kan det være nødvendigt at undersøge, hvorvidt det har nogen betydning i vores tilfælde. Vi har nemlig en variabel der originalt er kontinuert - altså variablen alder, men denne variabel er gjort diskret ved at afrunde alderen til kun at indeholde år. Efterfølgende er alderen yderligere opdelt kategorisk, så der er tale om en aldersgruppe.\n",
    "\n",
    "Har dette nogen signifikant betydning for resultatet?"
   ]
  },
  {
   "cell_type": "code",
   "execution_count": 17,
   "id": "alleged-interest",
   "metadata": {},
   "outputs": [
    {
     "data": {
      "text/html": [
       "<table>\n",
       "<thead><tr><th scope=col>age</th><th scope=col>total</th><th scope=col>P</th></tr></thead>\n",
       "<tbody>\n",
       "\t<tr><td>0         </td><td>61191     </td><td>0.01047783</td></tr>\n",
       "\t<tr><td>1         </td><td>61663     </td><td>0.01055865</td></tr>\n",
       "\t<tr><td>2         </td><td>61967     </td><td>0.01061071</td></tr>\n",
       "\t<tr><td>3         </td><td>62185     </td><td>0.01064803</td></tr>\n",
       "\t<tr><td>4         </td><td>62844     </td><td>0.01076088</td></tr>\n",
       "\t<tr><td>5         </td><td>59740     </td><td>0.01022937</td></tr>\n",
       "</tbody>\n",
       "</table>\n"
      ],
      "text/latex": [
       "\\begin{tabular}{r|lll}\n",
       " age & total & P\\\\\n",
       "\\hline\n",
       "\t 0          & 61191      & 0.01047783\\\\\n",
       "\t 1          & 61663      & 0.01055865\\\\\n",
       "\t 2          & 61967      & 0.01061071\\\\\n",
       "\t 3          & 62185      & 0.01064803\\\\\n",
       "\t 4          & 62844      & 0.01076088\\\\\n",
       "\t 5          & 59740      & 0.01022937\\\\\n",
       "\\end{tabular}\n"
      ],
      "text/markdown": [
       "\n",
       "| age | total | P |\n",
       "|---|---|---|\n",
       "| 0          | 61191      | 0.01047783 |\n",
       "| 1          | 61663      | 0.01055865 |\n",
       "| 2          | 61967      | 0.01061071 |\n",
       "| 3          | 62185      | 0.01064803 |\n",
       "| 4          | 62844      | 0.01076088 |\n",
       "| 5          | 59740      | 0.01022937 |\n",
       "\n"
      ],
      "text/plain": [
       "  age total P         \n",
       "1 0   61191 0.01047783\n",
       "2 1   61663 0.01055865\n",
       "3 2   61967 0.01061071\n",
       "4 3   62185 0.01064803\n",
       "5 4   62844 0.01076088\n",
       "6 5   59740 0.01022937"
      ]
     },
     "metadata": {},
     "output_type": "display_data"
    }
   ],
   "source": [
    "DKpop <- read_excel(\"data/folketal.xlsx\") # Indlæs datasættet for den befolkning og dets fordeling af alder.\n",
    "# Tilføjer en søjle med sandsynlighed for at være en given alder og fjerner søjler der ikke anvendes.\n",
    "DKpop %<>% mutate(P = total/sum(total)) %>% select(-male, -female)\n",
    "head(DKpop)"
   ]
  },
  {
   "cell_type": "code",
   "execution_count": 18,
   "id": "emotional-strap",
   "metadata": {},
   "outputs": [],
   "source": [
    "# En funktioner der returnere en tabel af personer med alder konverteret til en kontinuert værdi og \n",
    "# en bernoulli værdi der indikere om personen døde af covid-19 eller ej.\n",
    "Sampler = function(n, beta_0, beta_1, uniform_displace = T){\n",
    "    X = with(DKpop, sample(age, n, replace = T, prob = P))\n",
    "    if (uniform_displace){\n",
    "        X = X + runif(n,0,1)\n",
    "    }\n",
    "    P_X = ilogit(beta_0 + beta_1*X)\n",
    "    Y = rbernoulli(n,P_X)\n",
    "    return(tibble(age = X,dead = Y))\n",
    "}"
   ]
  },
  {
   "cell_type": "code",
   "execution_count": 19,
   "id": "worth-major",
   "metadata": {},
   "outputs": [
    {
     "data": {
      "text/html": [
       "<table>\n",
       "<thead><tr><th scope=col>age</th><th scope=col>dead</th></tr></thead>\n",
       "<tbody>\n",
       "\t<tr><td>23.456746</td><td>FALSE    </td></tr>\n",
       "\t<tr><td> 7.338937</td><td>FALSE    </td></tr>\n",
       "\t<tr><td>82.162562</td><td>FALSE    </td></tr>\n",
       "\t<tr><td>52.290352</td><td>FALSE    </td></tr>\n",
       "\t<tr><td>81.254912</td><td>FALSE    </td></tr>\n",
       "\t<tr><td>68.967885</td><td>FALSE    </td></tr>\n",
       "\t<tr><td>18.206836</td><td>FALSE    </td></tr>\n",
       "\t<tr><td>57.682305</td><td>FALSE    </td></tr>\n",
       "\t<tr><td>31.403730</td><td>FALSE    </td></tr>\n",
       "\t<tr><td>24.366636</td><td>FALSE    </td></tr>\n",
       "</tbody>\n",
       "</table>\n"
      ],
      "text/latex": [
       "\\begin{tabular}{r|ll}\n",
       " age & dead\\\\\n",
       "\\hline\n",
       "\t 23.456746 & FALSE    \\\\\n",
       "\t  7.338937 & FALSE    \\\\\n",
       "\t 82.162562 & FALSE    \\\\\n",
       "\t 52.290352 & FALSE    \\\\\n",
       "\t 81.254912 & FALSE    \\\\\n",
       "\t 68.967885 & FALSE    \\\\\n",
       "\t 18.206836 & FALSE    \\\\\n",
       "\t 57.682305 & FALSE    \\\\\n",
       "\t 31.403730 & FALSE    \\\\\n",
       "\t 24.366636 & FALSE    \\\\\n",
       "\\end{tabular}\n"
      ],
      "text/markdown": [
       "\n",
       "| age | dead |\n",
       "|---|---|\n",
       "| 23.456746 | FALSE     |\n",
       "|  7.338937 | FALSE     |\n",
       "| 82.162562 | FALSE     |\n",
       "| 52.290352 | FALSE     |\n",
       "| 81.254912 | FALSE     |\n",
       "| 68.967885 | FALSE     |\n",
       "| 18.206836 | FALSE     |\n",
       "| 57.682305 | FALSE     |\n",
       "| 31.403730 | FALSE     |\n",
       "| 24.366636 | FALSE     |\n",
       "\n"
      ],
      "text/plain": [
       "   age       dead \n",
       "1  23.456746 FALSE\n",
       "2   7.338937 FALSE\n",
       "3  82.162562 FALSE\n",
       "4  52.290352 FALSE\n",
       "5  81.254912 FALSE\n",
       "6  68.967885 FALSE\n",
       "7  18.206836 FALSE\n",
       "8  57.682305 FALSE\n",
       "9  31.403730 FALSE\n",
       "10 24.366636 FALSE"
      ]
     },
     "metadata": {},
     "output_type": "display_data"
    }
   ],
   "source": [
    "alpha = -9 # Vores intercept, som glm modellen skal forsøge at estimere.\n",
    "beta = 0.1 # Hældningskoefficenten, som glm modellen skal forsøge at estimere.\n",
    "\n",
    "Sampled_Data = Sampler(1000,alpha,beta) # Kalder funktionen, hvor 1000 personer samples.\n",
    "head(Sampled_Data, 10)"
   ]
  },
  {
   "cell_type": "code",
   "execution_count": 20,
   "id": "smoking-zimbabwe",
   "metadata": {
    "scrolled": false
   },
   "outputs": [
    {
     "data": {
      "image/png": "[encoded data removed]",
      "text/plain": [
       "plot without title"
      ]
     },
     "metadata": {},
     "output_type": "display_data"
    }
   ],
   "source": [
    "plot(Sampled_Data$dead)"
   ]
  },
  {
   "cell_type": "code",
   "execution_count": 21,
   "id": "legal-lingerie",
   "metadata": {
    "scrolled": false
   },
   "outputs": [
    {
     "data": {
      "image/png": "[encoded data removed]",
      "text/plain": [
       "plot without title"
      ]
     },
     "metadata": {},
     "output_type": "display_data"
    }
   ],
   "source": [
    "Sampled_Data %>% \n",
    "  ggplot(aes(x = age, y = dead)) + geom_point()"
   ]
  },
  {
   "cell_type": "code",
   "execution_count": 22,
   "id": "underlying-samba",
   "metadata": {},
   "outputs": [
    {
     "data": {
      "text/html": [
       "<table>\n",
       "<thead><tr><th scope=col>age</th><th scope=col>P(Dead|Age)</th></tr></thead>\n",
       "<tbody>\n",
       "\t<tr><td>0       </td><td>1.000123</td></tr>\n",
       "\t<tr><td>1       </td><td>1.000136</td></tr>\n",
       "\t<tr><td>2       </td><td>1.000151</td></tr>\n",
       "\t<tr><td>3       </td><td>1.000167</td></tr>\n",
       "\t<tr><td>4       </td><td>1.000184</td></tr>\n",
       "\t<tr><td>5       </td><td>1.000203</td></tr>\n",
       "</tbody>\n",
       "</table>\n"
      ],
      "text/latex": [
       "\\begin{tabular}{r|ll}\n",
       " age & P(Dead\\textbar{}Age)\\\\\n",
       "\\hline\n",
       "\t 0        & 1.000123\\\\\n",
       "\t 1        & 1.000136\\\\\n",
       "\t 2        & 1.000151\\\\\n",
       "\t 3        & 1.000167\\\\\n",
       "\t 4        & 1.000184\\\\\n",
       "\t 5        & 1.000203\\\\\n",
       "\\end{tabular}\n"
      ],
      "text/markdown": [
       "\n",
       "| age | P(Dead|Age) |\n",
       "|---|---|\n",
       "| 0        | 1.000123 |\n",
       "| 1        | 1.000136 |\n",
       "| 2        | 1.000151 |\n",
       "| 3        | 1.000167 |\n",
       "| 4        | 1.000184 |\n",
       "| 5        | 1.000203 |\n",
       "\n"
      ],
      "text/plain": [
       "  age P(Dead|Age)\n",
       "1 0   1.000123   \n",
       "2 1   1.000136   \n",
       "3 2   1.000151   \n",
       "4 3   1.000167   \n",
       "5 4   1.000184   \n",
       "6 5   1.000203   "
      ]
     },
     "metadata": {},
     "output_type": "display_data"
    },
    {
     "data": {
      "text/html": [
       "<table>\n",
       "<thead><tr><th scope=col>age</th><th scope=col>P(Dead|Age)</th></tr></thead>\n",
       "<tbody>\n",
       "\t<tr><td>115     </td><td>1.924142</td></tr>\n",
       "\t<tr><td>116     </td><td>1.930862</td></tr>\n",
       "\t<tr><td>117     </td><td>1.937027</td></tr>\n",
       "\t<tr><td>118     </td><td>1.942676</td></tr>\n",
       "\t<tr><td>119     </td><td>1.947846</td></tr>\n",
       "\t<tr><td>120     </td><td>1.952574</td></tr>\n",
       "</tbody>\n",
       "</table>\n"
      ],
      "text/latex": [
       "\\begin{tabular}{r|ll}\n",
       " age & P(Dead\\textbar{}Age)\\\\\n",
       "\\hline\n",
       "\t 115      & 1.924142\\\\\n",
       "\t 116      & 1.930862\\\\\n",
       "\t 117      & 1.937027\\\\\n",
       "\t 118      & 1.942676\\\\\n",
       "\t 119      & 1.947846\\\\\n",
       "\t 120      & 1.952574\\\\\n",
       "\\end{tabular}\n"
      ],
      "text/markdown": [
       "\n",
       "| age | P(Dead|Age) |\n",
       "|---|---|\n",
       "| 115      | 1.924142 |\n",
       "| 116      | 1.930862 |\n",
       "| 117      | 1.937027 |\n",
       "| 118      | 1.942676 |\n",
       "| 119      | 1.947846 |\n",
       "| 120      | 1.952574 |\n",
       "\n"
      ],
      "text/plain": [
       "  age P(Dead|Age)\n",
       "1 115 1.924142   \n",
       "2 116 1.930862   \n",
       "3 117 1.937027   \n",
       "4 118 1.942676   \n",
       "5 119 1.947846   \n",
       "6 120 1.952574   "
      ]
     },
     "metadata": {},
     "output_type": "display_data"
    }
   ],
   "source": [
    "# En tabel, der indeholder sandsynligheden for at dø givet man er x år gammel.\n",
    "Logit_Curve = tibble(age = 0:120, `P(Dead|Age)` = ilogit(alpha + beta*0:120)+1)\n",
    "\n",
    "head(Logit_Curve)\n",
    "tail(Logit_Curve)"
   ]
  },
  {
   "cell_type": "code",
   "execution_count": 23,
   "id": "fourth-layer",
   "metadata": {
    "scrolled": false
   },
   "outputs": [
    {
     "data": {
      "image/png": "[encoded data removed]",
      "text/plain": [
       "plot without title"
      ]
     },
     "metadata": {},
     "output_type": "display_data"
    }
   ],
   "source": [
    "Sampled_Data %>%\n",
    "    ggplot(aes(x = age, y = dead, color = \"Sampled Data\")) + geom_point(alpha = 0.5) + \n",
    "    geom_line(data = Logit_Curve, aes(x = age, y = `P(Dead|Age)`, color = \"P(Dead|Age)\"), size = .87, inherit.aes = F) + \n",
    "    xlab(\"Age\") + ylab(\"Dead\") + labs(color = \"\")"
   ]
  },
  {
   "cell_type": "code",
   "execution_count": 24,
   "id": "congressional-judgment",
   "metadata": {},
   "outputs": [
    {
     "data": {
      "text/html": [
       "<table>\n",
       "<thead><tr><th scope=col>age</th><th scope=col>dead</th><th scope=col>age_truncated</th></tr></thead>\n",
       "<tbody>\n",
       "\t<tr><td>23.456746</td><td>FALSE    </td><td>20       </td></tr>\n",
       "\t<tr><td> 7.338937</td><td>FALSE    </td><td> 0       </td></tr>\n",
       "\t<tr><td>82.162562</td><td>FALSE    </td><td>80       </td></tr>\n",
       "\t<tr><td>52.290352</td><td>FALSE    </td><td>50       </td></tr>\n",
       "\t<tr><td>81.254912</td><td>FALSE    </td><td>80       </td></tr>\n",
       "\t<tr><td>68.967885</td><td>FALSE    </td><td>60       </td></tr>\n",
       "</tbody>\n",
       "</table>\n"
      ],
      "text/latex": [
       "\\begin{tabular}{r|lll}\n",
       " age & dead & age\\_truncated\\\\\n",
       "\\hline\n",
       "\t 23.456746 & FALSE     & 20       \\\\\n",
       "\t  7.338937 & FALSE     &  0       \\\\\n",
       "\t 82.162562 & FALSE     & 80       \\\\\n",
       "\t 52.290352 & FALSE     & 50       \\\\\n",
       "\t 81.254912 & FALSE     & 80       \\\\\n",
       "\t 68.967885 & FALSE     & 60       \\\\\n",
       "\\end{tabular}\n"
      ],
      "text/markdown": [
       "\n",
       "| age | dead | age_truncated |\n",
       "|---|---|---|\n",
       "| 23.456746 | FALSE     | 20        |\n",
       "|  7.338937 | FALSE     |  0        |\n",
       "| 82.162562 | FALSE     | 80        |\n",
       "| 52.290352 | FALSE     | 50        |\n",
       "| 81.254912 | FALSE     | 80        |\n",
       "| 68.967885 | FALSE     | 60        |\n",
       "\n"
      ],
      "text/plain": [
       "  age       dead  age_truncated\n",
       "1 23.456746 FALSE 20           \n",
       "2  7.338937 FALSE  0           \n",
       "3 82.162562 FALSE 80           \n",
       "4 52.290352 FALSE 50           \n",
       "5 81.254912 FALSE 80           \n",
       "6 68.967885 FALSE 60           "
      ]
     },
     "metadata": {},
     "output_type": "display_data"
    }
   ],
   "source": [
    "Sampled_Data %<>% mutate(age_truncated = floor(age/10)*10) # Tilføjer en søjle med trunkerede alder.\n",
    "head(Sampled_Data)"
   ]
  },
  {
   "cell_type": "code",
   "execution_count": 25,
   "id": "trained-report",
   "metadata": {},
   "outputs": [],
   "source": [
    "#model <- glm(dead ~ 1, family = \"binomial\", data = Sampled_Data)\n",
    "#summary(model)"
   ]
  },
  {
   "cell_type": "code",
   "execution_count": 26,
   "id": "exterior-ethernet",
   "metadata": {},
   "outputs": [
    {
     "name": "stderr",
     "output_type": "stream",
     "text": [
      "New names:\n",
      "* NA -> ...1\n",
      "* NA -> ...2\n",
      "* NA -> ...3\n",
      "* NA -> ...4\n",
      "* NA -> ...5\n",
      "* ...\n"
     ]
    },
    {
     "data": {
      "text/html": [
       "<table>\n",
       "<thead><tr><th scope=col>...1</th><th scope=col>...2</th><th scope=col>...3</th><th scope=col>...4</th><th scope=col>...5</th><th scope=col>...6</th><th scope=col>...7</th><th scope=col>...8</th><th scope=col>...9</th><th scope=col>...10</th><th scope=col>dead</th></tr></thead>\n",
       "<tbody>\n",
       "\t<tr><td>0    </td><td>0    </td><td>1    </td><td>0    </td><td>0    </td><td>0    </td><td>0    </td><td>0    </td><td>0    </td><td>0    </td><td>FALSE</td></tr>\n",
       "\t<tr><td>1    </td><td>0    </td><td>0    </td><td>0    </td><td>0    </td><td>0    </td><td>0    </td><td>0    </td><td>0    </td><td>0    </td><td>FALSE</td></tr>\n",
       "\t<tr><td>0    </td><td>0    </td><td>0    </td><td>0    </td><td>0    </td><td>0    </td><td>0    </td><td>0    </td><td>1    </td><td>0    </td><td>FALSE</td></tr>\n",
       "\t<tr><td>0    </td><td>0    </td><td>0    </td><td>0    </td><td>0    </td><td>1    </td><td>0    </td><td>0    </td><td>0    </td><td>0    </td><td>FALSE</td></tr>\n",
       "\t<tr><td>0    </td><td>0    </td><td>0    </td><td>0    </td><td>0    </td><td>0    </td><td>0    </td><td>0    </td><td>1    </td><td>0    </td><td>FALSE</td></tr>\n",
       "\t<tr><td>0    </td><td>0    </td><td>0    </td><td>0    </td><td>0    </td><td>0    </td><td>1    </td><td>0    </td><td>0    </td><td>0    </td><td>FALSE</td></tr>\n",
       "</tbody>\n",
       "</table>\n"
      ],
      "text/latex": [
       "\\begin{tabular}{r|lllllllllll}\n",
       " ...1 & ...2 & ...3 & ...4 & ...5 & ...6 & ...7 & ...8 & ...9 & ...10 & dead\\\\\n",
       "\\hline\n",
       "\t 0     & 0     & 1     & 0     & 0     & 0     & 0     & 0     & 0     & 0     & FALSE\\\\\n",
       "\t 1     & 0     & 0     & 0     & 0     & 0     & 0     & 0     & 0     & 0     & FALSE\\\\\n",
       "\t 0     & 0     & 0     & 0     & 0     & 0     & 0     & 0     & 1     & 0     & FALSE\\\\\n",
       "\t 0     & 0     & 0     & 0     & 0     & 1     & 0     & 0     & 0     & 0     & FALSE\\\\\n",
       "\t 0     & 0     & 0     & 0     & 0     & 0     & 0     & 0     & 1     & 0     & FALSE\\\\\n",
       "\t 0     & 0     & 0     & 0     & 0     & 0     & 1     & 0     & 0     & 0     & FALSE\\\\\n",
       "\\end{tabular}\n"
      ],
      "text/markdown": [
       "\n",
       "| ...1 | ...2 | ...3 | ...4 | ...5 | ...6 | ...7 | ...8 | ...9 | ...10 | dead |\n",
       "|---|---|---|---|---|---|---|---|---|---|---|\n",
       "| 0     | 0     | 1     | 0     | 0     | 0     | 0     | 0     | 0     | 0     | FALSE |\n",
       "| 1     | 0     | 0     | 0     | 0     | 0     | 0     | 0     | 0     | 0     | FALSE |\n",
       "| 0     | 0     | 0     | 0     | 0     | 0     | 0     | 0     | 1     | 0     | FALSE |\n",
       "| 0     | 0     | 0     | 0     | 0     | 1     | 0     | 0     | 0     | 0     | FALSE |\n",
       "| 0     | 0     | 0     | 0     | 0     | 0     | 0     | 0     | 1     | 0     | FALSE |\n",
       "| 0     | 0     | 0     | 0     | 0     | 0     | 1     | 0     | 0     | 0     | FALSE |\n",
       "\n"
      ],
      "text/plain": [
       "  ...1 ...2 ...3 ...4 ...5 ...6 ...7 ...8 ...9 ...10 dead \n",
       "1 0    0    1    0    0    0    0    0    0    0     FALSE\n",
       "2 1    0    0    0    0    0    0    0    0    0     FALSE\n",
       "3 0    0    0    0    0    0    0    0    1    0     FALSE\n",
       "4 0    0    0    0    0    1    0    0    0    0     FALSE\n",
       "5 0    0    0    0    0    0    0    0    1    0     FALSE\n",
       "6 0    0    0    0    0    0    1    0    0    0     FALSE"
      ]
     },
     "metadata": {},
     "output_type": "display_data"
    }
   ],
   "source": [
    "dummy_data <- Sampled_Data %>% to_dummy(age_truncated) %>% bind_cols(Sampled_Data) %>% select(-age, -age_truncated)\n",
    "head(dummy_data)"
   ]
  },
  {
   "cell_type": "code",
   "execution_count": 27,
   "id": "fancy-racing",
   "metadata": {
    "scrolled": false
   },
   "outputs": [
    {
     "data": {
      "text/plain": [
       "\n",
       "Call:\n",
       "glm(formula = dead ~ . - ...1 - ...2 - ...3 - ...4 - ...5, family = \"binomial\", \n",
       "    data = x)\n",
       "\n",
       "Deviance Residuals: \n",
       "    Min       1Q   Median       3Q      Max  \n",
       "-0.8576  -0.3369  -0.1287  -0.1287   3.0976  \n",
       "\n",
       "Coefficients:\n",
       "            Estimate Std. Error z value Pr(>|z|)    \n",
       "(Intercept)  -4.7892     0.4491 -10.665  < 2e-16 ***\n",
       "...6          1.9486     0.5779   3.372 0.000746 ***\n",
       "...7          2.7194     0.5369   5.065 4.09e-07 ***\n",
       "...8          3.2713     0.5271   6.206 5.44e-10 ***\n",
       "...9          3.9782     0.5675   7.010 2.38e-12 ***\n",
       "...10       -10.7769   650.8737  -0.017 0.986790    \n",
       "---\n",
       "Signif. codes:  0 '***' 0.001 '**' 0.01 '*' 0.05 '.' 0.1 ' ' 1\n",
       "\n",
       "(Dispersion parameter for binomial family taken to be 1)\n",
       "\n",
       "    Null deviance: 420.26  on 999  degrees of freedom\n",
       "Residual deviance: 333.22  on 994  degrees of freedom\n",
       "AIC: 345.22\n",
       "\n",
       "Number of Fisher Scoring iterations: 14\n"
      ]
     },
     "metadata": {},
     "output_type": "display_data"
    }
   ],
   "source": [
    "dummy_data %>% {\n",
    "    x = .\n",
    "    glm(dead ~ . -`...1` -`...2` -`...3` -`...4` -`...5`, family=\"binomial\", data=x)\n",
    "}%>%summary()"
   ]
  },
  {
   "cell_type": "code",
   "execution_count": 28,
   "id": "infinite-telescope",
   "metadata": {
    "scrolled": false
   },
   "outputs": [
    {
     "name": "stderr",
     "output_type": "stream",
     "text": [
      "New names:\n",
      "* NA -> ...1\n",
      "* NA -> ...2\n",
      "* NA -> ...3\n",
      "* NA -> ...4\n",
      "* NA -> ...5\n",
      "* ...\n",
      "Warning message:\n",
      "\"The `x` argument of `as_tibble.matrix()` must have unique column names if `.name_repair` is omitted as of tibble 2.0.0.\n",
      "Using compatibility `.name_repair`.\n",
      "This warning is displayed once every 8 hours.\n",
      "Call `lifecycle::last_warnings()` to see where this warning was generated.\""
     ]
    },
    {
     "data": {
      "text/plain": [
       "\n",
       "Call:\n",
       "glm(formula = dead ~ . - V2 - V4 - V5 - V3, family = \"binomial\", \n",
       "    data = X)\n",
       "\n",
       "Deviance Residuals: \n",
       "    Min       1Q   Median       3Q      Max  \n",
       "-0.8576  -0.3369  -0.1287  -0.1287   3.0976  \n",
       "\n",
       "Coefficients:\n",
       "             Estimate Std. Error z value Pr(>|z|)    \n",
       "(Intercept) -4.789157   0.449070 -10.665  < 2e-16 ***\n",
       "V6           0.035429   0.010507   3.372 0.000746 ***\n",
       "V7           0.041837   0.008260   5.065 4.09e-07 ***\n",
       "V8           0.043617   0.007028   6.206 5.44e-10 ***\n",
       "V9           0.046803   0.006676   7.010 2.38e-12 ***\n",
       "V10         -0.113441   6.851302  -0.017 0.986790    \n",
       "---\n",
       "Signif. codes:  0 '***' 0.001 '**' 0.01 '*' 0.05 '.' 0.1 ' ' 1\n",
       "\n",
       "(Dispersion parameter for binomial family taken to be 1)\n",
       "\n",
       "    Null deviance: 420.26  on 999  degrees of freedom\n",
       "Residual deviance: 333.22  on 994  degrees of freedom\n",
       "AIC: 345.22\n",
       "\n",
       "Number of Fisher Scoring iterations: 14\n"
      ]
     },
     "metadata": {},
     "output_type": "display_data"
    }
   ],
   "source": [
    "Sampled_Data %>% to_dummy(age_truncated) %>%{\n",
    "X = .\n",
    "lapply(1:10, function(i){X[,i]*(i-1)*10 + X[,i]*5})\n",
    "} %>%\n",
    "do.call(cbind,.) %>% as_tibble() %>% bind_cols(Sampled_Data) %>%\n",
    "select(-age, -age_truncated) %>%\n",
    "select(-V1) %>%\n",
    "{\n",
    "X = .\n",
    "glm(dead ~ . -V2 -V4 -V5 -V3, family = \"binomial\", data = X)\n",
    "} %>%\n",
    "summary()"
   ]
  },
  {
   "cell_type": "code",
   "execution_count": 29,
   "id": "catholic-rwanda",
   "metadata": {
    "scrolled": false
   },
   "outputs": [],
   "source": [
    "# Model for kontinuert alder.\n",
    "glm.main <- glm(dead ~ age, family = \"binomial\", data = Sampled_Data)\n",
    "#coef(summary(glm.main))"
   ]
  },
  {
   "cell_type": "code",
   "execution_count": 30,
   "id": "confident-olive",
   "metadata": {},
   "outputs": [
    {
     "data": {
      "text/html": [
       "<table>\n",
       "<thead><tr><th></th><th scope=col>Estimate</th><th scope=col>Std. Error</th><th scope=col>z value</th><th scope=col>Pr(&gt;|z|)</th></tr></thead>\n",
       "<tbody>\n",
       "\t<tr><th scope=row>(Intercept)</th><td>-6.47528498 </td><td>0.593266017 </td><td>-10.914640  </td><td>9.811730e-28</td></tr>\n",
       "\t<tr><th scope=row>age_truncated</th><td> 0.07028061 </td><td>0.009273789 </td><td>  7.578414  </td><td>3.498047e-14</td></tr>\n",
       "</tbody>\n",
       "</table>\n"
      ],
      "text/latex": [
       "\\begin{tabular}{r|llll}\n",
       "  & Estimate & Std. Error & z value & Pr(>\\textbar{}z\\textbar{})\\\\\n",
       "\\hline\n",
       "\t(Intercept) & -6.47528498  & 0.593266017  & -10.914640   & 9.811730e-28\\\\\n",
       "\tage\\_truncated &  0.07028061  & 0.009273789  &   7.578414   & 3.498047e-14\\\\\n",
       "\\end{tabular}\n"
      ],
      "text/markdown": [
       "\n",
       "| <!--/--> | Estimate | Std. Error | z value | Pr(>|z|) |\n",
       "|---|---|---|---|---|\n",
       "| (Intercept) | -6.47528498  | 0.593266017  | -10.914640   | 9.811730e-28 |\n",
       "| age_truncated |  0.07028061  | 0.009273789  |   7.578414   | 3.498047e-14 |\n",
       "\n"
      ],
      "text/plain": [
       "              Estimate    Std. Error  z value    Pr(>|z|)    \n",
       "(Intercept)   -6.47528498 0.593266017 -10.914640 9.811730e-28\n",
       "age_truncated  0.07028061 0.009273789   7.578414 3.498047e-14"
      ]
     },
     "metadata": {},
     "output_type": "display_data"
    }
   ],
   "source": [
    "# Model for trunkeret alder.\n",
    "glm.truncated <- glm(dead ~ age_truncated, family = \"binomial\", data = Sampled_Data)\n",
    "coef(summary(glm.truncated))"
   ]
  },
  {
   "cell_type": "code",
   "execution_count": 31,
   "id": "athletic-finger",
   "metadata": {},
   "outputs": [],
   "source": [
    "#model_test <- glm(dead ~ as.factor(age_truncated), family = \"binomial\", data = Sampled_Data)\n",
    "#summary(model_test)"
   ]
  },
  {
   "cell_type": "code",
   "execution_count": 32,
   "id": "generous-percentage",
   "metadata": {},
   "outputs": [],
   "source": [
    "#lrtest(model_test, glm.truncated)"
   ]
  },
  {
   "cell_type": "markdown",
   "id": "white-shadow",
   "metadata": {},
   "source": [
    "#### Der ønskes testet, hvor sandsynligt at $\\alpha$ og $\\beta$ ligger i fordelingen for estimatet $\\hat{\\alpha}$ og $\\hat{\\beta}$\n",
    "\n",
    "Med andre ord, kan det samme opstilles som en hypotesetest."
   ]
  },
  {
   "cell_type": "markdown",
   "id": "representative-sigma",
   "metadata": {},
   "source": [
    "For at vide med om, vores model estimat er et godt estimat ifht. de sande alpha og beta værdier, hvilket er henholdsvis -9 og 0.1, da opsættes en hypotesetest."
   ]
  },
  {
   "cell_type": "markdown",
   "id": "pleasant-summary",
   "metadata": {},
   "source": [
    "$$H_0: \\hat{\\alpha} = \\alpha \\implies \\hat{\\alpha} - \\alpha = 0 \\quad \\text{ og } \\quad H_0: \\hat{\\beta} = \\beta \\implies \\hat{\\beta} - \\beta = 0$$"
   ]
  },
  {
   "cell_type": "markdown",
   "id": "burning-republican",
   "metadata": {},
   "source": [
    "$$H_a: \\hat{\\alpha} \\neq \\alpha \\implies \\hat{\\alpha} - \\alpha \\neq 0 \\quad \\text{ og } \\quad H_a: \\hat{\\beta} \\neq \\beta \\implies \\hat{\\beta} - \\beta \\neq 0$$"
   ]
  },
  {
   "cell_type": "code",
   "execution_count": 33,
   "id": "medical-marks",
   "metadata": {},
   "outputs": [],
   "source": [
    "paramEstimates = list()\n",
    "for (p in 1:nrow(Sampled_Data)){\n",
    "    sample <- Sampler(nrow(Sampled_Data), alpha, beta)\n",
    "    sample <- sample %>% mutate(age_truncated = floor(age/10)*10)\n",
    "    paramEstimates[[p]] = coef(glm(dead ~ age_truncated, family = \"binomial\", data = sample))\n",
    "}\n",
    "paramEstimates <- reduce(paramEstimates, rbind)"
   ]
  },
  {
   "cell_type": "code",
   "execution_count": 34,
   "id": "nonprofit-knitting",
   "metadata": {},
   "outputs": [
    {
     "data": {
      "text/html": [
       "<table>\n",
       "<thead><tr><th></th><th scope=col>(Intercept)</th><th scope=col>age_truncated</th></tr></thead>\n",
       "<tbody>\n",
       "\t<tr><th scope=row>out</th><td>-7.227230 </td><td>0.07940522</td></tr>\n",
       "\t<tr><th scope=row>elt</th><td>-8.385879 </td><td>0.09801039</td></tr>\n",
       "\t<tr><th scope=row>elt</th><td>-8.894751 </td><td>0.10461857</td></tr>\n",
       "\t<tr><th scope=row>elt</th><td>-8.762413 </td><td>0.10355644</td></tr>\n",
       "\t<tr><th scope=row>elt</th><td>-8.198588 </td><td>0.09578427</td></tr>\n",
       "\t<tr><th scope=row>elt</th><td>-8.066181 </td><td>0.09122206</td></tr>\n",
       "</tbody>\n",
       "</table>\n"
      ],
      "text/latex": [
       "\\begin{tabular}{r|ll}\n",
       "  & (Intercept) & age\\_truncated\\\\\n",
       "\\hline\n",
       "\tout & -7.227230  & 0.07940522\\\\\n",
       "\telt & -8.385879  & 0.09801039\\\\\n",
       "\telt & -8.894751  & 0.10461857\\\\\n",
       "\telt & -8.762413  & 0.10355644\\\\\n",
       "\telt & -8.198588  & 0.09578427\\\\\n",
       "\telt & -8.066181  & 0.09122206\\\\\n",
       "\\end{tabular}\n"
      ],
      "text/markdown": [
       "\n",
       "| <!--/--> | (Intercept) | age_truncated |\n",
       "|---|---|---|\n",
       "| out | -7.227230  | 0.07940522 |\n",
       "| elt | -8.385879  | 0.09801039 |\n",
       "| elt | -8.894751  | 0.10461857 |\n",
       "| elt | -8.762413  | 0.10355644 |\n",
       "| elt | -8.198588  | 0.09578427 |\n",
       "| elt | -8.066181  | 0.09122206 |\n",
       "\n"
      ],
      "text/plain": [
       "    (Intercept) age_truncated\n",
       "out -7.227230   0.07940522   \n",
       "elt -8.385879   0.09801039   \n",
       "elt -8.894751   0.10461857   \n",
       "elt -8.762413   0.10355644   \n",
       "elt -8.198588   0.09578427   \n",
       "elt -8.066181   0.09122206   "
      ]
     },
     "metadata": {},
     "output_type": "display_data"
    }
   ],
   "source": [
    "head(paramEstimates)"
   ]
  },
  {
   "cell_type": "code",
   "execution_count": 35,
   "id": "intense-involvement",
   "metadata": {},
   "outputs": [],
   "source": [
    "estimate_alpha <- paramEstimates[,1] - alpha\n",
    "estimate_beta <- paramEstimates[,2] - beta"
   ]
  },
  {
   "cell_type": "code",
   "execution_count": 36,
   "id": "smart-shelf",
   "metadata": {},
   "outputs": [
    {
     "data": {
      "image/png": "[encoded data removed]",
      "text/plain": [
       "plot without title"
      ]
     },
     "metadata": {},
     "output_type": "display_data"
    }
   ],
   "source": [
    "plot(estimate_alpha, estimate_beta)"
   ]
  },
  {
   "cell_type": "markdown",
   "id": "great-republican",
   "metadata": {},
   "source": [
    "Plottet fortæller os, at der er en høj korrelation. Det vil sige, hvis vi gætter for højt i vores intercept led, altså $\\hat{\\alpha} > \\alpha$ vil vores hældningkoefficent beta ligeledes være tilsvarende for lavt $\\hat{\\beta} < \\beta$."
   ]
  },
  {
   "cell_type": "code",
   "execution_count": 37,
   "id": "relevant-console",
   "metadata": {},
   "outputs": [
    {
     "data": {
      "image/png": "[encoded data removed]",
      "text/plain": [
       "Plot with title \"Histogram of estimate_alpha\""
      ]
     },
     "metadata": {},
     "output_type": "display_data"
    }
   ],
   "source": [
    "hist(estimate_alpha, breaks = 50)"
   ]
  },
  {
   "cell_type": "code",
   "execution_count": 38,
   "id": "continent-blood",
   "metadata": {},
   "outputs": [
    {
     "data": {
      "text/html": [
       "<dl class=dl-horizontal>\n",
       "\t<dt>2.5%</dt>\n",
       "\t\t<dd>-1.25167509064857</dd>\n",
       "\t<dt>97.5%</dt>\n",
       "\t\t<dd>1.95991308181103</dd>\n",
       "</dl>\n"
      ],
      "text/latex": [
       "\\begin{description*}\n",
       "\\item[2.5\\textbackslash{}\\%] -1.25167509064857\n",
       "\\item[97.5\\textbackslash{}\\%] 1.95991308181103\n",
       "\\end{description*}\n"
      ],
      "text/markdown": [
       "2.5%\n",
       ":   -1.2516750906485797.5%\n",
       ":   1.95991308181103\n",
       "\n"
      ],
      "text/plain": [
       "     2.5%     97.5% \n",
       "-1.251675  1.959913 "
      ]
     },
     "metadata": {},
     "output_type": "display_data"
    }
   ],
   "source": [
    "quantile(estimate_alpha, c(0.025, 0.975))"
   ]
  },
  {
   "cell_type": "code",
   "execution_count": 39,
   "id": "supreme-mobility",
   "metadata": {},
   "outputs": [
    {
     "data": {
      "text/html": [
       "0.681541694256915"
      ],
      "text/latex": [
       "0.681541694256915"
      ],
      "text/markdown": [
       "0.681541694256915"
      ],
      "text/plain": [
       "[1] 0.6815417"
      ]
     },
     "metadata": {},
     "output_type": "display_data"
    }
   ],
   "source": [
    "mean(estimate_alpha) + 1.96*sd(estimate_alpha)/sqrt(length(estimate_alpha))"
   ]
  },
  {
   "cell_type": "code",
   "execution_count": 40,
   "id": "alpine-gregory",
   "metadata": {},
   "outputs": [
    {
     "data": {
      "text/html": [
       "-1.00453521387446"
      ],
      "text/latex": [
       "-1.00453521387446"
      ],
      "text/markdown": [
       "-1.00453521387446"
      ],
      "text/plain": [
       "[1] -1.004535"
      ]
     },
     "metadata": {},
     "output_type": "display_data"
    }
   ],
   "source": [
    "mean(estimate_alpha) - 1.96 * sd(estimate_alpha)"
   ]
  },
  {
   "cell_type": "markdown",
   "id": "parallel-services",
   "metadata": {},
   "source": [
    "Da nul (0) indgår i intervallet, kan vi ikke forkaste $H_0$ og dermed accepteres den og, vi kan altså antage på baggrund af denne test, at der ikke er en signifikant forskel på det trunkerede data's parameter estimater og de sande værdier."
   ]
  },
  {
   "cell_type": "code",
   "execution_count": 41,
   "id": "willing-spencer",
   "metadata": {},
   "outputs": [
    {
     "data": {
      "image/png": "[encoded data removed]",
      "text/plain": [
       "Plot with title \"Histogram of estimate_beta\""
      ]
     },
     "metadata": {},
     "output_type": "display_data"
    }
   ],
   "source": [
    "hist(estimate_beta, breaks = 50)"
   ]
  },
  {
   "cell_type": "code",
   "execution_count": 42,
   "id": "integral-benchmark",
   "metadata": {},
   "outputs": [
    {
     "data": {
      "text/html": [
       "<dl class=dl-horizontal>\n",
       "\t<dt>2.5%</dt>\n",
       "\t\t<dd>-0.0227946377863933</dd>\n",
       "\t<dt>97.5%</dt>\n",
       "\t\t<dd>0.0246221578680717</dd>\n",
       "</dl>\n"
      ],
      "text/latex": [
       "\\begin{description*}\n",
       "\\item[2.5\\textbackslash{}\\%] -0.0227946377863933\n",
       "\\item[97.5\\textbackslash{}\\%] 0.0246221578680717\n",
       "\\end{description*}\n"
      ],
      "text/markdown": [
       "2.5%\n",
       ":   -0.022794637786393397.5%\n",
       ":   0.0246221578680717\n",
       "\n"
      ],
      "text/plain": [
       "       2.5%       97.5% \n",
       "-0.02279464  0.02462216 "
      ]
     },
     "metadata": {},
     "output_type": "display_data"
    }
   ],
   "source": [
    "quantile(estimate_beta, c(0.025, 0.975))"
   ]
  },
  {
   "cell_type": "markdown",
   "id": "guilty-actor",
   "metadata": {},
   "source": [
    "Konklusionen er ligeledes den samme for beta og $H_0$, kan altså dermed IKKE forkastes."
   ]
  },
  {
   "cell_type": "markdown",
   "id": "dutch-thumb",
   "metadata": {},
   "source": [
    "#### Den uafhængige sandsynlighed for at dø af corona givet man er smittet (i Danmark)."
   ]
  },
  {
   "cell_type": "code",
   "execution_count": 43,
   "id": "banner-learning",
   "metadata": {},
   "outputs": [],
   "source": [
    "percent <- function(x, digits = 2, format = \"f\", ...) {     \n",
    "  paste0(formatC(x * 100, format = format, digits = digits, ...), \"%\")\n",
    "}"
   ]
  },
  {
   "cell_type": "code",
   "execution_count": 44,
   "id": "oriental-bundle",
   "metadata": {},
   "outputs": [
    {
     "data": {
      "text/html": [
       "0.0501070970023909"
      ],
      "text/latex": [
       "0.0501070970023909"
      ],
      "text/markdown": [
       "0.0501070970023909"
      ],
      "text/plain": [
       "[1] 0.0501071"
      ]
     },
     "metadata": {},
     "output_type": "display_data"
    },
    {
     "data": {
      "text/html": [
       "'5.01%'"
      ],
      "text/latex": [
       "'5.01\\%'"
      ],
      "text/markdown": [
       "'5.01%'"
      ],
      "text/plain": [
       "[1] \"5.01%\""
      ]
     },
     "metadata": {},
     "output_type": "display_data"
    }
   ],
   "source": [
    "`P(Age)` = DKpop$P\n",
    "`P(Dead|Age)` = ilogit(alpha + beta*DKpop$age)\n",
    "(`P(Dead)` = sum(`P(Dead|Age)`*`P(Age)`))\n",
    "percent(`P(Dead)`)"
   ]
  },
  {
   "cell_type": "code",
   "execution_count": 45,
   "id": "patient-labor",
   "metadata": {
    "scrolled": false
   },
   "outputs": [],
   "source": [
    "#anova(model, glm.main, test=\"Chisq\")"
   ]
  },
  {
   "cell_type": "code",
   "execution_count": 46,
   "id": "scientific-attachment",
   "metadata": {
    "scrolled": true
   },
   "outputs": [],
   "source": [
    "#anova(model, glm.truncated, test=\"Chisq\")"
   ]
  },
  {
   "cell_type": "code",
   "execution_count": 47,
   "id": "derived-segment",
   "metadata": {
    "scrolled": true
   },
   "outputs": [],
   "source": [
    "#anova(glm.main, glm.truncated, test=\"Chisq\")"
   ]
  },
  {
   "cell_type": "code",
   "execution_count": 126,
   "id": "valued-routine",
   "metadata": {},
   "outputs": [],
   "source": [
    "inverse_logit = function(p){\n",
    "    exp(p)/(1+exp(p))\n",
    "}\n",
    "\n",
    "To_Scaled_Factor = function(Data, Variable){\n",
    "    suppressMessages(Data %>% \n",
    "                     to_dummy({{Variable}}) %>% \n",
    "                     as_tibble() %>%\n",
    "                     {\n",
    "                         X = .\n",
    "                         names(X) = paste0(\"Agegroup \", 0:(ncol(X)-1))\n",
    "                         X\n",
    "                     } %>%\n",
    "                     {\n",
    "                         X = .\n",
    "                         Data %>% bind_cols(X)\n",
    "                     } %>% select(-`Agegroup 0`))\n",
    "}\n",
    "\n",
    "LogisticRegression = function(Data, Variable){\n",
    "    glm({{Variable}} ~ . , data = Data, family = \"binomial\")\n",
    "}\n",
    "\n",
    "link = function(Data, beta_0, beta_1){\n",
    "    a = rowSums(beta_1*Data) + beta_0\n",
    "    exp(a)/(1+exp(a))\n",
    "}\n",
    "\n",
    "loglikelihood = function(Data, beta_0, beta_1, deselect){\n",
    "    Y = Data %>% pull({{deselect}})\n",
    "    X = Data %>% select(-{{deselect}})\n",
    "    sum(Y*log(link(X,beta_0, beta_1)) + (1-Y)*log(1-link(X,beta_0,beta_1)))\n",
    "}\n",
    "\n",
    "pvals = function(Data){\n",
    "    p = coef(summary(Data))[,4]\n",
    "    if (any(p > 0.05)) {\n",
    "        min(which.max(p))\n",
    "    } else {\n",
    "        c()\n",
    "    }\n",
    "}"
   ]
  },
  {
   "cell_type": "code",
   "execution_count": 130,
   "id": "automatic-approval",
   "metadata": {},
   "outputs": [],
   "source": [
    "#Dummy_Data = Sampled_Data %>% To_Scaled_Factor(age_truncated) %>% select(-age, -age_truncated)\n",
    "\n",
    "n = 200\n",
    "Betas = list()\n",
    "LR = list()\n",
    "express = dead ~ .\n",
    "\n",
    "for (b in 1:n){\n",
    "    Sampled_Data = Sampler(1000,alpha,beta)\n",
    "    Sampled_Data %<>% mutate(age_truncated = floor(age/10)*10)\n",
    "    Dummy_Data = Sampled_Data %>% To_Scaled_Factor(age_truncated) %>% select(-age, -age_truncated)\n",
    "    m = ncol(Dummy_Data) -1\n",
    "    variables = names(coef(glm(dead~ age_truncated, family = \"binomial\", data = Sampled_Data)))\n",
    "    Dummy_Data %<>% select(dead,everything())\n",
    "    k = 0\n",
    "    while (T){\n",
    "        i = Dummy_Data %>% {\n",
    "            X = .; glm(express, family = \"binomial\", data = X)\n",
    "        } %>% pvals\n",
    "        if (length(i) > 0){\n",
    "            if (i == 1 & k != 1){\n",
    "                express = dead ~ . - 1\n",
    "                k = 1\n",
    "            } else {\n",
    "                Dummy_Data = Dummy_Data %>% dplyr::select(-i)\n",
    "            }\n",
    "        } else {\n",
    "            break\n",
    "        }\n",
    "    }\n",
    "    constBeta = coef(glm(dead ~ age_truncated, family = \"binomial\", data = Sampled_Data))\n",
    "    Model = glm(express, family =\"binomial\", data =Dummy_Data)\n",
    "    l_r = Dummy_Data %>% loglikelihood(constBeta[1],constBeta[2],dead)\n",
    "    l_u = logLik(Model)\n",
    "    llr = -2*(l_r - l_u)\n",
    "    LR[[b]] = llr\n",
    "    betas = rep(0,length(variables))\n",
    "    names(betas) = variables\n",
    "    betas[names(coef(Model))] = coef(Model)\n",
    "    Betas[[b]] = betas\n",
    "}"
   ]
  },
  {
   "cell_type": "code",
   "execution_count": 140,
   "id": "aggregate-india",
   "metadata": {
    "scrolled": false
   },
   "outputs": [
    {
     "data": {
      "text/html": [
       "<ol>\n",
       "\t<li><dl class=dl-horizontal>\n",
       "\t<dt>(Intercept)</dt>\n",
       "\t\t<dd>-4.4094256088571</dd>\n",
       "\t<dt>age_truncated</dt>\n",
       "\t\t<dd>0</dd>\n",
       "\t<dt>`Agegroup 6`</dt>\n",
       "\t\t<dd>2.45336308833776</dd>\n",
       "\t<dt>`Agegroup 7`</dt>\n",
       "\t\t<dd>3.03571002994407</dd>\n",
       "\t<dt>`Agegroup 8`</dt>\n",
       "\t\t<dd>3.39782469717861</dd>\n",
       "\t<dt>`Agegroup 9`</dt>\n",
       "\t\t<dd>4.18628205754289</dd>\n",
       "</dl>\n",
       "</li>\n",
       "\t<li><dl class=dl-horizontal>\n",
       "\t<dt>(Intercept)</dt>\n",
       "\t\t<dd>-5.34392787779814</dd>\n",
       "\t<dt>age_truncated</dt>\n",
       "\t\t<dd>0</dd>\n",
       "\t<dt>`Agegroup 5`</dt>\n",
       "\t\t<dd>2.47765367148103</dd>\n",
       "\t<dt>`Agegroup 6`</dt>\n",
       "\t\t<dd>3.03139245395092</dd>\n",
       "\t<dt>`Agegroup 7`</dt>\n",
       "\t\t<dd>4.30783594611137</dd>\n",
       "\t<dt>`Agegroup 8`</dt>\n",
       "\t\t<dd>4.73779207422783</dd>\n",
       "\t<dt>`Agegroup 9`</dt>\n",
       "\t\t<dd>7.54115245513437</dd>\n",
       "</dl>\n",
       "</li>\n",
       "\t<li><dl class=dl-horizontal>\n",
       "\t<dt>(Intercept)</dt>\n",
       "\t\t<dd>-6.41836493592727</dd>\n",
       "\t<dt>age_truncated</dt>\n",
       "\t\t<dd>0</dd>\n",
       "\t<dt>`Agegroup 4`</dt>\n",
       "\t\t<dd>2.91431016882541</dd>\n",
       "\t<dt>`Agegroup 6`</dt>\n",
       "\t\t<dd>3.88268596076585</dd>\n",
       "\t<dt>`Agegroup 7`</dt>\n",
       "\t\t<dd>4.82076148114017</dd>\n",
       "\t<dt>`Agegroup 8`</dt>\n",
       "\t\t<dd>5.8718212295592</dd>\n",
       "\t<dt>`Agegroup 9`</dt>\n",
       "\t\t<dd>7.11151211648722</dd>\n",
       "</dl>\n",
       "</li>\n",
       "</ol>\n"
      ],
      "text/latex": [
       "\\begin{enumerate}\n",
       "\\item \\begin{description*}\n",
       "\\item[(Intercept)] -4.4094256088571\n",
       "\\item[age\\textbackslash{}\\_truncated] 0\n",
       "\\item[`Agegroup 6`] 2.45336308833776\n",
       "\\item[`Agegroup 7`] 3.03571002994407\n",
       "\\item[`Agegroup 8`] 3.39782469717861\n",
       "\\item[`Agegroup 9`] 4.18628205754289\n",
       "\\end{description*}\n",
       "\n",
       "\\item \\begin{description*}\n",
       "\\item[(Intercept)] -5.34392787779814\n",
       "\\item[age\\textbackslash{}\\_truncated] 0\n",
       "\\item[`Agegroup 5`] 2.47765367148103\n",
       "\\item[`Agegroup 6`] 3.03139245395092\n",
       "\\item[`Agegroup 7`] 4.30783594611137\n",
       "\\item[`Agegroup 8`] 4.73779207422783\n",
       "\\item[`Agegroup 9`] 7.54115245513437\n",
       "\\end{description*}\n",
       "\n",
       "\\item \\begin{description*}\n",
       "\\item[(Intercept)] -6.41836493592727\n",
       "\\item[age\\textbackslash{}\\_truncated] 0\n",
       "\\item[`Agegroup 4`] 2.91431016882541\n",
       "\\item[`Agegroup 6`] 3.88268596076585\n",
       "\\item[`Agegroup 7`] 4.82076148114017\n",
       "\\item[`Agegroup 8`] 5.8718212295592\n",
       "\\item[`Agegroup 9`] 7.11151211648722\n",
       "\\end{description*}\n",
       "\n",
       "\\end{enumerate}\n"
      ],
      "text/markdown": [
       "1. (Intercept)\n",
       ":   -4.4094256088571age_truncated\n",
       ":   0`Agegroup 6`\n",
       ":   2.45336308833776`Agegroup 7`\n",
       ":   3.03571002994407`Agegroup 8`\n",
       ":   3.39782469717861`Agegroup 9`\n",
       ":   4.18628205754289\n",
       "\n",
       "\n",
       "2. (Intercept)\n",
       ":   -5.34392787779814age_truncated\n",
       ":   0`Agegroup 5`\n",
       ":   2.47765367148103`Agegroup 6`\n",
       ":   3.03139245395092`Agegroup 7`\n",
       ":   4.30783594611137`Agegroup 8`\n",
       ":   4.73779207422783`Agegroup 9`\n",
       ":   7.54115245513437\n",
       "\n",
       "\n",
       "3. (Intercept)\n",
       ":   -6.41836493592727age_truncated\n",
       ":   0`Agegroup 4`\n",
       ":   2.91431016882541`Agegroup 6`\n",
       ":   3.88268596076585`Agegroup 7`\n",
       ":   4.82076148114017`Agegroup 8`\n",
       ":   5.8718212295592`Agegroup 9`\n",
       ":   7.11151211648722\n",
       "\n",
       "\n",
       "\n",
       "\n"
      ],
      "text/plain": [
       "[[1]]\n",
       "  (Intercept) age_truncated  `Agegroup 6`  `Agegroup 7`  `Agegroup 8` \n",
       "    -4.409426      0.000000      2.453363      3.035710      3.397825 \n",
       " `Agegroup 9` \n",
       "     4.186282 \n",
       "\n",
       "[[2]]\n",
       "  (Intercept) age_truncated  `Agegroup 5`  `Agegroup 6`  `Agegroup 7` \n",
       "    -5.343928      0.000000      2.477654      3.031392      4.307836 \n",
       " `Agegroup 8`  `Agegroup 9` \n",
       "     4.737792      7.541152 \n",
       "\n",
       "[[3]]\n",
       "  (Intercept) age_truncated  `Agegroup 4`  `Agegroup 6`  `Agegroup 7` \n",
       "    -6.418365      0.000000      2.914310      3.882686      4.820761 \n",
       " `Agegroup 8`  `Agegroup 9` \n",
       "     5.871821      7.111512 \n"
      ]
     },
     "metadata": {},
     "output_type": "display_data"
    }
   ],
   "source": [
    "head(Betas, 3)"
   ]
  },
  {
   "cell_type": "markdown",
   "id": "economic-safety",
   "metadata": {},
   "source": [
    "##### Er der en signifikant forskel på, alpha og beta samt alpha hat og beta_hat som kategorisk."
   ]
  },
  {
   "cell_type": "code",
   "execution_count": 119,
   "id": "swiss-paint",
   "metadata": {},
   "outputs": [
    {
     "name": "stderr",
     "output_type": "stream",
     "text": [
      "Warning message in (function (..., deparse.level = 1) :\n",
      "\"number of columns of result is not a multiple of vector length (arg 1)\""
     ]
    }
   ],
   "source": [
    "Betas %<>% do.call(rbind,.)"
   ]
  },
  {
   "cell_type": "code",
   "execution_count": 122,
   "id": "meaningful-broadway",
   "metadata": {
    "scrolled": false
   },
   "outputs": [
    {
     "data": {
      "image/png": "[encoded data removed]",
      "text/plain": [
       "Plot with title \"Histogram of Betas[, 3]\""
      ]
     },
     "metadata": {},
     "output_type": "display_data"
    }
   ],
   "source": [
    "hist(Betas[,3])"
   ]
  },
  {
   "cell_type": "code",
   "execution_count": 121,
   "id": "retained-plenty",
   "metadata": {},
   "outputs": [
    {
     "data": {
      "image/png": "[encoded data removed]",
      "text/plain": [
       "Plot with title \"Histogram of Betas[, 1]\""
      ]
     },
     "metadata": {},
     "output_type": "display_data"
    }
   ],
   "source": [
    "hist(Betas[,1])"
   ]
  },
  {
   "cell_type": "markdown",
   "id": "involved-trout",
   "metadata": {},
   "source": [
    "##### Hvor kunne den underlæggende variabel stamme fra, kontinuert eller kategorisk eller andet?"
   ]
  },
  {
   "cell_type": "code",
   "execution_count": 125,
   "id": "announced-opera",
   "metadata": {},
   "outputs": [
    {
     "data": {
      "text/plain": [
       "[[1]]\n",
       "'log Lik.' 560.5629 (df=5)\n",
       "\n",
       "[[2]]\n",
       "'log Lik.' 629.656 (df=6)\n",
       "\n",
       "[[3]]\n",
       "'log Lik.' 333.8526 (df=6)\n",
       "\n",
       "[[4]]\n",
       "'log Lik.' 468.8874 (df=6)\n",
       "\n",
       "[[5]]\n",
       "'log Lik.' 497.9194 (df=7)\n",
       "\n",
       "[[6]]\n",
       "'log Lik.' 703.8576 (df=6)\n"
      ]
     },
     "metadata": {},
     "output_type": "display_data"
    }
   ],
   "source": [
    "head(LR)"
   ]
  },
  {
   "cell_type": "markdown",
   "id": "natural-popularity",
   "metadata": {},
   "source": [
    "Der afvises samtlige gange, at de to modeller er ens. Dette betyder dog ikke, at vi sammentidigt kan afvise, hvorvidt den underlæggende variabel stammer fra noget kategorisk eller kvantitativt.\n",
    "\n",
    "Da det er en ret så naturlig antagelse at forvente, at alder er kontinuert vil der forekomme bias, jævnfør de plots vi har set."
   ]
  },
  {
   "cell_type": "code",
   "execution_count": 124,
   "id": "tribal-compatibility",
   "metadata": {},
   "outputs": [],
   "source": [
    "#Data = Sampled_Data %>% select(-age)\n",
    "#loglikelihood(Data,betas[1],betas[2], dead)"
   ]
  },
  {
   "cell_type": "markdown",
   "id": "defined-mortgage",
   "metadata": {},
   "source": [
    "# Assess the performance of the model (Dette fandt vi ikke nødvendigt alligevel)"
   ]
  },
  {
   "cell_type": "markdown",
   "id": "increased-expert",
   "metadata": {},
   "source": [
    "https://www.guru99.com/r-generalized-linear-model.html\n",
    "\n",
    "The confusion matrix is a better choice to evaluate the classification performance compared with other metrics. The general idea is to count the number of times True instances are classified are False."
   ]
  },
  {
   "cell_type": "code",
   "execution_count": 50,
   "id": "soviet-annual",
   "metadata": {},
   "outputs": [
    {
     "data": {
      "text/plain": [
       "       \n",
       "        FALSE TRUE\n",
       "  FALSE   937    1\n",
       "  TRUE     61    1"
      ]
     },
     "metadata": {},
     "output_type": "display_data"
    }
   ],
   "source": [
    "predict <- predict(glm.main, Sampled_Data, type = 'response') # Beregn forudsigelserne for response sandsynligheden.\n",
    "# confusion matrix\n",
    "table_mat <- table(Sampled_Data$dead, predict > 0.5) # Hvis forudsigelserne er større end 0.5 returner 1 ellers 0.\n",
    "table_mat # Søjlerne er selve forudsigelsen, hvor rækkerne er, hvad forudsigelsen burde værre."
   ]
  },
  {
   "cell_type": "markdown",
   "id": "continuous-wichita",
   "metadata": {},
   "source": [
    "Calculating the model accuracy by summing the true positive + true negative over the total observation"
   ]
  },
  {
   "cell_type": "code",
   "execution_count": 51,
   "id": "chinese-elite",
   "metadata": {},
   "outputs": [
    {
     "data": {
      "text/html": [
       "0.938"
      ],
      "text/latex": [
       "0.938"
      ],
      "text/markdown": [
       "0.938"
      ],
      "text/plain": [
       "[1] 0.938"
      ]
     },
     "metadata": {},
     "output_type": "display_data"
    }
   ],
   "source": [
    "accuracy_Test <- sum(diag(table_mat)) / sum(table_mat)\n",
    "accuracy_Test"
   ]
  },
  {
   "cell_type": "markdown",
   "id": "productive-stroke",
   "metadata": {},
   "source": [
    "Repeating same procedure for the other model."
   ]
  },
  {
   "cell_type": "code",
   "execution_count": 52,
   "id": "optical-cooling",
   "metadata": {},
   "outputs": [
    {
     "data": {
      "text/plain": [
       "       \n",
       "        FALSE\n",
       "  FALSE   938\n",
       "  TRUE     62"
      ]
     },
     "metadata": {},
     "output_type": "display_data"
    }
   ],
   "source": [
    "predict.trunc <- predict(glm.truncated, Sampled_Data, type = 'response') # Beregn forudsigelserne for response sandsynligheden.\n",
    "# confusion matrix\n",
    "table_mat.trunc <- table(Sampled_Data$dead, predict.trunc > 0.5) # Hvis forudsigelserne er større end 0.5 returner 1 ellers 0.\n",
    "table_mat.trunc # Søjlerne er selve forudsigelsen, hvor rækkerne er, hvad forudsigelsen burde værre."
   ]
  },
  {
   "cell_type": "code",
   "execution_count": 53,
   "id": "insured-daughter",
   "metadata": {},
   "outputs": [
    {
     "data": {
      "text/html": [
       "0.938"
      ],
      "text/latex": [
       "0.938"
      ],
      "text/markdown": [
       "0.938"
      ],
      "text/plain": [
       "[1] 0.938"
      ]
     },
     "metadata": {},
     "output_type": "display_data"
    }
   ],
   "source": [
    "accuracy_Test.trunc <- sum(diag(table_mat.trunc)) / sum(table_mat.trunc)\n",
    "accuracy_Test.trunc"
   ]
  },
  {
   "cell_type": "markdown",
   "id": "hollywood-payment",
   "metadata": {},
   "source": [
    "#### Beregning af forklaringsgraden $R^2$"
   ]
  },
  {
   "cell_type": "markdown",
   "id": "supreme-myanmar",
   "metadata": {},
   "source": [
    "https://stats.stackexchange.com/questions/46345/how-to-calculate-goodness-of-fit-in-glm-r/46358"
   ]
  },
  {
   "cell_type": "code",
   "execution_count": 54,
   "id": "apparent-supply",
   "metadata": {},
   "outputs": [
    {
     "data": {
      "text/html": [
       "0.22232853656731"
      ],
      "text/latex": [
       "0.22232853656731"
      ],
      "text/markdown": [
       "0.22232853656731"
      ],
      "text/plain": [
       "[1] 0.2223285"
      ]
     },
     "metadata": {},
     "output_type": "display_data"
    }
   ],
   "source": [
    "with(summary(glm.main), 1 - deviance/null.deviance)"
   ]
  },
  {
   "cell_type": "code",
   "execution_count": 55,
   "id": "binary-battery",
   "metadata": {},
   "outputs": [
    {
     "data": {
      "text/html": [
       "0.207595881187376"
      ],
      "text/latex": [
       "0.207595881187376"
      ],
      "text/markdown": [
       "0.207595881187376"
      ],
      "text/plain": [
       "[1] 0.2075959"
      ]
     },
     "metadata": {},
     "output_type": "display_data"
    }
   ],
   "source": [
    "with(summary(glm.truncated), 1 - deviance/null.deviance)"
   ]
  },
  {
   "cell_type": "markdown",
   "id": "compliant-seven",
   "metadata": {},
   "source": [
    "#### Hosmer-Lemeshow Goodness of Fit"
   ]
  },
  {
   "cell_type": "markdown",
   "id": "verified-mounting",
   "metadata": {},
   "source": [
    "https://www.theanalysisfactor.com/r-glm-model-fit/\n",
    "\n",
    "How well our model fits depends on the difference between the model and the observed data.  One approach for binary data is to implement a Hosmer Lemeshow goodness of fit test."
   ]
  },
  {
   "cell_type": "code",
   "execution_count": 56,
   "id": "isolated-stability",
   "metadata": {},
   "outputs": [
    {
     "data": {
      "text/plain": [
       "\n",
       "\tHosmer and Lemeshow goodness of fit (GOF) test\n",
       "\n",
       "data:  Sampled_Data$dead, fitted(glm.main)\n",
       "X-squared = 630.91, df = 8, p-value < 2.2e-16\n"
      ]
     },
     "metadata": {},
     "output_type": "display_data"
    }
   ],
   "source": [
    "(hl.main <- hoslem.test(Sampled_Data$dead, fitted(glm.main)))"
   ]
  },
  {
   "cell_type": "code",
   "execution_count": 57,
   "id": "considered-toddler",
   "metadata": {
    "scrolled": true
   },
   "outputs": [
    {
     "data": {
      "text/plain": [
       "\n",
       "\tHosmer and Lemeshow goodness of fit (GOF) test\n",
       "\n",
       "data:  Sampled_Data$dead, fitted(glm.truncated)\n",
       "X-squared = 394.17, df = 8, p-value < 2.2e-16\n"
      ]
     },
     "metadata": {},
     "output_type": "display_data"
    }
   ],
   "source": [
    "(hl.truncated <- hoslem.test(Sampled_Data$dead, fitted(glm.truncated)))"
   ]
  },
  {
   "cell_type": "code",
   "execution_count": 58,
   "id": "growing-modification",
   "metadata": {},
   "outputs": [
    {
     "data": {
      "text/html": [
       "<table>\n",
       "<thead><tr><th></th><th scope=col>yhat0</th><th scope=col>yhat1</th><th scope=col>y0</th><th scope=col>y1</th></tr></thead>\n",
       "<tbody>\n",
       "\t<tr><th scope=row>[0.000807,0.00166]</th><td>99.88262  </td><td> 0.1173803</td><td>93        </td><td> 7        </td></tr>\n",
       "\t<tr><th scope=row>(0.00166,0.00329]</th><td>99.77214  </td><td> 0.2278600</td><td>94        </td><td> 6        </td></tr>\n",
       "\t<tr><th scope=row>(0.00329,0.00603]</th><td>99.53323  </td><td> 0.4667717</td><td>97        </td><td> 3        </td></tr>\n",
       "\t<tr><th scope=row>(0.00603,0.0108]</th><td>99.18001  </td><td> 0.8199927</td><td>96        </td><td> 4        </td></tr>\n",
       "\t<tr><th scope=row>(0.0108,0.0202]</th><td>98.51484  </td><td> 1.4851561</td><td>95        </td><td> 5        </td></tr>\n",
       "\t<tr><th scope=row>(0.0202,0.0324]</th><td>97.36636  </td><td> 2.6336367</td><td>90        </td><td>10        </td></tr>\n",
       "\t<tr><th scope=row>(0.0324,0.0502]</th><td>95.92138  </td><td> 4.0786234</td><td>92        </td><td> 8        </td></tr>\n",
       "\t<tr><th scope=row>(0.0502,0.0853]</th><td>93.25585  </td><td> 6.7441470</td><td>94        </td><td> 6        </td></tr>\n",
       "\t<tr><th scope=row>(0.0853,0.168]</th><td>87.85842  </td><td>12.1415809</td><td>98        </td><td> 2        </td></tr>\n",
       "\t<tr><th scope=row>(0.168,0.577]</th><td>74.71515  </td><td>25.2848511</td><td>89        </td><td>11        </td></tr>\n",
       "</tbody>\n",
       "</table>\n"
      ],
      "text/latex": [
       "\\begin{tabular}{r|llll}\n",
       "  & yhat0 & yhat1 & y0 & y1\\\\\n",
       "\\hline\n",
       "\t{[}0.000807,0.00166{]} & 99.88262   &  0.1173803 & 93         &  7        \\\\\n",
       "\t(0.00166,0.00329{]} & 99.77214   &  0.2278600 & 94         &  6        \\\\\n",
       "\t(0.00329,0.00603{]} & 99.53323   &  0.4667717 & 97         &  3        \\\\\n",
       "\t(0.00603,0.0108{]} & 99.18001   &  0.8199927 & 96         &  4        \\\\\n",
       "\t(0.0108,0.0202{]} & 98.51484   &  1.4851561 & 95         &  5        \\\\\n",
       "\t(0.0202,0.0324{]} & 97.36636   &  2.6336367 & 90         & 10        \\\\\n",
       "\t(0.0324,0.0502{]} & 95.92138   &  4.0786234 & 92         &  8        \\\\\n",
       "\t(0.0502,0.0853{]} & 93.25585   &  6.7441470 & 94         &  6        \\\\\n",
       "\t(0.0853,0.168{]} & 87.85842   & 12.1415809 & 98         &  2        \\\\\n",
       "\t(0.168,0.577{]} & 74.71515   & 25.2848511 & 89         & 11        \\\\\n",
       "\\end{tabular}\n"
      ],
      "text/markdown": [
       "\n",
       "| <!--/--> | yhat0 | yhat1 | y0 | y1 |\n",
       "|---|---|---|---|---|\n",
       "| [0.000807,0.00166] | 99.88262   |  0.1173803 | 93         |  7         |\n",
       "| (0.00166,0.00329] | 99.77214   |  0.2278600 | 94         |  6         |\n",
       "| (0.00329,0.00603] | 99.53323   |  0.4667717 | 97         |  3         |\n",
       "| (0.00603,0.0108] | 99.18001   |  0.8199927 | 96         |  4         |\n",
       "| (0.0108,0.0202] | 98.51484   |  1.4851561 | 95         |  5         |\n",
       "| (0.0202,0.0324] | 97.36636   |  2.6336367 | 90         | 10         |\n",
       "| (0.0324,0.0502] | 95.92138   |  4.0786234 | 92         |  8         |\n",
       "| (0.0502,0.0853] | 93.25585   |  6.7441470 | 94         |  6         |\n",
       "| (0.0853,0.168] | 87.85842   | 12.1415809 | 98         |  2         |\n",
       "| (0.168,0.577] | 74.71515   | 25.2848511 | 89         | 11         |\n",
       "\n"
      ],
      "text/plain": [
       "                   yhat0    yhat1      y0 y1\n",
       "[0.000807,0.00166] 99.88262  0.1173803 93  7\n",
       "(0.00166,0.00329]  99.77214  0.2278600 94  6\n",
       "(0.00329,0.00603]  99.53323  0.4667717 97  3\n",
       "(0.00603,0.0108]   99.18001  0.8199927 96  4\n",
       "(0.0108,0.0202]    98.51484  1.4851561 95  5\n",
       "(0.0202,0.0324]    97.36636  2.6336367 90 10\n",
       "(0.0324,0.0502]    95.92138  4.0786234 92  8\n",
       "(0.0502,0.0853]    93.25585  6.7441470 94  6\n",
       "(0.0853,0.168]     87.85842 12.1415809 98  2\n",
       "(0.168,0.577]      74.71515 25.2848511 89 11"
      ]
     },
     "metadata": {},
     "output_type": "display_data"
    }
   ],
   "source": [
    "cbind(hl.main$expected, hl.main$observed)"
   ]
  },
  {
   "cell_type": "code",
   "execution_count": 59,
   "id": "noble-wrist",
   "metadata": {},
   "outputs": [
    {
     "data": {
      "text/html": [
       "<table>\n",
       "<thead><tr><th></th><th scope=col>yhat0</th><th scope=col>yhat1</th><th scope=col>y0</th><th scope=col>y1</th></tr></thead>\n",
       "<tbody>\n",
       "\t<tr><th scope=row>[0.00154,0.0031]</th><td>207.52202 </td><td> 0.4779799</td><td>195       </td><td>13        </td></tr>\n",
       "\t<tr><th scope=row>(0.0031,0.00625]</th><td>130.18188 </td><td> 0.8181249</td><td>128       </td><td> 3        </td></tr>\n",
       "\t<tr><th scope=row>(0.00625,0.0125]</th><td>123.43351 </td><td> 1.5664877</td><td>118       </td><td> 7        </td></tr>\n",
       "\t<tr><th scope=row>(0.0125,0.025]</th><td>138.45173 </td><td> 3.5482734</td><td>130       </td><td>12        </td></tr>\n",
       "\t<tr><th scope=row>(0.025,0.0492]</th><td>137.86494 </td><td> 7.1350555</td><td>135       </td><td>10        </td></tr>\n",
       "\t<tr><th scope=row>(0.0492,0.0946]</th><td>105.02371 </td><td>10.9762922</td><td>110       </td><td> 6        </td></tr>\n",
       "\t<tr><th scope=row>(0.0946,0.174]</th><td> 73.48972 </td><td>15.5102822</td><td> 82       </td><td> 7        </td></tr>\n",
       "\t<tr><th scope=row>(0.174,0.463]</th><td> 30.03250 </td><td>13.9675043</td><td> 40       </td><td> 4        </td></tr>\n",
       "</tbody>\n",
       "</table>\n"
      ],
      "text/latex": [
       "\\begin{tabular}{r|llll}\n",
       "  & yhat0 & yhat1 & y0 & y1\\\\\n",
       "\\hline\n",
       "\t{[}0.00154,0.0031{]} & 207.52202  &  0.4779799 & 195        & 13        \\\\\n",
       "\t(0.0031,0.00625{]} & 130.18188  &  0.8181249 & 128        &  3        \\\\\n",
       "\t(0.00625,0.0125{]} & 123.43351  &  1.5664877 & 118        &  7        \\\\\n",
       "\t(0.0125,0.025{]} & 138.45173  &  3.5482734 & 130        & 12        \\\\\n",
       "\t(0.025,0.0492{]} & 137.86494  &  7.1350555 & 135        & 10        \\\\\n",
       "\t(0.0492,0.0946{]} & 105.02371  & 10.9762922 & 110        &  6        \\\\\n",
       "\t(0.0946,0.174{]} &  73.48972  & 15.5102822 &  82        &  7        \\\\\n",
       "\t(0.174,0.463{]} &  30.03250  & 13.9675043 &  40        &  4        \\\\\n",
       "\\end{tabular}\n"
      ],
      "text/markdown": [
       "\n",
       "| <!--/--> | yhat0 | yhat1 | y0 | y1 |\n",
       "|---|---|---|---|---|\n",
       "| [0.00154,0.0031] | 207.52202  |  0.4779799 | 195        | 13         |\n",
       "| (0.0031,0.00625] | 130.18188  |  0.8181249 | 128        |  3         |\n",
       "| (0.00625,0.0125] | 123.43351  |  1.5664877 | 118        |  7         |\n",
       "| (0.0125,0.025] | 138.45173  |  3.5482734 | 130        | 12         |\n",
       "| (0.025,0.0492] | 137.86494  |  7.1350555 | 135        | 10         |\n",
       "| (0.0492,0.0946] | 105.02371  | 10.9762922 | 110        |  6         |\n",
       "| (0.0946,0.174] |  73.48972  | 15.5102822 |  82        |  7         |\n",
       "| (0.174,0.463] |  30.03250  | 13.9675043 |  40        |  4         |\n",
       "\n"
      ],
      "text/plain": [
       "                 yhat0     yhat1      y0  y1\n",
       "[0.00154,0.0031] 207.52202  0.4779799 195 13\n",
       "(0.0031,0.00625] 130.18188  0.8181249 128  3\n",
       "(0.00625,0.0125] 123.43351  1.5664877 118  7\n",
       "(0.0125,0.025]   138.45173  3.5482734 130 12\n",
       "(0.025,0.0492]   137.86494  7.1350555 135 10\n",
       "(0.0492,0.0946]  105.02371 10.9762922 110  6\n",
       "(0.0946,0.174]    73.48972 15.5102822  82  7\n",
       "(0.174,0.463]     30.03250 13.9675043  40  4"
      ]
     },
     "metadata": {},
     "output_type": "display_data"
    }
   ],
   "source": [
    "cbind(hl.truncated$expected, hl.truncated$observed)"
   ]
  },
  {
   "cell_type": "markdown",
   "id": "athletic-tsunami",
   "metadata": {},
   "source": [
    "Our models appears to fit well because we have no significant difference between the models and the observed data (i.e. the p-value is above 0.05).\n",
    "\n",
    "As with all measures of model fit, we’ll use this as just one piece of information in deciding how well this model fits.  It doesn’t work well in very large or very small data sets, but is often useful nonetheless."
   ]
  },
  {
   "cell_type": "markdown",
   "id": "closing-frost",
   "metadata": {},
   "source": [
    "# Har alder og/eller køn en betydning for dødeligheden?"
   ]
  },
  {
   "cell_type": "code",
   "execution_count": 60,
   "id": "entitled-claim",
   "metadata": {},
   "outputs": [],
   "source": [
    "temp_df <- df %>% \n",
    "  filter(age != \"Alle\")\n",
    "unfolded_data = pmap_dfr(temp_df, \n",
    "                      function(interval, tot_deaths, infected, infected_male,infected_fem, male_deaths, female_deaths,...) {\n",
    "                           data.frame(age_group = interval,\n",
    "                                      dead = c(rep(1, tot_deaths), rep(0, infected - tot_deaths)),\n",
    "                                      gender = c(rep(\"Male\", male_deaths),\n",
    "                                                rep(\"Female\", female_deaths),\n",
    "                                                rep(\"Male\",infected_male-male_deaths),\n",
    "                                                rep(\"Female\",infected_fem-female_deaths)))\n",
    "                                     \n",
    "                      }\n",
    ")"
   ]
  },
  {
   "cell_type": "code",
   "execution_count": 61,
   "id": "suffering-devon",
   "metadata": {},
   "outputs": [
    {
     "data": {
      "text/html": [
       "221842"
      ],
      "text/latex": [
       "221842"
      ],
      "text/markdown": [
       "221842"
      ],
      "text/plain": [
       "[1] 221842"
      ]
     },
     "metadata": {},
     "output_type": "display_data"
    }
   ],
   "source": [
    "nrow(unfolded_data)"
   ]
  },
  {
   "cell_type": "code",
   "execution_count": 62,
   "id": "grand-election",
   "metadata": {},
   "outputs": [
    {
     "name": "stdout",
     "output_type": "stream",
     "text": [
      "'data.frame':\t221842 obs. of  3 variables:\n",
      " $ age_group: num  1 1 1 1 1 1 1 1 1 1 ...\n",
      " $ dead     : num  1 0 0 0 0 0 0 0 0 0 ...\n",
      " $ gender   : Factor w/ 2 levels \"Female\",\"Male\": 2 2 2 2 2 2 2 2 2 2 ...\n"
     ]
    }
   ],
   "source": [
    "str(unfolded_data)"
   ]
  },
  {
   "cell_type": "code",
   "execution_count": 63,
   "id": "indian-invitation",
   "metadata": {},
   "outputs": [],
   "source": [
    "unfolded_data$age_group <- as.factor(unfolded_data$age_group)\n",
    "unfolded_data$dead <- as.factor(unfolded_data$dead)"
   ]
  },
  {
   "cell_type": "code",
   "execution_count": 64,
   "id": "overhead-corps",
   "metadata": {},
   "outputs": [
    {
     "name": "stdout",
     "output_type": "stream",
     "text": [
      "'data.frame':\t221842 obs. of  3 variables:\n",
      " $ age_group: Factor w/ 10 levels \"1\",\"2\",\"3\",\"4\",..: 1 1 1 1 1 1 1 1 1 1 ...\n",
      " $ dead     : Factor w/ 2 levels \"0\",\"1\": 2 1 1 1 1 1 1 1 1 1 ...\n",
      " $ gender   : Factor w/ 2 levels \"Female\",\"Male\": 2 2 2 2 2 2 2 2 2 2 ...\n"
     ]
    }
   ],
   "source": [
    "str(unfolded_data)"
   ]
  },
  {
   "cell_type": "code",
   "execution_count": 65,
   "id": "adverse-robertson",
   "metadata": {
    "scrolled": true
   },
   "outputs": [
    {
     "data": {
      "text/html": [
       "<table>\n",
       "<thead><tr><th scope=col>age_group</th><th scope=col>dead</th><th scope=col>gender</th></tr></thead>\n",
       "<tbody>\n",
       "\t<tr><td>1   </td><td>1   </td><td>Male</td></tr>\n",
       "\t<tr><td>1   </td><td>0   </td><td>Male</td></tr>\n",
       "\t<tr><td>1   </td><td>0   </td><td>Male</td></tr>\n",
       "\t<tr><td>1   </td><td>0   </td><td>Male</td></tr>\n",
       "\t<tr><td>1   </td><td>0   </td><td>Male</td></tr>\n",
       "\t<tr><td>1   </td><td>0   </td><td>Male</td></tr>\n",
       "</tbody>\n",
       "</table>\n"
      ],
      "text/latex": [
       "\\begin{tabular}{r|lll}\n",
       " age\\_group & dead & gender\\\\\n",
       "\\hline\n",
       "\t 1    & 1    & Male\\\\\n",
       "\t 1    & 0    & Male\\\\\n",
       "\t 1    & 0    & Male\\\\\n",
       "\t 1    & 0    & Male\\\\\n",
       "\t 1    & 0    & Male\\\\\n",
       "\t 1    & 0    & Male\\\\\n",
       "\\end{tabular}\n"
      ],
      "text/markdown": [
       "\n",
       "| age_group | dead | gender |\n",
       "|---|---|---|\n",
       "| 1    | 1    | Male |\n",
       "| 1    | 0    | Male |\n",
       "| 1    | 0    | Male |\n",
       "| 1    | 0    | Male |\n",
       "| 1    | 0    | Male |\n",
       "| 1    | 0    | Male |\n",
       "\n"
      ],
      "text/plain": [
       "  age_group dead gender\n",
       "1 1         1    Male  \n",
       "2 1         0    Male  \n",
       "3 1         0    Male  \n",
       "4 1         0    Male  \n",
       "5 1         0    Male  \n",
       "6 1         0    Male  "
      ]
     },
     "metadata": {},
     "output_type": "display_data"
    }
   ],
   "source": [
    "head(unfolded_data)"
   ]
  },
  {
   "cell_type": "markdown",
   "id": "crucial-count",
   "metadata": {},
   "source": [
    "# Hypotesetest"
   ]
  },
  {
   "cell_type": "markdown",
   "id": "looking-germany",
   "metadata": {},
   "source": [
    "#### Chi i anden test $\\chi^2$-test"
   ]
  },
  {
   "cell_type": "markdown",
   "id": "productive-bahamas",
   "metadata": {},
   "source": [
    "$$H_0: \\text{Køn er uafhængig af dødeligheden}$$"
   ]
  },
  {
   "cell_type": "markdown",
   "id": "alpine-salon",
   "metadata": {},
   "source": [
    "$$H_a: \\text{Køn er afhængig af dødeligheden}$$"
   ]
  },
  {
   "cell_type": "code",
   "execution_count": 66,
   "id": "german-liabilities",
   "metadata": {},
   "outputs": [
    {
     "data": {
      "text/html": [
       "<table>\n",
       "<thead><tr><th scope=col>gender</th><th scope=col>not_dead</th><th scope=col>dead</th></tr></thead>\n",
       "<tbody>\n",
       "\t<tr><td>Female</td><td>112212</td><td>1096  </td></tr>\n",
       "\t<tr><td>Male  </td><td>107235</td><td>1299  </td></tr>\n",
       "</tbody>\n",
       "</table>\n"
      ],
      "text/latex": [
       "\\begin{tabular}{r|lll}\n",
       " gender & not\\_dead & dead\\\\\n",
       "\\hline\n",
       "\t Female & 112212 & 1096  \\\\\n",
       "\t Male   & 107235 & 1299  \\\\\n",
       "\\end{tabular}\n"
      ],
      "text/markdown": [
       "\n",
       "| gender | not_dead | dead |\n",
       "|---|---|---|\n",
       "| Female | 112212 | 1096   |\n",
       "| Male   | 107235 | 1299   |\n",
       "\n"
      ],
      "text/plain": [
       "  gender not_dead dead\n",
       "1 Female 112212   1096\n",
       "2 Male   107235   1299"
      ]
     },
     "metadata": {},
     "output_type": "display_data"
    },
    {
     "data": {
      "text/plain": [
       "\n",
       "\tPearson's Chi-squared test with Yates' continuity correction\n",
       "\n",
       "data:  groupby_gender %>% select(-gender)\n",
       "X-squared = 27.146, df = 1, p-value = 1.887e-07\n"
      ]
     },
     "metadata": {},
     "output_type": "display_data"
    }
   ],
   "source": [
    "num_female <- subset(unfolded_data, gender == \"Female\")\n",
    "num_male <- subset(unfolded_data, gender == \"Male\")\n",
    "\n",
    "groupby_gender <- unfolded_data %>% group_by(gender)\n",
    "groupby_gender <- groupby_gender %>% summarise(\n",
    "    not_dead = length(gender) - sum(as.integer(dead == 1)),\n",
    "    dead = sum(as.integer(dead == 1))\n",
    ")\n",
    "groupby_gender\n",
    "(chi.gender <- chisq.test(groupby_gender %>% select(-gender)))"
   ]
  },
  {
   "cell_type": "code",
   "execution_count": 67,
   "id": "changed-conditions",
   "metadata": {},
   "outputs": [
    {
     "data": {
      "text/html": [
       "<table>\n",
       "<thead><tr><th scope=col>not_dead</th><th scope=col>dead</th></tr></thead>\n",
       "<tbody>\n",
       "\t<tr><td>112084.7</td><td>1223.27 </td></tr>\n",
       "\t<tr><td>107362.3</td><td>1171.73 </td></tr>\n",
       "</tbody>\n",
       "</table>\n"
      ],
      "text/latex": [
       "\\begin{tabular}{ll}\n",
       " not\\_dead & dead\\\\\n",
       "\\hline\n",
       "\t 112084.7 & 1223.27 \\\\\n",
       "\t 107362.3 & 1171.73 \\\\\n",
       "\\end{tabular}\n"
      ],
      "text/markdown": [
       "\n",
       "| not_dead | dead |\n",
       "|---|---|\n",
       "| 112084.7 | 1223.27  |\n",
       "| 107362.3 | 1171.73  |\n",
       "\n"
      ],
      "text/plain": [
       "     not_dead dead   \n",
       "[1,] 112084.7 1223.27\n",
       "[2,] 107362.3 1171.73"
      ]
     },
     "metadata": {},
     "output_type": "display_data"
    }
   ],
   "source": [
    "chi.gender$expected"
   ]
  },
  {
   "cell_type": "markdown",
   "id": "elder-benefit",
   "metadata": {},
   "source": [
    "$$H_0: \\text{Aldersgruppen er uafhængig af dødeligheden}$$"
   ]
  },
  {
   "cell_type": "markdown",
   "id": "competent-channels",
   "metadata": {},
   "source": [
    "$$H_a: \\text{Aldersgruppen er afhængig af dødeligheden}$$"
   ]
  },
  {
   "cell_type": "code",
   "execution_count": 68,
   "id": "attached-locking",
   "metadata": {},
   "outputs": [
    {
     "data": {
      "text/html": [
       "<table>\n",
       "<thead><tr><th scope=col>age_group</th><th scope=col>not_dead</th><th scope=col>dead</th></tr></thead>\n",
       "<tbody>\n",
       "\t<tr><td>1    </td><td>15399</td><td>  1  </td></tr>\n",
       "\t<tr><td>2    </td><td>34025</td><td>  0  </td></tr>\n",
       "\t<tr><td>3    </td><td>41545</td><td>  0  </td></tr>\n",
       "\t<tr><td>4    </td><td>30508</td><td>  6  </td></tr>\n",
       "\t<tr><td>5    </td><td>32475</td><td>  7  </td></tr>\n",
       "\t<tr><td>6    </td><td>31790</td><td> 53  </td></tr>\n",
       "\t<tr><td>7    </td><td>17363</td><td>195  </td></tr>\n",
       "\t<tr><td>8    </td><td>10286</td><td>624  </td></tr>\n",
       "\t<tr><td>9    </td><td> 4796</td><td>964  </td></tr>\n",
       "\t<tr><td>10   </td><td> 1260</td><td>545  </td></tr>\n",
       "</tbody>\n",
       "</table>\n"
      ],
      "text/latex": [
       "\\begin{tabular}{r|lll}\n",
       " age\\_group & not\\_dead & dead\\\\\n",
       "\\hline\n",
       "\t 1     & 15399 &   1  \\\\\n",
       "\t 2     & 34025 &   0  \\\\\n",
       "\t 3     & 41545 &   0  \\\\\n",
       "\t 4     & 30508 &   6  \\\\\n",
       "\t 5     & 32475 &   7  \\\\\n",
       "\t 6     & 31790 &  53  \\\\\n",
       "\t 7     & 17363 & 195  \\\\\n",
       "\t 8     & 10286 & 624  \\\\\n",
       "\t 9     &  4796 & 964  \\\\\n",
       "\t 10    &  1260 & 545  \\\\\n",
       "\\end{tabular}\n"
      ],
      "text/markdown": [
       "\n",
       "| age_group | not_dead | dead |\n",
       "|---|---|---|\n",
       "| 1     | 15399 |   1   |\n",
       "| 2     | 34025 |   0   |\n",
       "| 3     | 41545 |   0   |\n",
       "| 4     | 30508 |   6   |\n",
       "| 5     | 32475 |   7   |\n",
       "| 6     | 31790 |  53   |\n",
       "| 7     | 17363 | 195   |\n",
       "| 8     | 10286 | 624   |\n",
       "| 9     |  4796 | 964   |\n",
       "| 10    |  1260 | 545   |\n",
       "\n"
      ],
      "text/plain": [
       "   age_group not_dead dead\n",
       "1  1         15399      1 \n",
       "2  2         34025      0 \n",
       "3  3         41545      0 \n",
       "4  4         30508      6 \n",
       "5  5         32475      7 \n",
       "6  6         31790     53 \n",
       "7  7         17363    195 \n",
       "8  8         10286    624 \n",
       "9  9          4796    964 \n",
       "10 10         1260    545 "
      ]
     },
     "metadata": {},
     "output_type": "display_data"
    },
    {
     "data": {
      "text/plain": [
       "\n",
       "\tPearson's Chi-squared test\n",
       "\n",
       "data:  groupby_age %>% select(-age_group)\n",
       "X-squared = 31648, df = 9, p-value < 2.2e-16\n"
      ]
     },
     "metadata": {},
     "output_type": "display_data"
    }
   ],
   "source": [
    "groupby_age <- unfolded_data %>% group_by(age_group)\n",
    "groupby_age <- groupby_age %>% summarise(\n",
    "    not_dead = length(as.integer(age_group)) - sum(as.integer(dead == 1)),\n",
    "    dead = sum(as.integer(dead == 1))\n",
    ") \n",
    "groupby_age\n",
    "(chi.age <- chisq.test(groupby_age %>% select(-age_group)))"
   ]
  },
  {
   "cell_type": "code",
   "execution_count": 69,
   "id": "occupational-semester",
   "metadata": {},
   "outputs": [
    {
     "data": {
      "text/html": [
       "<table>\n",
       "<thead><tr><th scope=col>not_dead</th><th scope=col>dead</th></tr></thead>\n",
       "<tbody>\n",
       "\t<tr><td>15233.742</td><td>166.25797</td></tr>\n",
       "\t<tr><td>33657.667</td><td>367.33294</td></tr>\n",
       "\t<tr><td>41096.481</td><td>448.51865</td></tr>\n",
       "\t<tr><td>30184.572</td><td>329.42829</td></tr>\n",
       "\t<tr><td>32131.325</td><td>350.67476</td></tr>\n",
       "\t<tr><td>31499.224</td><td>343.77613</td></tr>\n",
       "\t<tr><td>17368.444</td><td>189.55567</td></tr>\n",
       "\t<tr><td>10792.216</td><td>117.78405</td></tr>\n",
       "\t<tr><td> 5697.815</td><td> 62.18480</td></tr>\n",
       "\t<tr><td> 1785.513</td><td> 19.48673</td></tr>\n",
       "</tbody>\n",
       "</table>\n"
      ],
      "text/latex": [
       "\\begin{tabular}{ll}\n",
       " not\\_dead & dead\\\\\n",
       "\\hline\n",
       "\t 15233.742 & 166.25797\\\\\n",
       "\t 33657.667 & 367.33294\\\\\n",
       "\t 41096.481 & 448.51865\\\\\n",
       "\t 30184.572 & 329.42829\\\\\n",
       "\t 32131.325 & 350.67476\\\\\n",
       "\t 31499.224 & 343.77613\\\\\n",
       "\t 17368.444 & 189.55567\\\\\n",
       "\t 10792.216 & 117.78405\\\\\n",
       "\t  5697.815 &  62.18480\\\\\n",
       "\t  1785.513 &  19.48673\\\\\n",
       "\\end{tabular}\n"
      ],
      "text/markdown": [
       "\n",
       "| not_dead | dead |\n",
       "|---|---|\n",
       "| 15233.742 | 166.25797 |\n",
       "| 33657.667 | 367.33294 |\n",
       "| 41096.481 | 448.51865 |\n",
       "| 30184.572 | 329.42829 |\n",
       "| 32131.325 | 350.67476 |\n",
       "| 31499.224 | 343.77613 |\n",
       "| 17368.444 | 189.55567 |\n",
       "| 10792.216 | 117.78405 |\n",
       "|  5697.815 |  62.18480 |\n",
       "|  1785.513 |  19.48673 |\n",
       "\n"
      ],
      "text/plain": [
       "      not_dead  dead     \n",
       " [1,] 15233.742 166.25797\n",
       " [2,] 33657.667 367.33294\n",
       " [3,] 41096.481 448.51865\n",
       " [4,] 30184.572 329.42829\n",
       " [5,] 32131.325 350.67476\n",
       " [6,] 31499.224 343.77613\n",
       " [7,] 17368.444 189.55567\n",
       " [8,] 10792.216 117.78405\n",
       " [9,]  5697.815  62.18480\n",
       "[10,]  1785.513  19.48673"
      ]
     },
     "metadata": {},
     "output_type": "display_data"
    }
   ],
   "source": [
    "chi.age$expected"
   ]
  },
  {
   "cell_type": "markdown",
   "id": "detailed-diving",
   "metadata": {},
   "source": [
    "### t.test"
   ]
  },
  {
   "cell_type": "markdown",
   "id": "integral-party",
   "metadata": {},
   "source": [
    "$$H_0: \\text{Aldersgruppen er uafhængig af dødeligheden}$$"
   ]
  },
  {
   "cell_type": "markdown",
   "id": "korean-rebecca",
   "metadata": {},
   "source": [
    "$$H_a: \\text{Aldersgruppen er afhængig af dødeligheden}$$"
   ]
  },
  {
   "cell_type": "code",
   "execution_count": 70,
   "id": "unlike-attention",
   "metadata": {
    "scrolled": true
   },
   "outputs": [
    {
     "data": {
      "text/html": [
       "8.71022964509395"
      ],
      "text/latex": [
       "8.71022964509395"
      ],
      "text/markdown": [
       "8.71022964509395"
      ],
      "text/plain": [
       "[1] 8.71023"
      ]
     },
     "metadata": {},
     "output_type": "display_data"
    },
    {
     "data": {
      "text/html": [
       "4.29636313096101"
      ],
      "text/latex": [
       "4.29636313096101"
      ],
      "text/markdown": [
       "4.29636313096101"
      ],
      "text/plain": [
       "[1] 4.296363"
      ]
     },
     "metadata": {},
     "output_type": "display_data"
    }
   ],
   "source": [
    "dead <- subset(unfolded_data, dead == 1)\n",
    "alive <- subset(unfolded_data, dead == 0)\n",
    "mean(as.integer(dead$age_group))\n",
    "mean(as.integer(alive$age_group))"
   ]
  },
  {
   "cell_type": "code",
   "execution_count": 71,
   "id": "cognitive-glass",
   "metadata": {},
   "outputs": [
    {
     "data": {
      "text/plain": [
       "\n",
       "\tWelch Two Sample t-test\n",
       "\n",
       "data:  as.integer(alive$age_group) and as.integer(dead$age_group)\n",
       "t = -204.8, df = 2609.3, p-value < 2.2e-16\n",
       "alternative hypothesis: true difference in means is not equal to 0\n",
       "95 percent confidence interval:\n",
       " -4.456127 -4.371606\n",
       "sample estimates:\n",
       "mean of x mean of y \n",
       " 4.296363  8.710230 \n"
      ]
     },
     "metadata": {},
     "output_type": "display_data"
    }
   ],
   "source": [
    "t.test(as.integer(alive$age_group), as.integer(dead$age_group), alternative=\"two.sided\", conf.level = 0.95)"
   ]
  },
  {
   "cell_type": "markdown",
   "id": "generic-kernel",
   "metadata": {},
   "source": [
    "Det ses med et 95% konfidensniveau, at de der overlever er signifikant yngre end de der dør... Omkring 4 aldergrupper sepperere dem. Alder har dermed en betydning for dødeligheden."
   ]
  },
  {
   "cell_type": "markdown",
   "id": "checked-support",
   "metadata": {},
   "source": [
    "$$H_0: \\text{Køn er uafhængig af dødeligheden}$$"
   ]
  },
  {
   "cell_type": "markdown",
   "id": "uniform-queue",
   "metadata": {},
   "source": [
    "$$H_a: \\text{Køn er afhængig af dødeligheden}$$"
   ]
  },
  {
   "cell_type": "code",
   "execution_count": 72,
   "id": "agricultural-magnitude",
   "metadata": {
    "scrolled": true
   },
   "outputs": [
    {
     "data": {
      "text/html": [
       "0.011968599701476"
      ],
      "text/latex": [
       "0.011968599701476"
      ],
      "text/markdown": [
       "0.011968599701476"
      ],
      "text/plain": [
       "[1] 0.0119686"
      ]
     },
     "metadata": {},
     "output_type": "display_data"
    },
    {
     "data": {
      "text/html": [
       "0.00967275037949659"
      ],
      "text/latex": [
       "0.00967275037949659"
      ],
      "text/markdown": [
       "0.00967275037949659"
      ],
      "text/plain": [
       "[1] 0.00967275"
      ]
     },
     "metadata": {},
     "output_type": "display_data"
    }
   ],
   "source": [
    "men <- subset(unfolded_data, gender == \"Male\")\n",
    "women <- subset(unfolded_data, gender == \"Female\")\n",
    "mean(as.integer(men$dead == 1))\n",
    "mean(as.integer(women$dead == 1))"
   ]
  },
  {
   "cell_type": "code",
   "execution_count": 73,
   "id": "aquatic-angola",
   "metadata": {},
   "outputs": [
    {
     "data": {
      "text/plain": [
       "\n",
       "\tWelch Two Sample t-test\n",
       "\n",
       "data:  as.integer(men$dead == 1) and as.integer(women$dead == 1)\n",
       "t = 5.2192, df = 217102, p-value = 1.799e-07\n",
       "alternative hypothesis: true difference in means is not equal to 0\n",
       "95 percent confidence interval:\n",
       " 0.001433687 0.003158011\n",
       "sample estimates:\n",
       " mean of x  mean of y \n",
       "0.01196860 0.00967275 \n"
      ]
     },
     "metadata": {},
     "output_type": "display_data"
    }
   ],
   "source": [
    "t.test(as.integer(men$dead == 1), as.integer(women$dead == 1), alternative=\"two.sided\", conf.level = 0.95)"
   ]
  },
  {
   "cell_type": "markdown",
   "id": "injured-comment",
   "metadata": {},
   "source": [
    "Det ses med et 95% konfidensniveau, at kvinders dødelighed er signifikant lavere end mændendes. Køn har dermed en betydning for dødeligheden.\n",
    "\n",
    "Disse test er (måske) ikke specielt gode for den type data vi arbejder med og derfor anvender vi glm modellere istedet for at konkludere, hvorvidt alder og køn har en signifikant betydning for dødeligheden."
   ]
  },
  {
   "cell_type": "markdown",
   "id": "answering-petite",
   "metadata": {},
   "source": [
    "### GLM testing"
   ]
  },
  {
   "cell_type": "code",
   "execution_count": 74,
   "id": "lesbian-associate",
   "metadata": {
    "scrolled": false
   },
   "outputs": [
    {
     "data": {
      "text/html": [
       "<table>\n",
       "<thead><tr><th></th><th scope=col>Estimate</th><th scope=col>Std. Error</th><th scope=col>z value</th><th scope=col>Pr(&gt;|z|)</th></tr></thead>\n",
       "<tbody>\n",
       "\t<tr><th scope=row>(Intercept)</th><td>-4.517728 </td><td>0.02054483</td><td>-219.8961 </td><td>0         </td></tr>\n",
       "</tbody>\n",
       "</table>\n"
      ],
      "text/latex": [
       "\\begin{tabular}{r|llll}\n",
       "  & Estimate & Std. Error & z value & Pr(>\\textbar{}z\\textbar{})\\\\\n",
       "\\hline\n",
       "\t(Intercept) & -4.517728  & 0.02054483 & -219.8961  & 0         \\\\\n",
       "\\end{tabular}\n"
      ],
      "text/markdown": [
       "\n",
       "| <!--/--> | Estimate | Std. Error | z value | Pr(>|z|) |\n",
       "|---|---|---|---|---|\n",
       "| (Intercept) | -4.517728  | 0.02054483 | -219.8961  | 0          |\n",
       "\n"
      ],
      "text/plain": [
       "            Estimate  Std. Error z value   Pr(>|z|)\n",
       "(Intercept) -4.517728 0.02054483 -219.8961 0       "
      ]
     },
     "metadata": {},
     "output_type": "display_data"
    }
   ],
   "source": [
    "model.default <- glm(dead ~ 1, family = \"binomial\", data=unfolded_data)\n",
    "coef(summary(model.default))"
   ]
  },
  {
   "cell_type": "code",
   "execution_count": 75,
   "id": "liberal-copyright",
   "metadata": {},
   "outputs": [],
   "source": [
    "model.gender <- glm(dead ~ gender, family = \"binomial\", data=unfolded_data)\n",
    "#summary(model.gender)"
   ]
  },
  {
   "cell_type": "code",
   "execution_count": 76,
   "id": "cultural-offense",
   "metadata": {},
   "outputs": [
    {
     "data": {
      "text/html": [
       "<table>\n",
       "<thead><tr><th></th><th scope=col>Estimate</th><th scope=col>Std. Error</th><th scope=col>z value</th><th scope=col>Pr(&gt;|z|)</th></tr></thead>\n",
       "<tbody>\n",
       "\t<tr><th scope=row>(Intercept)</th><td> -9.642058  </td><td>  1.000032  </td><td>-9.64174479 </td><td>5.327464e-22</td></tr>\n",
       "\t<tr><th scope=row>age_group2</th><td>-11.924011  </td><td>158.480056  </td><td>-0.07523982 </td><td>9.400239e-01</td></tr>\n",
       "\t<tr><th scope=row>age_group3</th><td>-11.924011  </td><td>143.422145  </td><td>-0.08313926 </td><td>9.337408e-01</td></tr>\n",
       "\t<tr><th scope=row>age_group4</th><td>  1.108073  </td><td>  1.080169  </td><td> 1.02583339 </td><td>3.049701e-01</td></tr>\n",
       "\t<tr><th scope=row>age_group5</th><td>  1.199742  </td><td>  1.069090  </td><td> 1.12220903 </td><td>2.617736e-01</td></tr>\n",
       "\t<tr><th scope=row>age_group6</th><td>  3.245443  </td><td>  1.009438  </td><td> 3.21509980 </td><td>1.303992e-03</td></tr>\n",
       "\t<tr><th scope=row>age_group7</th><td>  5.152961  </td><td>  1.002622  </td><td> 5.13948525 </td><td>2.754921e-07</td></tr>\n",
       "\t<tr><th scope=row>age_group8</th><td>  6.839669  </td><td>  1.000882  </td><td> 6.83364211 </td><td>8.278541e-12</td></tr>\n",
       "\t<tr><th scope=row>age_group9</th><td>  8.037612  </td><td>  1.000655  </td><td> 8.03234899 </td><td>9.562390e-16</td></tr>\n",
       "\t<tr><th scope=row>age_group10</th><td>  8.803977  </td><td>  1.001346  </td><td> 8.79214400 </td><td>1.467325e-18</td></tr>\n",
       "</tbody>\n",
       "</table>\n"
      ],
      "text/latex": [
       "\\begin{tabular}{r|llll}\n",
       "  & Estimate & Std. Error & z value & Pr(>\\textbar{}z\\textbar{})\\\\\n",
       "\\hline\n",
       "\t(Intercept) &  -9.642058   &   1.000032   & -9.64174479  & 5.327464e-22\\\\\n",
       "\tage\\_group2 & -11.924011   & 158.480056   & -0.07523982  & 9.400239e-01\\\\\n",
       "\tage\\_group3 & -11.924011   & 143.422145   & -0.08313926  & 9.337408e-01\\\\\n",
       "\tage\\_group4 &   1.108073   &   1.080169   &  1.02583339  & 3.049701e-01\\\\\n",
       "\tage\\_group5 &   1.199742   &   1.069090   &  1.12220903  & 2.617736e-01\\\\\n",
       "\tage\\_group6 &   3.245443   &   1.009438   &  3.21509980  & 1.303992e-03\\\\\n",
       "\tage\\_group7 &   5.152961   &   1.002622   &  5.13948525  & 2.754921e-07\\\\\n",
       "\tage\\_group8 &   6.839669   &   1.000882   &  6.83364211  & 8.278541e-12\\\\\n",
       "\tage\\_group9 &   8.037612   &   1.000655   &  8.03234899  & 9.562390e-16\\\\\n",
       "\tage\\_group10 &   8.803977   &   1.001346   &  8.79214400  & 1.467325e-18\\\\\n",
       "\\end{tabular}\n"
      ],
      "text/markdown": [
       "\n",
       "| <!--/--> | Estimate | Std. Error | z value | Pr(>|z|) |\n",
       "|---|---|---|---|---|\n",
       "| (Intercept) |  -9.642058   |   1.000032   | -9.64174479  | 5.327464e-22 |\n",
       "| age_group2 | -11.924011   | 158.480056   | -0.07523982  | 9.400239e-01 |\n",
       "| age_group3 | -11.924011   | 143.422145   | -0.08313926  | 9.337408e-01 |\n",
       "| age_group4 |   1.108073   |   1.080169   |  1.02583339  | 3.049701e-01 |\n",
       "| age_group5 |   1.199742   |   1.069090   |  1.12220903  | 2.617736e-01 |\n",
       "| age_group6 |   3.245443   |   1.009438   |  3.21509980  | 1.303992e-03 |\n",
       "| age_group7 |   5.152961   |   1.002622   |  5.13948525  | 2.754921e-07 |\n",
       "| age_group8 |   6.839669   |   1.000882   |  6.83364211  | 8.278541e-12 |\n",
       "| age_group9 |   8.037612   |   1.000655   |  8.03234899  | 9.562390e-16 |\n",
       "| age_group10 |   8.803977   |   1.001346   |  8.79214400  | 1.467325e-18 |\n",
       "\n"
      ],
      "text/plain": [
       "            Estimate   Std. Error z value     Pr(>|z|)    \n",
       "(Intercept)  -9.642058   1.000032 -9.64174479 5.327464e-22\n",
       "age_group2  -11.924011 158.480056 -0.07523982 9.400239e-01\n",
       "age_group3  -11.924011 143.422145 -0.08313926 9.337408e-01\n",
       "age_group4    1.108073   1.080169  1.02583339 3.049701e-01\n",
       "age_group5    1.199742   1.069090  1.12220903 2.617736e-01\n",
       "age_group6    3.245443   1.009438  3.21509980 1.303992e-03\n",
       "age_group7    5.152961   1.002622  5.13948525 2.754921e-07\n",
       "age_group8    6.839669   1.000882  6.83364211 8.278541e-12\n",
       "age_group9    8.037612   1.000655  8.03234899 9.562390e-16\n",
       "age_group10   8.803977   1.001346  8.79214400 1.467325e-18"
      ]
     },
     "metadata": {},
     "output_type": "display_data"
    }
   ],
   "source": [
    "model.age <- glm(dead ~ age_group, family = \"binomial\", data=unfolded_data)\n",
    "coef(summary(model.age))"
   ]
  },
  {
   "cell_type": "markdown",
   "id": "uniform-antigua",
   "metadata": {},
   "source": [
    "##### Alder som $\\beta_1$ eller som $\\beta_1 , \\dots , \\beta_n$"
   ]
  },
  {
   "cell_type": "code",
   "execution_count": 77,
   "id": "nonprofit-proof",
   "metadata": {},
   "outputs": [
    {
     "data": {
      "text/html": [
       "<table>\n",
       "<thead><tr><th></th><th scope=col>Estimate</th><th scope=col>Std. Error</th><th scope=col>z value</th><th scope=col>Pr(&gt;|z|)</th></tr></thead>\n",
       "<tbody>\n",
       "\t<tr><th scope=row>(Intercept)</th><td>-13.60627 </td><td>0.15703627</td><td>-86.64411 </td><td>0         </td></tr>\n",
       "\t<tr><th scope=row>as.integer(age_group)</th><td>  1.31647 </td><td>0.01823784</td><td> 72.18341 </td><td>0         </td></tr>\n",
       "</tbody>\n",
       "</table>\n"
      ],
      "text/latex": [
       "\\begin{tabular}{r|llll}\n",
       "  & Estimate & Std. Error & z value & Pr(>\\textbar{}z\\textbar{})\\\\\n",
       "\\hline\n",
       "\t(Intercept) & -13.60627  & 0.15703627 & -86.64411  & 0         \\\\\n",
       "\tas.integer(age\\_group) &   1.31647  & 0.01823784 &  72.18341  & 0         \\\\\n",
       "\\end{tabular}\n"
      ],
      "text/markdown": [
       "\n",
       "| <!--/--> | Estimate | Std. Error | z value | Pr(>|z|) |\n",
       "|---|---|---|---|---|\n",
       "| (Intercept) | -13.60627  | 0.15703627 | -86.64411  | 0          |\n",
       "| as.integer(age_group) |   1.31647  | 0.01823784 |  72.18341  | 0          |\n",
       "\n"
      ],
      "text/plain": [
       "                      Estimate  Std. Error z value   Pr(>|z|)\n",
       "(Intercept)           -13.60627 0.15703627 -86.64411 0       \n",
       "as.integer(age_group)   1.31647 0.01823784  72.18341 0       "
      ]
     },
     "metadata": {},
     "output_type": "display_data"
    }
   ],
   "source": [
    "model.onevar <- glm(dead ~ as.integer(age_group), family = \"binomial\", data=unfolded_data)\n",
    "coef(summary(model.onevar))"
   ]
  },
  {
   "cell_type": "markdown",
   "id": "opening-particular",
   "metadata": {},
   "source": [
    "Anvendelse af de forskellige test."
   ]
  },
  {
   "cell_type": "code",
   "execution_count": 78,
   "id": "ultimate-manor",
   "metadata": {},
   "outputs": [
    {
     "data": {
      "text/html": [
       "<table>\n",
       "<thead><tr><th scope=col>Resid. Df</th><th scope=col>Resid. Dev</th><th scope=col>Df</th><th scope=col>Deviance</th><th scope=col>Pr(&gt;Chi)</th></tr></thead>\n",
       "<tbody>\n",
       "\t<tr><td>221840      </td><td>15581.17    </td><td>NA          </td><td>      NA    </td><td>          NA</td></tr>\n",
       "\t<tr><td>221832      </td><td>15391.88    </td><td> 8          </td><td>189.2916    </td><td>1.147735e-36</td></tr>\n",
       "</tbody>\n",
       "</table>\n"
      ],
      "text/latex": [
       "\\begin{tabular}{r|lllll}\n",
       " Resid. Df & Resid. Dev & Df & Deviance & Pr(>Chi)\\\\\n",
       "\\hline\n",
       "\t 221840       & 15581.17     & NA           &       NA     &           NA\\\\\n",
       "\t 221832       & 15391.88     &  8           & 189.2916     & 1.147735e-36\\\\\n",
       "\\end{tabular}\n"
      ],
      "text/markdown": [
       "\n",
       "| Resid. Df | Resid. Dev | Df | Deviance | Pr(>Chi) |\n",
       "|---|---|---|---|---|\n",
       "| 221840       | 15581.17     | NA           |       NA     |           NA |\n",
       "| 221832       | 15391.88     |  8           | 189.2916     | 1.147735e-36 |\n",
       "\n"
      ],
      "text/plain": [
       "  Resid. Df Resid. Dev Df Deviance Pr(>Chi)    \n",
       "1 221840    15581.17   NA       NA           NA\n",
       "2 221832    15391.88    8 189.2916 1.147735e-36"
      ]
     },
     "metadata": {},
     "output_type": "display_data"
    }
   ],
   "source": [
    "anova(model.onevar, model.age, test=\"LRT\")"
   ]
  },
  {
   "cell_type": "code",
   "execution_count": 79,
   "id": "happy-banking",
   "metadata": {},
   "outputs": [
    {
     "data": {
      "text/html": [
       "<table>\n",
       "<thead><tr><th scope=col>Resid. Df</th><th scope=col>Resid. Dev</th><th scope=col>Df</th><th scope=col>Deviance</th><th scope=col>Pr(&gt;Chi)</th></tr></thead>\n",
       "<tbody>\n",
       "\t<tr><td>221840      </td><td>15581.17    </td><td>NA          </td><td>      NA    </td><td>          NA</td></tr>\n",
       "\t<tr><td>221832      </td><td>15391.88    </td><td> 8          </td><td>189.2916    </td><td>1.147735e-36</td></tr>\n",
       "</tbody>\n",
       "</table>\n"
      ],
      "text/latex": [
       "\\begin{tabular}{r|lllll}\n",
       " Resid. Df & Resid. Dev & Df & Deviance & Pr(>Chi)\\\\\n",
       "\\hline\n",
       "\t 221840       & 15581.17     & NA           &       NA     &           NA\\\\\n",
       "\t 221832       & 15391.88     &  8           & 189.2916     & 1.147735e-36\\\\\n",
       "\\end{tabular}\n"
      ],
      "text/markdown": [
       "\n",
       "| Resid. Df | Resid. Dev | Df | Deviance | Pr(>Chi) |\n",
       "|---|---|---|---|---|\n",
       "| 221840       | 15581.17     | NA           |       NA     |           NA |\n",
       "| 221832       | 15391.88     |  8           | 189.2916     | 1.147735e-36 |\n",
       "\n"
      ],
      "text/plain": [
       "  Resid. Df Resid. Dev Df Deviance Pr(>Chi)    \n",
       "1 221840    15581.17   NA       NA           NA\n",
       "2 221832    15391.88    8 189.2916 1.147735e-36"
      ]
     },
     "metadata": {},
     "output_type": "display_data"
    }
   ],
   "source": [
    "anova(model.onevar, model.age, test=\"Chisq\")"
   ]
  },
  {
   "cell_type": "code",
   "execution_count": 80,
   "id": "alive-covering",
   "metadata": {},
   "outputs": [
    {
     "data": {
      "text/html": [
       "<table>\n",
       "<thead><tr><th scope=col>#Df</th><th scope=col>LogLik</th><th scope=col>Df</th><th scope=col>Chisq</th><th scope=col>Pr(&gt;Chisq)</th></tr></thead>\n",
       "<tbody>\n",
       "\t<tr><td> 2          </td><td>-7790.585   </td><td>NA          </td><td>      NA    </td><td>          NA</td></tr>\n",
       "\t<tr><td>10          </td><td>-7695.939   </td><td> 8          </td><td>189.2916    </td><td>1.147735e-36</td></tr>\n",
       "</tbody>\n",
       "</table>\n"
      ],
      "text/latex": [
       "\\begin{tabular}{r|lllll}\n",
       " \\#Df & LogLik & Df & Chisq & Pr(>Chisq)\\\\\n",
       "\\hline\n",
       "\t  2           & -7790.585    & NA           &       NA     &           NA\\\\\n",
       "\t 10           & -7695.939    &  8           & 189.2916     & 1.147735e-36\\\\\n",
       "\\end{tabular}\n"
      ],
      "text/markdown": [
       "\n",
       "| #Df | LogLik | Df | Chisq | Pr(>Chisq) |\n",
       "|---|---|---|---|---|\n",
       "|  2           | -7790.585    | NA           |       NA     |           NA |\n",
       "| 10           | -7695.939    |  8           | 189.2916     | 1.147735e-36 |\n",
       "\n"
      ],
      "text/plain": [
       "  #Df LogLik    Df Chisq    Pr(>Chisq)  \n",
       "1  2  -7790.585 NA       NA           NA\n",
       "2 10  -7695.939  8 189.2916 1.147735e-36"
      ]
     },
     "metadata": {},
     "output_type": "display_data"
    }
   ],
   "source": [
    "lrtest(model.onevar, model.age)"
   ]
  },
  {
   "cell_type": "markdown",
   "id": "infinite-leisure",
   "metadata": {},
   "source": [
    "##### Tilføjelse af forklarende variabel."
   ]
  },
  {
   "cell_type": "code",
   "execution_count": 81,
   "id": "adequate-charles",
   "metadata": {},
   "outputs": [
    {
     "data": {
      "text/html": [
       "<table>\n",
       "<thead><tr><th scope=col>age_group</th><th scope=col>dead</th><th scope=col>gender</th></tr></thead>\n",
       "<tbody>\n",
       "\t<tr><td>1   </td><td>1   </td><td>Male</td></tr>\n",
       "\t<tr><td>1   </td><td>0   </td><td>Male</td></tr>\n",
       "\t<tr><td>1   </td><td>0   </td><td>Male</td></tr>\n",
       "\t<tr><td>1   </td><td>0   </td><td>Male</td></tr>\n",
       "\t<tr><td>1   </td><td>0   </td><td>Male</td></tr>\n",
       "\t<tr><td>1   </td><td>0   </td><td>Male</td></tr>\n",
       "</tbody>\n",
       "</table>\n"
      ],
      "text/latex": [
       "\\begin{tabular}{r|lll}\n",
       " age\\_group & dead & gender\\\\\n",
       "\\hline\n",
       "\t 1    & 1    & Male\\\\\n",
       "\t 1    & 0    & Male\\\\\n",
       "\t 1    & 0    & Male\\\\\n",
       "\t 1    & 0    & Male\\\\\n",
       "\t 1    & 0    & Male\\\\\n",
       "\t 1    & 0    & Male\\\\\n",
       "\\end{tabular}\n"
      ],
      "text/markdown": [
       "\n",
       "| age_group | dead | gender |\n",
       "|---|---|---|\n",
       "| 1    | 1    | Male |\n",
       "| 1    | 0    | Male |\n",
       "| 1    | 0    | Male |\n",
       "| 1    | 0    | Male |\n",
       "| 1    | 0    | Male |\n",
       "| 1    | 0    | Male |\n",
       "\n"
      ],
      "text/plain": [
       "  age_group dead gender\n",
       "1 1         1    Male  \n",
       "2 1         0    Male  \n",
       "3 1         0    Male  \n",
       "4 1         0    Male  \n",
       "5 1         0    Male  \n",
       "6 1         0    Male  "
      ]
     },
     "metadata": {},
     "output_type": "display_data"
    },
    {
     "data": {
      "text/html": [
       "<table>\n",
       "<thead><tr><th></th><th scope=col>age_group</th><th scope=col>dead</th><th scope=col>gender</th></tr></thead>\n",
       "<tbody>\n",
       "\t<tr><th scope=row>221837</th><td>10    </td><td>0     </td><td>Female</td></tr>\n",
       "\t<tr><th scope=row>221838</th><td>10    </td><td>0     </td><td>Female</td></tr>\n",
       "\t<tr><th scope=row>221839</th><td>10    </td><td>0     </td><td>Female</td></tr>\n",
       "\t<tr><th scope=row>221840</th><td>10    </td><td>0     </td><td>Female</td></tr>\n",
       "\t<tr><th scope=row>221841</th><td>10    </td><td>0     </td><td>Female</td></tr>\n",
       "\t<tr><th scope=row>221842</th><td>10    </td><td>0     </td><td>Female</td></tr>\n",
       "</tbody>\n",
       "</table>\n"
      ],
      "text/latex": [
       "\\begin{tabular}{r|lll}\n",
       "  & age\\_group & dead & gender\\\\\n",
       "\\hline\n",
       "\t221837 & 10     & 0      & Female\\\\\n",
       "\t221838 & 10     & 0      & Female\\\\\n",
       "\t221839 & 10     & 0      & Female\\\\\n",
       "\t221840 & 10     & 0      & Female\\\\\n",
       "\t221841 & 10     & 0      & Female\\\\\n",
       "\t221842 & 10     & 0      & Female\\\\\n",
       "\\end{tabular}\n"
      ],
      "text/markdown": [
       "\n",
       "| <!--/--> | age_group | dead | gender |\n",
       "|---|---|---|---|\n",
       "| 221837 | 10     | 0      | Female |\n",
       "| 221838 | 10     | 0      | Female |\n",
       "| 221839 | 10     | 0      | Female |\n",
       "| 221840 | 10     | 0      | Female |\n",
       "| 221841 | 10     | 0      | Female |\n",
       "| 221842 | 10     | 0      | Female |\n",
       "\n"
      ],
      "text/plain": [
       "       age_group dead gender\n",
       "221837 10        0    Female\n",
       "221838 10        0    Female\n",
       "221839 10        0    Female\n",
       "221840 10        0    Female\n",
       "221841 10        0    Female\n",
       "221842 10        0    Female"
      ]
     },
     "metadata": {},
     "output_type": "display_data"
    }
   ],
   "source": [
    "head(unfolded_data)\n",
    "tail(unfolded_data)"
   ]
  },
  {
   "cell_type": "code",
   "execution_count": 82,
   "id": "charitable-ballot",
   "metadata": {},
   "outputs": [
    {
     "data": {
      "text/html": [
       "<table>\n",
       "<thead><tr><th scope=col>age_group_1</th><th scope=col>age_group_2</th><th scope=col>age_group_3</th><th scope=col>age_group_4</th><th scope=col>age_group_5</th><th scope=col>age_group_6</th><th scope=col>age_group_7</th><th scope=col>age_group_8</th><th scope=col>age_group_9</th><th scope=col>age_group_10</th><th scope=col>dead</th></tr></thead>\n",
       "<tbody>\n",
       "\t<tr><td>1</td><td>0</td><td>0</td><td>0</td><td>0</td><td>0</td><td>0</td><td>0</td><td>0</td><td>0</td><td>1</td></tr>\n",
       "\t<tr><td>1</td><td>0</td><td>0</td><td>0</td><td>0</td><td>0</td><td>0</td><td>0</td><td>0</td><td>0</td><td>0</td></tr>\n",
       "\t<tr><td>1</td><td>0</td><td>0</td><td>0</td><td>0</td><td>0</td><td>0</td><td>0</td><td>0</td><td>0</td><td>0</td></tr>\n",
       "\t<tr><td>1</td><td>0</td><td>0</td><td>0</td><td>0</td><td>0</td><td>0</td><td>0</td><td>0</td><td>0</td><td>0</td></tr>\n",
       "\t<tr><td>1</td><td>0</td><td>0</td><td>0</td><td>0</td><td>0</td><td>0</td><td>0</td><td>0</td><td>0</td><td>0</td></tr>\n",
       "\t<tr><td>1</td><td>0</td><td>0</td><td>0</td><td>0</td><td>0</td><td>0</td><td>0</td><td>0</td><td>0</td><td>0</td></tr>\n",
       "</tbody>\n",
       "</table>\n"
      ],
      "text/latex": [
       "\\begin{tabular}{r|lllllllllll}\n",
       " age\\_group\\_1 & age\\_group\\_2 & age\\_group\\_3 & age\\_group\\_4 & age\\_group\\_5 & age\\_group\\_6 & age\\_group\\_7 & age\\_group\\_8 & age\\_group\\_9 & age\\_group\\_10 & dead\\\\\n",
       "\\hline\n",
       "\t 1 & 0 & 0 & 0 & 0 & 0 & 0 & 0 & 0 & 0 & 1\\\\\n",
       "\t 1 & 0 & 0 & 0 & 0 & 0 & 0 & 0 & 0 & 0 & 0\\\\\n",
       "\t 1 & 0 & 0 & 0 & 0 & 0 & 0 & 0 & 0 & 0 & 0\\\\\n",
       "\t 1 & 0 & 0 & 0 & 0 & 0 & 0 & 0 & 0 & 0 & 0\\\\\n",
       "\t 1 & 0 & 0 & 0 & 0 & 0 & 0 & 0 & 0 & 0 & 0\\\\\n",
       "\t 1 & 0 & 0 & 0 & 0 & 0 & 0 & 0 & 0 & 0 & 0\\\\\n",
       "\\end{tabular}\n"
      ],
      "text/markdown": [
       "\n",
       "| age_group_1 | age_group_2 | age_group_3 | age_group_4 | age_group_5 | age_group_6 | age_group_7 | age_group_8 | age_group_9 | age_group_10 | dead |\n",
       "|---|---|---|---|---|---|---|---|---|---|---|\n",
       "| 1 | 0 | 0 | 0 | 0 | 0 | 0 | 0 | 0 | 0 | 1 |\n",
       "| 1 | 0 | 0 | 0 | 0 | 0 | 0 | 0 | 0 | 0 | 0 |\n",
       "| 1 | 0 | 0 | 0 | 0 | 0 | 0 | 0 | 0 | 0 | 0 |\n",
       "| 1 | 0 | 0 | 0 | 0 | 0 | 0 | 0 | 0 | 0 | 0 |\n",
       "| 1 | 0 | 0 | 0 | 0 | 0 | 0 | 0 | 0 | 0 | 0 |\n",
       "| 1 | 0 | 0 | 0 | 0 | 0 | 0 | 0 | 0 | 0 | 0 |\n",
       "\n"
      ],
      "text/plain": [
       "  age_group_1 age_group_2 age_group_3 age_group_4 age_group_5 age_group_6\n",
       "1 1           0           0           0           0           0          \n",
       "2 1           0           0           0           0           0          \n",
       "3 1           0           0           0           0           0          \n",
       "4 1           0           0           0           0           0          \n",
       "5 1           0           0           0           0           0          \n",
       "6 1           0           0           0           0           0          \n",
       "  age_group_7 age_group_8 age_group_9 age_group_10 dead\n",
       "1 0           0           0           0            1   \n",
       "2 0           0           0           0            0   \n",
       "3 0           0           0           0            0   \n",
       "4 0           0           0           0            0   \n",
       "5 0           0           0           0            0   \n",
       "6 0           0           0           0            0   "
      ]
     },
     "metadata": {},
     "output_type": "display_data"
    }
   ],
   "source": [
    "dummy_data <- unfolded_data %>% to_dummy(age_group) %>% bind_cols(unfolded_data) %>% select(-age_group, -gender)\n",
    "head(dummy_data)"
   ]
  },
  {
   "cell_type": "code",
   "execution_count": 83,
   "id": "hawaiian-gnome",
   "metadata": {
    "scrolled": false
   },
   "outputs": [
    {
     "data": {
      "text/plain": [
       "\n",
       "Call:\n",
       "glm(formula = dead ~ . - age_group_10 - age_group_2 - age_group_3, \n",
       "    family = \"binomial\", data = dummy_data)\n",
       "\n",
       "Deviance Residuals: \n",
       "    Min       1Q   Median       3Q      Max  \n",
       "-0.6052  -0.1189  -0.0577  -0.0208   4.3914  \n",
       "\n",
       "Coefficients:\n",
       "            Estimate Std. Error  z value Pr(>|z|)    \n",
       "(Intercept) -4.94856    0.04299 -115.118  < 2e-16 ***\n",
       "age_group_1 -4.69346    0.99719   -4.707 2.52e-06 ***\n",
       "age_group_4 -3.58542    0.41054   -8.733  < 2e-16 ***\n",
       "age_group_5 -3.49375    0.38044   -9.183  < 2e-16 ***\n",
       "age_group_6 -1.44805    0.14404  -10.053  < 2e-16 ***\n",
       "age_group_7  0.45947    0.08387    5.479 4.29e-08 ***\n",
       "age_group_8  2.14618    0.05956   36.032  < 2e-16 ***\n",
       "age_group_9  3.34412    0.05562   60.123  < 2e-16 ***\n",
       "---\n",
       "Signif. codes:  0 '***' 0.001 '**' 0.01 '*' 0.05 '.' 0.1 ' ' 1\n",
       "\n",
       "(Dispersion parameter for binomial family taken to be 1)\n",
       "\n",
       "    Null deviance: 26456  on 221841  degrees of freedom\n",
       "Residual deviance: 19669  on 221834  degrees of freedom\n",
       "AIC: 19685\n",
       "\n",
       "Number of Fisher Scoring iterations: 11\n"
      ]
     },
     "metadata": {},
     "output_type": "display_data"
    }
   ],
   "source": [
    "model.age_gender <- glm(dead ~ . -age_group_10 -age_group_2 -age_group_3, family = \"binomial\", data=dummy_data)\n",
    "summary(model.age_gender)"
   ]
  },
  {
   "cell_type": "code",
   "execution_count": 84,
   "id": "patient-island",
   "metadata": {},
   "outputs": [
    {
     "data": {
      "text/plain": [
       "\n",
       "Call:\n",
       "glm(formula = dead ~ ., family = \"binomial\", data = unfolded_data)\n",
       "\n",
       "Deviance Residuals: \n",
       "    Min       1Q   Median       3Q      Max  \n",
       "-0.9981  -0.0491  -0.0177   0.0000   4.3368  \n",
       "\n",
       "Coefficients:\n",
       "             Estimate Std. Error z value Pr(>|z|)    \n",
       "(Intercept)  -9.98864    1.00049  -9.984  < 2e-16 ***\n",
       "age_group2  -11.90939  157.76669  -0.075  0.93983    \n",
       "age_group3  -11.89564  142.76818  -0.083  0.93360    \n",
       "age_group4    1.12682    1.08017   1.043  0.29686    \n",
       "age_group5    1.23131    1.06910   1.152  0.24943    \n",
       "age_group6    3.26813    1.00944   3.238  0.00121 ** \n",
       "age_group7    5.15888    1.00263   5.145 2.67e-07 ***\n",
       "age_group8    6.85232    1.00089   6.846 7.58e-12 ***\n",
       "age_group9    8.10960    1.00069   8.104 5.32e-16 ***\n",
       "age_group10   8.96628    1.00148   8.953  < 2e-16 ***\n",
       "genderMale    0.58479    0.04579  12.772  < 2e-16 ***\n",
       "---\n",
       "Signif. codes:  0 '***' 0.001 '**' 0.01 '*' 0.05 '.' 0.1 ' ' 1\n",
       "\n",
       "(Dispersion parameter for binomial family taken to be 1)\n",
       "\n",
       "    Null deviance: 26456  on 221841  degrees of freedom\n",
       "Residual deviance: 15226  on 221831  degrees of freedom\n",
       "AIC: 15248\n",
       "\n",
       "Number of Fisher Scoring iterations: 20\n"
      ]
     },
     "metadata": {},
     "output_type": "display_data"
    }
   ],
   "source": [
    "model.age_gender <- glm(dead ~ ., family = \"binomial\", data=unfolded_data)\n",
    "summary(model.age_gender)"
   ]
  },
  {
   "cell_type": "markdown",
   "id": "sticky-adventure",
   "metadata": {},
   "source": [
    "##### De aldersgrupper, der ikke har en signifikant betydning for dødeligheden fjernes."
   ]
  },
  {
   "cell_type": "markdown",
   "id": "wooden-management",
   "metadata": {},
   "source": [
    "Jeg er dog stærkt i tvivl om vi må dette, på trods af Toke nævnte, at det var det vi skulle (eller så har jeg misforstået noget). Det er nemlig ikke muligt at kører ANOVA test på denne model, da dens datasæt er anderledes fra de andre modeller."
   ]
  },
  {
   "cell_type": "code",
   "execution_count": 85,
   "id": "frozen-extreme",
   "metadata": {},
   "outputs": [
    {
     "data": {
      "text/plain": [
       "\n",
       "Call:\n",
       "glm(formula = dead ~ . - age_group_10 - age_group_2 - age_group_3, \n",
       "    family = \"binomial\", data = temp)\n",
       "\n",
       "Deviance Residuals: \n",
       "    Min       1Q   Median       3Q      Max  \n",
       "-0.6561  -0.1282  -0.0623  -0.0214   4.3590  \n",
       "\n",
       "Coefficients:\n",
       "            Estimate Std. Error  z value Pr(>|z|)    \n",
       "(Intercept) -5.12038    0.04957 -103.305  < 2e-16 ***\n",
       "age_group_1 -4.70254    0.99715   -4.716 2.41e-06 ***\n",
       "age_group_4 -3.58395    0.41054   -8.730  < 2e-16 ***\n",
       "age_group_5 -3.48512    0.38044   -9.161  < 2e-16 ***\n",
       "age_group_6 -1.44441    0.14404  -10.028  < 2e-16 ***\n",
       "age_group_7  0.45351    0.08388    5.407 6.42e-08 ***\n",
       "age_group_8  2.14308    0.05959   35.967  < 2e-16 ***\n",
       "age_group_9  3.37148    0.05582   60.394  < 2e-16 ***\n",
       "genderMale   0.32236    0.04310    7.479 7.49e-14 ***\n",
       "---\n",
       "Signif. codes:  0 '***' 0.001 '**' 0.01 '*' 0.05 '.' 0.1 ' ' 1\n",
       "\n",
       "(Dispersion parameter for binomial family taken to be 1)\n",
       "\n",
       "    Null deviance: 26456  on 221841  degrees of freedom\n",
       "Residual deviance: 19612  on 221833  degrees of freedom\n",
       "AIC: 19630\n",
       "\n",
       "Number of Fisher Scoring iterations: 11\n"
      ]
     },
     "metadata": {},
     "output_type": "display_data"
    }
   ],
   "source": [
    "temp <- unfolded_data %>% to_dummy(age_group) %>% bind_cols(unfolded_data) %>% select(-age_group)\n",
    "model.age_gender.modified <- glm(dead ~ . -age_group_10 -age_group_2 -age_group_3, family = \"binomial\", data=temp)\n",
    "summary(model.age_gender.modified)"
   ]
  },
  {
   "cell_type": "code",
   "execution_count": 86,
   "id": "informative-watch",
   "metadata": {},
   "outputs": [
    {
     "data": {
      "text/html": [
       "<table>\n",
       "<thead><tr><th scope=col>Resid. Df</th><th scope=col>Resid. Dev</th><th scope=col>Df</th><th scope=col>Deviance</th><th scope=col>Pr(&gt;Chi)</th></tr></thead>\n",
       "<tbody>\n",
       "\t<tr><td>221833  </td><td>19612.27</td><td>NA      </td><td>      NA</td><td>NA      </td></tr>\n",
       "\t<tr><td>221831  </td><td>15226.15</td><td> 2      </td><td>4386.119</td><td> 0      </td></tr>\n",
       "</tbody>\n",
       "</table>\n"
      ],
      "text/latex": [
       "\\begin{tabular}{r|lllll}\n",
       " Resid. Df & Resid. Dev & Df & Deviance & Pr(>Chi)\\\\\n",
       "\\hline\n",
       "\t 221833   & 19612.27 & NA       &       NA & NA      \\\\\n",
       "\t 221831   & 15226.15 &  2       & 4386.119 &  0      \\\\\n",
       "\\end{tabular}\n"
      ],
      "text/markdown": [
       "\n",
       "| Resid. Df | Resid. Dev | Df | Deviance | Pr(>Chi) |\n",
       "|---|---|---|---|---|\n",
       "| 221833   | 19612.27 | NA       |       NA | NA       |\n",
       "| 221831   | 15226.15 |  2       | 4386.119 |  0       |\n",
       "\n"
      ],
      "text/plain": [
       "  Resid. Df Resid. Dev Df Deviance Pr(>Chi)\n",
       "1 221833    19612.27   NA       NA NA      \n",
       "2 221831    15226.15    2 4386.119  0      "
      ]
     },
     "metadata": {},
     "output_type": "display_data"
    }
   ],
   "source": [
    "anova(model.age_gender.modified, model.age_gender, test=\"LRT\")"
   ]
  },
  {
   "cell_type": "code",
   "execution_count": 87,
   "id": "suffering-universe",
   "metadata": {},
   "outputs": [
    {
     "data": {
      "text/html": [
       "<table>\n",
       "<thead><tr><th scope=col>#Df</th><th scope=col>LogLik</th><th scope=col>Df</th><th scope=col>Chisq</th><th scope=col>Pr(&gt;Chisq)</th></tr></thead>\n",
       "<tbody>\n",
       "\t<tr><td> 9       </td><td>-9806.133</td><td>NA       </td><td>      NA </td><td>NA       </td></tr>\n",
       "\t<tr><td>11       </td><td>-7613.073</td><td> 2       </td><td>4386.119 </td><td> 0       </td></tr>\n",
       "</tbody>\n",
       "</table>\n"
      ],
      "text/latex": [
       "\\begin{tabular}{r|lllll}\n",
       " \\#Df & LogLik & Df & Chisq & Pr(>Chisq)\\\\\n",
       "\\hline\n",
       "\t  9        & -9806.133 & NA        &       NA  & NA       \\\\\n",
       "\t 11        & -7613.073 &  2        & 4386.119  &  0       \\\\\n",
       "\\end{tabular}\n"
      ],
      "text/markdown": [
       "\n",
       "| #Df | LogLik | Df | Chisq | Pr(>Chisq) |\n",
       "|---|---|---|---|---|\n",
       "|  9        | -9806.133 | NA        |       NA  | NA        |\n",
       "| 11        | -7613.073 |  2        | 4386.119  |  0        |\n",
       "\n"
      ],
      "text/plain": [
       "  #Df LogLik    Df Chisq    Pr(>Chisq)\n",
       "1  9  -9806.133 NA       NA NA        \n",
       "2 11  -7613.073  2 4386.119  0        "
      ]
     },
     "metadata": {},
     "output_type": "display_data"
    }
   ],
   "source": [
    "lrtest(model.age_gender.modified, model.age_gender)"
   ]
  },
  {
   "cell_type": "code",
   "execution_count": 88,
   "id": "packed-bench",
   "metadata": {},
   "outputs": [
    {
     "data": {
      "text/plain": [
       "\n",
       "Call:\n",
       "glm(formula = dead ~ . * gender, family = \"binomial\", data = temp)\n",
       "\n",
       "Deviance Residuals: \n",
       "    Min       1Q   Median       3Q      Max  \n",
       "-1.0383  -0.0505  -0.0186   0.0000   4.2404  \n",
       "\n",
       "Coefficients: (2 not defined because of singularities)\n",
       "                         Estimate Std. Error z value Pr(>|z|)    \n",
       "(Intercept)              -1.07474    0.06424 -16.729  < 2e-16 ***\n",
       "age_group_1             -20.49133  340.46493  -0.060    0.952    \n",
       "age_group_2             -20.49133  226.71026  -0.090    0.928    \n",
       "age_group_3             -20.49133  200.31618  -0.102    0.919    \n",
       "age_group_4              -7.19470    0.50417 -14.270  < 2e-16 ***\n",
       "age_group_5              -7.58753    0.58096 -13.060  < 2e-16 ***\n",
       "age_group_6              -5.59100    0.22761 -24.564  < 2e-16 ***\n",
       "age_group_7              -3.68133    0.13395 -27.482  < 2e-16 ***\n",
       "age_group_8              -2.03810    0.09321 -21.865  < 2e-16 ***\n",
       "age_group_9              -0.80488    0.08210  -9.803  < 2e-16 ***\n",
       "age_group_10                   NA         NA      NA       NA    \n",
       "genderMale                0.73827    0.10918   6.762 1.36e-11 ***\n",
       "age_group_1:genderMale   11.83723  340.46641   0.035    0.972    \n",
       "age_group_2:genderMale   -0.73827  317.03565  -0.002    0.998    \n",
       "age_group_3:genderMale   -0.73827  286.92847  -0.003    0.998    \n",
       "age_group_4:genderMale   -1.38460    0.87296  -1.586    0.113    \n",
       "age_group_5:genderMale   -0.31433    0.77161  -0.407    0.684    \n",
       "age_group_6:genderMale   -0.24266    0.30152  -0.805    0.421    \n",
       "age_group_7:genderMale   -0.26906    0.18451  -1.458    0.145    \n",
       "age_group_8:genderMale   -0.19077    0.13859  -1.377    0.169    \n",
       "age_group_9:genderMale   -0.15235    0.13027  -1.170    0.242    \n",
       "age_group_10:genderMale        NA         NA      NA       NA    \n",
       "---\n",
       "Signif. codes:  0 '***' 0.001 '**' 0.01 '*' 0.05 '.' 0.1 ' ' 1\n",
       "\n",
       "(Dispersion parameter for binomial family taken to be 1)\n",
       "\n",
       "    Null deviance: 26456  on 221841  degrees of freedom\n",
       "Residual deviance: 15220  on 221822  degrees of freedom\n",
       "AIC: 15260\n",
       "\n",
       "Number of Fisher Scoring iterations: 20\n"
      ]
     },
     "metadata": {},
     "output_type": "display_data"
    }
   ],
   "source": [
    "model.age_interakt_gender.modified <- glm(dead ~ . * gender, family = \"binomial\", data=temp)\n",
    "summary(model.age_interakt_gender.modified)"
   ]
  },
  {
   "cell_type": "markdown",
   "id": "apparent-trader",
   "metadata": {},
   "source": [
    "Ved at fjerne 1 ad gangen, gjorde ikke nogen af de tidligere insignigikante variable signifikante."
   ]
  },
  {
   "cell_type": "markdown",
   "id": "catholic-works",
   "metadata": {},
   "source": [
    "##### Tilføjelse af interaktionsled."
   ]
  },
  {
   "cell_type": "code",
   "execution_count": 89,
   "id": "authentic-circuit",
   "metadata": {
    "scrolled": false
   },
   "outputs": [
    {
     "data": {
      "text/plain": [
       "\n",
       "Call:\n",
       "glm(formula = dead ~ age_group * gender, family = \"binomial\", \n",
       "    data = unfolded_data)\n",
       "\n",
       "Deviance Residuals: \n",
       "    Min       1Q   Median       3Q      Max  \n",
       "-1.0383  -0.0505  -0.0186   0.0000   4.2404  \n",
       "\n",
       "Coefficients:\n",
       "                         Estimate Std. Error z value Pr(>|z|)\n",
       "(Intercept)            -2.157e+01  3.405e+02  -0.063    0.949\n",
       "age_group2              3.008e-06  4.090e+02   0.000    1.000\n",
       "age_group3              3.008e-06  3.950e+02   0.000    1.000\n",
       "age_group4              1.330e+01  3.405e+02   0.039    0.969\n",
       "age_group5              1.290e+01  3.405e+02   0.038    0.970\n",
       "age_group6              1.490e+01  3.405e+02   0.044    0.965\n",
       "age_group7              1.681e+01  3.405e+02   0.049    0.961\n",
       "age_group8              1.845e+01  3.405e+02   0.054    0.957\n",
       "age_group9              1.969e+01  3.405e+02   0.058    0.954\n",
       "age_group10             2.049e+01  3.405e+02   0.060    0.952\n",
       "genderMale              1.258e+01  3.405e+02   0.037    0.971\n",
       "age_group2:genderMale  -1.258e+01  4.652e+02  -0.027    0.978\n",
       "age_group3:genderMale  -1.258e+01  4.452e+02  -0.028    0.977\n",
       "age_group4:genderMale  -1.322e+01  3.405e+02  -0.039    0.969\n",
       "age_group5:genderMale  -1.215e+01  3.405e+02  -0.036    0.972\n",
       "age_group6:genderMale  -1.208e+01  3.405e+02  -0.035    0.972\n",
       "age_group7:genderMale  -1.211e+01  3.405e+02  -0.036    0.972\n",
       "age_group8:genderMale  -1.203e+01  3.405e+02  -0.035    0.972\n",
       "age_group9:genderMale  -1.199e+01  3.405e+02  -0.035    0.972\n",
       "age_group10:genderMale -1.184e+01  3.405e+02  -0.035    0.972\n",
       "\n",
       "(Dispersion parameter for binomial family taken to be 1)\n",
       "\n",
       "    Null deviance: 26456  on 221841  degrees of freedom\n",
       "Residual deviance: 15220  on 221822  degrees of freedom\n",
       "AIC: 15260\n",
       "\n",
       "Number of Fisher Scoring iterations: 20\n"
      ]
     },
     "metadata": {},
     "output_type": "display_data"
    }
   ],
   "source": [
    "model.age_interakt_gender <- glm(dead ~ age_group * gender, family = \"binomial\", data=unfolded_data)\n",
    "summary(model.age_interakt_gender)"
   ]
  },
  {
   "cell_type": "code",
   "execution_count": 90,
   "id": "disciplinary-somerset",
   "metadata": {
    "scrolled": true
   },
   "outputs": [
    {
     "data": {
      "text/html": [
       "<table>\n",
       "<thead><tr><th scope=col>Resid. Df</th><th scope=col>Resid. Dev</th><th scope=col>Df</th><th scope=col>Deviance</th><th scope=col>Pr(&gt;Chi)</th></tr></thead>\n",
       "<tbody>\n",
       "\t<tr><td>221841  </td><td>26455.96</td><td>NA      </td><td>      NA</td><td>NA      </td></tr>\n",
       "\t<tr><td>221832  </td><td>15391.88</td><td> 9      </td><td>11064.08</td><td> 0      </td></tr>\n",
       "</tbody>\n",
       "</table>\n"
      ],
      "text/latex": [
       "\\begin{tabular}{r|lllll}\n",
       " Resid. Df & Resid. Dev & Df & Deviance & Pr(>Chi)\\\\\n",
       "\\hline\n",
       "\t 221841   & 26455.96 & NA       &       NA & NA      \\\\\n",
       "\t 221832   & 15391.88 &  9       & 11064.08 &  0      \\\\\n",
       "\\end{tabular}\n"
      ],
      "text/markdown": [
       "\n",
       "| Resid. Df | Resid. Dev | Df | Deviance | Pr(>Chi) |\n",
       "|---|---|---|---|---|\n",
       "| 221841   | 26455.96 | NA       |       NA | NA       |\n",
       "| 221832   | 15391.88 |  9       | 11064.08 |  0       |\n",
       "\n"
      ],
      "text/plain": [
       "  Resid. Df Resid. Dev Df Deviance Pr(>Chi)\n",
       "1 221841    26455.96   NA       NA NA      \n",
       "2 221832    15391.88    9 11064.08  0      "
      ]
     },
     "metadata": {},
     "output_type": "display_data"
    },
    {
     "data": {
      "text/html": [
       "<table>\n",
       "<thead><tr><th scope=col>Resid. Df</th><th scope=col>Resid. Dev</th><th scope=col>Df</th><th scope=col>Deviance</th><th scope=col>Pr(&gt;Chi)</th></tr></thead>\n",
       "<tbody>\n",
       "\t<tr><td>221832      </td><td>15391.88    </td><td>NA          </td><td>      NA    </td><td>          NA</td></tr>\n",
       "\t<tr><td>221831      </td><td>15226.15    </td><td> 1          </td><td>165.7327    </td><td>6.327982e-38</td></tr>\n",
       "</tbody>\n",
       "</table>\n"
      ],
      "text/latex": [
       "\\begin{tabular}{r|lllll}\n",
       " Resid. Df & Resid. Dev & Df & Deviance & Pr(>Chi)\\\\\n",
       "\\hline\n",
       "\t 221832       & 15391.88     & NA           &       NA     &           NA\\\\\n",
       "\t 221831       & 15226.15     &  1           & 165.7327     & 6.327982e-38\\\\\n",
       "\\end{tabular}\n"
      ],
      "text/markdown": [
       "\n",
       "| Resid. Df | Resid. Dev | Df | Deviance | Pr(>Chi) |\n",
       "|---|---|---|---|---|\n",
       "| 221832       | 15391.88     | NA           |       NA     |           NA |\n",
       "| 221831       | 15226.15     |  1           | 165.7327     | 6.327982e-38 |\n",
       "\n"
      ],
      "text/plain": [
       "  Resid. Df Resid. Dev Df Deviance Pr(>Chi)    \n",
       "1 221832    15391.88   NA       NA           NA\n",
       "2 221831    15226.15    1 165.7327 6.327982e-38"
      ]
     },
     "metadata": {},
     "output_type": "display_data"
    }
   ],
   "source": [
    "anova(model.default, model.age, test = \"LRT\") # Kan man åbenbart ikke rigtigt.\n",
    "#anova(model.default, model.gender, test = \"LRT\")\n",
    "#anova(model.age, model.gender, test = \"LRT\")\n",
    "anova(model.age, model.age_gender, test = \"LRT\")"
   ]
  },
  {
   "cell_type": "code",
   "execution_count": 91,
   "id": "organic-judgment",
   "metadata": {},
   "outputs": [
    {
     "data": {
      "text/html": [
       "<table>\n",
       "<thead><tr><th scope=col>Resid. Df</th><th scope=col>Resid. Dev</th><th scope=col>Df</th><th scope=col>Deviance</th><th scope=col>Pr(&gt;Chi)</th></tr></thead>\n",
       "<tbody>\n",
       "\t<tr><td>221831   </td><td>15226.15 </td><td>NA       </td><td>      NA </td><td>       NA</td></tr>\n",
       "\t<tr><td>221822   </td><td>15220.23 </td><td> 9       </td><td>5.917161 </td><td>0.7481797</td></tr>\n",
       "</tbody>\n",
       "</table>\n"
      ],
      "text/latex": [
       "\\begin{tabular}{r|lllll}\n",
       " Resid. Df & Resid. Dev & Df & Deviance & Pr(>Chi)\\\\\n",
       "\\hline\n",
       "\t 221831    & 15226.15  & NA        &       NA  &        NA\\\\\n",
       "\t 221822    & 15220.23  &  9        & 5.917161  & 0.7481797\\\\\n",
       "\\end{tabular}\n"
      ],
      "text/markdown": [
       "\n",
       "| Resid. Df | Resid. Dev | Df | Deviance | Pr(>Chi) |\n",
       "|---|---|---|---|---|\n",
       "| 221831    | 15226.15  | NA        |       NA  |        NA |\n",
       "| 221822    | 15220.23  |  9        | 5.917161  | 0.7481797 |\n",
       "\n"
      ],
      "text/plain": [
       "  Resid. Df Resid. Dev Df Deviance Pr(>Chi) \n",
       "1 221831    15226.15   NA       NA        NA\n",
       "2 221822    15220.23    9 5.917161 0.7481797"
      ]
     },
     "metadata": {},
     "output_type": "display_data"
    },
    {
     "data": {
      "text/html": [
       "<table>\n",
       "<thead><tr><th scope=col>Resid. Df</th><th scope=col>Resid. Dev</th><th scope=col>Df</th><th scope=col>Deviance</th><th scope=col>Pr(&gt;Chi)</th></tr></thead>\n",
       "<tbody>\n",
       "\t<tr><td>221833  </td><td>19612.27</td><td>NA      </td><td>      NA</td><td>NA      </td></tr>\n",
       "\t<tr><td>221822  </td><td>15220.23</td><td>11      </td><td>4392.036</td><td> 0      </td></tr>\n",
       "</tbody>\n",
       "</table>\n"
      ],
      "text/latex": [
       "\\begin{tabular}{r|lllll}\n",
       " Resid. Df & Resid. Dev & Df & Deviance & Pr(>Chi)\\\\\n",
       "\\hline\n",
       "\t 221833   & 19612.27 & NA       &       NA & NA      \\\\\n",
       "\t 221822   & 15220.23 & 11       & 4392.036 &  0      \\\\\n",
       "\\end{tabular}\n"
      ],
      "text/markdown": [
       "\n",
       "| Resid. Df | Resid. Dev | Df | Deviance | Pr(>Chi) |\n",
       "|---|---|---|---|---|\n",
       "| 221833   | 19612.27 | NA       |       NA | NA       |\n",
       "| 221822   | 15220.23 | 11       | 4392.036 |  0       |\n",
       "\n"
      ],
      "text/plain": [
       "  Resid. Df Resid. Dev Df Deviance Pr(>Chi)\n",
       "1 221833    19612.27   NA       NA NA      \n",
       "2 221822    15220.23   11 4392.036  0      "
      ]
     },
     "metadata": {},
     "output_type": "display_data"
    }
   ],
   "source": [
    "anova(model.age_gender, model.age_interakt_gender, test = \"LRT\")\n",
    "# Samme test, men for insignifiante parameter fjernet.\n",
    "anova(model.age_gender.modified, model.age_interakt_gender.modified, test = \"LRT\")"
   ]
  },
  {
   "cell_type": "markdown",
   "id": "proper-tenant",
   "metadata": {},
   "source": [
    "Modellen med interaktionsleddet forkastes, da denne er insignifikant sammenlignet med den simpler model."
   ]
  },
  {
   "cell_type": "markdown",
   "id": "corrected-agreement",
   "metadata": {},
   "source": [
    "#### Ressourcer til yderligere undersøgelse"
   ]
  },
  {
   "cell_type": "markdown",
   "id": "cultural-outreach",
   "metadata": {},
   "source": [
    "https://www.cdc.gov/csels/dsepd/ss1978/lesson3/section3.html#:~:text=An%20age%2Dspecific%20mortality%20rate,age%20group%20in%20the%20population.\n",
    "\n",
    "https://www.ncbi.nlm.nih.gov/pmc/articles/PMC4028711/\n",
    "\n",
    "https://www.un.org/development/desa/pd/sites/www.un.org.development.desa.pd/files/files/documents/2020/Jan/un_1955_age_and_sex_patterns_of_mortality_-_model_life-tables_for_under-developed_countries_0.pdf\n",
    "\n",
    "https://www.demogr.mpg.de/books/drm/009/12.pdf\n",
    "\n",
    "https://www.sciencedirect.com/science/article/pii/S2352827319300680"
   ]
  }
 ],
 "metadata": {
  "kernelspec": {
   "display_name": "R",
   "language": "R",
   "name": "ir"
  },
  "language_info": {
   "codemirror_mode": "r",
   "file_extension": ".r",
   "mimetype": "text/x-r-source",
   "name": "R",
   "pygments_lexer": "r",
   "version": "3.6.1"
  }
 },
 "nbformat": 4,
 "nbformat_minor": 5
}
