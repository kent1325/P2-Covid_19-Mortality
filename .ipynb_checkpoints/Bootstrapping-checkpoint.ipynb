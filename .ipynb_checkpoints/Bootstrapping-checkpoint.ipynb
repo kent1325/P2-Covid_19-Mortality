{
 "cells": [
  {
   "cell_type": "markdown",
   "id": "incorrect-operation",
   "metadata": {},
   "source": [
    "# Basic Package Mangement"
   ]
  },
  {
   "cell_type": "code",
   "execution_count": 1,
   "id": "hungarian-easter",
   "metadata": {},
   "outputs": [
    {
     "name": "stderr",
     "output_type": "stream",
     "text": [
      "Loading required package: pacman\n",
      "Warning message:\n",
      "\"package 'pacman' was built under R version 3.6.3\""
     ]
    }
   ],
   "source": [
    "#install.packages(\"pacman\") # Execute this once.\n",
    "require(pacman)"
   ]
  },
  {
   "cell_type": "markdown",
   "id": "chemical-wireless",
   "metadata": {},
   "source": [
    "### Clearing and unloading packages"
   ]
  },
  {
   "cell_type": "code",
   "execution_count": 11,
   "id": "brief-render",
   "metadata": {
    "scrolled": true
   },
   "outputs": [
    {
     "name": "stderr",
     "output_type": "stream",
     "text": [
      "The following packages have been unloaded:\n",
      "\breadxl, mosaic, ggridges, mosaicData, ggformula, ggstance, Matrix, lattice, forcats, stringr, dplyr, purrr, readr, tidyr, tibble, ggplot2, tidyverse, pacman\n",
      "\n"
     ]
    },
    {
     "ename": "ERROR",
     "evalue": "Error in detach(\"package:datasets\", unload = TRUE): invalid 'name' argument\n",
     "output_type": "error",
     "traceback": [
      "Error in detach(\"package:datasets\", unload = TRUE): invalid 'name' argument\nTraceback:\n",
      "1. detach(\"package:datasets\", unload = TRUE)",
      "2. stop(\"invalid 'name' argument\")"
     ]
    }
   ],
   "source": [
    "# Run this block, when done coding or before starting coding.\n",
    "p_unload(all)\n",
    "detach(\"package:datasets\", unload=TRUE)\n",
    "rm(list=ls()) # removes all previous stored variables"
   ]
  },
  {
   "cell_type": "markdown",
   "id": "fallen-revelation",
   "metadata": {},
   "source": [
    "### Loading packages"
   ]
  },
  {
   "cell_type": "code",
   "execution_count": 3,
   "id": "convinced-texas",
   "metadata": {},
   "outputs": [],
   "source": [
    "pacman::p_load(pacman, tidyverse, mosaic)"
   ]
  },
  {
   "cell_type": "markdown",
   "id": "entire-taylor",
   "metadata": {},
   "source": [
    "# Initializing the dataframe"
   ]
  },
  {
   "cell_type": "code",
   "execution_count": 4,
   "id": "swiss-allen",
   "metadata": {},
   "outputs": [
    {
     "data": {
      "text/html": [
       "<table>\n",
       "<thead><tr><th scope=col>interval</th><th scope=col>age</th><th scope=col>infected</th><th scope=col>tested</th><th scope=col>female_deaths</th><th scope=col>male_deaths</th><th scope=col>tot_deaths</th><th scope=col>comorbidity</th><th scope=col>infected_fem</th><th scope=col>infected_male</th><th scope=col>tot_male</th><th scope=col>tot_fem</th><th scope=col>tot_num</th></tr></thead>\n",
       "<tbody>\n",
       "\t<tr><td> 1     </td><td>0-9    </td><td> 15400 </td><td> 395142</td><td>   0   </td><td>   1   </td><td>   1   </td><td>   1   </td><td>  7372 </td><td>  8028 </td><td> 313571</td><td> 297559</td><td> 611130</td></tr>\n",
       "\t<tr><td> 2     </td><td>10-19  </td><td> 34025 </td><td> 605344</td><td>   0   </td><td>   0   </td><td>   0   </td><td>   0   </td><td> 16626 </td><td> 17399 </td><td> 348964</td><td> 331889</td><td> 680853</td></tr>\n",
       "\t<tr><td> 3     </td><td>20-29  </td><td> 41545 </td><td> 688922</td><td>   0   </td><td>   0   </td><td>   0   </td><td>   0   </td><td> 21296 </td><td> 20249 </td><td> 397572</td><td> 381907</td><td> 779479</td></tr>\n",
       "\t<tr><td> 4     </td><td>30-39  </td><td> 30514 </td><td> 604186</td><td>   4   </td><td>   2   </td><td>   6   </td><td>   3   </td><td> 15615 </td><td> 14899 </td><td> 352231</td><td> 341194</td><td> 693425</td></tr>\n",
       "\t<tr><td> 5     </td><td>40-49  </td><td> 32482 </td><td> 646070</td><td>   3   </td><td>   4   </td><td>   7   </td><td>   5   </td><td> 17345 </td><td> 15137 </td><td> 376117</td><td> 375174</td><td> 751291</td></tr>\n",
       "\t<tr><td> 6     </td><td>50-59  </td><td> 31843 </td><td> 660087</td><td>  21   </td><td>  32   </td><td>  53   </td><td>  37   </td><td> 16507 </td><td> 15336 </td><td> 402188</td><td> 398825</td><td> 801013</td></tr>\n",
       "\t<tr><td> 7     </td><td>60-69  </td><td> 17558 </td><td> 490990</td><td>  73   </td><td> 122   </td><td> 195   </td><td> 153   </td><td>  8562 </td><td>  8996 </td><td> 327021</td><td> 338282</td><td> 666262</td></tr>\n",
       "\t<tr><td> 8     </td><td>70-79  </td><td> 10910 </td><td> 370426</td><td> 229   </td><td> 395   </td><td> 624   </td><td> 516   </td><td>  5378 </td><td>  5532 </td><td> 272021</td><td> 300894</td><td> 572915</td></tr>\n",
       "\t<tr><td> 9     </td><td>80-89  </td><td>  5760 </td><td> 140654</td><td> 441   </td><td> 523   </td><td> 964   </td><td> 784   </td><td>  3330 </td><td>  2430 </td><td>  99560</td><td> 135830</td><td> 235390</td></tr>\n",
       "\t<tr><td>10     </td><td>90+    </td><td>  1805 </td><td>  28610</td><td> 325   </td><td> 220   </td><td> 545   </td><td> 433   </td><td>  1277 </td><td>   528 </td><td>  13237</td><td>  32228</td><td>  45455</td></tr>\n",
       "\t<tr><td>11     </td><td>Alle   </td><td>221842 </td><td>4630431</td><td>1096   </td><td>1299   </td><td>2395   </td><td>1932   </td><td>113308 </td><td>108534 </td><td>2902482</td><td>2933782</td><td>5837213</td></tr>\n",
       "</tbody>\n",
       "</table>\n"
      ],
      "text/latex": [
       "\\begin{tabular}{r|lllllllllllll}\n",
       " interval & age & infected & tested & female\\_deaths & male\\_deaths & tot\\_deaths & comorbidity & infected\\_fem & infected\\_male & tot\\_male & tot\\_fem & tot\\_num\\\\\n",
       "\\hline\n",
       "\t  1      & 0-9     &  15400  &  395142 &    0    &    1    &    1    &    1    &   7372  &   8028  &  313571 &  297559 &  611130\\\\\n",
       "\t  2      & 10-19   &  34025  &  605344 &    0    &    0    &    0    &    0    &  16626  &  17399  &  348964 &  331889 &  680853\\\\\n",
       "\t  3      & 20-29   &  41545  &  688922 &    0    &    0    &    0    &    0    &  21296  &  20249  &  397572 &  381907 &  779479\\\\\n",
       "\t  4      & 30-39   &  30514  &  604186 &    4    &    2    &    6    &    3    &  15615  &  14899  &  352231 &  341194 &  693425\\\\\n",
       "\t  5      & 40-49   &  32482  &  646070 &    3    &    4    &    7    &    5    &  17345  &  15137  &  376117 &  375174 &  751291\\\\\n",
       "\t  6      & 50-59   &  31843  &  660087 &   21    &   32    &   53    &   37    &  16507  &  15336  &  402188 &  398825 &  801013\\\\\n",
       "\t  7      & 60-69   &  17558  &  490990 &   73    &  122    &  195    &  153    &   8562  &   8996  &  327021 &  338282 &  666262\\\\\n",
       "\t  8      & 70-79   &  10910  &  370426 &  229    &  395    &  624    &  516    &   5378  &   5532  &  272021 &  300894 &  572915\\\\\n",
       "\t  9      & 80-89   &   5760  &  140654 &  441    &  523    &  964    &  784    &   3330  &   2430  &   99560 &  135830 &  235390\\\\\n",
       "\t 10      & 90+     &   1805  &   28610 &  325    &  220    &  545    &  433    &   1277  &    528  &   13237 &   32228 &   45455\\\\\n",
       "\t 11      & Alle    & 221842  & 4630431 & 1096    & 1299    & 2395    & 1932    & 113308  & 108534  & 2902482 & 2933782 & 5837213\\\\\n",
       "\\end{tabular}\n"
      ],
      "text/markdown": [
       "\n",
       "| interval | age | infected | tested | female_deaths | male_deaths | tot_deaths | comorbidity | infected_fem | infected_male | tot_male | tot_fem | tot_num |\n",
       "|---|---|---|---|---|---|---|---|---|---|---|---|---|\n",
       "|  1      | 0-9     |  15400  |  395142 |    0    |    1    |    1    |    1    |   7372  |   8028  |  313571 |  297559 |  611130 |\n",
       "|  2      | 10-19   |  34025  |  605344 |    0    |    0    |    0    |    0    |  16626  |  17399  |  348964 |  331889 |  680853 |\n",
       "|  3      | 20-29   |  41545  |  688922 |    0    |    0    |    0    |    0    |  21296  |  20249  |  397572 |  381907 |  779479 |\n",
       "|  4      | 30-39   |  30514  |  604186 |    4    |    2    |    6    |    3    |  15615  |  14899  |  352231 |  341194 |  693425 |\n",
       "|  5      | 40-49   |  32482  |  646070 |    3    |    4    |    7    |    5    |  17345  |  15137  |  376117 |  375174 |  751291 |\n",
       "|  6      | 50-59   |  31843  |  660087 |   21    |   32    |   53    |   37    |  16507  |  15336  |  402188 |  398825 |  801013 |\n",
       "|  7      | 60-69   |  17558  |  490990 |   73    |  122    |  195    |  153    |   8562  |   8996  |  327021 |  338282 |  666262 |\n",
       "|  8      | 70-79   |  10910  |  370426 |  229    |  395    |  624    |  516    |   5378  |   5532  |  272021 |  300894 |  572915 |\n",
       "|  9      | 80-89   |   5760  |  140654 |  441    |  523    |  964    |  784    |   3330  |   2430  |   99560 |  135830 |  235390 |\n",
       "| 10      | 90+     |   1805  |   28610 |  325    |  220    |  545    |  433    |   1277  |    528  |   13237 |   32228 |   45455 |\n",
       "| 11      | Alle    | 221842  | 4630431 | 1096    | 1299    | 2395    | 1932    | 113308  | 108534  | 2902482 | 2933782 | 5837213 |\n",
       "\n"
      ],
      "text/plain": [
       "   interval age   infected tested  female_deaths male_deaths tot_deaths\n",
       "1   1       0-9    15400    395142    0             1           1      \n",
       "2   2       10-19  34025    605344    0             0           0      \n",
       "3   3       20-29  41545    688922    0             0           0      \n",
       "4   4       30-39  30514    604186    4             2           6      \n",
       "5   5       40-49  32482    646070    3             4           7      \n",
       "6   6       50-59  31843    660087   21            32          53      \n",
       "7   7       60-69  17558    490990   73           122         195      \n",
       "8   8       70-79  10910    370426  229           395         624      \n",
       "9   9       80-89   5760    140654  441           523         964      \n",
       "10 10       90+     1805     28610  325           220         545      \n",
       "11 11       Alle  221842   4630431 1096          1299        2395      \n",
       "   comorbidity infected_fem infected_male tot_male tot_fem tot_num\n",
       "1     1          7372         8028         313571   297559  611130\n",
       "2     0         16626        17399         348964   331889  680853\n",
       "3     0         21296        20249         397572   381907  779479\n",
       "4     3         15615        14899         352231   341194  693425\n",
       "5     5         17345        15137         376117   375174  751291\n",
       "6    37         16507        15336         402188   398825  801013\n",
       "7   153          8562         8996         327021   338282  666262\n",
       "8   516          5378         5532         272021   300894  572915\n",
       "9   784          3330         2430          99560   135830  235390\n",
       "10  433          1277          528          13237    32228   45455\n",
       "11 1932        113308       108534        2902482  2933782 5837213"
      ]
     },
     "metadata": {},
     "output_type": "display_data"
    }
   ],
   "source": [
    "library(\"readxl\")\n",
    "df <- read_excel(\"data/DeathsDK160321.xlsx\")\n",
    "df"
   ]
  },
  {
   "cell_type": "code",
   "execution_count": 5,
   "id": "invisible-missile",
   "metadata": {},
   "outputs": [
    {
     "data": {
      "text/plain": [
       "    interval        age               infected          tested       \n",
       " Min.   : 1.0   Length:11          Min.   :  1805   Min.   :  28610  \n",
       " 1st Qu.: 3.5   Class :character   1st Qu.: 13155   1st Qu.: 382784  \n",
       " Median : 6.0   Mode  :character   Median : 30514   Median : 604186  \n",
       " Mean   : 6.0                      Mean   : 40335   Mean   : 841897  \n",
       " 3rd Qu.: 8.5                      3rd Qu.: 33254   3rd Qu.: 653078  \n",
       " Max.   :11.0                      Max.   :221842   Max.   :4630431  \n",
       " female_deaths     male_deaths       tot_deaths      comorbidity    \n",
       " Min.   :   0.0   Min.   :   0.0   Min.   :   0.0   Min.   :   0.0  \n",
       " 1st Qu.:   1.5   1st Qu.:   1.5   1st Qu.:   3.5   1st Qu.:   2.0  \n",
       " Median :  21.0   Median :  32.0   Median :  53.0   Median :  37.0  \n",
       " Mean   : 199.3   Mean   : 236.2   Mean   : 435.5   Mean   : 351.3  \n",
       " 3rd Qu.: 277.0   3rd Qu.: 307.5   3rd Qu.: 584.5   3rd Qu.: 474.5  \n",
       " Max.   :1096.0   Max.   :1299.0   Max.   :2395.0   Max.   :1932.0  \n",
       "  infected_fem    infected_male       tot_male          tot_fem       \n",
       " Min.   :  1277   Min.   :   528   Min.   :  13237   Min.   :  32228  \n",
       " 1st Qu.:  6375   1st Qu.:  6780   1st Qu.: 292796   1st Qu.: 299227  \n",
       " Median : 15615   Median : 14899   Median : 348964   Median : 338282  \n",
       " Mean   : 20601   Mean   : 19733   Mean   : 527724   Mean   : 533415  \n",
       " 3rd Qu.: 16986   3rd Qu.: 16368   3rd Qu.: 386845   3rd Qu.: 378541  \n",
       " Max.   :113308   Max.   :108534   Max.   :2902482   Max.   :2933782  \n",
       "    tot_num       \n",
       " Min.   :  45455  \n",
       " 1st Qu.: 592022  \n",
       " Median : 680853  \n",
       " Mean   :1061311  \n",
       " 3rd Qu.: 765385  \n",
       " Max.   :5837213  "
      ]
     },
     "metadata": {},
     "output_type": "display_data"
    }
   ],
   "source": [
    "summary(df)"
   ]
  },
  {
   "cell_type": "code",
   "execution_count": 6,
   "id": "northern-carrier",
   "metadata": {},
   "outputs": [
    {
     "data": {
      "text/html": [
       "<table>\n",
       "<thead><tr><th scope=col>interval</th><th scope=col>age</th><th scope=col>infected</th><th scope=col>tested</th><th scope=col>female_deaths</th><th scope=col>male_deaths</th><th scope=col>tot_deaths</th><th scope=col>comorbidity</th><th scope=col>infected_fem</th><th scope=col>infected_male</th><th scope=col>tot_male</th><th scope=col>tot_fem</th><th scope=col>tot_num</th></tr></thead>\n",
       "<tbody>\n",
       "\t<tr><td> 1    </td><td>0-9   </td><td>15400 </td><td>395142</td><td>  0   </td><td>  1   </td><td>  1   </td><td>  1   </td><td> 7372 </td><td> 8028 </td><td>313571</td><td>297559</td><td>611130</td></tr>\n",
       "\t<tr><td> 2    </td><td>10-19 </td><td>34025 </td><td>605344</td><td>  0   </td><td>  0   </td><td>  0   </td><td>  0   </td><td>16626 </td><td>17399 </td><td>348964</td><td>331889</td><td>680853</td></tr>\n",
       "\t<tr><td> 3    </td><td>20-29 </td><td>41545 </td><td>688922</td><td>  0   </td><td>  0   </td><td>  0   </td><td>  0   </td><td>21296 </td><td>20249 </td><td>397572</td><td>381907</td><td>779479</td></tr>\n",
       "\t<tr><td> 4    </td><td>30-39 </td><td>30514 </td><td>604186</td><td>  4   </td><td>  2   </td><td>  6   </td><td>  3   </td><td>15615 </td><td>14899 </td><td>352231</td><td>341194</td><td>693425</td></tr>\n",
       "\t<tr><td> 5    </td><td>40-49 </td><td>32482 </td><td>646070</td><td>  3   </td><td>  4   </td><td>  7   </td><td>  5   </td><td>17345 </td><td>15137 </td><td>376117</td><td>375174</td><td>751291</td></tr>\n",
       "\t<tr><td> 6    </td><td>50-59 </td><td>31843 </td><td>660087</td><td> 21   </td><td> 32   </td><td> 53   </td><td> 37   </td><td>16507 </td><td>15336 </td><td>402188</td><td>398825</td><td>801013</td></tr>\n",
       "\t<tr><td> 7    </td><td>60-69 </td><td>17558 </td><td>490990</td><td> 73   </td><td>122   </td><td>195   </td><td>153   </td><td> 8562 </td><td> 8996 </td><td>327021</td><td>338282</td><td>666262</td></tr>\n",
       "\t<tr><td> 8    </td><td>70-79 </td><td>10910 </td><td>370426</td><td>229   </td><td>395   </td><td>624   </td><td>516   </td><td> 5378 </td><td> 5532 </td><td>272021</td><td>300894</td><td>572915</td></tr>\n",
       "\t<tr><td> 9    </td><td>80-89 </td><td> 5760 </td><td>140654</td><td>441   </td><td>523   </td><td>964   </td><td>784   </td><td> 3330 </td><td> 2430 </td><td> 99560</td><td>135830</td><td>235390</td></tr>\n",
       "\t<tr><td>10    </td><td>90+   </td><td> 1805 </td><td> 28610</td><td>325   </td><td>220   </td><td>545   </td><td>433   </td><td> 1277 </td><td>  528 </td><td> 13237</td><td> 32228</td><td> 45455</td></tr>\n",
       "</tbody>\n",
       "</table>\n"
      ],
      "text/latex": [
       "\\begin{tabular}{r|lllllllllllll}\n",
       " interval & age & infected & tested & female\\_deaths & male\\_deaths & tot\\_deaths & comorbidity & infected\\_fem & infected\\_male & tot\\_male & tot\\_fem & tot\\_num\\\\\n",
       "\\hline\n",
       "\t  1     & 0-9    & 15400  & 395142 &   0    &   1    &   1    &   1    &  7372  &  8028  & 313571 & 297559 & 611130\\\\\n",
       "\t  2     & 10-19  & 34025  & 605344 &   0    &   0    &   0    &   0    & 16626  & 17399  & 348964 & 331889 & 680853\\\\\n",
       "\t  3     & 20-29  & 41545  & 688922 &   0    &   0    &   0    &   0    & 21296  & 20249  & 397572 & 381907 & 779479\\\\\n",
       "\t  4     & 30-39  & 30514  & 604186 &   4    &   2    &   6    &   3    & 15615  & 14899  & 352231 & 341194 & 693425\\\\\n",
       "\t  5     & 40-49  & 32482  & 646070 &   3    &   4    &   7    &   5    & 17345  & 15137  & 376117 & 375174 & 751291\\\\\n",
       "\t  6     & 50-59  & 31843  & 660087 &  21    &  32    &  53    &  37    & 16507  & 15336  & 402188 & 398825 & 801013\\\\\n",
       "\t  7     & 60-69  & 17558  & 490990 &  73    & 122    & 195    & 153    &  8562  &  8996  & 327021 & 338282 & 666262\\\\\n",
       "\t  8     & 70-79  & 10910  & 370426 & 229    & 395    & 624    & 516    &  5378  &  5532  & 272021 & 300894 & 572915\\\\\n",
       "\t  9     & 80-89  &  5760  & 140654 & 441    & 523    & 964    & 784    &  3330  &  2430  &  99560 & 135830 & 235390\\\\\n",
       "\t 10     & 90+    &  1805  &  28610 & 325    & 220    & 545    & 433    &  1277  &   528  &  13237 &  32228 &  45455\\\\\n",
       "\\end{tabular}\n"
      ],
      "text/markdown": [
       "\n",
       "| interval | age | infected | tested | female_deaths | male_deaths | tot_deaths | comorbidity | infected_fem | infected_male | tot_male | tot_fem | tot_num |\n",
       "|---|---|---|---|---|---|---|---|---|---|---|---|---|\n",
       "|  1     | 0-9    | 15400  | 395142 |   0    |   1    |   1    |   1    |  7372  |  8028  | 313571 | 297559 | 611130 |\n",
       "|  2     | 10-19  | 34025  | 605344 |   0    |   0    |   0    |   0    | 16626  | 17399  | 348964 | 331889 | 680853 |\n",
       "|  3     | 20-29  | 41545  | 688922 |   0    |   0    |   0    |   0    | 21296  | 20249  | 397572 | 381907 | 779479 |\n",
       "|  4     | 30-39  | 30514  | 604186 |   4    |   2    |   6    |   3    | 15615  | 14899  | 352231 | 341194 | 693425 |\n",
       "|  5     | 40-49  | 32482  | 646070 |   3    |   4    |   7    |   5    | 17345  | 15137  | 376117 | 375174 | 751291 |\n",
       "|  6     | 50-59  | 31843  | 660087 |  21    |  32    |  53    |  37    | 16507  | 15336  | 402188 | 398825 | 801013 |\n",
       "|  7     | 60-69  | 17558  | 490990 |  73    | 122    | 195    | 153    |  8562  |  8996  | 327021 | 338282 | 666262 |\n",
       "|  8     | 70-79  | 10910  | 370426 | 229    | 395    | 624    | 516    |  5378  |  5532  | 272021 | 300894 | 572915 |\n",
       "|  9     | 80-89  |  5760  | 140654 | 441    | 523    | 964    | 784    |  3330  |  2430  |  99560 | 135830 | 235390 |\n",
       "| 10     | 90+    |  1805  |  28610 | 325    | 220    | 545    | 433    |  1277  |   528  |  13237 |  32228 |  45455 |\n",
       "\n"
      ],
      "text/plain": [
       "   interval age   infected tested female_deaths male_deaths tot_deaths\n",
       "1   1       0-9   15400    395142   0             1           1       \n",
       "2   2       10-19 34025    605344   0             0           0       \n",
       "3   3       20-29 41545    688922   0             0           0       \n",
       "4   4       30-39 30514    604186   4             2           6       \n",
       "5   5       40-49 32482    646070   3             4           7       \n",
       "6   6       50-59 31843    660087  21            32          53       \n",
       "7   7       60-69 17558    490990  73           122         195       \n",
       "8   8       70-79 10910    370426 229           395         624       \n",
       "9   9       80-89  5760    140654 441           523         964       \n",
       "10 10       90+    1805     28610 325           220         545       \n",
       "   comorbidity infected_fem infected_male tot_male tot_fem tot_num\n",
       "1    1          7372         8028         313571   297559  611130 \n",
       "2    0         16626        17399         348964   331889  680853 \n",
       "3    0         21296        20249         397572   381907  779479 \n",
       "4    3         15615        14899         352231   341194  693425 \n",
       "5    5         17345        15137         376117   375174  751291 \n",
       "6   37         16507        15336         402188   398825  801013 \n",
       "7  153          8562         8996         327021   338282  666262 \n",
       "8  516          5378         5532         272021   300894  572915 \n",
       "9  784          3330         2430          99560   135830  235390 \n",
       "10 433          1277          528          13237    32228   45455 "
      ]
     },
     "metadata": {},
     "output_type": "display_data"
    }
   ],
   "source": [
    "df_no_sum <- df[-c(11), ]\n",
    "df_no_sum"
   ]
  },
  {
   "cell_type": "markdown",
   "id": "under-eleven",
   "metadata": {},
   "source": [
    "### Plotting and testing"
   ]
  },
  {
   "cell_type": "code",
   "execution_count": 7,
   "id": "level-ability",
   "metadata": {},
   "outputs": [
    {
     "data": {
      "text/html": [
       "<dl class=dl-horizontal>\n",
       "\t<dt>2.5%</dt>\n",
       "\t\t<dd>543.938504155125</dd>\n",
       "\t<dt>97.5%</dt>\n",
       "\t\t<dd>546.060941828255</dd>\n",
       "</dl>\n"
      ],
      "text/latex": [
       "\\begin{description*}\n",
       "\\item[2.5\\textbackslash{}\\%] 543.938504155125\n",
       "\\item[97.5\\textbackslash{}\\%] 546.060941828255\n",
       "\\end{description*}\n"
      ],
      "text/markdown": [
       "2.5%\n",
       ":   543.93850415512597.5%\n",
       ":   546.060941828255\n",
       "\n"
      ],
      "text/plain": [
       "    2.5%    97.5% \n",
       "543.9385 546.0609 "
      ]
     },
     "metadata": {},
     "output_type": "display_data"
    }
   ],
   "source": [
    "k <- 100000 # The number og simulations\n",
    "n <- df_no_sum[df_no_sum$interval == 10, ]$tested # Number of tested individuals of a certain agegroup in Denmark.\n",
    "p_hat <- df_no_sum[df_no_sum$interval == 10, ]$tot_deaths / n # The estimated probability of dying with covid-19 in the specifik agegroup.\n",
    "tot_infected_90 <- df_no_sum[df_no_sum$interval == 10, ]$infected # Estimated numbers of infected.\n",
    "\n",
    "# Simulate number of infected of size tested, with probability of dying reapeat k times.\n",
    "tot_deaths_90_sample <- replicate(k, rbinom(tot_infected_90, n, p_hat))\n",
    "# Computing the mean of the simulated observations.\n",
    "tot_deaths_90_sample_means <- apply(tot_deaths_90_sample, 2, mean)\n",
    "\n",
    "# Get the 95% confidence interval.\n",
    "quantile(tot_deaths_90_sample_means, c(0.025, 0.975))"
   ]
  },
  {
   "cell_type": "code",
   "execution_count": 8,
   "id": "coordinated-mistress",
   "metadata": {
    "scrolled": false
   },
   "outputs": [
    {
     "data": {
      "image/png": "[encoded data removed]",
      "text/plain": [
       "Plot with title \"Histogram of tot_deaths_90_sample_means\""
      ]
     },
     "metadata": {},
     "output_type": "display_data"
    }
   ],
   "source": [
    "# Plot the result.\n",
    "hist(tot_deaths_90_sample_means, col=\"blue\", nclass=30)"
   ]
  },
  {
   "cell_type": "markdown",
   "id": "published-cause",
   "metadata": {},
   "source": [
    "### Hypotesetest"
   ]
  },
  {
   "cell_type": "markdown",
   "id": "laden-signature",
   "metadata": {},
   "source": [
    "$H_0:$ Der er ingen signifikant forskel på dødeligheden i de forskellige aldersgrupper."
   ]
  }
 ],
 "metadata": {
  "kernelspec": {
   "display_name": "R",
   "language": "R",
   "name": "ir"
  },
  "language_info": {
   "codemirror_mode": "r",
   "file_extension": ".r",
   "mimetype": "text/x-r-source",
   "name": "R",
   "pygments_lexer": "r",
   "version": "3.6.1"
  }
 },
 "nbformat": 4,
 "nbformat_minor": 5
}
