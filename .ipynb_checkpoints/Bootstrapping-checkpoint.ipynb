{
 "cells": [
  {
   "cell_type": "markdown",
   "id": "incorrect-operation",
   "metadata": {},
   "source": [
    "# Basic Package Mangement"
   ]
  },
  {
   "cell_type": "code",
   "execution_count": 1,
   "id": "hungarian-easter",
   "metadata": {
    "scrolled": true
   },
   "outputs": [
    {
     "name": "stderr",
     "output_type": "stream",
     "text": [
      "Loading required package: pacman\n",
      "Warning message:\n",
      "\"package 'pacman' was built under R version 3.6.3\""
     ]
    }
   ],
   "source": [
    "#install.packages(\"pacman\") # Execute this once.\n",
    "require(pacman)"
   ]
  },
  {
   "cell_type": "markdown",
   "id": "chemical-wireless",
   "metadata": {},
   "source": [
    "### Clearing and unloading packages"
   ]
  },
  {
   "cell_type": "code",
   "execution_count": 151,
   "id": "brief-render",
   "metadata": {
    "scrolled": false
   },
   "outputs": [
    {
     "name": "stderr",
     "output_type": "stream",
     "text": [
      "The following packages have been unloaded:\n",
      "\breadxl, magrittr, mosaic, ggridges, mosaicData, ggformula, ggstance, Matrix, lattice, forcats, stringr, dplyr, purrr, readr, tidyr, tibble, ggplot2, tidyverse, pacman\n",
      "\n"
     ]
    }
   ],
   "source": [
    "# Run this block, when done coding or before starting coding.\n",
    "p_unload(all)\n",
    "detach(\"package:datasets\", unload=TRUE)\n",
    "rm(list=ls()) # removes all previous stored variables"
   ]
  },
  {
   "cell_type": "markdown",
   "id": "fallen-revelation",
   "metadata": {},
   "source": [
    "### Loading packages"
   ]
  },
  {
   "cell_type": "code",
   "execution_count": 2,
   "id": "convinced-texas",
   "metadata": {},
   "outputs": [],
   "source": [
    "pacman::p_load(pacman, tidyverse, mosaic, magrittr)"
   ]
  },
  {
   "cell_type": "markdown",
   "id": "entire-taylor",
   "metadata": {},
   "source": [
    "# Initializing the dataframe"
   ]
  },
  {
   "cell_type": "code",
   "execution_count": 3,
   "id": "swiss-allen",
   "metadata": {},
   "outputs": [
    {
     "data": {
      "text/html": [
       "<table>\n",
       "<thead><tr><th scope=col>interval</th><th scope=col>age</th><th scope=col>infected</th><th scope=col>tested</th><th scope=col>female_deaths</th><th scope=col>male_deaths</th><th scope=col>tot_deaths</th><th scope=col>comorbidity</th><th scope=col>infected_fem</th><th scope=col>infected_male</th><th scope=col>tot_male</th><th scope=col>tot_fem</th><th scope=col>tot_num</th></tr></thead>\n",
       "<tbody>\n",
       "\t<tr><td> 1     </td><td>0-9    </td><td> 15400 </td><td> 395142</td><td>   0   </td><td>   1   </td><td>   1   </td><td>   1   </td><td>  7372 </td><td>  8028 </td><td> 313571</td><td> 297559</td><td> 611130</td></tr>\n",
       "\t<tr><td> 2     </td><td>10-19  </td><td> 34025 </td><td> 605344</td><td>   0   </td><td>   0   </td><td>   0   </td><td>   0   </td><td> 16626 </td><td> 17399 </td><td> 348964</td><td> 331889</td><td> 680853</td></tr>\n",
       "\t<tr><td> 3     </td><td>20-29  </td><td> 41545 </td><td> 688922</td><td>   0   </td><td>   0   </td><td>   0   </td><td>   0   </td><td> 21296 </td><td> 20249 </td><td> 397572</td><td> 381907</td><td> 779479</td></tr>\n",
       "\t<tr><td> 4     </td><td>30-39  </td><td> 30514 </td><td> 604186</td><td>   4   </td><td>   2   </td><td>   6   </td><td>   3   </td><td> 15615 </td><td> 14899 </td><td> 352231</td><td> 341194</td><td> 693425</td></tr>\n",
       "\t<tr><td> 5     </td><td>40-49  </td><td> 32482 </td><td> 646070</td><td>   3   </td><td>   4   </td><td>   7   </td><td>   5   </td><td> 17345 </td><td> 15137 </td><td> 376117</td><td> 375174</td><td> 751291</td></tr>\n",
       "\t<tr><td> 6     </td><td>50-59  </td><td> 31843 </td><td> 660087</td><td>  21   </td><td>  32   </td><td>  53   </td><td>  37   </td><td> 16507 </td><td> 15336 </td><td> 402188</td><td> 398825</td><td> 801013</td></tr>\n",
       "\t<tr><td> 7     </td><td>60-69  </td><td> 17558 </td><td> 490990</td><td>  73   </td><td> 122   </td><td> 195   </td><td> 153   </td><td>  8562 </td><td>  8996 </td><td> 327021</td><td> 338282</td><td> 666262</td></tr>\n",
       "\t<tr><td> 8     </td><td>70-79  </td><td> 10910 </td><td> 370426</td><td> 229   </td><td> 395   </td><td> 624   </td><td> 516   </td><td>  5378 </td><td>  5532 </td><td> 272021</td><td> 300894</td><td> 572915</td></tr>\n",
       "\t<tr><td> 9     </td><td>80-89  </td><td>  5760 </td><td> 140654</td><td> 441   </td><td> 523   </td><td> 964   </td><td> 784   </td><td>  3330 </td><td>  2430 </td><td>  99560</td><td> 135830</td><td> 235390</td></tr>\n",
       "\t<tr><td>10     </td><td>90+    </td><td>  1805 </td><td>  28610</td><td> 325   </td><td> 220   </td><td> 545   </td><td> 433   </td><td>  1277 </td><td>   528 </td><td>  13237</td><td>  32228</td><td>  45455</td></tr>\n",
       "\t<tr><td>11     </td><td>Alle   </td><td>221842 </td><td>4630431</td><td>1096   </td><td>1299   </td><td>2395   </td><td>1932   </td><td>113308 </td><td>108534 </td><td>2902482</td><td>2933782</td><td>5837213</td></tr>\n",
       "</tbody>\n",
       "</table>\n"
      ],
      "text/latex": [
       "\\begin{tabular}{r|lllllllllllll}\n",
       " interval & age & infected & tested & female\\_deaths & male\\_deaths & tot\\_deaths & comorbidity & infected\\_fem & infected\\_male & tot\\_male & tot\\_fem & tot\\_num\\\\\n",
       "\\hline\n",
       "\t  1      & 0-9     &  15400  &  395142 &    0    &    1    &    1    &    1    &   7372  &   8028  &  313571 &  297559 &  611130\\\\\n",
       "\t  2      & 10-19   &  34025  &  605344 &    0    &    0    &    0    &    0    &  16626  &  17399  &  348964 &  331889 &  680853\\\\\n",
       "\t  3      & 20-29   &  41545  &  688922 &    0    &    0    &    0    &    0    &  21296  &  20249  &  397572 &  381907 &  779479\\\\\n",
       "\t  4      & 30-39   &  30514  &  604186 &    4    &    2    &    6    &    3    &  15615  &  14899  &  352231 &  341194 &  693425\\\\\n",
       "\t  5      & 40-49   &  32482  &  646070 &    3    &    4    &    7    &    5    &  17345  &  15137  &  376117 &  375174 &  751291\\\\\n",
       "\t  6      & 50-59   &  31843  &  660087 &   21    &   32    &   53    &   37    &  16507  &  15336  &  402188 &  398825 &  801013\\\\\n",
       "\t  7      & 60-69   &  17558  &  490990 &   73    &  122    &  195    &  153    &   8562  &   8996  &  327021 &  338282 &  666262\\\\\n",
       "\t  8      & 70-79   &  10910  &  370426 &  229    &  395    &  624    &  516    &   5378  &   5532  &  272021 &  300894 &  572915\\\\\n",
       "\t  9      & 80-89   &   5760  &  140654 &  441    &  523    &  964    &  784    &   3330  &   2430  &   99560 &  135830 &  235390\\\\\n",
       "\t 10      & 90+     &   1805  &   28610 &  325    &  220    &  545    &  433    &   1277  &    528  &   13237 &   32228 &   45455\\\\\n",
       "\t 11      & Alle    & 221842  & 4630431 & 1096    & 1299    & 2395    & 1932    & 113308  & 108534  & 2902482 & 2933782 & 5837213\\\\\n",
       "\\end{tabular}\n"
      ],
      "text/markdown": [
       "\n",
       "| interval | age | infected | tested | female_deaths | male_deaths | tot_deaths | comorbidity | infected_fem | infected_male | tot_male | tot_fem | tot_num |\n",
       "|---|---|---|---|---|---|---|---|---|---|---|---|---|\n",
       "|  1      | 0-9     |  15400  |  395142 |    0    |    1    |    1    |    1    |   7372  |   8028  |  313571 |  297559 |  611130 |\n",
       "|  2      | 10-19   |  34025  |  605344 |    0    |    0    |    0    |    0    |  16626  |  17399  |  348964 |  331889 |  680853 |\n",
       "|  3      | 20-29   |  41545  |  688922 |    0    |    0    |    0    |    0    |  21296  |  20249  |  397572 |  381907 |  779479 |\n",
       "|  4      | 30-39   |  30514  |  604186 |    4    |    2    |    6    |    3    |  15615  |  14899  |  352231 |  341194 |  693425 |\n",
       "|  5      | 40-49   |  32482  |  646070 |    3    |    4    |    7    |    5    |  17345  |  15137  |  376117 |  375174 |  751291 |\n",
       "|  6      | 50-59   |  31843  |  660087 |   21    |   32    |   53    |   37    |  16507  |  15336  |  402188 |  398825 |  801013 |\n",
       "|  7      | 60-69   |  17558  |  490990 |   73    |  122    |  195    |  153    |   8562  |   8996  |  327021 |  338282 |  666262 |\n",
       "|  8      | 70-79   |  10910  |  370426 |  229    |  395    |  624    |  516    |   5378  |   5532  |  272021 |  300894 |  572915 |\n",
       "|  9      | 80-89   |   5760  |  140654 |  441    |  523    |  964    |  784    |   3330  |   2430  |   99560 |  135830 |  235390 |\n",
       "| 10      | 90+     |   1805  |   28610 |  325    |  220    |  545    |  433    |   1277  |    528  |   13237 |   32228 |   45455 |\n",
       "| 11      | Alle    | 221842  | 4630431 | 1096    | 1299    | 2395    | 1932    | 113308  | 108534  | 2902482 | 2933782 | 5837213 |\n",
       "\n"
      ],
      "text/plain": [
       "   interval age   infected tested  female_deaths male_deaths tot_deaths\n",
       "1   1       0-9    15400    395142    0             1           1      \n",
       "2   2       10-19  34025    605344    0             0           0      \n",
       "3   3       20-29  41545    688922    0             0           0      \n",
       "4   4       30-39  30514    604186    4             2           6      \n",
       "5   5       40-49  32482    646070    3             4           7      \n",
       "6   6       50-59  31843    660087   21            32          53      \n",
       "7   7       60-69  17558    490990   73           122         195      \n",
       "8   8       70-79  10910    370426  229           395         624      \n",
       "9   9       80-89   5760    140654  441           523         964      \n",
       "10 10       90+     1805     28610  325           220         545      \n",
       "11 11       Alle  221842   4630431 1096          1299        2395      \n",
       "   comorbidity infected_fem infected_male tot_male tot_fem tot_num\n",
       "1     1          7372         8028         313571   297559  611130\n",
       "2     0         16626        17399         348964   331889  680853\n",
       "3     0         21296        20249         397572   381907  779479\n",
       "4     3         15615        14899         352231   341194  693425\n",
       "5     5         17345        15137         376117   375174  751291\n",
       "6    37         16507        15336         402188   398825  801013\n",
       "7   153          8562         8996         327021   338282  666262\n",
       "8   516          5378         5532         272021   300894  572915\n",
       "9   784          3330         2430          99560   135830  235390\n",
       "10  433          1277          528          13237    32228   45455\n",
       "11 1932        113308       108534        2902482  2933782 5837213"
      ]
     },
     "metadata": {},
     "output_type": "display_data"
    }
   ],
   "source": [
    "library(\"readxl\")\n",
    "df <- read_excel(\"data/DeathsDK160321.xlsx\")\n",
    "df"
   ]
  },
  {
   "cell_type": "markdown",
   "id": "under-eleven",
   "metadata": {},
   "source": [
    "### Plotting and testing"
   ]
  },
  {
   "cell_type": "code",
   "execution_count": 4,
   "id": "aboriginal-release",
   "metadata": {},
   "outputs": [],
   "source": [
    "mortality = df %>% \n",
    "  filter(age != \"Alle\") %>% \n",
    "  select(age, infected, tested, tot_deaths) %>% \n",
    "  mutate(`Mortality given Infected` = tot_deaths/infected) %>% \n",
    "  rename(Age = age) %>% \n",
    "  select(-tested,-tot_deaths)"
   ]
  },
  {
   "cell_type": "code",
   "execution_count": 5,
   "id": "certain-wisdom",
   "metadata": {},
   "outputs": [
    {
     "data": {
      "text/html": [
       "<table>\n",
       "<thead><tr><th scope=col>Age</th><th scope=col>infected</th><th scope=col>Mortality given Infected</th></tr></thead>\n",
       "<tbody>\n",
       "\t<tr><td>0-9         </td><td>15400       </td><td>6.493506e-05</td></tr>\n",
       "\t<tr><td>10-19       </td><td>34025       </td><td>0.000000e+00</td></tr>\n",
       "\t<tr><td>20-29       </td><td>41545       </td><td>0.000000e+00</td></tr>\n",
       "\t<tr><td>30-39       </td><td>30514       </td><td>1.966311e-04</td></tr>\n",
       "\t<tr><td>40-49       </td><td>32482       </td><td>2.155040e-04</td></tr>\n",
       "\t<tr><td>50-59       </td><td>31843       </td><td>1.664416e-03</td></tr>\n",
       "\t<tr><td>60-69       </td><td>17558       </td><td>1.110605e-02</td></tr>\n",
       "\t<tr><td>70-79       </td><td>10910       </td><td>5.719523e-02</td></tr>\n",
       "\t<tr><td>80-89       </td><td> 5760       </td><td>1.673611e-01</td></tr>\n",
       "\t<tr><td>90+         </td><td> 1805       </td><td>3.019391e-01</td></tr>\n",
       "</tbody>\n",
       "</table>\n"
      ],
      "text/latex": [
       "\\begin{tabular}{r|lll}\n",
       " Age & infected & Mortality given Infected\\\\\n",
       "\\hline\n",
       "\t 0-9          & 15400        & 6.493506e-05\\\\\n",
       "\t 10-19        & 34025        & 0.000000e+00\\\\\n",
       "\t 20-29        & 41545        & 0.000000e+00\\\\\n",
       "\t 30-39        & 30514        & 1.966311e-04\\\\\n",
       "\t 40-49        & 32482        & 2.155040e-04\\\\\n",
       "\t 50-59        & 31843        & 1.664416e-03\\\\\n",
       "\t 60-69        & 17558        & 1.110605e-02\\\\\n",
       "\t 70-79        & 10910        & 5.719523e-02\\\\\n",
       "\t 80-89        &  5760        & 1.673611e-01\\\\\n",
       "\t 90+          &  1805        & 3.019391e-01\\\\\n",
       "\\end{tabular}\n"
      ],
      "text/markdown": [
       "\n",
       "| Age | infected | Mortality given Infected |\n",
       "|---|---|---|\n",
       "| 0-9          | 15400        | 6.493506e-05 |\n",
       "| 10-19        | 34025        | 0.000000e+00 |\n",
       "| 20-29        | 41545        | 0.000000e+00 |\n",
       "| 30-39        | 30514        | 1.966311e-04 |\n",
       "| 40-49        | 32482        | 2.155040e-04 |\n",
       "| 50-59        | 31843        | 1.664416e-03 |\n",
       "| 60-69        | 17558        | 1.110605e-02 |\n",
       "| 70-79        | 10910        | 5.719523e-02 |\n",
       "| 80-89        |  5760        | 1.673611e-01 |\n",
       "| 90+          |  1805        | 3.019391e-01 |\n",
       "\n"
      ],
      "text/plain": [
       "   Age   infected Mortality given Infected\n",
       "1  0-9   15400    6.493506e-05            \n",
       "2  10-19 34025    0.000000e+00            \n",
       "3  20-29 41545    0.000000e+00            \n",
       "4  30-39 30514    1.966311e-04            \n",
       "5  40-49 32482    2.155040e-04            \n",
       "6  50-59 31843    1.664416e-03            \n",
       "7  60-69 17558    1.110605e-02            \n",
       "8  70-79 10910    5.719523e-02            \n",
       "9  80-89  5760    1.673611e-01            \n",
       "10 90+    1805    3.019391e-01            "
      ]
     },
     "metadata": {},
     "output_type": "display_data"
    }
   ],
   "source": [
    "mortality"
   ]
  },
  {
   "cell_type": "code",
   "execution_count": 6,
   "id": "executive-princess",
   "metadata": {},
   "outputs": [],
   "source": [
    "Binomial_Bootstrap = function(p,n, B = 10000){\n",
    "  #Generate new MEAN data\n",
    "  p_B = rbinom(B,n,p)/n\n",
    "}"
   ]
  },
  {
   "cell_type": "code",
   "execution_count": 7,
   "id": "invalid-triple",
   "metadata": {},
   "outputs": [],
   "source": [
    "Quantiles_Binomial = mortality %>% \n",
    "  mutate(Bootstraps = map2(`Mortality given Infected`, infected, Binomial_Bootstrap, B = 10000)) %>% \n",
    "  mutate(Quantiles = map(Bootstraps, quantile, c(0.025,0.975))) %>% \n",
    "  mutate(`2.5% quantile` = unlist(map(Quantiles, function(x){x[1]}))) %>% \n",
    "  mutate(`97.5% quantile` = unlist(map(Quantiles, function(x){x[2]}))) %>% \n",
    "  select(Age, `2.5% quantile`, `97.5% quantile`)"
   ]
  },
  {
   "cell_type": "code",
   "execution_count": 8,
   "id": "daily-rochester",
   "metadata": {},
   "outputs": [
    {
     "data": {
      "text/html": [
       "<table>\n",
       "<thead><tr><th scope=col>Age</th><th scope=col>2.5% quantile</th><th scope=col>97.5% quantile</th></tr></thead>\n",
       "<tbody>\n",
       "\t<tr><td>0-9         </td><td>0.000000e+00</td><td>0.0001948052</td></tr>\n",
       "\t<tr><td>10-19       </td><td>0.000000e+00</td><td>0.0000000000</td></tr>\n",
       "\t<tr><td>20-29       </td><td>0.000000e+00</td><td>0.0000000000</td></tr>\n",
       "\t<tr><td>30-39       </td><td>6.554368e-05</td><td>0.0003604903</td></tr>\n",
       "\t<tr><td>40-49       </td><td>6.157256e-05</td><td>0.0004002217</td></tr>\n",
       "\t<tr><td>50-59       </td><td>1.256163e-03</td><td>0.0021668813</td></tr>\n",
       "\t<tr><td>60-69       </td><td>9.568288e-03</td><td>0.0126438091</td></tr>\n",
       "\t<tr><td>70-79       </td><td>5.288726e-02</td><td>0.0617781852</td></tr>\n",
       "\t<tr><td>80-89       </td><td>1.579818e-01</td><td>0.1777777778</td></tr>\n",
       "\t<tr><td>90+         </td><td>2.803186e-01</td><td>0.3235457064</td></tr>\n",
       "</tbody>\n",
       "</table>\n"
      ],
      "text/latex": [
       "\\begin{tabular}{r|lll}\n",
       " Age & 2.5\\% quantile & 97.5\\% quantile\\\\\n",
       "\\hline\n",
       "\t 0-9          & 0.000000e+00 & 0.0001948052\\\\\n",
       "\t 10-19        & 0.000000e+00 & 0.0000000000\\\\\n",
       "\t 20-29        & 0.000000e+00 & 0.0000000000\\\\\n",
       "\t 30-39        & 6.554368e-05 & 0.0003604903\\\\\n",
       "\t 40-49        & 6.157256e-05 & 0.0004002217\\\\\n",
       "\t 50-59        & 1.256163e-03 & 0.0021668813\\\\\n",
       "\t 60-69        & 9.568288e-03 & 0.0126438091\\\\\n",
       "\t 70-79        & 5.288726e-02 & 0.0617781852\\\\\n",
       "\t 80-89        & 1.579818e-01 & 0.1777777778\\\\\n",
       "\t 90+          & 2.803186e-01 & 0.3235457064\\\\\n",
       "\\end{tabular}\n"
      ],
      "text/markdown": [
       "\n",
       "| Age | 2.5% quantile | 97.5% quantile |\n",
       "|---|---|---|\n",
       "| 0-9          | 0.000000e+00 | 0.0001948052 |\n",
       "| 10-19        | 0.000000e+00 | 0.0000000000 |\n",
       "| 20-29        | 0.000000e+00 | 0.0000000000 |\n",
       "| 30-39        | 6.554368e-05 | 0.0003604903 |\n",
       "| 40-49        | 6.157256e-05 | 0.0004002217 |\n",
       "| 50-59        | 1.256163e-03 | 0.0021668813 |\n",
       "| 60-69        | 9.568288e-03 | 0.0126438091 |\n",
       "| 70-79        | 5.288726e-02 | 0.0617781852 |\n",
       "| 80-89        | 1.579818e-01 | 0.1777777778 |\n",
       "| 90+          | 2.803186e-01 | 0.3235457064 |\n",
       "\n"
      ],
      "text/plain": [
       "   Age   2.5% quantile 97.5% quantile\n",
       "1  0-9   0.000000e+00  0.0001948052  \n",
       "2  10-19 0.000000e+00  0.0000000000  \n",
       "3  20-29 0.000000e+00  0.0000000000  \n",
       "4  30-39 6.554368e-05  0.0003604903  \n",
       "5  40-49 6.157256e-05  0.0004002217  \n",
       "6  50-59 1.256163e-03  0.0021668813  \n",
       "7  60-69 9.568288e-03  0.0126438091  \n",
       "8  70-79 5.288726e-02  0.0617781852  \n",
       "9  80-89 1.579818e-01  0.1777777778  \n",
       "10 90+   2.803186e-01  0.3235457064  "
      ]
     },
     "metadata": {},
     "output_type": "display_data"
    }
   ],
   "source": [
    "Quantiles_Binomial"
   ]
  },
  {
   "cell_type": "code",
   "execution_count": 9,
   "id": "passive-identifier",
   "metadata": {},
   "outputs": [],
   "source": [
    "Bernoulli_Bootstrap = function(p,n, B = 10000){\n",
    "  #Generate new MEAN data\n",
    "  p_B = replicate(B,mean(rbernoulli(n,p)))\n",
    "}"
   ]
  },
  {
   "cell_type": "code",
   "execution_count": 10,
   "id": "commercial-there",
   "metadata": {},
   "outputs": [],
   "source": [
    "Quantiles_Bernoulli = mortality %>% \n",
    "  mutate(Bootstraps = map2(`Mortality given Infected`, infected, Bernoulli_Bootstrap, B = 1000)) %>% \n",
    "  mutate(Quantiles = map(Bootstraps, quantile, c(0.025,0.975))) %>% \n",
    "  mutate(`2.5% quantile` = unlist(map(Quantiles, function(x){x[1]}))) %>% \n",
    "  mutate(`97.5% quantile` = unlist(map(Quantiles, function(x){x[2]}))) %>% \n",
    "  select(Age, `2.5% quantile`, `97.5% quantile`)"
   ]
  },
  {
   "cell_type": "code",
   "execution_count": 11,
   "id": "supreme-marks",
   "metadata": {},
   "outputs": [
    {
     "data": {
      "text/html": [
       "<table>\n",
       "<thead><tr><th scope=col>Age</th><th scope=col>2.5% quantile</th><th scope=col>97.5% quantile</th></tr></thead>\n",
       "<tbody>\n",
       "\t<tr><td>0-9         </td><td>0.000000e+00</td><td>0.0001948052</td></tr>\n",
       "\t<tr><td>10-19       </td><td>0.000000e+00</td><td>0.0000000000</td></tr>\n",
       "\t<tr><td>20-29       </td><td>0.000000e+00</td><td>0.0000000000</td></tr>\n",
       "\t<tr><td>30-39       </td><td>6.554368e-05</td><td>0.0003604903</td></tr>\n",
       "\t<tr><td>40-49       </td><td>6.157256e-05</td><td>0.0004002217</td></tr>\n",
       "\t<tr><td>50-59       </td><td>1.223974e-03</td><td>0.0021354772</td></tr>\n",
       "\t<tr><td>60-69       </td><td>9.566864e-03</td><td>0.0126452329</td></tr>\n",
       "\t<tr><td>70-79       </td><td>5.279560e-02</td><td>0.0614138405</td></tr>\n",
       "\t<tr><td>80-89       </td><td>1.579818e-01</td><td>0.1770963542</td></tr>\n",
       "\t<tr><td>90+         </td><td>2.803324e-01</td><td>0.3241135734</td></tr>\n",
       "</tbody>\n",
       "</table>\n"
      ],
      "text/latex": [
       "\\begin{tabular}{r|lll}\n",
       " Age & 2.5\\% quantile & 97.5\\% quantile\\\\\n",
       "\\hline\n",
       "\t 0-9          & 0.000000e+00 & 0.0001948052\\\\\n",
       "\t 10-19        & 0.000000e+00 & 0.0000000000\\\\\n",
       "\t 20-29        & 0.000000e+00 & 0.0000000000\\\\\n",
       "\t 30-39        & 6.554368e-05 & 0.0003604903\\\\\n",
       "\t 40-49        & 6.157256e-05 & 0.0004002217\\\\\n",
       "\t 50-59        & 1.223974e-03 & 0.0021354772\\\\\n",
       "\t 60-69        & 9.566864e-03 & 0.0126452329\\\\\n",
       "\t 70-79        & 5.279560e-02 & 0.0614138405\\\\\n",
       "\t 80-89        & 1.579818e-01 & 0.1770963542\\\\\n",
       "\t 90+          & 2.803324e-01 & 0.3241135734\\\\\n",
       "\\end{tabular}\n"
      ],
      "text/markdown": [
       "\n",
       "| Age | 2.5% quantile | 97.5% quantile |\n",
       "|---|---|---|\n",
       "| 0-9          | 0.000000e+00 | 0.0001948052 |\n",
       "| 10-19        | 0.000000e+00 | 0.0000000000 |\n",
       "| 20-29        | 0.000000e+00 | 0.0000000000 |\n",
       "| 30-39        | 6.554368e-05 | 0.0003604903 |\n",
       "| 40-49        | 6.157256e-05 | 0.0004002217 |\n",
       "| 50-59        | 1.223974e-03 | 0.0021354772 |\n",
       "| 60-69        | 9.566864e-03 | 0.0126452329 |\n",
       "| 70-79        | 5.279560e-02 | 0.0614138405 |\n",
       "| 80-89        | 1.579818e-01 | 0.1770963542 |\n",
       "| 90+          | 2.803324e-01 | 0.3241135734 |\n",
       "\n"
      ],
      "text/plain": [
       "   Age   2.5% quantile 97.5% quantile\n",
       "1  0-9   0.000000e+00  0.0001948052  \n",
       "2  10-19 0.000000e+00  0.0000000000  \n",
       "3  20-29 0.000000e+00  0.0000000000  \n",
       "4  30-39 6.554368e-05  0.0003604903  \n",
       "5  40-49 6.157256e-05  0.0004002217  \n",
       "6  50-59 1.223974e-03  0.0021354772  \n",
       "7  60-69 9.566864e-03  0.0126452329  \n",
       "8  70-79 5.279560e-02  0.0614138405  \n",
       "9  80-89 1.579818e-01  0.1770963542  \n",
       "10 90+   2.803324e-01  0.3241135734  "
      ]
     },
     "metadata": {},
     "output_type": "display_data"
    }
   ],
   "source": [
    "Quantiles_Bernoulli"
   ]
  },
  {
   "cell_type": "code",
   "execution_count": 12,
   "id": "bearing-harassment",
   "metadata": {},
   "outputs": [],
   "source": [
    "Quantiles_Bernoulli %<>% mutate(Bootstrap = \"Bernoulli\")\n",
    "Quantiles_Binomial %<>% mutate(Bootstrap = \"Binomial\")"
   ]
  },
  {
   "cell_type": "code",
   "execution_count": 13,
   "id": "piano-adolescent",
   "metadata": {},
   "outputs": [],
   "source": [
    "Quantiles = rbind(Quantiles_Bernoulli,Quantiles_Binomial)"
   ]
  },
  {
   "cell_type": "code",
   "execution_count": 14,
   "id": "available-target",
   "metadata": {},
   "outputs": [
    {
     "data": {
      "text/html": [
       "<table>\n",
       "<thead><tr><th scope=col>Age</th><th scope=col>2.5% quantile</th><th scope=col>97.5% quantile</th><th scope=col>Bootstrap</th></tr></thead>\n",
       "<tbody>\n",
       "\t<tr><td>0-9         </td><td>0.000000e+00</td><td>0.0001948052</td><td>Bernoulli   </td></tr>\n",
       "\t<tr><td>10-19       </td><td>0.000000e+00</td><td>0.0000000000</td><td>Bernoulli   </td></tr>\n",
       "\t<tr><td>20-29       </td><td>0.000000e+00</td><td>0.0000000000</td><td>Bernoulli   </td></tr>\n",
       "\t<tr><td>30-39       </td><td>6.554368e-05</td><td>0.0003604903</td><td>Bernoulli   </td></tr>\n",
       "\t<tr><td>40-49       </td><td>6.157256e-05</td><td>0.0004002217</td><td>Bernoulli   </td></tr>\n",
       "\t<tr><td>50-59       </td><td>1.223974e-03</td><td>0.0021354772</td><td>Bernoulli   </td></tr>\n",
       "\t<tr><td>60-69       </td><td>9.566864e-03</td><td>0.0126452329</td><td>Bernoulli   </td></tr>\n",
       "\t<tr><td>70-79       </td><td>5.279560e-02</td><td>0.0614138405</td><td>Bernoulli   </td></tr>\n",
       "\t<tr><td>80-89       </td><td>1.579818e-01</td><td>0.1770963542</td><td>Bernoulli   </td></tr>\n",
       "\t<tr><td>90+         </td><td>2.803324e-01</td><td>0.3241135734</td><td>Bernoulli   </td></tr>\n",
       "\t<tr><td>0-9         </td><td>0.000000e+00</td><td>0.0001948052</td><td>Binomial    </td></tr>\n",
       "\t<tr><td>10-19       </td><td>0.000000e+00</td><td>0.0000000000</td><td>Binomial    </td></tr>\n",
       "\t<tr><td>20-29       </td><td>0.000000e+00</td><td>0.0000000000</td><td>Binomial    </td></tr>\n",
       "\t<tr><td>30-39       </td><td>6.554368e-05</td><td>0.0003604903</td><td>Binomial    </td></tr>\n",
       "\t<tr><td>40-49       </td><td>6.157256e-05</td><td>0.0004002217</td><td>Binomial    </td></tr>\n",
       "\t<tr><td>50-59       </td><td>1.256163e-03</td><td>0.0021668813</td><td>Binomial    </td></tr>\n",
       "\t<tr><td>60-69       </td><td>9.568288e-03</td><td>0.0126438091</td><td>Binomial    </td></tr>\n",
       "\t<tr><td>70-79       </td><td>5.288726e-02</td><td>0.0617781852</td><td>Binomial    </td></tr>\n",
       "\t<tr><td>80-89       </td><td>1.579818e-01</td><td>0.1777777778</td><td>Binomial    </td></tr>\n",
       "\t<tr><td>90+         </td><td>2.803186e-01</td><td>0.3235457064</td><td>Binomial    </td></tr>\n",
       "</tbody>\n",
       "</table>\n"
      ],
      "text/latex": [
       "\\begin{tabular}{r|llll}\n",
       " Age & 2.5\\% quantile & 97.5\\% quantile & Bootstrap\\\\\n",
       "\\hline\n",
       "\t 0-9          & 0.000000e+00 & 0.0001948052 & Bernoulli   \\\\\n",
       "\t 10-19        & 0.000000e+00 & 0.0000000000 & Bernoulli   \\\\\n",
       "\t 20-29        & 0.000000e+00 & 0.0000000000 & Bernoulli   \\\\\n",
       "\t 30-39        & 6.554368e-05 & 0.0003604903 & Bernoulli   \\\\\n",
       "\t 40-49        & 6.157256e-05 & 0.0004002217 & Bernoulli   \\\\\n",
       "\t 50-59        & 1.223974e-03 & 0.0021354772 & Bernoulli   \\\\\n",
       "\t 60-69        & 9.566864e-03 & 0.0126452329 & Bernoulli   \\\\\n",
       "\t 70-79        & 5.279560e-02 & 0.0614138405 & Bernoulli   \\\\\n",
       "\t 80-89        & 1.579818e-01 & 0.1770963542 & Bernoulli   \\\\\n",
       "\t 90+          & 2.803324e-01 & 0.3241135734 & Bernoulli   \\\\\n",
       "\t 0-9          & 0.000000e+00 & 0.0001948052 & Binomial    \\\\\n",
       "\t 10-19        & 0.000000e+00 & 0.0000000000 & Binomial    \\\\\n",
       "\t 20-29        & 0.000000e+00 & 0.0000000000 & Binomial    \\\\\n",
       "\t 30-39        & 6.554368e-05 & 0.0003604903 & Binomial    \\\\\n",
       "\t 40-49        & 6.157256e-05 & 0.0004002217 & Binomial    \\\\\n",
       "\t 50-59        & 1.256163e-03 & 0.0021668813 & Binomial    \\\\\n",
       "\t 60-69        & 9.568288e-03 & 0.0126438091 & Binomial    \\\\\n",
       "\t 70-79        & 5.288726e-02 & 0.0617781852 & Binomial    \\\\\n",
       "\t 80-89        & 1.579818e-01 & 0.1777777778 & Binomial    \\\\\n",
       "\t 90+          & 2.803186e-01 & 0.3235457064 & Binomial    \\\\\n",
       "\\end{tabular}\n"
      ],
      "text/markdown": [
       "\n",
       "| Age | 2.5% quantile | 97.5% quantile | Bootstrap |\n",
       "|---|---|---|---|\n",
       "| 0-9          | 0.000000e+00 | 0.0001948052 | Bernoulli    |\n",
       "| 10-19        | 0.000000e+00 | 0.0000000000 | Bernoulli    |\n",
       "| 20-29        | 0.000000e+00 | 0.0000000000 | Bernoulli    |\n",
       "| 30-39        | 6.554368e-05 | 0.0003604903 | Bernoulli    |\n",
       "| 40-49        | 6.157256e-05 | 0.0004002217 | Bernoulli    |\n",
       "| 50-59        | 1.223974e-03 | 0.0021354772 | Bernoulli    |\n",
       "| 60-69        | 9.566864e-03 | 0.0126452329 | Bernoulli    |\n",
       "| 70-79        | 5.279560e-02 | 0.0614138405 | Bernoulli    |\n",
       "| 80-89        | 1.579818e-01 | 0.1770963542 | Bernoulli    |\n",
       "| 90+          | 2.803324e-01 | 0.3241135734 | Bernoulli    |\n",
       "| 0-9          | 0.000000e+00 | 0.0001948052 | Binomial     |\n",
       "| 10-19        | 0.000000e+00 | 0.0000000000 | Binomial     |\n",
       "| 20-29        | 0.000000e+00 | 0.0000000000 | Binomial     |\n",
       "| 30-39        | 6.554368e-05 | 0.0003604903 | Binomial     |\n",
       "| 40-49        | 6.157256e-05 | 0.0004002217 | Binomial     |\n",
       "| 50-59        | 1.256163e-03 | 0.0021668813 | Binomial     |\n",
       "| 60-69        | 9.568288e-03 | 0.0126438091 | Binomial     |\n",
       "| 70-79        | 5.288726e-02 | 0.0617781852 | Binomial     |\n",
       "| 80-89        | 1.579818e-01 | 0.1777777778 | Binomial     |\n",
       "| 90+          | 2.803186e-01 | 0.3235457064 | Binomial     |\n",
       "\n"
      ],
      "text/plain": [
       "   Age   2.5% quantile 97.5% quantile Bootstrap\n",
       "1  0-9   0.000000e+00  0.0001948052   Bernoulli\n",
       "2  10-19 0.000000e+00  0.0000000000   Bernoulli\n",
       "3  20-29 0.000000e+00  0.0000000000   Bernoulli\n",
       "4  30-39 6.554368e-05  0.0003604903   Bernoulli\n",
       "5  40-49 6.157256e-05  0.0004002217   Bernoulli\n",
       "6  50-59 1.223974e-03  0.0021354772   Bernoulli\n",
       "7  60-69 9.566864e-03  0.0126452329   Bernoulli\n",
       "8  70-79 5.279560e-02  0.0614138405   Bernoulli\n",
       "9  80-89 1.579818e-01  0.1770963542   Bernoulli\n",
       "10 90+   2.803324e-01  0.3241135734   Bernoulli\n",
       "11 0-9   0.000000e+00  0.0001948052   Binomial \n",
       "12 10-19 0.000000e+00  0.0000000000   Binomial \n",
       "13 20-29 0.000000e+00  0.0000000000   Binomial \n",
       "14 30-39 6.554368e-05  0.0003604903   Binomial \n",
       "15 40-49 6.157256e-05  0.0004002217   Binomial \n",
       "16 50-59 1.256163e-03  0.0021668813   Binomial \n",
       "17 60-69 9.568288e-03  0.0126438091   Binomial \n",
       "18 70-79 5.288726e-02  0.0617781852   Binomial \n",
       "19 80-89 1.579818e-01  0.1777777778   Binomial \n",
       "20 90+   2.803186e-01  0.3235457064   Binomial "
      ]
     },
     "metadata": {},
     "output_type": "display_data"
    }
   ],
   "source": [
    "Quantiles"
   ]
  },
  {
   "cell_type": "code",
   "execution_count": 15,
   "id": "separate-argument",
   "metadata": {
    "scrolled": true
   },
   "outputs": [
    {
     "name": "stderr",
     "output_type": "stream",
     "text": [
      "Warning message:\n",
      "\"attributes are not identical across measure variables;\n",
      "they will be dropped\""
     ]
    },
    {
     "data": {
      "image/png": "[encoded data removed]",
      "text/plain": [
       "plot without title"
      ]
     },
     "metadata": {},
     "output_type": "display_data"
    }
   ],
   "source": [
    "Quantiles %>% gather(\"Quantile\",\"Value\", -Age,-Bootstrap) %>% \n",
    "  ggplot(aes(x = Age, y = Value, fill = Bootstrap)) + \n",
    "  geom_bar(stat = \"identity\",position=position_dodge()) + \n",
    "  facet_grid(vars(Quantile)) +\n",
    "  theme(axis.text.x = element_text(angle = 45, hjust=1)) + \n",
    "  ylab(\"Mortality given Infected\")"
   ]
  },
  {
   "cell_type": "markdown",
   "id": "celtic-dairy",
   "metadata": {},
   "source": [
    "# Logistisk regression på en kategorisk variabel"
   ]
  },
  {
   "cell_type": "markdown",
   "id": "worth-african",
   "metadata": {},
   "source": [
    "Vi vil undersøge, hvad sandsynligheden er for at man dør givet en specifik alder.\n",
    "Dog kan der opstå et problem, da modellen oftest operere på kontinuerete forklarende variable.\n",
    "\n",
    "Da kan det være nødvendigt at undersøge, hvorvidt det har nogen betydning i vores tilfælde. Vi har nemlig en variabel der originalt er kontinuert - altså variablen alder, men denne variabel er gjort diskret ved at afrunde alderen til kun at indeholde år. Efterfølgende er alderen yderligere opdelt kategorisk, så der er tale om en aldersgruppe.\n",
    "\n",
    "Har dette nogen signifikant betydning for resultatet?"
   ]
  },
  {
   "cell_type": "code",
   "execution_count": 50,
   "id": "acting-express",
   "metadata": {},
   "outputs": [],
   "source": [
    "DKpop <- read_excel(\"data/folketal.xlsx\")"
   ]
  },
  {
   "cell_type": "code",
   "execution_count": 51,
   "id": "miniature-delhi",
   "metadata": {
    "scrolled": true
   },
   "outputs": [
    {
     "data": {
      "text/html": [
       "<table>\n",
       "<thead><tr><th scope=col>age</th><th scope=col>total</th><th scope=col>male</th><th scope=col>female</th></tr></thead>\n",
       "<tbody>\n",
       "\t<tr><td>0    </td><td>61191</td><td>31303</td><td>29888</td></tr>\n",
       "\t<tr><td>1    </td><td>61663</td><td>31758</td><td>29905</td></tr>\n",
       "\t<tr><td>2    </td><td>61967</td><td>31909</td><td>30058</td></tr>\n",
       "\t<tr><td>3    </td><td>62185</td><td>31852</td><td>30333</td></tr>\n",
       "\t<tr><td>4    </td><td>62844</td><td>32402</td><td>30442</td></tr>\n",
       "\t<tr><td>5    </td><td>59740</td><td>30627</td><td>29113</td></tr>\n",
       "\t<tr><td>6    </td><td>59064</td><td>30350</td><td>28714</td></tr>\n",
       "\t<tr><td>7    </td><td>58551</td><td>29944</td><td>28607</td></tr>\n",
       "\t<tr><td>8    </td><td>60898</td><td>31371</td><td>29527</td></tr>\n",
       "\t<tr><td>9    </td><td>62107</td><td>31587</td><td>30520</td></tr>\n",
       "</tbody>\n",
       "</table>\n"
      ],
      "text/latex": [
       "\\begin{tabular}{r|llll}\n",
       " age & total & male & female\\\\\n",
       "\\hline\n",
       "\t 0     & 61191 & 31303 & 29888\\\\\n",
       "\t 1     & 61663 & 31758 & 29905\\\\\n",
       "\t 2     & 61967 & 31909 & 30058\\\\\n",
       "\t 3     & 62185 & 31852 & 30333\\\\\n",
       "\t 4     & 62844 & 32402 & 30442\\\\\n",
       "\t 5     & 59740 & 30627 & 29113\\\\\n",
       "\t 6     & 59064 & 30350 & 28714\\\\\n",
       "\t 7     & 58551 & 29944 & 28607\\\\\n",
       "\t 8     & 60898 & 31371 & 29527\\\\\n",
       "\t 9     & 62107 & 31587 & 30520\\\\\n",
       "\\end{tabular}\n"
      ],
      "text/markdown": [
       "\n",
       "| age | total | male | female |\n",
       "|---|---|---|---|\n",
       "| 0     | 61191 | 31303 | 29888 |\n",
       "| 1     | 61663 | 31758 | 29905 |\n",
       "| 2     | 61967 | 31909 | 30058 |\n",
       "| 3     | 62185 | 31852 | 30333 |\n",
       "| 4     | 62844 | 32402 | 30442 |\n",
       "| 5     | 59740 | 30627 | 29113 |\n",
       "| 6     | 59064 | 30350 | 28714 |\n",
       "| 7     | 58551 | 29944 | 28607 |\n",
       "| 8     | 60898 | 31371 | 29527 |\n",
       "| 9     | 62107 | 31587 | 30520 |\n",
       "\n"
      ],
      "text/plain": [
       "   age total male  female\n",
       "1  0   61191 31303 29888 \n",
       "2  1   61663 31758 29905 \n",
       "3  2   61967 31909 30058 \n",
       "4  3   62185 31852 30333 \n",
       "5  4   62844 32402 30442 \n",
       "6  5   59740 30627 29113 \n",
       "7  6   59064 30350 28714 \n",
       "8  7   58551 29944 28607 \n",
       "9  8   60898 31371 29527 \n",
       "10 9   62107 31587 30520 "
      ]
     },
     "metadata": {},
     "output_type": "display_data"
    },
    {
     "data": {
      "text/html": [
       "<table>\n",
       "<thead><tr><th scope=col>age</th><th scope=col>total</th><th scope=col>male</th><th scope=col>female</th></tr></thead>\n",
       "<tbody>\n",
       "\t<tr><td>116</td><td>0  </td><td>0  </td><td>0  </td></tr>\n",
       "\t<tr><td>117</td><td>0  </td><td>0  </td><td>0  </td></tr>\n",
       "\t<tr><td>118</td><td>0  </td><td>0  </td><td>0  </td></tr>\n",
       "\t<tr><td>119</td><td>0  </td><td>0  </td><td>0  </td></tr>\n",
       "\t<tr><td>120</td><td>0  </td><td>0  </td><td>0  </td></tr>\n",
       "\t<tr><td>121</td><td>0  </td><td>0  </td><td>0  </td></tr>\n",
       "\t<tr><td>122</td><td>0  </td><td>0  </td><td>0  </td></tr>\n",
       "\t<tr><td>123</td><td>0  </td><td>0  </td><td>0  </td></tr>\n",
       "\t<tr><td>124</td><td>0  </td><td>0  </td><td>0  </td></tr>\n",
       "\t<tr><td>125</td><td>0  </td><td>0  </td><td>0  </td></tr>\n",
       "</tbody>\n",
       "</table>\n"
      ],
      "text/latex": [
       "\\begin{tabular}{r|llll}\n",
       " age & total & male & female\\\\\n",
       "\\hline\n",
       "\t 116 & 0   & 0   & 0  \\\\\n",
       "\t 117 & 0   & 0   & 0  \\\\\n",
       "\t 118 & 0   & 0   & 0  \\\\\n",
       "\t 119 & 0   & 0   & 0  \\\\\n",
       "\t 120 & 0   & 0   & 0  \\\\\n",
       "\t 121 & 0   & 0   & 0  \\\\\n",
       "\t 122 & 0   & 0   & 0  \\\\\n",
       "\t 123 & 0   & 0   & 0  \\\\\n",
       "\t 124 & 0   & 0   & 0  \\\\\n",
       "\t 125 & 0   & 0   & 0  \\\\\n",
       "\\end{tabular}\n"
      ],
      "text/markdown": [
       "\n",
       "| age | total | male | female |\n",
       "|---|---|---|---|\n",
       "| 116 | 0   | 0   | 0   |\n",
       "| 117 | 0   | 0   | 0   |\n",
       "| 118 | 0   | 0   | 0   |\n",
       "| 119 | 0   | 0   | 0   |\n",
       "| 120 | 0   | 0   | 0   |\n",
       "| 121 | 0   | 0   | 0   |\n",
       "| 122 | 0   | 0   | 0   |\n",
       "| 123 | 0   | 0   | 0   |\n",
       "| 124 | 0   | 0   | 0   |\n",
       "| 125 | 0   | 0   | 0   |\n",
       "\n"
      ],
      "text/plain": [
       "   age total male female\n",
       "1  116 0     0    0     \n",
       "2  117 0     0    0     \n",
       "3  118 0     0    0     \n",
       "4  119 0     0    0     \n",
       "5  120 0     0    0     \n",
       "6  121 0     0    0     \n",
       "7  122 0     0    0     \n",
       "8  123 0     0    0     \n",
       "9  124 0     0    0     \n",
       "10 125 0     0    0     "
      ]
     },
     "metadata": {},
     "output_type": "display_data"
    }
   ],
   "source": [
    "head(DKpop, 10)\n",
    "tail(DKpop, 10)"
   ]
  },
  {
   "cell_type": "code",
   "execution_count": 58,
   "id": "crude-crazy",
   "metadata": {
    "scrolled": true
   },
   "outputs": [
    {
     "data": {
      "image/png": "[encoded data removed]",
      "text/plain": [
       "plot without title"
      ]
     },
     "metadata": {},
     "output_type": "display_data"
    }
   ],
   "source": [
    "DKpop %>%\n",
    "  ggplot(aes(x = age, y = total)) +\n",
    "  geom_line()"
   ]
  },
  {
   "cell_type": "code",
   "execution_count": 66,
   "id": "digital-singing",
   "metadata": {},
   "outputs": [],
   "source": [
    "DKpop_prob = DKpop %>% \n",
    "  mutate(`prob_total` = total/sum(total))"
   ]
  },
  {
   "cell_type": "code",
   "execution_count": 69,
   "id": "acute-output",
   "metadata": {},
   "outputs": [
    {
     "data": {
      "text/html": [
       "<table>\n",
       "<thead><tr><th scope=col>age</th><th scope=col>total</th><th scope=col>male</th><th scope=col>female</th><th scope=col>prob_total</th></tr></thead>\n",
       "<tbody>\n",
       "\t<tr><td> 0        </td><td>61191     </td><td>31303     </td><td>29888     </td><td>0.01047783</td></tr>\n",
       "\t<tr><td> 1        </td><td>61663     </td><td>31758     </td><td>29905     </td><td>0.01055865</td></tr>\n",
       "\t<tr><td> 2        </td><td>61967     </td><td>31909     </td><td>30058     </td><td>0.01061071</td></tr>\n",
       "\t<tr><td> 3        </td><td>62185     </td><td>31852     </td><td>30333     </td><td>0.01064803</td></tr>\n",
       "\t<tr><td> 4        </td><td>62844     </td><td>32402     </td><td>30442     </td><td>0.01076088</td></tr>\n",
       "\t<tr><td> 5        </td><td>59740     </td><td>30627     </td><td>29113     </td><td>0.01022937</td></tr>\n",
       "\t<tr><td> 6        </td><td>59064     </td><td>30350     </td><td>28714     </td><td>0.01011362</td></tr>\n",
       "\t<tr><td> 7        </td><td>58551     </td><td>29944     </td><td>28607     </td><td>0.01002578</td></tr>\n",
       "\t<tr><td> 8        </td><td>60898     </td><td>31371     </td><td>29527     </td><td>0.01042766</td></tr>\n",
       "\t<tr><td> 9        </td><td>62107     </td><td>31587     </td><td>30520     </td><td>0.01063468</td></tr>\n",
       "\t<tr><td>10        </td><td>66696     </td><td>34216     </td><td>32480     </td><td>0.01142046</td></tr>\n",
       "\t<tr><td>11        </td><td>66428     </td><td>34186     </td><td>32242     </td><td>0.01137457</td></tr>\n",
       "\t<tr><td>12        </td><td>68834     </td><td>35467     </td><td>33367     </td><td>0.01178655</td></tr>\n",
       "\t<tr><td>13        </td><td>67896     </td><td>34786     </td><td>33110     </td><td>0.01162594</td></tr>\n",
       "\t<tr><td>14        </td><td>68720     </td><td>35291     </td><td>33429     </td><td>0.01176703</td></tr>\n",
       "\t<tr><td>15        </td><td>67877     </td><td>34575     </td><td>33302     </td><td>0.01162268</td></tr>\n",
       "\t<tr><td>16        </td><td>68246     </td><td>34860     </td><td>33386     </td><td>0.01168587</td></tr>\n",
       "\t<tr><td>17        </td><td>68088     </td><td>34828     </td><td>33260     </td><td>0.01165881</td></tr>\n",
       "\t<tr><td>18        </td><td>67674     </td><td>34778     </td><td>32896     </td><td>0.01158792</td></tr>\n",
       "\t<tr><td>19        </td><td>69581     </td><td>35562     </td><td>34019     </td><td>0.01191446</td></tr>\n",
       "</tbody>\n",
       "</table>\n"
      ],
      "text/latex": [
       "\\begin{tabular}{r|lllll}\n",
       " age & total & male & female & prob\\_total\\\\\n",
       "\\hline\n",
       "\t  0         & 61191      & 31303      & 29888      & 0.01047783\\\\\n",
       "\t  1         & 61663      & 31758      & 29905      & 0.01055865\\\\\n",
       "\t  2         & 61967      & 31909      & 30058      & 0.01061071\\\\\n",
       "\t  3         & 62185      & 31852      & 30333      & 0.01064803\\\\\n",
       "\t  4         & 62844      & 32402      & 30442      & 0.01076088\\\\\n",
       "\t  5         & 59740      & 30627      & 29113      & 0.01022937\\\\\n",
       "\t  6         & 59064      & 30350      & 28714      & 0.01011362\\\\\n",
       "\t  7         & 58551      & 29944      & 28607      & 0.01002578\\\\\n",
       "\t  8         & 60898      & 31371      & 29527      & 0.01042766\\\\\n",
       "\t  9         & 62107      & 31587      & 30520      & 0.01063468\\\\\n",
       "\t 10         & 66696      & 34216      & 32480      & 0.01142046\\\\\n",
       "\t 11         & 66428      & 34186      & 32242      & 0.01137457\\\\\n",
       "\t 12         & 68834      & 35467      & 33367      & 0.01178655\\\\\n",
       "\t 13         & 67896      & 34786      & 33110      & 0.01162594\\\\\n",
       "\t 14         & 68720      & 35291      & 33429      & 0.01176703\\\\\n",
       "\t 15         & 67877      & 34575      & 33302      & 0.01162268\\\\\n",
       "\t 16         & 68246      & 34860      & 33386      & 0.01168587\\\\\n",
       "\t 17         & 68088      & 34828      & 33260      & 0.01165881\\\\\n",
       "\t 18         & 67674      & 34778      & 32896      & 0.01158792\\\\\n",
       "\t 19         & 69581      & 35562      & 34019      & 0.01191446\\\\\n",
       "\\end{tabular}\n"
      ],
      "text/markdown": [
       "\n",
       "| age | total | male | female | prob_total |\n",
       "|---|---|---|---|---|\n",
       "|  0         | 61191      | 31303      | 29888      | 0.01047783 |\n",
       "|  1         | 61663      | 31758      | 29905      | 0.01055865 |\n",
       "|  2         | 61967      | 31909      | 30058      | 0.01061071 |\n",
       "|  3         | 62185      | 31852      | 30333      | 0.01064803 |\n",
       "|  4         | 62844      | 32402      | 30442      | 0.01076088 |\n",
       "|  5         | 59740      | 30627      | 29113      | 0.01022937 |\n",
       "|  6         | 59064      | 30350      | 28714      | 0.01011362 |\n",
       "|  7         | 58551      | 29944      | 28607      | 0.01002578 |\n",
       "|  8         | 60898      | 31371      | 29527      | 0.01042766 |\n",
       "|  9         | 62107      | 31587      | 30520      | 0.01063468 |\n",
       "| 10         | 66696      | 34216      | 32480      | 0.01142046 |\n",
       "| 11         | 66428      | 34186      | 32242      | 0.01137457 |\n",
       "| 12         | 68834      | 35467      | 33367      | 0.01178655 |\n",
       "| 13         | 67896      | 34786      | 33110      | 0.01162594 |\n",
       "| 14         | 68720      | 35291      | 33429      | 0.01176703 |\n",
       "| 15         | 67877      | 34575      | 33302      | 0.01162268 |\n",
       "| 16         | 68246      | 34860      | 33386      | 0.01168587 |\n",
       "| 17         | 68088      | 34828      | 33260      | 0.01165881 |\n",
       "| 18         | 67674      | 34778      | 32896      | 0.01158792 |\n",
       "| 19         | 69581      | 35562      | 34019      | 0.01191446 |\n",
       "\n"
      ],
      "text/plain": [
       "   age total male  female prob_total\n",
       "1   0  61191 31303 29888  0.01047783\n",
       "2   1  61663 31758 29905  0.01055865\n",
       "3   2  61967 31909 30058  0.01061071\n",
       "4   3  62185 31852 30333  0.01064803\n",
       "5   4  62844 32402 30442  0.01076088\n",
       "6   5  59740 30627 29113  0.01022937\n",
       "7   6  59064 30350 28714  0.01011362\n",
       "8   7  58551 29944 28607  0.01002578\n",
       "9   8  60898 31371 29527  0.01042766\n",
       "10  9  62107 31587 30520  0.01063468\n",
       "11 10  66696 34216 32480  0.01142046\n",
       "12 11  66428 34186 32242  0.01137457\n",
       "13 12  68834 35467 33367  0.01178655\n",
       "14 13  67896 34786 33110  0.01162594\n",
       "15 14  68720 35291 33429  0.01176703\n",
       "16 15  67877 34575 33302  0.01162268\n",
       "17 16  68246 34860 33386  0.01168587\n",
       "18 17  68088 34828 33260  0.01165881\n",
       "19 18  67674 34778 32896  0.01158792\n",
       "20 19  69581 35562 34019  0.01191446"
      ]
     },
     "metadata": {},
     "output_type": "display_data"
    }
   ],
   "source": [
    "head(DKpop_prob, 20)"
   ]
  },
  {
   "cell_type": "code",
   "execution_count": 81,
   "id": "comfortable-jackson",
   "metadata": {
    "scrolled": true
   },
   "outputs": [
    {
     "data": {
      "image/png": "[encoded data removed]",
      "text/plain": [
       "plot without title"
      ]
     },
     "metadata": {},
     "output_type": "display_data"
    }
   ],
   "source": [
    "plot(DKpop_prob$age, DKpop_prob$prob_total, xlab = \"age\", ylab = \"probability\", type=\"h\")"
   ]
  },
  {
   "cell_type": "code",
   "execution_count": 140,
   "id": "breathing-diving",
   "metadata": {},
   "outputs": [],
   "source": [
    "sample_data <- sample(DKpop_prob$age, 100000, replace = TRUE, prob = DKpop_prob$prob_total)"
   ]
  },
  {
   "cell_type": "code",
   "execution_count": 141,
   "id": "overhead-continent",
   "metadata": {},
   "outputs": [
    {
     "data": {
      "text/html": [
       "<ol class=list-inline>\n",
       "\t<li>30</li>\n",
       "\t<li>19</li>\n",
       "\t<li>2</li>\n",
       "\t<li>6</li>\n",
       "\t<li>72</li>\n",
       "\t<li>64</li>\n",
       "\t<li>54</li>\n",
       "\t<li>39</li>\n",
       "\t<li>79</li>\n",
       "\t<li>26</li>\n",
       "</ol>\n"
      ],
      "text/latex": [
       "\\begin{enumerate*}\n",
       "\\item 30\n",
       "\\item 19\n",
       "\\item 2\n",
       "\\item 6\n",
       "\\item 72\n",
       "\\item 64\n",
       "\\item 54\n",
       "\\item 39\n",
       "\\item 79\n",
       "\\item 26\n",
       "\\end{enumerate*}\n"
      ],
      "text/markdown": [
       "1. 30\n",
       "2. 19\n",
       "3. 2\n",
       "4. 6\n",
       "5. 72\n",
       "6. 64\n",
       "7. 54\n",
       "8. 39\n",
       "9. 79\n",
       "10. 26\n",
       "\n",
       "\n"
      ],
      "text/plain": [
       " [1] 30 19  2  6 72 64 54 39 79 26"
      ]
     },
     "metadata": {},
     "output_type": "display_data"
    },
    {
     "data": {
      "text/html": [
       "<ol class=list-inline>\n",
       "\t<li>30.8906175228767</li>\n",
       "\t<li>19.2749765336048</li>\n",
       "\t<li>2.12346943304874</li>\n",
       "\t<li>6.53702171635814</li>\n",
       "\t<li>72.3999560794327</li>\n",
       "\t<li>64.4755920902826</li>\n",
       "\t<li>54.6934348461218</li>\n",
       "\t<li>39.0606880451087</li>\n",
       "\t<li>79.7755102214869</li>\n",
       "\t<li>26.2634851599578</li>\n",
       "</ol>\n"
      ],
      "text/latex": [
       "\\begin{enumerate*}\n",
       "\\item 30.8906175228767\n",
       "\\item 19.2749765336048\n",
       "\\item 2.12346943304874\n",
       "\\item 6.53702171635814\n",
       "\\item 72.3999560794327\n",
       "\\item 64.4755920902826\n",
       "\\item 54.6934348461218\n",
       "\\item 39.0606880451087\n",
       "\\item 79.7755102214869\n",
       "\\item 26.2634851599578\n",
       "\\end{enumerate*}\n"
      ],
      "text/markdown": [
       "1. 30.8906175228767\n",
       "2. 19.2749765336048\n",
       "3. 2.12346943304874\n",
       "4. 6.53702171635814\n",
       "5. 72.3999560794327\n",
       "6. 64.4755920902826\n",
       "7. 54.6934348461218\n",
       "8. 39.0606880451087\n",
       "9. 79.7755102214869\n",
       "10. 26.2634851599578\n",
       "\n",
       "\n"
      ],
      "text/plain": [
       " [1] 30.890618 19.274977  2.123469  6.537022 72.399956 64.475592 54.693435\n",
       " [8] 39.060688 79.775510 26.263485"
      ]
     },
     "metadata": {},
     "output_type": "display_data"
    }
   ],
   "source": [
    "sample_data[0:10]\n",
    "for (i in 0:length(sample_data)) {\n",
    "    sample_data[i] <- sample_data[i] + runif(1, 0, 1)\n",
    "}\n",
    "sample_data[0:10]"
   ]
  },
  {
   "cell_type": "code",
   "execution_count": 142,
   "id": "functioning-official",
   "metadata": {},
   "outputs": [
    {
     "data": {
      "image/png": "[encoded data removed]",
      "text/plain": [
       "Plot with title \"Histogram of sample_data\""
      ]
     },
     "metadata": {},
     "output_type": "display_data"
    }
   ],
   "source": [
    "hist(sample_data)"
   ]
  },
  {
   "cell_type": "code",
   "execution_count": 150,
   "id": "welsh-avatar",
   "metadata": {},
   "outputs": [
    {
     "data": {
      "image/png": "[encoded data removed]",
      "text/plain": [
       "Plot with title \"Histogram of cat_sample_data\""
      ]
     },
     "metadata": {},
     "output_type": "display_data"
    }
   ],
   "source": [
    "cat_sample_data <- floor(sample_data/10)*10\n",
    "hist(cat_sample_data)"
   ]
  }
 ],
 "metadata": {
  "kernelspec": {
   "display_name": "R",
   "language": "R",
   "name": "ir"
  },
  "language_info": {
   "codemirror_mode": "r",
   "file_extension": ".r",
   "mimetype": "text/x-r-source",
   "name": "R",
   "pygments_lexer": "r",
   "version": "3.6.1"
  }
 },
 "nbformat": 4,
 "nbformat_minor": 5
}
