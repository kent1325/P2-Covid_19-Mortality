{
 "cells": [
  {
   "cell_type": "markdown",
   "id": "incorrect-operation",
   "metadata": {},
   "source": [
    "# Basic Package Mangement"
   ]
  },
  {
   "cell_type": "code",
   "execution_count": 1,
   "id": "hungarian-easter",
   "metadata": {
    "scrolled": true
   },
   "outputs": [
    {
     "name": "stderr",
     "output_type": "stream",
     "text": [
      "Loading required package: pacman\n",
      "Warning message:\n",
      "\"package 'pacman' was built under R version 3.6.3\""
     ]
    }
   ],
   "source": [
    "#install.packages(\"pacman\") # Execute this once.\n",
    "require(pacman)"
   ]
  },
  {
   "cell_type": "markdown",
   "id": "chemical-wireless",
   "metadata": {},
   "source": [
    "### Clearing and unloading packages"
   ]
  },
  {
   "cell_type": "code",
   "execution_count": 79,
   "id": "brief-render",
   "metadata": {
    "scrolled": false
   },
   "outputs": [
    {
     "name": "stderr",
     "output_type": "stream",
     "text": [
      "The following packages have been unloaded:\n",
      "\breadxl, lmtest, zoo, ResourceSelection, magrittr, mosaic, ggridges, mosaicData, ggformula, ggstance, Matrix, lattice, forcats, stringr, dplyr, purrr, readr, tidyr, tibble, ggplot2, tidyverse, pacman\n",
      "\n"
     ]
    }
   ],
   "source": [
    "# Run this block, when done coding or before starting coding.\n",
    "p_unload(all)\n",
    "detach(\"package:datasets\", unload=TRUE)\n",
    "rm(list=ls()) # removes all previous stored variables"
   ]
  },
  {
   "cell_type": "markdown",
   "id": "fallen-revelation",
   "metadata": {},
   "source": [
    "### Loading packages"
   ]
  },
  {
   "cell_type": "code",
   "execution_count": 3,
   "id": "convinced-texas",
   "metadata": {},
   "outputs": [],
   "source": [
    "pacman::p_load(pacman, tidyverse, mosaic, magrittr, ResourceSelection, lmtest)"
   ]
  },
  {
   "cell_type": "markdown",
   "id": "entire-taylor",
   "metadata": {},
   "source": [
    "# Initializing the dataframe"
   ]
  },
  {
   "cell_type": "code",
   "execution_count": 4,
   "id": "swiss-allen",
   "metadata": {},
   "outputs": [
    {
     "data": {
      "text/html": [
       "<table>\n",
       "<thead><tr><th scope=col>interval</th><th scope=col>age</th><th scope=col>infected</th><th scope=col>tested</th><th scope=col>female_deaths</th><th scope=col>male_deaths</th><th scope=col>tot_deaths</th><th scope=col>comorbidity</th><th scope=col>infected_fem</th><th scope=col>infected_male</th><th scope=col>tot_male</th><th scope=col>tot_fem</th><th scope=col>tot_num</th></tr></thead>\n",
       "<tbody>\n",
       "\t<tr><td> 1     </td><td>0-9    </td><td> 15400 </td><td> 395142</td><td>   0   </td><td>   1   </td><td>   1   </td><td>   1   </td><td>  7372 </td><td>  8028 </td><td> 313571</td><td> 297559</td><td> 611130</td></tr>\n",
       "\t<tr><td> 2     </td><td>10-19  </td><td> 34025 </td><td> 605344</td><td>   0   </td><td>   0   </td><td>   0   </td><td>   0   </td><td> 16626 </td><td> 17399 </td><td> 348964</td><td> 331889</td><td> 680853</td></tr>\n",
       "\t<tr><td> 3     </td><td>20-29  </td><td> 41545 </td><td> 688922</td><td>   0   </td><td>   0   </td><td>   0   </td><td>   0   </td><td> 21296 </td><td> 20249 </td><td> 397572</td><td> 381907</td><td> 779479</td></tr>\n",
       "\t<tr><td> 4     </td><td>30-39  </td><td> 30514 </td><td> 604186</td><td>   4   </td><td>   2   </td><td>   6   </td><td>   3   </td><td> 15615 </td><td> 14899 </td><td> 352231</td><td> 341194</td><td> 693425</td></tr>\n",
       "\t<tr><td> 5     </td><td>40-49  </td><td> 32482 </td><td> 646070</td><td>   3   </td><td>   4   </td><td>   7   </td><td>   5   </td><td> 17345 </td><td> 15137 </td><td> 376117</td><td> 375174</td><td> 751291</td></tr>\n",
       "\t<tr><td> 6     </td><td>50-59  </td><td> 31843 </td><td> 660087</td><td>  21   </td><td>  32   </td><td>  53   </td><td>  37   </td><td> 16507 </td><td> 15336 </td><td> 402188</td><td> 398825</td><td> 801013</td></tr>\n",
       "\t<tr><td> 7     </td><td>60-69  </td><td> 17558 </td><td> 490990</td><td>  73   </td><td> 122   </td><td> 195   </td><td> 153   </td><td>  8562 </td><td>  8996 </td><td> 327021</td><td> 338282</td><td> 666262</td></tr>\n",
       "\t<tr><td> 8     </td><td>70-79  </td><td> 10910 </td><td> 370426</td><td> 229   </td><td> 395   </td><td> 624   </td><td> 516   </td><td>  5378 </td><td>  5532 </td><td> 272021</td><td> 300894</td><td> 572915</td></tr>\n",
       "\t<tr><td> 9     </td><td>80-89  </td><td>  5760 </td><td> 140654</td><td> 441   </td><td> 523   </td><td> 964   </td><td> 784   </td><td>  3330 </td><td>  2430 </td><td>  99560</td><td> 135830</td><td> 235390</td></tr>\n",
       "\t<tr><td>10     </td><td>90+    </td><td>  1805 </td><td>  28610</td><td> 325   </td><td> 220   </td><td> 545   </td><td> 433   </td><td>  1277 </td><td>   528 </td><td>  13237</td><td>  32228</td><td>  45455</td></tr>\n",
       "\t<tr><td>11     </td><td>Alle   </td><td>221842 </td><td>4630431</td><td>1096   </td><td>1299   </td><td>2395   </td><td>1932   </td><td>113308 </td><td>108534 </td><td>2902482</td><td>2933782</td><td>5837213</td></tr>\n",
       "</tbody>\n",
       "</table>\n"
      ],
      "text/latex": [
       "\\begin{tabular}{r|lllllllllllll}\n",
       " interval & age & infected & tested & female\\_deaths & male\\_deaths & tot\\_deaths & comorbidity & infected\\_fem & infected\\_male & tot\\_male & tot\\_fem & tot\\_num\\\\\n",
       "\\hline\n",
       "\t  1      & 0-9     &  15400  &  395142 &    0    &    1    &    1    &    1    &   7372  &   8028  &  313571 &  297559 &  611130\\\\\n",
       "\t  2      & 10-19   &  34025  &  605344 &    0    &    0    &    0    &    0    &  16626  &  17399  &  348964 &  331889 &  680853\\\\\n",
       "\t  3      & 20-29   &  41545  &  688922 &    0    &    0    &    0    &    0    &  21296  &  20249  &  397572 &  381907 &  779479\\\\\n",
       "\t  4      & 30-39   &  30514  &  604186 &    4    &    2    &    6    &    3    &  15615  &  14899  &  352231 &  341194 &  693425\\\\\n",
       "\t  5      & 40-49   &  32482  &  646070 &    3    &    4    &    7    &    5    &  17345  &  15137  &  376117 &  375174 &  751291\\\\\n",
       "\t  6      & 50-59   &  31843  &  660087 &   21    &   32    &   53    &   37    &  16507  &  15336  &  402188 &  398825 &  801013\\\\\n",
       "\t  7      & 60-69   &  17558  &  490990 &   73    &  122    &  195    &  153    &   8562  &   8996  &  327021 &  338282 &  666262\\\\\n",
       "\t  8      & 70-79   &  10910  &  370426 &  229    &  395    &  624    &  516    &   5378  &   5532  &  272021 &  300894 &  572915\\\\\n",
       "\t  9      & 80-89   &   5760  &  140654 &  441    &  523    &  964    &  784    &   3330  &   2430  &   99560 &  135830 &  235390\\\\\n",
       "\t 10      & 90+     &   1805  &   28610 &  325    &  220    &  545    &  433    &   1277  &    528  &   13237 &   32228 &   45455\\\\\n",
       "\t 11      & Alle    & 221842  & 4630431 & 1096    & 1299    & 2395    & 1932    & 113308  & 108534  & 2902482 & 2933782 & 5837213\\\\\n",
       "\\end{tabular}\n"
      ],
      "text/markdown": [
       "\n",
       "| interval | age | infected | tested | female_deaths | male_deaths | tot_deaths | comorbidity | infected_fem | infected_male | tot_male | tot_fem | tot_num |\n",
       "|---|---|---|---|---|---|---|---|---|---|---|---|---|\n",
       "|  1      | 0-9     |  15400  |  395142 |    0    |    1    |    1    |    1    |   7372  |   8028  |  313571 |  297559 |  611130 |\n",
       "|  2      | 10-19   |  34025  |  605344 |    0    |    0    |    0    |    0    |  16626  |  17399  |  348964 |  331889 |  680853 |\n",
       "|  3      | 20-29   |  41545  |  688922 |    0    |    0    |    0    |    0    |  21296  |  20249  |  397572 |  381907 |  779479 |\n",
       "|  4      | 30-39   |  30514  |  604186 |    4    |    2    |    6    |    3    |  15615  |  14899  |  352231 |  341194 |  693425 |\n",
       "|  5      | 40-49   |  32482  |  646070 |    3    |    4    |    7    |    5    |  17345  |  15137  |  376117 |  375174 |  751291 |\n",
       "|  6      | 50-59   |  31843  |  660087 |   21    |   32    |   53    |   37    |  16507  |  15336  |  402188 |  398825 |  801013 |\n",
       "|  7      | 60-69   |  17558  |  490990 |   73    |  122    |  195    |  153    |   8562  |   8996  |  327021 |  338282 |  666262 |\n",
       "|  8      | 70-79   |  10910  |  370426 |  229    |  395    |  624    |  516    |   5378  |   5532  |  272021 |  300894 |  572915 |\n",
       "|  9      | 80-89   |   5760  |  140654 |  441    |  523    |  964    |  784    |   3330  |   2430  |   99560 |  135830 |  235390 |\n",
       "| 10      | 90+     |   1805  |   28610 |  325    |  220    |  545    |  433    |   1277  |    528  |   13237 |   32228 |   45455 |\n",
       "| 11      | Alle    | 221842  | 4630431 | 1096    | 1299    | 2395    | 1932    | 113308  | 108534  | 2902482 | 2933782 | 5837213 |\n",
       "\n"
      ],
      "text/plain": [
       "   interval age   infected tested  female_deaths male_deaths tot_deaths\n",
       "1   1       0-9    15400    395142    0             1           1      \n",
       "2   2       10-19  34025    605344    0             0           0      \n",
       "3   3       20-29  41545    688922    0             0           0      \n",
       "4   4       30-39  30514    604186    4             2           6      \n",
       "5   5       40-49  32482    646070    3             4           7      \n",
       "6   6       50-59  31843    660087   21            32          53      \n",
       "7   7       60-69  17558    490990   73           122         195      \n",
       "8   8       70-79  10910    370426  229           395         624      \n",
       "9   9       80-89   5760    140654  441           523         964      \n",
       "10 10       90+     1805     28610  325           220         545      \n",
       "11 11       Alle  221842   4630431 1096          1299        2395      \n",
       "   comorbidity infected_fem infected_male tot_male tot_fem tot_num\n",
       "1     1          7372         8028         313571   297559  611130\n",
       "2     0         16626        17399         348964   331889  680853\n",
       "3     0         21296        20249         397572   381907  779479\n",
       "4     3         15615        14899         352231   341194  693425\n",
       "5     5         17345        15137         376117   375174  751291\n",
       "6    37         16507        15336         402188   398825  801013\n",
       "7   153          8562         8996         327021   338282  666262\n",
       "8   516          5378         5532         272021   300894  572915\n",
       "9   784          3330         2430          99560   135830  235390\n",
       "10  433          1277          528          13237    32228   45455\n",
       "11 1932        113308       108534        2902482  2933782 5837213"
      ]
     },
     "metadata": {},
     "output_type": "display_data"
    }
   ],
   "source": [
    "library(\"readxl\")\n",
    "df <- read_excel(\"data/DeathsDK160321.xlsx\")\n",
    "df"
   ]
  },
  {
   "cell_type": "markdown",
   "id": "under-eleven",
   "metadata": {},
   "source": [
    "# Validitet af datasæt og Binomial vs Bernoulli"
   ]
  },
  {
   "cell_type": "code",
   "execution_count": 5,
   "id": "aboriginal-release",
   "metadata": {},
   "outputs": [],
   "source": [
    "mortality = df %>% \n",
    "  filter(age != \"Alle\") %>% \n",
    "  select(age, infected, tested, tot_deaths) %>% \n",
    "  mutate(`Mortality given Infected` = tot_deaths/infected) %>% \n",
    "  rename(Age = age) %>% \n",
    "  select(-tested,-tot_deaths)"
   ]
  },
  {
   "cell_type": "code",
   "execution_count": 6,
   "id": "certain-wisdom",
   "metadata": {},
   "outputs": [
    {
     "data": {
      "text/html": [
       "<table>\n",
       "<thead><tr><th scope=col>Age</th><th scope=col>infected</th><th scope=col>Mortality given Infected</th></tr></thead>\n",
       "<tbody>\n",
       "\t<tr><td>0-9         </td><td>15400       </td><td>6.493506e-05</td></tr>\n",
       "\t<tr><td>10-19       </td><td>34025       </td><td>0.000000e+00</td></tr>\n",
       "\t<tr><td>20-29       </td><td>41545       </td><td>0.000000e+00</td></tr>\n",
       "\t<tr><td>30-39       </td><td>30514       </td><td>1.966311e-04</td></tr>\n",
       "\t<tr><td>40-49       </td><td>32482       </td><td>2.155040e-04</td></tr>\n",
       "\t<tr><td>50-59       </td><td>31843       </td><td>1.664416e-03</td></tr>\n",
       "\t<tr><td>60-69       </td><td>17558       </td><td>1.110605e-02</td></tr>\n",
       "\t<tr><td>70-79       </td><td>10910       </td><td>5.719523e-02</td></tr>\n",
       "\t<tr><td>80-89       </td><td> 5760       </td><td>1.673611e-01</td></tr>\n",
       "\t<tr><td>90+         </td><td> 1805       </td><td>3.019391e-01</td></tr>\n",
       "</tbody>\n",
       "</table>\n"
      ],
      "text/latex": [
       "\\begin{tabular}{r|lll}\n",
       " Age & infected & Mortality given Infected\\\\\n",
       "\\hline\n",
       "\t 0-9          & 15400        & 6.493506e-05\\\\\n",
       "\t 10-19        & 34025        & 0.000000e+00\\\\\n",
       "\t 20-29        & 41545        & 0.000000e+00\\\\\n",
       "\t 30-39        & 30514        & 1.966311e-04\\\\\n",
       "\t 40-49        & 32482        & 2.155040e-04\\\\\n",
       "\t 50-59        & 31843        & 1.664416e-03\\\\\n",
       "\t 60-69        & 17558        & 1.110605e-02\\\\\n",
       "\t 70-79        & 10910        & 5.719523e-02\\\\\n",
       "\t 80-89        &  5760        & 1.673611e-01\\\\\n",
       "\t 90+          &  1805        & 3.019391e-01\\\\\n",
       "\\end{tabular}\n"
      ],
      "text/markdown": [
       "\n",
       "| Age | infected | Mortality given Infected |\n",
       "|---|---|---|\n",
       "| 0-9          | 15400        | 6.493506e-05 |\n",
       "| 10-19        | 34025        | 0.000000e+00 |\n",
       "| 20-29        | 41545        | 0.000000e+00 |\n",
       "| 30-39        | 30514        | 1.966311e-04 |\n",
       "| 40-49        | 32482        | 2.155040e-04 |\n",
       "| 50-59        | 31843        | 1.664416e-03 |\n",
       "| 60-69        | 17558        | 1.110605e-02 |\n",
       "| 70-79        | 10910        | 5.719523e-02 |\n",
       "| 80-89        |  5760        | 1.673611e-01 |\n",
       "| 90+          |  1805        | 3.019391e-01 |\n",
       "\n"
      ],
      "text/plain": [
       "   Age   infected Mortality given Infected\n",
       "1  0-9   15400    6.493506e-05            \n",
       "2  10-19 34025    0.000000e+00            \n",
       "3  20-29 41545    0.000000e+00            \n",
       "4  30-39 30514    1.966311e-04            \n",
       "5  40-49 32482    2.155040e-04            \n",
       "6  50-59 31843    1.664416e-03            \n",
       "7  60-69 17558    1.110605e-02            \n",
       "8  70-79 10910    5.719523e-02            \n",
       "9  80-89  5760    1.673611e-01            \n",
       "10 90+    1805    3.019391e-01            "
      ]
     },
     "metadata": {},
     "output_type": "display_data"
    }
   ],
   "source": [
    "mortality"
   ]
  },
  {
   "cell_type": "code",
   "execution_count": 7,
   "id": "executive-princess",
   "metadata": {},
   "outputs": [],
   "source": [
    "Binomial_Bootstrap = function(p,n, B = 10000){\n",
    "  #Generate new MEAN data\n",
    "  p_B = rbinom(B,n,p)/n\n",
    "}"
   ]
  },
  {
   "cell_type": "code",
   "execution_count": 8,
   "id": "invalid-triple",
   "metadata": {},
   "outputs": [],
   "source": [
    "Quantiles_Binomial = mortality %>% \n",
    "  mutate(Bootstraps = map2(`Mortality given Infected`, infected, Binomial_Bootstrap, B = 10000)) %>% \n",
    "  mutate(Quantiles = map(Bootstraps, quantile, c(0.025,0.975))) %>% \n",
    "  mutate(`2.5% quantile` = unlist(map(Quantiles, function(x){x[1]}))) %>% \n",
    "  mutate(`97.5% quantile` = unlist(map(Quantiles, function(x){x[2]}))) %>% \n",
    "  select(Age, `2.5% quantile`, `97.5% quantile`)"
   ]
  },
  {
   "cell_type": "code",
   "execution_count": 9,
   "id": "daily-rochester",
   "metadata": {},
   "outputs": [
    {
     "data": {
      "text/html": [
       "<table>\n",
       "<thead><tr><th scope=col>Age</th><th scope=col>2.5% quantile</th><th scope=col>97.5% quantile</th></tr></thead>\n",
       "<tbody>\n",
       "\t<tr><td>0-9         </td><td>0.000000e+00</td><td>0.0001948052</td></tr>\n",
       "\t<tr><td>10-19       </td><td>0.000000e+00</td><td>0.0000000000</td></tr>\n",
       "\t<tr><td>20-29       </td><td>0.000000e+00</td><td>0.0000000000</td></tr>\n",
       "\t<tr><td>30-39       </td><td>6.554368e-05</td><td>0.0003604903</td></tr>\n",
       "\t<tr><td>40-49       </td><td>6.157256e-05</td><td>0.0004002217</td></tr>\n",
       "\t<tr><td>50-59       </td><td>1.224759e-03</td><td>0.0021354772</td></tr>\n",
       "\t<tr><td>60-69       </td><td>9.568288e-03</td><td>0.0126438091</td></tr>\n",
       "\t<tr><td>70-79       </td><td>5.279560e-02</td><td>0.0615948671</td></tr>\n",
       "\t<tr><td>80-89       </td><td>1.578125e-01</td><td>0.1769097222</td></tr>\n",
       "\t<tr><td>90+         </td><td>2.808864e-01</td><td>0.3230055402</td></tr>\n",
       "</tbody>\n",
       "</table>\n"
      ],
      "text/latex": [
       "\\begin{tabular}{r|lll}\n",
       " Age & 2.5\\% quantile & 97.5\\% quantile\\\\\n",
       "\\hline\n",
       "\t 0-9          & 0.000000e+00 & 0.0001948052\\\\\n",
       "\t 10-19        & 0.000000e+00 & 0.0000000000\\\\\n",
       "\t 20-29        & 0.000000e+00 & 0.0000000000\\\\\n",
       "\t 30-39        & 6.554368e-05 & 0.0003604903\\\\\n",
       "\t 40-49        & 6.157256e-05 & 0.0004002217\\\\\n",
       "\t 50-59        & 1.224759e-03 & 0.0021354772\\\\\n",
       "\t 60-69        & 9.568288e-03 & 0.0126438091\\\\\n",
       "\t 70-79        & 5.279560e-02 & 0.0615948671\\\\\n",
       "\t 80-89        & 1.578125e-01 & 0.1769097222\\\\\n",
       "\t 90+          & 2.808864e-01 & 0.3230055402\\\\\n",
       "\\end{tabular}\n"
      ],
      "text/markdown": [
       "\n",
       "| Age | 2.5% quantile | 97.5% quantile |\n",
       "|---|---|---|\n",
       "| 0-9          | 0.000000e+00 | 0.0001948052 |\n",
       "| 10-19        | 0.000000e+00 | 0.0000000000 |\n",
       "| 20-29        | 0.000000e+00 | 0.0000000000 |\n",
       "| 30-39        | 6.554368e-05 | 0.0003604903 |\n",
       "| 40-49        | 6.157256e-05 | 0.0004002217 |\n",
       "| 50-59        | 1.224759e-03 | 0.0021354772 |\n",
       "| 60-69        | 9.568288e-03 | 0.0126438091 |\n",
       "| 70-79        | 5.279560e-02 | 0.0615948671 |\n",
       "| 80-89        | 1.578125e-01 | 0.1769097222 |\n",
       "| 90+          | 2.808864e-01 | 0.3230055402 |\n",
       "\n"
      ],
      "text/plain": [
       "   Age   2.5% quantile 97.5% quantile\n",
       "1  0-9   0.000000e+00  0.0001948052  \n",
       "2  10-19 0.000000e+00  0.0000000000  \n",
       "3  20-29 0.000000e+00  0.0000000000  \n",
       "4  30-39 6.554368e-05  0.0003604903  \n",
       "5  40-49 6.157256e-05  0.0004002217  \n",
       "6  50-59 1.224759e-03  0.0021354772  \n",
       "7  60-69 9.568288e-03  0.0126438091  \n",
       "8  70-79 5.279560e-02  0.0615948671  \n",
       "9  80-89 1.578125e-01  0.1769097222  \n",
       "10 90+   2.808864e-01  0.3230055402  "
      ]
     },
     "metadata": {},
     "output_type": "display_data"
    }
   ],
   "source": [
    "Quantiles_Binomial"
   ]
  },
  {
   "cell_type": "code",
   "execution_count": 10,
   "id": "passive-identifier",
   "metadata": {},
   "outputs": [],
   "source": [
    "Bernoulli_Bootstrap = function(p,n, B = 10000){\n",
    "  #Generate new MEAN data\n",
    "  p_B = replicate(B,mean(rbernoulli(n,p)))\n",
    "}"
   ]
  },
  {
   "cell_type": "code",
   "execution_count": 11,
   "id": "commercial-there",
   "metadata": {},
   "outputs": [],
   "source": [
    "Quantiles_Bernoulli = mortality %>% \n",
    "  mutate(Bootstraps = map2(`Mortality given Infected`, infected, Bernoulli_Bootstrap, B = 1000)) %>% \n",
    "  mutate(Quantiles = map(Bootstraps, quantile, c(0.025,0.975))) %>% \n",
    "  mutate(`2.5% quantile` = unlist(map(Quantiles, function(x){x[1]}))) %>% \n",
    "  mutate(`97.5% quantile` = unlist(map(Quantiles, function(x){x[2]}))) %>% \n",
    "  select(Age, `2.5% quantile`, `97.5% quantile`)"
   ]
  },
  {
   "cell_type": "code",
   "execution_count": 12,
   "id": "supreme-marks",
   "metadata": {},
   "outputs": [
    {
     "data": {
      "text/html": [
       "<table>\n",
       "<thead><tr><th scope=col>Age</th><th scope=col>2.5% quantile</th><th scope=col>97.5% quantile</th></tr></thead>\n",
       "<tbody>\n",
       "\t<tr><td>0-9         </td><td>0.000000e+00</td><td>0.0001948052</td></tr>\n",
       "\t<tr><td>10-19       </td><td>0.000000e+00</td><td>0.0000000000</td></tr>\n",
       "\t<tr><td>20-29       </td><td>0.000000e+00</td><td>0.0000000000</td></tr>\n",
       "\t<tr><td>30-39       </td><td>6.554368e-05</td><td>0.0003604903</td></tr>\n",
       "\t<tr><td>40-49       </td><td>6.157256e-05</td><td>0.0004002217</td></tr>\n",
       "\t<tr><td>50-59       </td><td>1.193355e-03</td><td>0.0021040731</td></tr>\n",
       "\t<tr><td>60-69       </td><td>9.568288e-03</td><td>0.0125882788</td></tr>\n",
       "\t<tr><td>70-79       </td><td>5.270394e-02</td><td>0.0615948671</td></tr>\n",
       "\t<tr><td>80-89       </td><td>1.576389e-01</td><td>0.1763888889</td></tr>\n",
       "\t<tr><td>90+         </td><td>2.814266e-01</td><td>0.3224376731</td></tr>\n",
       "</tbody>\n",
       "</table>\n"
      ],
      "text/latex": [
       "\\begin{tabular}{r|lll}\n",
       " Age & 2.5\\% quantile & 97.5\\% quantile\\\\\n",
       "\\hline\n",
       "\t 0-9          & 0.000000e+00 & 0.0001948052\\\\\n",
       "\t 10-19        & 0.000000e+00 & 0.0000000000\\\\\n",
       "\t 20-29        & 0.000000e+00 & 0.0000000000\\\\\n",
       "\t 30-39        & 6.554368e-05 & 0.0003604903\\\\\n",
       "\t 40-49        & 6.157256e-05 & 0.0004002217\\\\\n",
       "\t 50-59        & 1.193355e-03 & 0.0021040731\\\\\n",
       "\t 60-69        & 9.568288e-03 & 0.0125882788\\\\\n",
       "\t 70-79        & 5.270394e-02 & 0.0615948671\\\\\n",
       "\t 80-89        & 1.576389e-01 & 0.1763888889\\\\\n",
       "\t 90+          & 2.814266e-01 & 0.3224376731\\\\\n",
       "\\end{tabular}\n"
      ],
      "text/markdown": [
       "\n",
       "| Age | 2.5% quantile | 97.5% quantile |\n",
       "|---|---|---|\n",
       "| 0-9          | 0.000000e+00 | 0.0001948052 |\n",
       "| 10-19        | 0.000000e+00 | 0.0000000000 |\n",
       "| 20-29        | 0.000000e+00 | 0.0000000000 |\n",
       "| 30-39        | 6.554368e-05 | 0.0003604903 |\n",
       "| 40-49        | 6.157256e-05 | 0.0004002217 |\n",
       "| 50-59        | 1.193355e-03 | 0.0021040731 |\n",
       "| 60-69        | 9.568288e-03 | 0.0125882788 |\n",
       "| 70-79        | 5.270394e-02 | 0.0615948671 |\n",
       "| 80-89        | 1.576389e-01 | 0.1763888889 |\n",
       "| 90+          | 2.814266e-01 | 0.3224376731 |\n",
       "\n"
      ],
      "text/plain": [
       "   Age   2.5% quantile 97.5% quantile\n",
       "1  0-9   0.000000e+00  0.0001948052  \n",
       "2  10-19 0.000000e+00  0.0000000000  \n",
       "3  20-29 0.000000e+00  0.0000000000  \n",
       "4  30-39 6.554368e-05  0.0003604903  \n",
       "5  40-49 6.157256e-05  0.0004002217  \n",
       "6  50-59 1.193355e-03  0.0021040731  \n",
       "7  60-69 9.568288e-03  0.0125882788  \n",
       "8  70-79 5.270394e-02  0.0615948671  \n",
       "9  80-89 1.576389e-01  0.1763888889  \n",
       "10 90+   2.814266e-01  0.3224376731  "
      ]
     },
     "metadata": {},
     "output_type": "display_data"
    }
   ],
   "source": [
    "Quantiles_Bernoulli"
   ]
  },
  {
   "cell_type": "code",
   "execution_count": 13,
   "id": "bearing-harassment",
   "metadata": {},
   "outputs": [],
   "source": [
    "Quantiles_Bernoulli %<>% mutate(Bootstrap = \"Bernoulli\")\n",
    "Quantiles_Binomial %<>% mutate(Bootstrap = \"Binomial\")"
   ]
  },
  {
   "cell_type": "code",
   "execution_count": 14,
   "id": "piano-adolescent",
   "metadata": {},
   "outputs": [],
   "source": [
    "Quantiles = rbind(Quantiles_Bernoulli,Quantiles_Binomial)"
   ]
  },
  {
   "cell_type": "code",
   "execution_count": 15,
   "id": "available-target",
   "metadata": {},
   "outputs": [
    {
     "data": {
      "text/html": [
       "<table>\n",
       "<thead><tr><th scope=col>Age</th><th scope=col>2.5% quantile</th><th scope=col>97.5% quantile</th><th scope=col>Bootstrap</th></tr></thead>\n",
       "<tbody>\n",
       "\t<tr><td>0-9         </td><td>0.000000e+00</td><td>0.0001948052</td><td>Bernoulli   </td></tr>\n",
       "\t<tr><td>10-19       </td><td>0.000000e+00</td><td>0.0000000000</td><td>Bernoulli   </td></tr>\n",
       "\t<tr><td>20-29       </td><td>0.000000e+00</td><td>0.0000000000</td><td>Bernoulli   </td></tr>\n",
       "\t<tr><td>30-39       </td><td>6.554368e-05</td><td>0.0003604903</td><td>Bernoulli   </td></tr>\n",
       "\t<tr><td>40-49       </td><td>6.157256e-05</td><td>0.0004002217</td><td>Bernoulli   </td></tr>\n",
       "\t<tr><td>50-59       </td><td>1.193355e-03</td><td>0.0021040731</td><td>Bernoulli   </td></tr>\n",
       "\t<tr><td>60-69       </td><td>9.568288e-03</td><td>0.0125882788</td><td>Bernoulli   </td></tr>\n",
       "\t<tr><td>70-79       </td><td>5.270394e-02</td><td>0.0615948671</td><td>Bernoulli   </td></tr>\n",
       "\t<tr><td>80-89       </td><td>1.576389e-01</td><td>0.1763888889</td><td>Bernoulli   </td></tr>\n",
       "\t<tr><td>90+         </td><td>2.814266e-01</td><td>0.3224376731</td><td>Bernoulli   </td></tr>\n",
       "\t<tr><td>0-9         </td><td>0.000000e+00</td><td>0.0001948052</td><td>Binomial    </td></tr>\n",
       "\t<tr><td>10-19       </td><td>0.000000e+00</td><td>0.0000000000</td><td>Binomial    </td></tr>\n",
       "\t<tr><td>20-29       </td><td>0.000000e+00</td><td>0.0000000000</td><td>Binomial    </td></tr>\n",
       "\t<tr><td>30-39       </td><td>6.554368e-05</td><td>0.0003604903</td><td>Binomial    </td></tr>\n",
       "\t<tr><td>40-49       </td><td>6.157256e-05</td><td>0.0004002217</td><td>Binomial    </td></tr>\n",
       "\t<tr><td>50-59       </td><td>1.224759e-03</td><td>0.0021354772</td><td>Binomial    </td></tr>\n",
       "\t<tr><td>60-69       </td><td>9.568288e-03</td><td>0.0126438091</td><td>Binomial    </td></tr>\n",
       "\t<tr><td>70-79       </td><td>5.279560e-02</td><td>0.0615948671</td><td>Binomial    </td></tr>\n",
       "\t<tr><td>80-89       </td><td>1.578125e-01</td><td>0.1769097222</td><td>Binomial    </td></tr>\n",
       "\t<tr><td>90+         </td><td>2.808864e-01</td><td>0.3230055402</td><td>Binomial    </td></tr>\n",
       "</tbody>\n",
       "</table>\n"
      ],
      "text/latex": [
       "\\begin{tabular}{r|llll}\n",
       " Age & 2.5\\% quantile & 97.5\\% quantile & Bootstrap\\\\\n",
       "\\hline\n",
       "\t 0-9          & 0.000000e+00 & 0.0001948052 & Bernoulli   \\\\\n",
       "\t 10-19        & 0.000000e+00 & 0.0000000000 & Bernoulli   \\\\\n",
       "\t 20-29        & 0.000000e+00 & 0.0000000000 & Bernoulli   \\\\\n",
       "\t 30-39        & 6.554368e-05 & 0.0003604903 & Bernoulli   \\\\\n",
       "\t 40-49        & 6.157256e-05 & 0.0004002217 & Bernoulli   \\\\\n",
       "\t 50-59        & 1.193355e-03 & 0.0021040731 & Bernoulli   \\\\\n",
       "\t 60-69        & 9.568288e-03 & 0.0125882788 & Bernoulli   \\\\\n",
       "\t 70-79        & 5.270394e-02 & 0.0615948671 & Bernoulli   \\\\\n",
       "\t 80-89        & 1.576389e-01 & 0.1763888889 & Bernoulli   \\\\\n",
       "\t 90+          & 2.814266e-01 & 0.3224376731 & Bernoulli   \\\\\n",
       "\t 0-9          & 0.000000e+00 & 0.0001948052 & Binomial    \\\\\n",
       "\t 10-19        & 0.000000e+00 & 0.0000000000 & Binomial    \\\\\n",
       "\t 20-29        & 0.000000e+00 & 0.0000000000 & Binomial    \\\\\n",
       "\t 30-39        & 6.554368e-05 & 0.0003604903 & Binomial    \\\\\n",
       "\t 40-49        & 6.157256e-05 & 0.0004002217 & Binomial    \\\\\n",
       "\t 50-59        & 1.224759e-03 & 0.0021354772 & Binomial    \\\\\n",
       "\t 60-69        & 9.568288e-03 & 0.0126438091 & Binomial    \\\\\n",
       "\t 70-79        & 5.279560e-02 & 0.0615948671 & Binomial    \\\\\n",
       "\t 80-89        & 1.578125e-01 & 0.1769097222 & Binomial    \\\\\n",
       "\t 90+          & 2.808864e-01 & 0.3230055402 & Binomial    \\\\\n",
       "\\end{tabular}\n"
      ],
      "text/markdown": [
       "\n",
       "| Age | 2.5% quantile | 97.5% quantile | Bootstrap |\n",
       "|---|---|---|---|\n",
       "| 0-9          | 0.000000e+00 | 0.0001948052 | Bernoulli    |\n",
       "| 10-19        | 0.000000e+00 | 0.0000000000 | Bernoulli    |\n",
       "| 20-29        | 0.000000e+00 | 0.0000000000 | Bernoulli    |\n",
       "| 30-39        | 6.554368e-05 | 0.0003604903 | Bernoulli    |\n",
       "| 40-49        | 6.157256e-05 | 0.0004002217 | Bernoulli    |\n",
       "| 50-59        | 1.193355e-03 | 0.0021040731 | Bernoulli    |\n",
       "| 60-69        | 9.568288e-03 | 0.0125882788 | Bernoulli    |\n",
       "| 70-79        | 5.270394e-02 | 0.0615948671 | Bernoulli    |\n",
       "| 80-89        | 1.576389e-01 | 0.1763888889 | Bernoulli    |\n",
       "| 90+          | 2.814266e-01 | 0.3224376731 | Bernoulli    |\n",
       "| 0-9          | 0.000000e+00 | 0.0001948052 | Binomial     |\n",
       "| 10-19        | 0.000000e+00 | 0.0000000000 | Binomial     |\n",
       "| 20-29        | 0.000000e+00 | 0.0000000000 | Binomial     |\n",
       "| 30-39        | 6.554368e-05 | 0.0003604903 | Binomial     |\n",
       "| 40-49        | 6.157256e-05 | 0.0004002217 | Binomial     |\n",
       "| 50-59        | 1.224759e-03 | 0.0021354772 | Binomial     |\n",
       "| 60-69        | 9.568288e-03 | 0.0126438091 | Binomial     |\n",
       "| 70-79        | 5.279560e-02 | 0.0615948671 | Binomial     |\n",
       "| 80-89        | 1.578125e-01 | 0.1769097222 | Binomial     |\n",
       "| 90+          | 2.808864e-01 | 0.3230055402 | Binomial     |\n",
       "\n"
      ],
      "text/plain": [
       "   Age   2.5% quantile 97.5% quantile Bootstrap\n",
       "1  0-9   0.000000e+00  0.0001948052   Bernoulli\n",
       "2  10-19 0.000000e+00  0.0000000000   Bernoulli\n",
       "3  20-29 0.000000e+00  0.0000000000   Bernoulli\n",
       "4  30-39 6.554368e-05  0.0003604903   Bernoulli\n",
       "5  40-49 6.157256e-05  0.0004002217   Bernoulli\n",
       "6  50-59 1.193355e-03  0.0021040731   Bernoulli\n",
       "7  60-69 9.568288e-03  0.0125882788   Bernoulli\n",
       "8  70-79 5.270394e-02  0.0615948671   Bernoulli\n",
       "9  80-89 1.576389e-01  0.1763888889   Bernoulli\n",
       "10 90+   2.814266e-01  0.3224376731   Bernoulli\n",
       "11 0-9   0.000000e+00  0.0001948052   Binomial \n",
       "12 10-19 0.000000e+00  0.0000000000   Binomial \n",
       "13 20-29 0.000000e+00  0.0000000000   Binomial \n",
       "14 30-39 6.554368e-05  0.0003604903   Binomial \n",
       "15 40-49 6.157256e-05  0.0004002217   Binomial \n",
       "16 50-59 1.224759e-03  0.0021354772   Binomial \n",
       "17 60-69 9.568288e-03  0.0126438091   Binomial \n",
       "18 70-79 5.279560e-02  0.0615948671   Binomial \n",
       "19 80-89 1.578125e-01  0.1769097222   Binomial \n",
       "20 90+   2.808864e-01  0.3230055402   Binomial "
      ]
     },
     "metadata": {},
     "output_type": "display_data"
    }
   ],
   "source": [
    "Quantiles"
   ]
  },
  {
   "cell_type": "code",
   "execution_count": 16,
   "id": "separate-argument",
   "metadata": {
    "scrolled": false
   },
   "outputs": [
    {
     "name": "stderr",
     "output_type": "stream",
     "text": [
      "Warning message:\n",
      "\"attributes are not identical across measure variables;\n",
      "they will be dropped\""
     ]
    },
    {
     "data": {
      "image/png": "[encoded data removed]",
      "text/plain": [
       "plot without title"
      ]
     },
     "metadata": {},
     "output_type": "display_data"
    }
   ],
   "source": [
    "Quantiles %>% gather(\"Quantile\",\"Value\", -Age,-Bootstrap) %>% \n",
    "  ggplot(aes(x = Age, y = Value, fill = Bootstrap)) + \n",
    "  geom_bar(stat = \"identity\",position=position_dodge()) + \n",
    "  facet_grid(vars(Quantile)) +\n",
    "  theme(axis.text.x = element_text(angle = 45, hjust=1)) + \n",
    "  ylab(\"Mortality given Infected\")"
   ]
  },
  {
   "cell_type": "markdown",
   "id": "celtic-dairy",
   "metadata": {},
   "source": [
    "# Logistisk regression på en kategorisk variabel"
   ]
  },
  {
   "cell_type": "markdown",
   "id": "worth-african",
   "metadata": {},
   "source": [
    "Vi vil undersøge, hvad sandsynligheden er for at man dør givet en specifik alder.\n",
    "Dog kan der opstå et problem, da modellen oftest operere på kontinuerete forklarende variable.\n",
    "\n",
    "Da kan det være nødvendigt at undersøge, hvorvidt det har nogen betydning i vores tilfælde. Vi har nemlig en variabel der originalt er kontinuert - altså variablen alder, men denne variabel er gjort diskret ved at afrunde alderen til kun at indeholde år. Efterfølgende er alderen yderligere opdelt kategorisk, så der er tale om en aldersgruppe.\n",
    "\n",
    "Har dette nogen signifikant betydning for resultatet?"
   ]
  },
  {
   "cell_type": "code",
   "execution_count": 17,
   "id": "alleged-interest",
   "metadata": {},
   "outputs": [
    {
     "data": {
      "text/html": [
       "<table>\n",
       "<thead><tr><th scope=col>age</th><th scope=col>total</th><th scope=col>male</th><th scope=col>female</th><th scope=col>P</th></tr></thead>\n",
       "<tbody>\n",
       "\t<tr><td>0         </td><td>61191     </td><td>31303     </td><td>29888     </td><td>0.01047783</td></tr>\n",
       "\t<tr><td>1         </td><td>61663     </td><td>31758     </td><td>29905     </td><td>0.01055865</td></tr>\n",
       "\t<tr><td>2         </td><td>61967     </td><td>31909     </td><td>30058     </td><td>0.01061071</td></tr>\n",
       "\t<tr><td>3         </td><td>62185     </td><td>31852     </td><td>30333     </td><td>0.01064803</td></tr>\n",
       "\t<tr><td>4         </td><td>62844     </td><td>32402     </td><td>30442     </td><td>0.01076088</td></tr>\n",
       "\t<tr><td>5         </td><td>59740     </td><td>30627     </td><td>29113     </td><td>0.01022937</td></tr>\n",
       "</tbody>\n",
       "</table>\n"
      ],
      "text/latex": [
       "\\begin{tabular}{r|lllll}\n",
       " age & total & male & female & P\\\\\n",
       "\\hline\n",
       "\t 0          & 61191      & 31303      & 29888      & 0.01047783\\\\\n",
       "\t 1          & 61663      & 31758      & 29905      & 0.01055865\\\\\n",
       "\t 2          & 61967      & 31909      & 30058      & 0.01061071\\\\\n",
       "\t 3          & 62185      & 31852      & 30333      & 0.01064803\\\\\n",
       "\t 4          & 62844      & 32402      & 30442      & 0.01076088\\\\\n",
       "\t 5          & 59740      & 30627      & 29113      & 0.01022937\\\\\n",
       "\\end{tabular}\n"
      ],
      "text/markdown": [
       "\n",
       "| age | total | male | female | P |\n",
       "|---|---|---|---|---|\n",
       "| 0          | 61191      | 31303      | 29888      | 0.01047783 |\n",
       "| 1          | 61663      | 31758      | 29905      | 0.01055865 |\n",
       "| 2          | 61967      | 31909      | 30058      | 0.01061071 |\n",
       "| 3          | 62185      | 31852      | 30333      | 0.01064803 |\n",
       "| 4          | 62844      | 32402      | 30442      | 0.01076088 |\n",
       "| 5          | 59740      | 30627      | 29113      | 0.01022937 |\n",
       "\n"
      ],
      "text/plain": [
       "  age total male  female P         \n",
       "1 0   61191 31303 29888  0.01047783\n",
       "2 1   61663 31758 29905  0.01055865\n",
       "3 2   61967 31909 30058  0.01061071\n",
       "4 3   62185 31852 30333  0.01064803\n",
       "5 4   62844 32402 30442  0.01076088\n",
       "6 5   59740 30627 29113  0.01022937"
      ]
     },
     "metadata": {},
     "output_type": "display_data"
    }
   ],
   "source": [
    "DKpop <- read_excel(\"data/folketal.xlsx\") # Indlæs datasættet for den befolkning og dets fordeling af alder.\n",
    "DKpop %<>% mutate(P = total/sum(total)) # Tilføjer en søjle med sandsynlighed for at være en given alder.\n",
    "head(DKpop)"
   ]
  },
  {
   "cell_type": "code",
   "execution_count": 18,
   "id": "emotional-strap",
   "metadata": {},
   "outputs": [],
   "source": [
    "# En funktioner der returnere en tabel af personer med alder konverteret til en kontinuert værdi og \n",
    "# en bernoulli værdi der indikere om personen døde af covid-19 eller ej.\n",
    "Sampler = function(n, beta_0, beta_1, uniform_displace = T){\n",
    "    X = with(DKpop, sample(age, n, replace = T, prob = P))\n",
    "    if (uniform_displace){\n",
    "        X = X + runif(n,0,1)\n",
    "    }\n",
    "    P_X = ilogit(beta_0 + beta_1*X)\n",
    "    Y = rbernoulli(n,P_X)\n",
    "    return(tibble(age = X,dead = Y))\n",
    "}"
   ]
  },
  {
   "cell_type": "code",
   "execution_count": 19,
   "id": "worth-major",
   "metadata": {},
   "outputs": [
    {
     "data": {
      "text/html": [
       "<table>\n",
       "<thead><tr><th scope=col>age</th><th scope=col>dead</th></tr></thead>\n",
       "<tbody>\n",
       "\t<tr><td>51.3770478</td><td>FALSE     </td></tr>\n",
       "\t<tr><td>22.6885870</td><td>FALSE     </td></tr>\n",
       "\t<tr><td>68.2252544</td><td> TRUE     </td></tr>\n",
       "\t<tr><td>70.4325399</td><td>FALSE     </td></tr>\n",
       "\t<tr><td>14.1598201</td><td>FALSE     </td></tr>\n",
       "\t<tr><td>74.7759315</td><td>FALSE     </td></tr>\n",
       "\t<tr><td>24.7627093</td><td>FALSE     </td></tr>\n",
       "\t<tr><td> 0.9469993</td><td>FALSE     </td></tr>\n",
       "\t<tr><td>25.6854809</td><td>FALSE     </td></tr>\n",
       "\t<tr><td>27.7645725</td><td>FALSE     </td></tr>\n",
       "</tbody>\n",
       "</table>\n"
      ],
      "text/latex": [
       "\\begin{tabular}{r|ll}\n",
       " age & dead\\\\\n",
       "\\hline\n",
       "\t 51.3770478 & FALSE     \\\\\n",
       "\t 22.6885870 & FALSE     \\\\\n",
       "\t 68.2252544 &  TRUE     \\\\\n",
       "\t 70.4325399 & FALSE     \\\\\n",
       "\t 14.1598201 & FALSE     \\\\\n",
       "\t 74.7759315 & FALSE     \\\\\n",
       "\t 24.7627093 & FALSE     \\\\\n",
       "\t  0.9469993 & FALSE     \\\\\n",
       "\t 25.6854809 & FALSE     \\\\\n",
       "\t 27.7645725 & FALSE     \\\\\n",
       "\\end{tabular}\n"
      ],
      "text/markdown": [
       "\n",
       "| age | dead |\n",
       "|---|---|\n",
       "| 51.3770478 | FALSE      |\n",
       "| 22.6885870 | FALSE      |\n",
       "| 68.2252544 |  TRUE      |\n",
       "| 70.4325399 | FALSE      |\n",
       "| 14.1598201 | FALSE      |\n",
       "| 74.7759315 | FALSE      |\n",
       "| 24.7627093 | FALSE      |\n",
       "|  0.9469993 | FALSE      |\n",
       "| 25.6854809 | FALSE      |\n",
       "| 27.7645725 | FALSE      |\n",
       "\n"
      ],
      "text/plain": [
       "   age        dead \n",
       "1  51.3770478 FALSE\n",
       "2  22.6885870 FALSE\n",
       "3  68.2252544  TRUE\n",
       "4  70.4325399 FALSE\n",
       "5  14.1598201 FALSE\n",
       "6  74.7759315 FALSE\n",
       "7  24.7627093 FALSE\n",
       "8   0.9469993 FALSE\n",
       "9  25.6854809 FALSE\n",
       "10 27.7645725 FALSE"
      ]
     },
     "metadata": {},
     "output_type": "display_data"
    }
   ],
   "source": [
    "alpha = -9 # Vores intercept, som glm modellen skal forsøge at estimere.\n",
    "beta = 0.1 # Hældningskoefficenten, som glm modellen skal forsøge at estimere.\n",
    "\n",
    "Sampled_Data = Sampler(1000,alpha,beta) # Kalder funktionen, hvor 1000 personer samples.\n",
    "head(Sampled_Data, 10)"
   ]
  },
  {
   "cell_type": "code",
   "execution_count": 20,
   "id": "smoking-zimbabwe",
   "metadata": {
    "scrolled": false
   },
   "outputs": [
    {
     "data": {
      "image/png": "[encoded data removed]",
      "text/plain": [
       "plot without title"
      ]
     },
     "metadata": {},
     "output_type": "display_data"
    }
   ],
   "source": [
    "plot(Sampled_Data$dead)"
   ]
  },
  {
   "cell_type": "code",
   "execution_count": 21,
   "id": "legal-lingerie",
   "metadata": {
    "scrolled": false
   },
   "outputs": [
    {
     "data": {
      "image/png": "[encoded data removed]",
      "text/plain": [
       "plot without title"
      ]
     },
     "metadata": {},
     "output_type": "display_data"
    }
   ],
   "source": [
    "Sampled_Data %>% \n",
    "  ggplot(aes(x = age, y = dead)) + geom_point()"
   ]
  },
  {
   "cell_type": "code",
   "execution_count": 22,
   "id": "underlying-samba",
   "metadata": {},
   "outputs": [
    {
     "data": {
      "text/html": [
       "<table>\n",
       "<thead><tr><th scope=col>age</th><th scope=col>P(Dead|Age)</th></tr></thead>\n",
       "<tbody>\n",
       "\t<tr><td>0       </td><td>1.000123</td></tr>\n",
       "\t<tr><td>1       </td><td>1.000136</td></tr>\n",
       "\t<tr><td>2       </td><td>1.000151</td></tr>\n",
       "\t<tr><td>3       </td><td>1.000167</td></tr>\n",
       "\t<tr><td>4       </td><td>1.000184</td></tr>\n",
       "\t<tr><td>5       </td><td>1.000203</td></tr>\n",
       "</tbody>\n",
       "</table>\n"
      ],
      "text/latex": [
       "\\begin{tabular}{r|ll}\n",
       " age & P(Dead\\textbar{}Age)\\\\\n",
       "\\hline\n",
       "\t 0        & 1.000123\\\\\n",
       "\t 1        & 1.000136\\\\\n",
       "\t 2        & 1.000151\\\\\n",
       "\t 3        & 1.000167\\\\\n",
       "\t 4        & 1.000184\\\\\n",
       "\t 5        & 1.000203\\\\\n",
       "\\end{tabular}\n"
      ],
      "text/markdown": [
       "\n",
       "| age | P(Dead|Age) |\n",
       "|---|---|\n",
       "| 0        | 1.000123 |\n",
       "| 1        | 1.000136 |\n",
       "| 2        | 1.000151 |\n",
       "| 3        | 1.000167 |\n",
       "| 4        | 1.000184 |\n",
       "| 5        | 1.000203 |\n",
       "\n"
      ],
      "text/plain": [
       "  age P(Dead|Age)\n",
       "1 0   1.000123   \n",
       "2 1   1.000136   \n",
       "3 2   1.000151   \n",
       "4 3   1.000167   \n",
       "5 4   1.000184   \n",
       "6 5   1.000203   "
      ]
     },
     "metadata": {},
     "output_type": "display_data"
    },
    {
     "data": {
      "text/html": [
       "<table>\n",
       "<thead><tr><th scope=col>age</th><th scope=col>P(Dead|Age)</th></tr></thead>\n",
       "<tbody>\n",
       "\t<tr><td>115     </td><td>1.924142</td></tr>\n",
       "\t<tr><td>116     </td><td>1.930862</td></tr>\n",
       "\t<tr><td>117     </td><td>1.937027</td></tr>\n",
       "\t<tr><td>118     </td><td>1.942676</td></tr>\n",
       "\t<tr><td>119     </td><td>1.947846</td></tr>\n",
       "\t<tr><td>120     </td><td>1.952574</td></tr>\n",
       "</tbody>\n",
       "</table>\n"
      ],
      "text/latex": [
       "\\begin{tabular}{r|ll}\n",
       " age & P(Dead\\textbar{}Age)\\\\\n",
       "\\hline\n",
       "\t 115      & 1.924142\\\\\n",
       "\t 116      & 1.930862\\\\\n",
       "\t 117      & 1.937027\\\\\n",
       "\t 118      & 1.942676\\\\\n",
       "\t 119      & 1.947846\\\\\n",
       "\t 120      & 1.952574\\\\\n",
       "\\end{tabular}\n"
      ],
      "text/markdown": [
       "\n",
       "| age | P(Dead|Age) |\n",
       "|---|---|\n",
       "| 115      | 1.924142 |\n",
       "| 116      | 1.930862 |\n",
       "| 117      | 1.937027 |\n",
       "| 118      | 1.942676 |\n",
       "| 119      | 1.947846 |\n",
       "| 120      | 1.952574 |\n",
       "\n"
      ],
      "text/plain": [
       "  age P(Dead|Age)\n",
       "1 115 1.924142   \n",
       "2 116 1.930862   \n",
       "3 117 1.937027   \n",
       "4 118 1.942676   \n",
       "5 119 1.947846   \n",
       "6 120 1.952574   "
      ]
     },
     "metadata": {},
     "output_type": "display_data"
    }
   ],
   "source": [
    "# En tabel, der indeholder sandsynligheden for at dø givet man er x år gammel.\n",
    "Logit_Curve = tibble(age = 0:120, `P(Dead|Age)` = ilogit(alpha + beta*0:120)+1)\n",
    "\n",
    "head(Logit_Curve)\n",
    "tail(Logit_Curve)"
   ]
  },
  {
   "cell_type": "code",
   "execution_count": 23,
   "id": "fourth-layer",
   "metadata": {
    "scrolled": false
   },
   "outputs": [
    {
     "data": {
      "image/png": "[encoded data removed]",
      "text/plain": [
       "plot without title"
      ]
     },
     "metadata": {},
     "output_type": "display_data"
    }
   ],
   "source": [
    "Sampled_Data %>%\n",
    "    ggplot(aes(x = age, y = dead, color = \"Sampled Data\")) + geom_point(alpha = 0.5) + \n",
    "    geom_line(data = Logit_Curve, aes(x = age, y = `P(Dead|Age)`, color = \"P(Dead|Age)\"), size = .87, inherit.aes = F) + \n",
    "    xlab(\"Age\") + ylab(\"Dead\") + labs(color = \"\")"
   ]
  },
  {
   "cell_type": "code",
   "execution_count": 24,
   "id": "congressional-judgment",
   "metadata": {},
   "outputs": [
    {
     "data": {
      "text/html": [
       "<table>\n",
       "<thead><tr><th scope=col>age</th><th scope=col>dead</th><th scope=col>age_truncated</th></tr></thead>\n",
       "<tbody>\n",
       "\t<tr><td>51.37705</td><td>FALSE   </td><td>50      </td></tr>\n",
       "\t<tr><td>22.68859</td><td>FALSE   </td><td>20      </td></tr>\n",
       "\t<tr><td>68.22525</td><td> TRUE   </td><td>60      </td></tr>\n",
       "\t<tr><td>70.43254</td><td>FALSE   </td><td>70      </td></tr>\n",
       "\t<tr><td>14.15982</td><td>FALSE   </td><td>10      </td></tr>\n",
       "\t<tr><td>74.77593</td><td>FALSE   </td><td>70      </td></tr>\n",
       "</tbody>\n",
       "</table>\n"
      ],
      "text/latex": [
       "\\begin{tabular}{r|lll}\n",
       " age & dead & age\\_truncated\\\\\n",
       "\\hline\n",
       "\t 51.37705 & FALSE    & 50      \\\\\n",
       "\t 22.68859 & FALSE    & 20      \\\\\n",
       "\t 68.22525 &  TRUE    & 60      \\\\\n",
       "\t 70.43254 & FALSE    & 70      \\\\\n",
       "\t 14.15982 & FALSE    & 10      \\\\\n",
       "\t 74.77593 & FALSE    & 70      \\\\\n",
       "\\end{tabular}\n"
      ],
      "text/markdown": [
       "\n",
       "| age | dead | age_truncated |\n",
       "|---|---|---|\n",
       "| 51.37705 | FALSE    | 50       |\n",
       "| 22.68859 | FALSE    | 20       |\n",
       "| 68.22525 |  TRUE    | 60       |\n",
       "| 70.43254 | FALSE    | 70       |\n",
       "| 14.15982 | FALSE    | 10       |\n",
       "| 74.77593 | FALSE    | 70       |\n",
       "\n"
      ],
      "text/plain": [
       "  age      dead  age_truncated\n",
       "1 51.37705 FALSE 50           \n",
       "2 22.68859 FALSE 20           \n",
       "3 68.22525  TRUE 60           \n",
       "4 70.43254 FALSE 70           \n",
       "5 14.15982 FALSE 10           \n",
       "6 74.77593 FALSE 70           "
      ]
     },
     "metadata": {},
     "output_type": "display_data"
    }
   ],
   "source": [
    "Sampled_Data %<>% mutate(age_truncated = floor(age/10)*10) # Tilføjer en søjle med trunkerede alder.\n",
    "head(Sampled_Data)"
   ]
  },
  {
   "cell_type": "code",
   "execution_count": 25,
   "id": "trained-report",
   "metadata": {},
   "outputs": [],
   "source": [
    "#model <- glm(dead ~ 1, family = \"binomial\", data = Sampled_Data)\n",
    "#summary(model)"
   ]
  },
  {
   "cell_type": "code",
   "execution_count": 26,
   "id": "catholic-rwanda",
   "metadata": {
    "scrolled": false
   },
   "outputs": [],
   "source": [
    "# Model for kontinuert alder.\n",
    "glm.main <- glm(dead ~ age, family = \"binomial\", data = Sampled_Data)\n",
    "#coef(summary(glm.main))"
   ]
  },
  {
   "cell_type": "code",
   "execution_count": 27,
   "id": "disturbed-ridge",
   "metadata": {},
   "outputs": [
    {
     "data": {
      "text/html": [
       "<table>\n",
       "<thead><tr><th></th><th scope=col>Estimate</th><th scope=col>Std. Error</th><th scope=col>z value</th><th scope=col>Pr(&gt;|z|)</th></tr></thead>\n",
       "<tbody>\n",
       "\t<tr><th scope=row>(Intercept)</th><td>-8.9091141  </td><td>0.94073277  </td><td>-9.470398   </td><td>2.787784e-21</td></tr>\n",
       "\t<tr><th scope=row>age_truncated</th><td> 0.1037785  </td><td>0.01375118  </td><td> 7.546882   </td><td>4.458017e-14</td></tr>\n",
       "</tbody>\n",
       "</table>\n"
      ],
      "text/latex": [
       "\\begin{tabular}{r|llll}\n",
       "  & Estimate & Std. Error & z value & Pr(>\\textbar{}z\\textbar{})\\\\\n",
       "\\hline\n",
       "\t(Intercept) & -8.9091141   & 0.94073277   & -9.470398    & 2.787784e-21\\\\\n",
       "\tage\\_truncated &  0.1037785   & 0.01375118   &  7.546882    & 4.458017e-14\\\\\n",
       "\\end{tabular}\n"
      ],
      "text/markdown": [
       "\n",
       "| <!--/--> | Estimate | Std. Error | z value | Pr(>|z|) |\n",
       "|---|---|---|---|---|\n",
       "| (Intercept) | -8.9091141   | 0.94073277   | -9.470398    | 2.787784e-21 |\n",
       "| age_truncated |  0.1037785   | 0.01375118   |  7.546882    | 4.458017e-14 |\n",
       "\n"
      ],
      "text/plain": [
       "              Estimate   Std. Error z value   Pr(>|z|)    \n",
       "(Intercept)   -8.9091141 0.94073277 -9.470398 2.787784e-21\n",
       "age_truncated  0.1037785 0.01375118  7.546882 4.458017e-14"
      ]
     },
     "metadata": {},
     "output_type": "display_data"
    }
   ],
   "source": [
    "# Model for trunkeret alder.\n",
    "glm.truncated <- glm(dead ~ age_truncated, family = \"binomial\", data = Sampled_Data)\n",
    "coef(summary(glm.truncated))"
   ]
  },
  {
   "cell_type": "code",
   "execution_count": 28,
   "id": "athletic-finger",
   "metadata": {},
   "outputs": [],
   "source": [
    "#model_test <- glm(dead ~ as.factor(age_truncated), family = \"binomial\", data = Sampled_Data)\n",
    "#summary(model_test)"
   ]
  },
  {
   "cell_type": "code",
   "execution_count": 29,
   "id": "generous-percentage",
   "metadata": {},
   "outputs": [],
   "source": [
    "#lrtest(model_test, glm.truncated)"
   ]
  },
  {
   "cell_type": "markdown",
   "id": "white-shadow",
   "metadata": {},
   "source": [
    "#### Der ønskes testet, hvor sandsynligt at $\\alpha$ og $\\beta$ ligger i fordelingen for estimatet $\\hat{\\alpha}$ og $\\hat{\\beta}$\n",
    "\n",
    "Med andre ord, kan det samme opstilles som en hypotesetest."
   ]
  },
  {
   "cell_type": "markdown",
   "id": "representative-sigma",
   "metadata": {},
   "source": [
    "For at vide med om, vores model estimat er et godt estimat ifht. de sande alpha og beta værdier, hvilket er henholdsvis -9 og 0.1, da opsættes en hypotesetest."
   ]
  },
  {
   "cell_type": "markdown",
   "id": "pleasant-summary",
   "metadata": {},
   "source": [
    "$$H_0: \\hat{\\alpha} = \\alpha \\implies \\hat{\\alpha} - \\alpha = 0 \\quad \\text{ og } \\quad H_0: \\hat{\\beta} = \\beta \\implies \\hat{\\beta} - \\beta = 0$$"
   ]
  },
  {
   "cell_type": "markdown",
   "id": "burning-republican",
   "metadata": {},
   "source": [
    "$$H_a: \\hat{\\alpha} \\neq \\alpha \\implies \\hat{\\alpha} - \\alpha \\neq 0 \\quad \\text{ og } \\quad H_a: \\hat{\\beta} \\neq \\beta \\implies \\hat{\\beta} - \\beta \\neq 0$$"
   ]
  },
  {
   "cell_type": "code",
   "execution_count": 30,
   "id": "medical-marks",
   "metadata": {},
   "outputs": [],
   "source": [
    "paramEstimates = list()\n",
    "for (p in 1:nrow(Sampled_Data)){\n",
    "    sample <- Sampler(nrow(Sampled_Data), alpha, beta)\n",
    "    sample <- sample %>% mutate(age_truncated = floor(age/10)*10)\n",
    "    paramEstimates[[p]] = coef(glm(dead ~ age_truncated, family = \"binomial\", data = sample))\n",
    "}\n",
    "paramEstimates <- reduce(paramEstimates, rbind)"
   ]
  },
  {
   "cell_type": "code",
   "execution_count": 31,
   "id": "nonprofit-knitting",
   "metadata": {},
   "outputs": [
    {
     "data": {
      "text/html": [
       "<table>\n",
       "<thead><tr><th></th><th scope=col>(Intercept)</th><th scope=col>age_truncated</th></tr></thead>\n",
       "<tbody>\n",
       "\t<tr><th scope=row>out</th><td> -8.946295</td><td>0.10531630</td></tr>\n",
       "\t<tr><th scope=row>elt</th><td>-10.926466</td><td>0.13607589</td></tr>\n",
       "\t<tr><th scope=row>elt</th><td> -8.167106</td><td>0.09465996</td></tr>\n",
       "\t<tr><th scope=row>elt</th><td> -7.702689</td><td>0.08906540</td></tr>\n",
       "\t<tr><th scope=row>elt</th><td> -8.009464</td><td>0.09460209</td></tr>\n",
       "\t<tr><th scope=row>elt</th><td>-10.009682</td><td>0.12238268</td></tr>\n",
       "</tbody>\n",
       "</table>\n"
      ],
      "text/latex": [
       "\\begin{tabular}{r|ll}\n",
       "  & (Intercept) & age\\_truncated\\\\\n",
       "\\hline\n",
       "\tout &  -8.946295 & 0.10531630\\\\\n",
       "\telt & -10.926466 & 0.13607589\\\\\n",
       "\telt &  -8.167106 & 0.09465996\\\\\n",
       "\telt &  -7.702689 & 0.08906540\\\\\n",
       "\telt &  -8.009464 & 0.09460209\\\\\n",
       "\telt & -10.009682 & 0.12238268\\\\\n",
       "\\end{tabular}\n"
      ],
      "text/markdown": [
       "\n",
       "| <!--/--> | (Intercept) | age_truncated |\n",
       "|---|---|---|\n",
       "| out |  -8.946295 | 0.10531630 |\n",
       "| elt | -10.926466 | 0.13607589 |\n",
       "| elt |  -8.167106 | 0.09465996 |\n",
       "| elt |  -7.702689 | 0.08906540 |\n",
       "| elt |  -8.009464 | 0.09460209 |\n",
       "| elt | -10.009682 | 0.12238268 |\n",
       "\n"
      ],
      "text/plain": [
       "    (Intercept) age_truncated\n",
       "out  -8.946295  0.10531630   \n",
       "elt -10.926466  0.13607589   \n",
       "elt  -8.167106  0.09465996   \n",
       "elt  -7.702689  0.08906540   \n",
       "elt  -8.009464  0.09460209   \n",
       "elt -10.009682  0.12238268   "
      ]
     },
     "metadata": {},
     "output_type": "display_data"
    }
   ],
   "source": [
    "head(paramEstimates)"
   ]
  },
  {
   "cell_type": "code",
   "execution_count": 32,
   "id": "intense-involvement",
   "metadata": {},
   "outputs": [],
   "source": [
    "estimate_alpha <- paramEstimates[,1] - alpha\n",
    "estimate_beta <- paramEstimates[,2] - beta"
   ]
  },
  {
   "cell_type": "code",
   "execution_count": 33,
   "id": "smart-shelf",
   "metadata": {},
   "outputs": [
    {
     "data": {
      "image/png": "[encoded data removed]",
      "text/plain": [
       "plot without title"
      ]
     },
     "metadata": {},
     "output_type": "display_data"
    }
   ],
   "source": [
    "plot(estimate_alpha, estimate_beta)"
   ]
  },
  {
   "cell_type": "markdown",
   "id": "great-republican",
   "metadata": {},
   "source": [
    "Plottet fortæller os, at der er en høj korrelation. Det vil sige, hvis vi gætter for højt i vores intercept led, altså $\\hat{\\alpha} > \\alpha$ vil vores hældningkoefficent beta ligeledes være tilsvarende for lavt $\\hat{\\beta} < \\beta$."
   ]
  },
  {
   "cell_type": "code",
   "execution_count": 34,
   "id": "relevant-console",
   "metadata": {},
   "outputs": [
    {
     "data": {
      "image/png": "[encoded data removed]",
      "text/plain": [
       "Plot with title \"Histogram of estimate_alpha\""
      ]
     },
     "metadata": {},
     "output_type": "display_data"
    }
   ],
   "source": [
    "hist(estimate_alpha, breaks = 50)"
   ]
  },
  {
   "cell_type": "code",
   "execution_count": 35,
   "id": "continent-blood",
   "metadata": {},
   "outputs": [
    {
     "data": {
      "text/html": [
       "<dl class=dl-horizontal>\n",
       "\t<dt>2.5%</dt>\n",
       "\t\t<dd>-1.18576641002134</dd>\n",
       "\t<dt>97.5%</dt>\n",
       "\t\t<dd>2.12974234306109</dd>\n",
       "</dl>\n"
      ],
      "text/latex": [
       "\\begin{description*}\n",
       "\\item[2.5\\textbackslash{}\\%] -1.18576641002134\n",
       "\\item[97.5\\textbackslash{}\\%] 2.12974234306109\n",
       "\\end{description*}\n"
      ],
      "text/markdown": [
       "2.5%\n",
       ":   -1.1857664100213497.5%\n",
       ":   2.12974234306109\n",
       "\n"
      ],
      "text/plain": [
       "     2.5%     97.5% \n",
       "-1.185766  2.129742 "
      ]
     },
     "metadata": {},
     "output_type": "display_data"
    }
   ],
   "source": [
    "quantile(estimate_alpha, c(0.025, 0.975))"
   ]
  },
  {
   "cell_type": "markdown",
   "id": "parallel-services",
   "metadata": {},
   "source": [
    "Da nul (0) indgår i intervallet, kan vi ikke forkaste $H_0$ og dermed accepteres den og, vi kan altså antage på baggrund af denne test, at der ikke er en signifikant forskel på det trunkerede data's parameter estimater og de sande værdier."
   ]
  },
  {
   "cell_type": "code",
   "execution_count": 36,
   "id": "willing-spencer",
   "metadata": {},
   "outputs": [
    {
     "data": {
      "image/png": "[encoded data removed]",
      "text/plain": [
       "Plot with title \"Histogram of estimate_beta\""
      ]
     },
     "metadata": {},
     "output_type": "display_data"
    }
   ],
   "source": [
    "hist(estimate_beta, breaks = 50)"
   ]
  },
  {
   "cell_type": "code",
   "execution_count": 37,
   "id": "integral-benchmark",
   "metadata": {},
   "outputs": [
    {
     "data": {
      "text/html": [
       "<dl class=dl-horizontal>\n",
       "\t<dt>2.5%</dt>\n",
       "\t\t<dd>-0.0246956502658409</dd>\n",
       "\t<dt>97.5%</dt>\n",
       "\t\t<dd>0.0229807104340108</dd>\n",
       "</dl>\n"
      ],
      "text/latex": [
       "\\begin{description*}\n",
       "\\item[2.5\\textbackslash{}\\%] -0.0246956502658409\n",
       "\\item[97.5\\textbackslash{}\\%] 0.0229807104340108\n",
       "\\end{description*}\n"
      ],
      "text/markdown": [
       "2.5%\n",
       ":   -0.024695650265840997.5%\n",
       ":   0.0229807104340108\n",
       "\n"
      ],
      "text/plain": [
       "       2.5%       97.5% \n",
       "-0.02469565  0.02298071 "
      ]
     },
     "metadata": {},
     "output_type": "display_data"
    }
   ],
   "source": [
    "quantile(estimate_beta, c(0.025, 0.975))"
   ]
  },
  {
   "cell_type": "markdown",
   "id": "guilty-actor",
   "metadata": {},
   "source": [
    "Konklusionen er ligeledes den samme for beta og $H_0$, kan altså dermed IKKE forkastes."
   ]
  },
  {
   "cell_type": "markdown",
   "id": "dutch-thumb",
   "metadata": {},
   "source": [
    "#### Den uafhængige sandsynlighed for at dø af corona givet man er smittet (i Danmark)."
   ]
  },
  {
   "cell_type": "code",
   "execution_count": 38,
   "id": "banner-learning",
   "metadata": {},
   "outputs": [],
   "source": [
    "percent <- function(x, digits = 2, format = \"f\", ...) {     \n",
    "  paste0(formatC(x * 100, format = format, digits = digits, ...), \"%\")\n",
    "}"
   ]
  },
  {
   "cell_type": "code",
   "execution_count": 39,
   "id": "oriental-bundle",
   "metadata": {},
   "outputs": [
    {
     "data": {
      "text/html": [
       "0.0501070970023909"
      ],
      "text/latex": [
       "0.0501070970023909"
      ],
      "text/markdown": [
       "0.0501070970023909"
      ],
      "text/plain": [
       "[1] 0.0501071"
      ]
     },
     "metadata": {},
     "output_type": "display_data"
    },
    {
     "data": {
      "text/html": [
       "'5.01%'"
      ],
      "text/latex": [
       "'5.01\\%'"
      ],
      "text/markdown": [
       "'5.01%'"
      ],
      "text/plain": [
       "[1] \"5.01%\""
      ]
     },
     "metadata": {},
     "output_type": "display_data"
    }
   ],
   "source": [
    "`P(Age)` = DKpop$P\n",
    "`P(Dead|Age)` = ilogit(alpha + beta*DKpop$age)\n",
    "(`P(Dead)` = sum(`P(Dead|Age)`*`P(Age)`))\n",
    "percent(`P(Dead)`)"
   ]
  },
  {
   "cell_type": "code",
   "execution_count": 40,
   "id": "patient-labor",
   "metadata": {
    "scrolled": false
   },
   "outputs": [],
   "source": [
    "#anova(model, glm.main, test=\"Chisq\")"
   ]
  },
  {
   "cell_type": "code",
   "execution_count": 41,
   "id": "scientific-attachment",
   "metadata": {
    "scrolled": true
   },
   "outputs": [],
   "source": [
    "#anova(model, glm.truncated, test=\"Chisq\")"
   ]
  },
  {
   "cell_type": "code",
   "execution_count": 42,
   "id": "derived-segment",
   "metadata": {
    "scrolled": true
   },
   "outputs": [],
   "source": [
    "#anova(glm.main, glm.truncated, test=\"Chisq\")"
   ]
  },
  {
   "cell_type": "markdown",
   "id": "defined-mortgage",
   "metadata": {},
   "source": [
    "# Assess the performance of the model (Dette fandt vi ikke nødvendigt alligevel)"
   ]
  },
  {
   "cell_type": "markdown",
   "id": "increased-expert",
   "metadata": {},
   "source": [
    "https://www.guru99.com/r-generalized-linear-model.html\n",
    "\n",
    "The confusion matrix is a better choice to evaluate the classification performance compared with other metrics. The general idea is to count the number of times True instances are classified are False."
   ]
  },
  {
   "cell_type": "code",
   "execution_count": 43,
   "id": "soviet-annual",
   "metadata": {},
   "outputs": [
    {
     "data": {
      "text/plain": [
       "       \n",
       "        FALSE TRUE\n",
       "  FALSE   953    2\n",
       "  TRUE     42    3"
      ]
     },
     "metadata": {},
     "output_type": "display_data"
    }
   ],
   "source": [
    "predict <- predict(glm.main, Sampled_Data, type = 'response') # Beregn forudsigelserne for response sandsynligheden.\n",
    "# confusion matrix\n",
    "table_mat <- table(Sampled_Data$dead, predict > 0.5) # Hvis forudsigelserne er større end 0.5 returner 1 ellers 0.\n",
    "table_mat # Søjlerne er selve forudsigelsen, hvor rækkerne er, hvad forudsigelsen burde værre."
   ]
  },
  {
   "cell_type": "markdown",
   "id": "continuous-wichita",
   "metadata": {},
   "source": [
    "Calculating the model accuracy by summing the true positive + true negative over the total observation"
   ]
  },
  {
   "cell_type": "code",
   "execution_count": 44,
   "id": "chinese-elite",
   "metadata": {},
   "outputs": [
    {
     "data": {
      "text/html": [
       "0.956"
      ],
      "text/latex": [
       "0.956"
      ],
      "text/markdown": [
       "0.956"
      ],
      "text/plain": [
       "[1] 0.956"
      ]
     },
     "metadata": {},
     "output_type": "display_data"
    }
   ],
   "source": [
    "accuracy_Test <- sum(diag(table_mat)) / sum(table_mat)\n",
    "accuracy_Test"
   ]
  },
  {
   "cell_type": "markdown",
   "id": "productive-stroke",
   "metadata": {},
   "source": [
    "Repeating same procedure for the other model."
   ]
  },
  {
   "cell_type": "code",
   "execution_count": 45,
   "id": "optical-cooling",
   "metadata": {},
   "outputs": [
    {
     "data": {
      "text/plain": [
       "       \n",
       "        FALSE TRUE\n",
       "  FALSE   953    2\n",
       "  TRUE     42    3"
      ]
     },
     "metadata": {},
     "output_type": "display_data"
    }
   ],
   "source": [
    "predict.trunc <- predict(glm.truncated, Sampled_Data, type = 'response') # Beregn forudsigelserne for response sandsynligheden.\n",
    "# confusion matrix\n",
    "table_mat.trunc <- table(Sampled_Data$dead, predict.trunc > 0.5) # Hvis forudsigelserne er større end 0.5 returner 1 ellers 0.\n",
    "table_mat.trunc # Søjlerne er selve forudsigelsen, hvor rækkerne er, hvad forudsigelsen burde værre."
   ]
  },
  {
   "cell_type": "code",
   "execution_count": 46,
   "id": "insured-daughter",
   "metadata": {},
   "outputs": [
    {
     "data": {
      "text/html": [
       "0.956"
      ],
      "text/latex": [
       "0.956"
      ],
      "text/markdown": [
       "0.956"
      ],
      "text/plain": [
       "[1] 0.956"
      ]
     },
     "metadata": {},
     "output_type": "display_data"
    }
   ],
   "source": [
    "accuracy_Test.trunc <- sum(diag(table_mat.trunc)) / sum(table_mat.trunc)\n",
    "accuracy_Test.trunc"
   ]
  },
  {
   "cell_type": "markdown",
   "id": "hollywood-payment",
   "metadata": {},
   "source": [
    "#### Beregning af forklaringsgraden $R^2$"
   ]
  },
  {
   "cell_type": "markdown",
   "id": "supreme-myanmar",
   "metadata": {},
   "source": [
    "https://stats.stackexchange.com/questions/46345/how-to-calculate-goodness-of-fit-in-glm-r/46358"
   ]
  },
  {
   "cell_type": "code",
   "execution_count": 47,
   "id": "apparent-supply",
   "metadata": {},
   "outputs": [
    {
     "data": {
      "text/html": [
       "0.329629626922091"
      ],
      "text/latex": [
       "0.329629626922091"
      ],
      "text/markdown": [
       "0.329629626922091"
      ],
      "text/plain": [
       "[1] 0.3296296"
      ]
     },
     "metadata": {},
     "output_type": "display_data"
    }
   ],
   "source": [
    "with(summary(glm.main), 1 - deviance/null.deviance)"
   ]
  },
  {
   "cell_type": "code",
   "execution_count": 48,
   "id": "binary-battery",
   "metadata": {},
   "outputs": [
    {
     "data": {
      "text/html": [
       "0.305386750242811"
      ],
      "text/latex": [
       "0.305386750242811"
      ],
      "text/markdown": [
       "0.305386750242811"
      ],
      "text/plain": [
       "[1] 0.3053868"
      ]
     },
     "metadata": {},
     "output_type": "display_data"
    }
   ],
   "source": [
    "with(summary(glm.truncated), 1 - deviance/null.deviance)"
   ]
  },
  {
   "cell_type": "markdown",
   "id": "compliant-seven",
   "metadata": {},
   "source": [
    "#### Hosmer-Lemeshow Goodness of Fit"
   ]
  },
  {
   "cell_type": "markdown",
   "id": "verified-mounting",
   "metadata": {},
   "source": [
    "https://www.theanalysisfactor.com/r-glm-model-fit/\n",
    "\n",
    "How well our model fits depends on the difference between the model and the observed data.  One approach for binary data is to implement a Hosmer Lemeshow goodness of fit test."
   ]
  },
  {
   "cell_type": "code",
   "execution_count": 49,
   "id": "isolated-stability",
   "metadata": {},
   "outputs": [
    {
     "data": {
      "text/plain": [
       "\n",
       "\tHosmer and Lemeshow goodness of fit (GOF) test\n",
       "\n",
       "data:  Sampled_Data$dead, fitted(glm.main)\n",
       "X-squared = 3.1458, df = 8, p-value = 0.9249\n"
      ]
     },
     "metadata": {},
     "output_type": "display_data"
    }
   ],
   "source": [
    "(hl.main <- hoslem.test(Sampled_Data$dead, fitted(glm.main)))"
   ]
  },
  {
   "cell_type": "code",
   "execution_count": 50,
   "id": "considered-toddler",
   "metadata": {
    "scrolled": true
   },
   "outputs": [
    {
     "data": {
      "text/plain": [
       "\n",
       "\tHosmer and Lemeshow goodness of fit (GOF) test\n",
       "\n",
       "data:  Sampled_Data$dead, fitted(glm.truncated)\n",
       "X-squared = 6.4183, df = 8, p-value = 0.6005\n"
      ]
     },
     "metadata": {},
     "output_type": "display_data"
    }
   ],
   "source": [
    "(hl.truncated <- hoslem.test(Sampled_Data$dead, fitted(glm.truncated)))"
   ]
  },
  {
   "cell_type": "code",
   "execution_count": 51,
   "id": "growing-modification",
   "metadata": {},
   "outputs": [
    {
     "data": {
      "text/html": [
       "<table>\n",
       "<thead><tr><th></th><th scope=col>yhat0</th><th scope=col>yhat1</th><th scope=col>y0</th><th scope=col>y1</th></tr></thead>\n",
       "<tbody>\n",
       "\t<tr><th scope=row>[4.23e-05,0.000128]</th><td>99.99239    </td><td> 0.007606907</td><td>100         </td><td> 0          </td></tr>\n",
       "\t<tr><th scope=row>(0.000128,0.000365]</th><td>99.97747    </td><td> 0.022534239</td><td>100         </td><td> 0          </td></tr>\n",
       "\t<tr><th scope=row>(0.000365,0.000845]</th><td>99.94086    </td><td> 0.059137855</td><td>100         </td><td> 0          </td></tr>\n",
       "\t<tr><th scope=row>(0.000845,0.00213]</th><td>99.86086    </td><td> 0.139142541</td><td>100         </td><td> 0          </td></tr>\n",
       "\t<tr><th scope=row>(0.00213,0.00581]</th><td>99.63025    </td><td> 0.369752838</td><td>100         </td><td> 0          </td></tr>\n",
       "\t<tr><th scope=row>(0.00581,0.0131]</th><td>99.10489    </td><td> 0.895113718</td><td> 98         </td><td> 2          </td></tr>\n",
       "\t<tr><th scope=row>(0.0131,0.0291]</th><td>97.91655    </td><td> 2.083449470</td><td> 99         </td><td> 1          </td></tr>\n",
       "\t<tr><th scope=row>(0.0291,0.0605]</th><td>95.64137    </td><td> 4.358627333</td><td> 95         </td><td> 5          </td></tr>\n",
       "\t<tr><th scope=row>(0.0605,0.134]</th><td>90.69662    </td><td> 9.303380769</td><td> 89         </td><td>11          </td></tr>\n",
       "\t<tr><th scope=row>(0.134,0.736]</th><td>72.23875    </td><td>27.761254330</td><td> 74         </td><td>26          </td></tr>\n",
       "</tbody>\n",
       "</table>\n"
      ],
      "text/latex": [
       "\\begin{tabular}{r|llll}\n",
       "  & yhat0 & yhat1 & y0 & y1\\\\\n",
       "\\hline\n",
       "\t{[}4.23e-05,0.000128{]} & 99.99239     &  0.007606907 & 100          &  0          \\\\\n",
       "\t(0.000128,0.000365{]} & 99.97747     &  0.022534239 & 100          &  0          \\\\\n",
       "\t(0.000365,0.000845{]} & 99.94086     &  0.059137855 & 100          &  0          \\\\\n",
       "\t(0.000845,0.00213{]} & 99.86086     &  0.139142541 & 100          &  0          \\\\\n",
       "\t(0.00213,0.00581{]} & 99.63025     &  0.369752838 & 100          &  0          \\\\\n",
       "\t(0.00581,0.0131{]} & 99.10489     &  0.895113718 &  98          &  2          \\\\\n",
       "\t(0.0131,0.0291{]} & 97.91655     &  2.083449470 &  99          &  1          \\\\\n",
       "\t(0.0291,0.0605{]} & 95.64137     &  4.358627333 &  95          &  5          \\\\\n",
       "\t(0.0605,0.134{]} & 90.69662     &  9.303380769 &  89          & 11          \\\\\n",
       "\t(0.134,0.736{]} & 72.23875     & 27.761254330 &  74          & 26          \\\\\n",
       "\\end{tabular}\n"
      ],
      "text/markdown": [
       "\n",
       "| <!--/--> | yhat0 | yhat1 | y0 | y1 |\n",
       "|---|---|---|---|---|\n",
       "| [4.23e-05,0.000128] | 99.99239     |  0.007606907 | 100          |  0           |\n",
       "| (0.000128,0.000365] | 99.97747     |  0.022534239 | 100          |  0           |\n",
       "| (0.000365,0.000845] | 99.94086     |  0.059137855 | 100          |  0           |\n",
       "| (0.000845,0.00213] | 99.86086     |  0.139142541 | 100          |  0           |\n",
       "| (0.00213,0.00581] | 99.63025     |  0.369752838 | 100          |  0           |\n",
       "| (0.00581,0.0131] | 99.10489     |  0.895113718 |  98          |  2           |\n",
       "| (0.0131,0.0291] | 97.91655     |  2.083449470 |  99          |  1           |\n",
       "| (0.0291,0.0605] | 95.64137     |  4.358627333 |  95          |  5           |\n",
       "| (0.0605,0.134] | 90.69662     |  9.303380769 |  89          | 11           |\n",
       "| (0.134,0.736] | 72.23875     | 27.761254330 |  74          | 26           |\n",
       "\n"
      ],
      "text/plain": [
       "                    yhat0    yhat1        y0  y1\n",
       "[4.23e-05,0.000128] 99.99239  0.007606907 100  0\n",
       "(0.000128,0.000365] 99.97747  0.022534239 100  0\n",
       "(0.000365,0.000845] 99.94086  0.059137855 100  0\n",
       "(0.000845,0.00213]  99.86086  0.139142541 100  0\n",
       "(0.00213,0.00581]   99.63025  0.369752838 100  0\n",
       "(0.00581,0.0131]    99.10489  0.895113718  98  2\n",
       "(0.0131,0.0291]     97.91655  2.083449470  99  1\n",
       "(0.0291,0.0605]     95.64137  4.358627333  95  5\n",
       "(0.0605,0.134]      90.69662  9.303380769  89 11\n",
       "(0.134,0.736]       72.23875 27.761254330  74 26"
      ]
     },
     "metadata": {},
     "output_type": "display_data"
    }
   ],
   "source": [
    "cbind(hl.main$expected, hl.main$observed)"
   ]
  },
  {
   "cell_type": "code",
   "execution_count": 52,
   "id": "noble-wrist",
   "metadata": {},
   "outputs": [
    {
     "data": {
      "text/html": [
       "<table>\n",
       "<thead><tr><th></th><th scope=col>yhat0</th><th scope=col>yhat1</th><th scope=col>y0</th><th scope=col>y1</th></tr></thead>\n",
       "<tbody>\n",
       "\t<tr><th scope=row>[0.000135,0.000381]</th><td>212.94413 </td><td> 0.0558707</td><td>213       </td><td> 0        </td></tr>\n",
       "\t<tr><th scope=row>(0.000381,0.00108]</th><td>127.86229 </td><td> 0.1377122</td><td>128       </td><td> 0        </td></tr>\n",
       "\t<tr><th scope=row>(0.00108,0.00303]</th><td>115.64838 </td><td> 0.3516202</td><td>116       </td><td> 0        </td></tr>\n",
       "\t<tr><th scope=row>(0.00303,0.00851]</th><td>130.87669 </td><td> 1.1233135</td><td>130       </td><td> 2        </td></tr>\n",
       "\t<tr><th scope=row>(0.00851,0.0237]</th><td>134.73544 </td><td> 3.2645623</td><td>136       </td><td> 2        </td></tr>\n",
       "\t<tr><th scope=row>(0.0237,0.064]</th><td>128.22929 </td><td> 8.7707111</td><td>124       </td><td>13        </td></tr>\n",
       "\t<tr><th scope=row>(0.064,0.162]</th><td> 78.78724 </td><td>15.2127567</td><td> 84       </td><td>10        </td></tr>\n",
       "\t<tr><th scope=row>(0.162,0.606]</th><td> 25.91655 </td><td>16.0834534</td><td> 24       </td><td>18        </td></tr>\n",
       "</tbody>\n",
       "</table>\n"
      ],
      "text/latex": [
       "\\begin{tabular}{r|llll}\n",
       "  & yhat0 & yhat1 & y0 & y1\\\\\n",
       "\\hline\n",
       "\t{[}0.000135,0.000381{]} & 212.94413  &  0.0558707 & 213        &  0        \\\\\n",
       "\t(0.000381,0.00108{]} & 127.86229  &  0.1377122 & 128        &  0        \\\\\n",
       "\t(0.00108,0.00303{]} & 115.64838  &  0.3516202 & 116        &  0        \\\\\n",
       "\t(0.00303,0.00851{]} & 130.87669  &  1.1233135 & 130        &  2        \\\\\n",
       "\t(0.00851,0.0237{]} & 134.73544  &  3.2645623 & 136        &  2        \\\\\n",
       "\t(0.0237,0.064{]} & 128.22929  &  8.7707111 & 124        & 13        \\\\\n",
       "\t(0.064,0.162{]} &  78.78724  & 15.2127567 &  84        & 10        \\\\\n",
       "\t(0.162,0.606{]} &  25.91655  & 16.0834534 &  24        & 18        \\\\\n",
       "\\end{tabular}\n"
      ],
      "text/markdown": [
       "\n",
       "| <!--/--> | yhat0 | yhat1 | y0 | y1 |\n",
       "|---|---|---|---|---|\n",
       "| [0.000135,0.000381] | 212.94413  |  0.0558707 | 213        |  0         |\n",
       "| (0.000381,0.00108] | 127.86229  |  0.1377122 | 128        |  0         |\n",
       "| (0.00108,0.00303] | 115.64838  |  0.3516202 | 116        |  0         |\n",
       "| (0.00303,0.00851] | 130.87669  |  1.1233135 | 130        |  2         |\n",
       "| (0.00851,0.0237] | 134.73544  |  3.2645623 | 136        |  2         |\n",
       "| (0.0237,0.064] | 128.22929  |  8.7707111 | 124        | 13         |\n",
       "| (0.064,0.162] |  78.78724  | 15.2127567 |  84        | 10         |\n",
       "| (0.162,0.606] |  25.91655  | 16.0834534 |  24        | 18         |\n",
       "\n"
      ],
      "text/plain": [
       "                    yhat0     yhat1      y0  y1\n",
       "[0.000135,0.000381] 212.94413  0.0558707 213  0\n",
       "(0.000381,0.00108]  127.86229  0.1377122 128  0\n",
       "(0.00108,0.00303]   115.64838  0.3516202 116  0\n",
       "(0.00303,0.00851]   130.87669  1.1233135 130  2\n",
       "(0.00851,0.0237]    134.73544  3.2645623 136  2\n",
       "(0.0237,0.064]      128.22929  8.7707111 124 13\n",
       "(0.064,0.162]        78.78724 15.2127567  84 10\n",
       "(0.162,0.606]        25.91655 16.0834534  24 18"
      ]
     },
     "metadata": {},
     "output_type": "display_data"
    }
   ],
   "source": [
    "cbind(hl.truncated$expected, hl.truncated$observed)"
   ]
  },
  {
   "cell_type": "markdown",
   "id": "athletic-tsunami",
   "metadata": {},
   "source": [
    "Our models appears to fit well because we have no significant difference between the models and the observed data (i.e. the p-value is above 0.05).\n",
    "\n",
    "As with all measures of model fit, we’ll use this as just one piece of information in deciding how well this model fits.  It doesn’t work well in very large or very small data sets, but is often useful nonetheless."
   ]
  },
  {
   "cell_type": "markdown",
   "id": "closing-frost",
   "metadata": {},
   "source": [
    "# Har alder og/eller køn en betydning for dødeligheden?"
   ]
  },
  {
   "cell_type": "code",
   "execution_count": 53,
   "id": "entitled-claim",
   "metadata": {},
   "outputs": [],
   "source": [
    "temp_df <- df %>% \n",
    "  filter(age != \"Alle\")\n",
    "unfolded_data = pmap_dfr(temp_df, \n",
    "                      function(interval, tot_deaths, infected, infected_male,infected_fem, male_deaths, female_deaths,...) {\n",
    "                           data.frame(age_group = interval,\n",
    "                                      dead = c(rep(1, tot_deaths), rep(0, infected - tot_deaths)),\n",
    "                                      gender = c(rep(\"Male\", male_deaths),\n",
    "                                                rep(\"Female\", female_deaths),\n",
    "                                                rep(\"Male\",infected_male-male_deaths),\n",
    "                                                rep(\"Female\",infected_fem-female_deaths)))\n",
    "                                     \n",
    "                      }\n",
    ")"
   ]
  },
  {
   "cell_type": "code",
   "execution_count": 54,
   "id": "suffering-devon",
   "metadata": {},
   "outputs": [
    {
     "data": {
      "text/html": [
       "221842"
      ],
      "text/latex": [
       "221842"
      ],
      "text/markdown": [
       "221842"
      ],
      "text/plain": [
       "[1] 221842"
      ]
     },
     "metadata": {},
     "output_type": "display_data"
    }
   ],
   "source": [
    "nrow(unfolded_data)"
   ]
  },
  {
   "cell_type": "code",
   "execution_count": 55,
   "id": "grand-election",
   "metadata": {},
   "outputs": [
    {
     "name": "stdout",
     "output_type": "stream",
     "text": [
      "'data.frame':\t221842 obs. of  3 variables:\n",
      " $ age_group: num  1 1 1 1 1 1 1 1 1 1 ...\n",
      " $ dead     : num  1 0 0 0 0 0 0 0 0 0 ...\n",
      " $ gender   : Factor w/ 2 levels \"Female\",\"Male\": 2 2 2 2 2 2 2 2 2 2 ...\n"
     ]
    }
   ],
   "source": [
    "str(unfolded_data)"
   ]
  },
  {
   "cell_type": "code",
   "execution_count": 56,
   "id": "indian-invitation",
   "metadata": {},
   "outputs": [],
   "source": [
    "unfolded_data$age_group <- as.factor(unfolded_data$age_group)\n",
    "unfolded_data$dead <- as.factor(unfolded_data$dead)"
   ]
  },
  {
   "cell_type": "code",
   "execution_count": 57,
   "id": "overhead-corps",
   "metadata": {},
   "outputs": [
    {
     "name": "stdout",
     "output_type": "stream",
     "text": [
      "'data.frame':\t221842 obs. of  3 variables:\n",
      " $ age_group: Factor w/ 10 levels \"1\",\"2\",\"3\",\"4\",..: 1 1 1 1 1 1 1 1 1 1 ...\n",
      " $ dead     : Factor w/ 2 levels \"0\",\"1\": 2 1 1 1 1 1 1 1 1 1 ...\n",
      " $ gender   : Factor w/ 2 levels \"Female\",\"Male\": 2 2 2 2 2 2 2 2 2 2 ...\n"
     ]
    }
   ],
   "source": [
    "str(unfolded_data)"
   ]
  },
  {
   "cell_type": "code",
   "execution_count": 58,
   "id": "adverse-robertson",
   "metadata": {
    "scrolled": true
   },
   "outputs": [
    {
     "data": {
      "text/html": [
       "<table>\n",
       "<thead><tr><th scope=col>age_group</th><th scope=col>dead</th><th scope=col>gender</th></tr></thead>\n",
       "<tbody>\n",
       "\t<tr><td>1   </td><td>1   </td><td>Male</td></tr>\n",
       "\t<tr><td>1   </td><td>0   </td><td>Male</td></tr>\n",
       "\t<tr><td>1   </td><td>0   </td><td>Male</td></tr>\n",
       "\t<tr><td>1   </td><td>0   </td><td>Male</td></tr>\n",
       "\t<tr><td>1   </td><td>0   </td><td>Male</td></tr>\n",
       "\t<tr><td>1   </td><td>0   </td><td>Male</td></tr>\n",
       "</tbody>\n",
       "</table>\n"
      ],
      "text/latex": [
       "\\begin{tabular}{r|lll}\n",
       " age\\_group & dead & gender\\\\\n",
       "\\hline\n",
       "\t 1    & 1    & Male\\\\\n",
       "\t 1    & 0    & Male\\\\\n",
       "\t 1    & 0    & Male\\\\\n",
       "\t 1    & 0    & Male\\\\\n",
       "\t 1    & 0    & Male\\\\\n",
       "\t 1    & 0    & Male\\\\\n",
       "\\end{tabular}\n"
      ],
      "text/markdown": [
       "\n",
       "| age_group | dead | gender |\n",
       "|---|---|---|\n",
       "| 1    | 1    | Male |\n",
       "| 1    | 0    | Male |\n",
       "| 1    | 0    | Male |\n",
       "| 1    | 0    | Male |\n",
       "| 1    | 0    | Male |\n",
       "| 1    | 0    | Male |\n",
       "\n"
      ],
      "text/plain": [
       "  age_group dead gender\n",
       "1 1         1    Male  \n",
       "2 1         0    Male  \n",
       "3 1         0    Male  \n",
       "4 1         0    Male  \n",
       "5 1         0    Male  \n",
       "6 1         0    Male  "
      ]
     },
     "metadata": {},
     "output_type": "display_data"
    }
   ],
   "source": [
    "head(unfolded_data)"
   ]
  },
  {
   "cell_type": "markdown",
   "id": "crucial-count",
   "metadata": {},
   "source": [
    "# Hypotesetest"
   ]
  },
  {
   "cell_type": "markdown",
   "id": "looking-germany",
   "metadata": {},
   "source": [
    "#### Chi i anden test $\\chi^2$-test"
   ]
  },
  {
   "cell_type": "markdown",
   "id": "productive-bahamas",
   "metadata": {},
   "source": [
    "$$H_0: \\text{Køn er uafhængig af dødeligheden}$$"
   ]
  },
  {
   "cell_type": "markdown",
   "id": "alpine-salon",
   "metadata": {},
   "source": [
    "$$H_a: \\text{Køn er afhængig af dødeligheden}$$"
   ]
  },
  {
   "cell_type": "code",
   "execution_count": 59,
   "id": "german-liabilities",
   "metadata": {},
   "outputs": [
    {
     "data": {
      "text/html": [
       "<table>\n",
       "<thead><tr><th scope=col>gender</th><th scope=col>not_dead</th><th scope=col>dead</th></tr></thead>\n",
       "<tbody>\n",
       "\t<tr><td>Female</td><td>112212</td><td>1096  </td></tr>\n",
       "\t<tr><td>Male  </td><td>107235</td><td>1299  </td></tr>\n",
       "</tbody>\n",
       "</table>\n"
      ],
      "text/latex": [
       "\\begin{tabular}{r|lll}\n",
       " gender & not\\_dead & dead\\\\\n",
       "\\hline\n",
       "\t Female & 112212 & 1096  \\\\\n",
       "\t Male   & 107235 & 1299  \\\\\n",
       "\\end{tabular}\n"
      ],
      "text/markdown": [
       "\n",
       "| gender | not_dead | dead |\n",
       "|---|---|---|\n",
       "| Female | 112212 | 1096   |\n",
       "| Male   | 107235 | 1299   |\n",
       "\n"
      ],
      "text/plain": [
       "  gender not_dead dead\n",
       "1 Female 112212   1096\n",
       "2 Male   107235   1299"
      ]
     },
     "metadata": {},
     "output_type": "display_data"
    },
    {
     "data": {
      "text/plain": [
       "\n",
       "\tPearson's Chi-squared test with Yates' continuity correction\n",
       "\n",
       "data:  groupby_gender %>% select(-gender)\n",
       "X-squared = 27.146, df = 1, p-value = 1.887e-07\n"
      ]
     },
     "metadata": {},
     "output_type": "display_data"
    }
   ],
   "source": [
    "num_female <- subset(unfolded_data, gender == \"Female\")\n",
    "num_male <- subset(unfolded_data, gender == \"Male\")\n",
    "\n",
    "groupby_gender <- unfolded_data %>% group_by(gender)\n",
    "groupby_gender <- groupby_gender %>% summarise(\n",
    "    not_dead = length(gender) - sum(as.integer(dead == 1)),\n",
    "    dead = sum(as.integer(dead == 1))\n",
    ")\n",
    "groupby_gender\n",
    "(chi.gender <- chisq.test(groupby_gender %>% select(-gender)))"
   ]
  },
  {
   "cell_type": "code",
   "execution_count": 60,
   "id": "changed-conditions",
   "metadata": {},
   "outputs": [
    {
     "data": {
      "text/html": [
       "<table>\n",
       "<thead><tr><th scope=col>not_dead</th><th scope=col>dead</th></tr></thead>\n",
       "<tbody>\n",
       "\t<tr><td>112084.7</td><td>1223.27 </td></tr>\n",
       "\t<tr><td>107362.3</td><td>1171.73 </td></tr>\n",
       "</tbody>\n",
       "</table>\n"
      ],
      "text/latex": [
       "\\begin{tabular}{ll}\n",
       " not\\_dead & dead\\\\\n",
       "\\hline\n",
       "\t 112084.7 & 1223.27 \\\\\n",
       "\t 107362.3 & 1171.73 \\\\\n",
       "\\end{tabular}\n"
      ],
      "text/markdown": [
       "\n",
       "| not_dead | dead |\n",
       "|---|---|\n",
       "| 112084.7 | 1223.27  |\n",
       "| 107362.3 | 1171.73  |\n",
       "\n"
      ],
      "text/plain": [
       "     not_dead dead   \n",
       "[1,] 112084.7 1223.27\n",
       "[2,] 107362.3 1171.73"
      ]
     },
     "metadata": {},
     "output_type": "display_data"
    }
   ],
   "source": [
    "chi.gender$expected"
   ]
  },
  {
   "cell_type": "markdown",
   "id": "elder-benefit",
   "metadata": {},
   "source": [
    "$$H_0: \\text{Aldersgruppen er uafhængig af dødeligheden}$$"
   ]
  },
  {
   "cell_type": "markdown",
   "id": "competent-channels",
   "metadata": {},
   "source": [
    "$$H_a: \\text{Aldersgruppen er afhængig af dødeligheden}$$"
   ]
  },
  {
   "cell_type": "code",
   "execution_count": 61,
   "id": "attached-locking",
   "metadata": {},
   "outputs": [
    {
     "data": {
      "text/html": [
       "<table>\n",
       "<thead><tr><th scope=col>age_group</th><th scope=col>not_dead</th><th scope=col>dead</th></tr></thead>\n",
       "<tbody>\n",
       "\t<tr><td>1    </td><td>15399</td><td>  1  </td></tr>\n",
       "\t<tr><td>2    </td><td>34025</td><td>  0  </td></tr>\n",
       "\t<tr><td>3    </td><td>41545</td><td>  0  </td></tr>\n",
       "\t<tr><td>4    </td><td>30508</td><td>  6  </td></tr>\n",
       "\t<tr><td>5    </td><td>32475</td><td>  7  </td></tr>\n",
       "\t<tr><td>6    </td><td>31790</td><td> 53  </td></tr>\n",
       "\t<tr><td>7    </td><td>17363</td><td>195  </td></tr>\n",
       "\t<tr><td>8    </td><td>10286</td><td>624  </td></tr>\n",
       "\t<tr><td>9    </td><td> 4796</td><td>964  </td></tr>\n",
       "\t<tr><td>10   </td><td> 1260</td><td>545  </td></tr>\n",
       "</tbody>\n",
       "</table>\n"
      ],
      "text/latex": [
       "\\begin{tabular}{r|lll}\n",
       " age\\_group & not\\_dead & dead\\\\\n",
       "\\hline\n",
       "\t 1     & 15399 &   1  \\\\\n",
       "\t 2     & 34025 &   0  \\\\\n",
       "\t 3     & 41545 &   0  \\\\\n",
       "\t 4     & 30508 &   6  \\\\\n",
       "\t 5     & 32475 &   7  \\\\\n",
       "\t 6     & 31790 &  53  \\\\\n",
       "\t 7     & 17363 & 195  \\\\\n",
       "\t 8     & 10286 & 624  \\\\\n",
       "\t 9     &  4796 & 964  \\\\\n",
       "\t 10    &  1260 & 545  \\\\\n",
       "\\end{tabular}\n"
      ],
      "text/markdown": [
       "\n",
       "| age_group | not_dead | dead |\n",
       "|---|---|---|\n",
       "| 1     | 15399 |   1   |\n",
       "| 2     | 34025 |   0   |\n",
       "| 3     | 41545 |   0   |\n",
       "| 4     | 30508 |   6   |\n",
       "| 5     | 32475 |   7   |\n",
       "| 6     | 31790 |  53   |\n",
       "| 7     | 17363 | 195   |\n",
       "| 8     | 10286 | 624   |\n",
       "| 9     |  4796 | 964   |\n",
       "| 10    |  1260 | 545   |\n",
       "\n"
      ],
      "text/plain": [
       "   age_group not_dead dead\n",
       "1  1         15399      1 \n",
       "2  2         34025      0 \n",
       "3  3         41545      0 \n",
       "4  4         30508      6 \n",
       "5  5         32475      7 \n",
       "6  6         31790     53 \n",
       "7  7         17363    195 \n",
       "8  8         10286    624 \n",
       "9  9          4796    964 \n",
       "10 10         1260    545 "
      ]
     },
     "metadata": {},
     "output_type": "display_data"
    },
    {
     "data": {
      "text/plain": [
       "\n",
       "\tPearson's Chi-squared test\n",
       "\n",
       "data:  groupby_age %>% select(-age_group)\n",
       "X-squared = 31648, df = 9, p-value < 2.2e-16\n"
      ]
     },
     "metadata": {},
     "output_type": "display_data"
    }
   ],
   "source": [
    "groupby_age <- unfolded_data %>% group_by(age_group)\n",
    "groupby_age <- groupby_age %>% summarise(\n",
    "    not_dead = length(as.integer(age_group)) - sum(as.integer(dead == 1)),\n",
    "    dead = sum(as.integer(dead == 1))\n",
    ") \n",
    "groupby_age\n",
    "(chi.age <- chisq.test(groupby_age %>% select(-age_group)))"
   ]
  },
  {
   "cell_type": "code",
   "execution_count": 62,
   "id": "occupational-semester",
   "metadata": {},
   "outputs": [
    {
     "data": {
      "text/html": [
       "<table>\n",
       "<thead><tr><th scope=col>not_dead</th><th scope=col>dead</th></tr></thead>\n",
       "<tbody>\n",
       "\t<tr><td>15233.742</td><td>166.25797</td></tr>\n",
       "\t<tr><td>33657.667</td><td>367.33294</td></tr>\n",
       "\t<tr><td>41096.481</td><td>448.51865</td></tr>\n",
       "\t<tr><td>30184.572</td><td>329.42829</td></tr>\n",
       "\t<tr><td>32131.325</td><td>350.67476</td></tr>\n",
       "\t<tr><td>31499.224</td><td>343.77613</td></tr>\n",
       "\t<tr><td>17368.444</td><td>189.55567</td></tr>\n",
       "\t<tr><td>10792.216</td><td>117.78405</td></tr>\n",
       "\t<tr><td> 5697.815</td><td> 62.18480</td></tr>\n",
       "\t<tr><td> 1785.513</td><td> 19.48673</td></tr>\n",
       "</tbody>\n",
       "</table>\n"
      ],
      "text/latex": [
       "\\begin{tabular}{ll}\n",
       " not\\_dead & dead\\\\\n",
       "\\hline\n",
       "\t 15233.742 & 166.25797\\\\\n",
       "\t 33657.667 & 367.33294\\\\\n",
       "\t 41096.481 & 448.51865\\\\\n",
       "\t 30184.572 & 329.42829\\\\\n",
       "\t 32131.325 & 350.67476\\\\\n",
       "\t 31499.224 & 343.77613\\\\\n",
       "\t 17368.444 & 189.55567\\\\\n",
       "\t 10792.216 & 117.78405\\\\\n",
       "\t  5697.815 &  62.18480\\\\\n",
       "\t  1785.513 &  19.48673\\\\\n",
       "\\end{tabular}\n"
      ],
      "text/markdown": [
       "\n",
       "| not_dead | dead |\n",
       "|---|---|\n",
       "| 15233.742 | 166.25797 |\n",
       "| 33657.667 | 367.33294 |\n",
       "| 41096.481 | 448.51865 |\n",
       "| 30184.572 | 329.42829 |\n",
       "| 32131.325 | 350.67476 |\n",
       "| 31499.224 | 343.77613 |\n",
       "| 17368.444 | 189.55567 |\n",
       "| 10792.216 | 117.78405 |\n",
       "|  5697.815 |  62.18480 |\n",
       "|  1785.513 |  19.48673 |\n",
       "\n"
      ],
      "text/plain": [
       "      not_dead  dead     \n",
       " [1,] 15233.742 166.25797\n",
       " [2,] 33657.667 367.33294\n",
       " [3,] 41096.481 448.51865\n",
       " [4,] 30184.572 329.42829\n",
       " [5,] 32131.325 350.67476\n",
       " [6,] 31499.224 343.77613\n",
       " [7,] 17368.444 189.55567\n",
       " [8,] 10792.216 117.78405\n",
       " [9,]  5697.815  62.18480\n",
       "[10,]  1785.513  19.48673"
      ]
     },
     "metadata": {},
     "output_type": "display_data"
    }
   ],
   "source": [
    "chi.age$expected"
   ]
  },
  {
   "cell_type": "markdown",
   "id": "detailed-diving",
   "metadata": {},
   "source": [
    "### t.test"
   ]
  },
  {
   "cell_type": "markdown",
   "id": "integral-party",
   "metadata": {},
   "source": [
    "$$H_0: \\text{Aldersgruppen er uafhængig af dødeligheden}$$"
   ]
  },
  {
   "cell_type": "markdown",
   "id": "korean-rebecca",
   "metadata": {},
   "source": [
    "$$H_a: \\text{Aldersgruppen er afhængig af dødeligheden}$$"
   ]
  },
  {
   "cell_type": "code",
   "execution_count": 63,
   "id": "unlike-attention",
   "metadata": {
    "scrolled": true
   },
   "outputs": [
    {
     "data": {
      "text/html": [
       "8.71022964509395"
      ],
      "text/latex": [
       "8.71022964509395"
      ],
      "text/markdown": [
       "8.71022964509395"
      ],
      "text/plain": [
       "[1] 8.71023"
      ]
     },
     "metadata": {},
     "output_type": "display_data"
    },
    {
     "data": {
      "text/html": [
       "4.29636313096101"
      ],
      "text/latex": [
       "4.29636313096101"
      ],
      "text/markdown": [
       "4.29636313096101"
      ],
      "text/plain": [
       "[1] 4.296363"
      ]
     },
     "metadata": {},
     "output_type": "display_data"
    }
   ],
   "source": [
    "dead <- subset(unfolded_data, dead == 1)\n",
    "alive <- subset(unfolded_data, dead == 0)\n",
    "mean(as.integer(dead$age_group))\n",
    "mean(as.integer(alive$age_group))"
   ]
  },
  {
   "cell_type": "code",
   "execution_count": 64,
   "id": "cognitive-glass",
   "metadata": {},
   "outputs": [
    {
     "data": {
      "text/plain": [
       "\n",
       "\tWelch Two Sample t-test\n",
       "\n",
       "data:  as.integer(alive$age_group) and as.integer(dead$age_group)\n",
       "t = -204.8, df = 2609.3, p-value < 2.2e-16\n",
       "alternative hypothesis: true difference in means is not equal to 0\n",
       "95 percent confidence interval:\n",
       " -4.456127 -4.371606\n",
       "sample estimates:\n",
       "mean of x mean of y \n",
       " 4.296363  8.710230 \n"
      ]
     },
     "metadata": {},
     "output_type": "display_data"
    }
   ],
   "source": [
    "t.test(as.integer(alive$age_group), as.integer(dead$age_group), alternative=\"two.sided\", conf.level = 0.95)"
   ]
  },
  {
   "cell_type": "markdown",
   "id": "generic-kernel",
   "metadata": {},
   "source": [
    "Det ses med et 95% konfidensniveau, at de der overlever er signifikant yngre end de der dør... Omkring 4 aldergrupper sepperere dem. Alder har dermed en betydning for dødeligheden."
   ]
  },
  {
   "cell_type": "markdown",
   "id": "checked-support",
   "metadata": {},
   "source": [
    "$$H_0: \\text{Køn er uafhængig af dødeligheden}$$"
   ]
  },
  {
   "cell_type": "markdown",
   "id": "uniform-queue",
   "metadata": {},
   "source": [
    "$$H_a: \\text{Køn er afhængig af dødeligheden}$$"
   ]
  },
  {
   "cell_type": "code",
   "execution_count": 65,
   "id": "agricultural-magnitude",
   "metadata": {
    "scrolled": true
   },
   "outputs": [
    {
     "data": {
      "text/html": [
       "0.011968599701476"
      ],
      "text/latex": [
       "0.011968599701476"
      ],
      "text/markdown": [
       "0.011968599701476"
      ],
      "text/plain": [
       "[1] 0.0119686"
      ]
     },
     "metadata": {},
     "output_type": "display_data"
    },
    {
     "data": {
      "text/html": [
       "0.00967275037949659"
      ],
      "text/latex": [
       "0.00967275037949659"
      ],
      "text/markdown": [
       "0.00967275037949659"
      ],
      "text/plain": [
       "[1] 0.00967275"
      ]
     },
     "metadata": {},
     "output_type": "display_data"
    }
   ],
   "source": [
    "men <- subset(unfolded_data, gender == \"Male\")\n",
    "women <- subset(unfolded_data, gender == \"Female\")\n",
    "mean(as.integer(men$dead == 1))\n",
    "mean(as.integer(women$dead == 1))"
   ]
  },
  {
   "cell_type": "code",
   "execution_count": 66,
   "id": "aquatic-angola",
   "metadata": {},
   "outputs": [
    {
     "data": {
      "text/plain": [
       "\n",
       "\tWelch Two Sample t-test\n",
       "\n",
       "data:  as.integer(men$dead == 1) and as.integer(women$dead == 1)\n",
       "t = 5.2192, df = 217102, p-value = 1.799e-07\n",
       "alternative hypothesis: true difference in means is not equal to 0\n",
       "95 percent confidence interval:\n",
       " 0.001433687 0.003158011\n",
       "sample estimates:\n",
       " mean of x  mean of y \n",
       "0.01196860 0.00967275 \n"
      ]
     },
     "metadata": {},
     "output_type": "display_data"
    }
   ],
   "source": [
    "t.test(as.integer(men$dead == 1), as.integer(women$dead == 1), alternative=\"two.sided\", conf.level = 0.95)"
   ]
  },
  {
   "cell_type": "markdown",
   "id": "injured-comment",
   "metadata": {},
   "source": [
    "Det ses med et 95% konfidensniveau, at kvinders dødelighed er signifikant lavere end mændendes. Køn har dermed en betydning for dødeligheden.\n",
    "\n",
    "Disse test er (måske) ikke specielt gode for den type data vi arbejder med og derfor anvender vi glm modellere istedet for at konkludere, hvorvidt alder og køn har en signifikant betydning for dødeligheden."
   ]
  },
  {
   "cell_type": "markdown",
   "id": "answering-petite",
   "metadata": {},
   "source": [
    "### GLM testing"
   ]
  },
  {
   "cell_type": "code",
   "execution_count": 67,
   "id": "lesbian-associate",
   "metadata": {
    "scrolled": false
   },
   "outputs": [],
   "source": [
    "model.default <- glm(dead ~ 1, family = \"binomial\", data=unfolded_data)\n",
    "#summary(model.default)"
   ]
  },
  {
   "cell_type": "code",
   "execution_count": 68,
   "id": "liberal-copyright",
   "metadata": {},
   "outputs": [],
   "source": [
    "model.gender <- glm(dead ~ gender, family = \"binomial\", data=unfolded_data)\n",
    "#summary(model.gender)"
   ]
  },
  {
   "cell_type": "code",
   "execution_count": 69,
   "id": "cultural-offense",
   "metadata": {},
   "outputs": [
    {
     "data": {
      "text/html": [
       "<table>\n",
       "<thead><tr><th></th><th scope=col>Estimate</th><th scope=col>Std. Error</th><th scope=col>z value</th><th scope=col>Pr(&gt;|z|)</th></tr></thead>\n",
       "<tbody>\n",
       "\t<tr><th scope=row>(Intercept)</th><td> -9.642058  </td><td>  1.000032  </td><td>-9.64174479 </td><td>5.327464e-22</td></tr>\n",
       "\t<tr><th scope=row>age_group2</th><td>-11.924011  </td><td>158.480056  </td><td>-0.07523982 </td><td>9.400239e-01</td></tr>\n",
       "\t<tr><th scope=row>age_group3</th><td>-11.924011  </td><td>143.422145  </td><td>-0.08313926 </td><td>9.337408e-01</td></tr>\n",
       "\t<tr><th scope=row>age_group4</th><td>  1.108073  </td><td>  1.080169  </td><td> 1.02583339 </td><td>3.049701e-01</td></tr>\n",
       "\t<tr><th scope=row>age_group5</th><td>  1.199742  </td><td>  1.069090  </td><td> 1.12220903 </td><td>2.617736e-01</td></tr>\n",
       "\t<tr><th scope=row>age_group6</th><td>  3.245443  </td><td>  1.009438  </td><td> 3.21509980 </td><td>1.303992e-03</td></tr>\n",
       "\t<tr><th scope=row>age_group7</th><td>  5.152961  </td><td>  1.002622  </td><td> 5.13948525 </td><td>2.754921e-07</td></tr>\n",
       "\t<tr><th scope=row>age_group8</th><td>  6.839669  </td><td>  1.000882  </td><td> 6.83364211 </td><td>8.278541e-12</td></tr>\n",
       "\t<tr><th scope=row>age_group9</th><td>  8.037612  </td><td>  1.000655  </td><td> 8.03234899 </td><td>9.562390e-16</td></tr>\n",
       "\t<tr><th scope=row>age_group10</th><td>  8.803977  </td><td>  1.001346  </td><td> 8.79214400 </td><td>1.467325e-18</td></tr>\n",
       "</tbody>\n",
       "</table>\n"
      ],
      "text/latex": [
       "\\begin{tabular}{r|llll}\n",
       "  & Estimate & Std. Error & z value & Pr(>\\textbar{}z\\textbar{})\\\\\n",
       "\\hline\n",
       "\t(Intercept) &  -9.642058   &   1.000032   & -9.64174479  & 5.327464e-22\\\\\n",
       "\tage\\_group2 & -11.924011   & 158.480056   & -0.07523982  & 9.400239e-01\\\\\n",
       "\tage\\_group3 & -11.924011   & 143.422145   & -0.08313926  & 9.337408e-01\\\\\n",
       "\tage\\_group4 &   1.108073   &   1.080169   &  1.02583339  & 3.049701e-01\\\\\n",
       "\tage\\_group5 &   1.199742   &   1.069090   &  1.12220903  & 2.617736e-01\\\\\n",
       "\tage\\_group6 &   3.245443   &   1.009438   &  3.21509980  & 1.303992e-03\\\\\n",
       "\tage\\_group7 &   5.152961   &   1.002622   &  5.13948525  & 2.754921e-07\\\\\n",
       "\tage\\_group8 &   6.839669   &   1.000882   &  6.83364211  & 8.278541e-12\\\\\n",
       "\tage\\_group9 &   8.037612   &   1.000655   &  8.03234899  & 9.562390e-16\\\\\n",
       "\tage\\_group10 &   8.803977   &   1.001346   &  8.79214400  & 1.467325e-18\\\\\n",
       "\\end{tabular}\n"
      ],
      "text/markdown": [
       "\n",
       "| <!--/--> | Estimate | Std. Error | z value | Pr(>|z|) |\n",
       "|---|---|---|---|---|\n",
       "| (Intercept) |  -9.642058   |   1.000032   | -9.64174479  | 5.327464e-22 |\n",
       "| age_group2 | -11.924011   | 158.480056   | -0.07523982  | 9.400239e-01 |\n",
       "| age_group3 | -11.924011   | 143.422145   | -0.08313926  | 9.337408e-01 |\n",
       "| age_group4 |   1.108073   |   1.080169   |  1.02583339  | 3.049701e-01 |\n",
       "| age_group5 |   1.199742   |   1.069090   |  1.12220903  | 2.617736e-01 |\n",
       "| age_group6 |   3.245443   |   1.009438   |  3.21509980  | 1.303992e-03 |\n",
       "| age_group7 |   5.152961   |   1.002622   |  5.13948525  | 2.754921e-07 |\n",
       "| age_group8 |   6.839669   |   1.000882   |  6.83364211  | 8.278541e-12 |\n",
       "| age_group9 |   8.037612   |   1.000655   |  8.03234899  | 9.562390e-16 |\n",
       "| age_group10 |   8.803977   |   1.001346   |  8.79214400  | 1.467325e-18 |\n",
       "\n"
      ],
      "text/plain": [
       "            Estimate   Std. Error z value     Pr(>|z|)    \n",
       "(Intercept)  -9.642058   1.000032 -9.64174479 5.327464e-22\n",
       "age_group2  -11.924011 158.480056 -0.07523982 9.400239e-01\n",
       "age_group3  -11.924011 143.422145 -0.08313926 9.337408e-01\n",
       "age_group4    1.108073   1.080169  1.02583339 3.049701e-01\n",
       "age_group5    1.199742   1.069090  1.12220903 2.617736e-01\n",
       "age_group6    3.245443   1.009438  3.21509980 1.303992e-03\n",
       "age_group7    5.152961   1.002622  5.13948525 2.754921e-07\n",
       "age_group8    6.839669   1.000882  6.83364211 8.278541e-12\n",
       "age_group9    8.037612   1.000655  8.03234899 9.562390e-16\n",
       "age_group10   8.803977   1.001346  8.79214400 1.467325e-18"
      ]
     },
     "metadata": {},
     "output_type": "display_data"
    }
   ],
   "source": [
    "model.age <- glm(dead ~ age_group, family = \"binomial\", data=unfolded_data)\n",
    "coef(summary(model.age))"
   ]
  },
  {
   "cell_type": "code",
   "execution_count": 70,
   "id": "nonprofit-proof",
   "metadata": {},
   "outputs": [
    {
     "data": {
      "text/html": [
       "<table>\n",
       "<thead><tr><th></th><th scope=col>Estimate</th><th scope=col>Std. Error</th><th scope=col>z value</th><th scope=col>Pr(&gt;|z|)</th></tr></thead>\n",
       "<tbody>\n",
       "\t<tr><th scope=row>(Intercept)</th><td>-13.60627 </td><td>0.15703627</td><td>-86.64411 </td><td>0         </td></tr>\n",
       "\t<tr><th scope=row>as.integer(age_group)</th><td>  1.31647 </td><td>0.01823784</td><td> 72.18341 </td><td>0         </td></tr>\n",
       "</tbody>\n",
       "</table>\n"
      ],
      "text/latex": [
       "\\begin{tabular}{r|llll}\n",
       "  & Estimate & Std. Error & z value & Pr(>\\textbar{}z\\textbar{})\\\\\n",
       "\\hline\n",
       "\t(Intercept) & -13.60627  & 0.15703627 & -86.64411  & 0         \\\\\n",
       "\tas.integer(age\\_group) &   1.31647  & 0.01823784 &  72.18341  & 0         \\\\\n",
       "\\end{tabular}\n"
      ],
      "text/markdown": [
       "\n",
       "| <!--/--> | Estimate | Std. Error | z value | Pr(>|z|) |\n",
       "|---|---|---|---|---|\n",
       "| (Intercept) | -13.60627  | 0.15703627 | -86.64411  | 0          |\n",
       "| as.integer(age_group) |   1.31647  | 0.01823784 |  72.18341  | 0          |\n",
       "\n"
      ],
      "text/plain": [
       "                      Estimate  Std. Error z value   Pr(>|z|)\n",
       "(Intercept)           -13.60627 0.15703627 -86.64411 0       \n",
       "as.integer(age_group)   1.31647 0.01823784  72.18341 0       "
      ]
     },
     "metadata": {},
     "output_type": "display_data"
    }
   ],
   "source": [
    "model.onevar <- glm(dead ~ as.integer(age_group), family = \"binomial\", data=unfolded_data)\n",
    "coef(summary(model.onevar))"
   ]
  },
  {
   "cell_type": "code",
   "execution_count": 71,
   "id": "advisory-chosen",
   "metadata": {},
   "outputs": [
    {
     "data": {
      "text/html": [
       "<table>\n",
       "<thead><tr><th scope=col>Resid. Df</th><th scope=col>Resid. Dev</th><th scope=col>Df</th><th scope=col>Deviance</th><th scope=col>Pr(&gt;Chi)</th></tr></thead>\n",
       "<tbody>\n",
       "\t<tr><td>221840      </td><td>15581.17    </td><td>NA          </td><td>      NA    </td><td>          NA</td></tr>\n",
       "\t<tr><td>221832      </td><td>15391.88    </td><td> 8          </td><td>189.2916    </td><td>1.147735e-36</td></tr>\n",
       "</tbody>\n",
       "</table>\n"
      ],
      "text/latex": [
       "\\begin{tabular}{r|lllll}\n",
       " Resid. Df & Resid. Dev & Df & Deviance & Pr(>Chi)\\\\\n",
       "\\hline\n",
       "\t 221840       & 15581.17     & NA           &       NA     &           NA\\\\\n",
       "\t 221832       & 15391.88     &  8           & 189.2916     & 1.147735e-36\\\\\n",
       "\\end{tabular}\n"
      ],
      "text/markdown": [
       "\n",
       "| Resid. Df | Resid. Dev | Df | Deviance | Pr(>Chi) |\n",
       "|---|---|---|---|---|\n",
       "| 221840       | 15581.17     | NA           |       NA     |           NA |\n",
       "| 221832       | 15391.88     |  8           | 189.2916     | 1.147735e-36 |\n",
       "\n"
      ],
      "text/plain": [
       "  Resid. Df Resid. Dev Df Deviance Pr(>Chi)    \n",
       "1 221840    15581.17   NA       NA           NA\n",
       "2 221832    15391.88    8 189.2916 1.147735e-36"
      ]
     },
     "metadata": {},
     "output_type": "display_data"
    }
   ],
   "source": [
    "anova(model.onevar, model.age, test=\"Chisq\")"
   ]
  },
  {
   "cell_type": "code",
   "execution_count": 72,
   "id": "environmental-chamber",
   "metadata": {},
   "outputs": [
    {
     "data": {
      "text/html": [
       "<table>\n",
       "<thead><tr><th scope=col>#Df</th><th scope=col>LogLik</th><th scope=col>Df</th><th scope=col>Chisq</th><th scope=col>Pr(&gt;Chisq)</th></tr></thead>\n",
       "<tbody>\n",
       "\t<tr><td>10          </td><td>-7695.939   </td><td>NA          </td><td>      NA    </td><td>          NA</td></tr>\n",
       "\t<tr><td> 2          </td><td>-7790.585   </td><td>-8          </td><td>189.2916    </td><td>1.147735e-36</td></tr>\n",
       "</tbody>\n",
       "</table>\n"
      ],
      "text/latex": [
       "\\begin{tabular}{r|lllll}\n",
       " \\#Df & LogLik & Df & Chisq & Pr(>Chisq)\\\\\n",
       "\\hline\n",
       "\t 10           & -7695.939    & NA           &       NA     &           NA\\\\\n",
       "\t  2           & -7790.585    & -8           & 189.2916     & 1.147735e-36\\\\\n",
       "\\end{tabular}\n"
      ],
      "text/markdown": [
       "\n",
       "| #Df | LogLik | Df | Chisq | Pr(>Chisq) |\n",
       "|---|---|---|---|---|\n",
       "| 10           | -7695.939    | NA           |       NA     |           NA |\n",
       "|  2           | -7790.585    | -8           | 189.2916     | 1.147735e-36 |\n",
       "\n"
      ],
      "text/plain": [
       "  #Df LogLik    Df Chisq    Pr(>Chisq)  \n",
       "1 10  -7695.939 NA       NA           NA\n",
       "2  2  -7790.585 -8 189.2916 1.147735e-36"
      ]
     },
     "metadata": {},
     "output_type": "display_data"
    }
   ],
   "source": [
    "lrtest(model.age, model.onevar)"
   ]
  },
  {
   "cell_type": "code",
   "execution_count": 73,
   "id": "hawaiian-gnome",
   "metadata": {
    "scrolled": false
   },
   "outputs": [
    {
     "data": {
      "text/plain": [
       "\n",
       "Call:\n",
       "glm(formula = dead ~ age_group + gender, family = \"binomial\", \n",
       "    data = unfolded_data)\n",
       "\n",
       "Deviance Residuals: \n",
       "    Min       1Q   Median       3Q      Max  \n",
       "-0.9981  -0.0491  -0.0177   0.0000   4.3368  \n",
       "\n",
       "Coefficients:\n",
       "             Estimate Std. Error z value Pr(>|z|)    \n",
       "(Intercept)  -9.98864    1.00049  -9.984  < 2e-16 ***\n",
       "age_group2  -11.90939  157.76669  -0.075  0.93983    \n",
       "age_group3  -11.89564  142.76818  -0.083  0.93360    \n",
       "age_group4    1.12682    1.08017   1.043  0.29686    \n",
       "age_group5    1.23131    1.06910   1.152  0.24943    \n",
       "age_group6    3.26813    1.00944   3.238  0.00121 ** \n",
       "age_group7    5.15888    1.00263   5.145 2.67e-07 ***\n",
       "age_group8    6.85232    1.00089   6.846 7.58e-12 ***\n",
       "age_group9    8.10960    1.00069   8.104 5.32e-16 ***\n",
       "age_group10   8.96628    1.00148   8.953  < 2e-16 ***\n",
       "genderMale    0.58479    0.04579  12.772  < 2e-16 ***\n",
       "---\n",
       "Signif. codes:  0 '***' 0.001 '**' 0.01 '*' 0.05 '.' 0.1 ' ' 1\n",
       "\n",
       "(Dispersion parameter for binomial family taken to be 1)\n",
       "\n",
       "    Null deviance: 26456  on 221841  degrees of freedom\n",
       "Residual deviance: 15226  on 221831  degrees of freedom\n",
       "AIC: 15248\n",
       "\n",
       "Number of Fisher Scoring iterations: 20\n"
      ]
     },
     "metadata": {},
     "output_type": "display_data"
    }
   ],
   "source": [
    "model.age_gender <- glm(dead ~ age_group + gender, family = \"binomial\", data=unfolded_data)\n",
    "summary(model.age_gender)"
   ]
  },
  {
   "cell_type": "markdown",
   "id": "sticky-adventure",
   "metadata": {},
   "source": [
    "##### De aldersgrupper, der ikke har en signifikant betydning for dødeligheden fjernes."
   ]
  },
  {
   "cell_type": "markdown",
   "id": "wooden-management",
   "metadata": {},
   "source": [
    "Jeg er dog stærkt i tvivl om vi må dette, på trods af Toke nævnte, at det var det vi skulle (eller så har jeg misforstået noget). Det er nemlig ikke muligt at kører ANOVA test på denne model, da dens datasæt er anderledes fra de andre modeller."
   ]
  },
  {
   "cell_type": "code",
   "execution_count": 74,
   "id": "frozen-extreme",
   "metadata": {},
   "outputs": [
    {
     "data": {
      "text/html": [
       "<table>\n",
       "<thead><tr><th></th><th scope=col>Estimate</th><th scope=col>Std. Error</th><th scope=col>z value</th><th scope=col>Pr(&gt;|z|)</th></tr></thead>\n",
       "<tbody>\n",
       "\t<tr><th scope=row>(Intercept)</th><td>-9.9914838  </td><td>0.9965795   </td><td>-10.025777  </td><td>1.174328e-23</td></tr>\n",
       "\t<tr><th scope=row>age_group6</th><td> 3.2682547  </td><td>1.0055592   </td><td>  3.250186  </td><td>1.153294e-03</td></tr>\n",
       "\t<tr><th scope=row>age_group7</th><td> 5.1588938  </td><td>0.9987167   </td><td>  5.165523  </td><td>2.397678e-07</td></tr>\n",
       "\t<tr><th scope=row>age_group8</th><td> 6.8524072  </td><td>0.9969721   </td><td>  6.873219  </td><td>6.276920e-12</td></tr>\n",
       "\t<tr><th scope=row>age_group9</th><td> 8.1101964  </td><td>0.9967695   </td><td>  8.136481  </td><td>4.069326e-16</td></tr>\n",
       "\t<tr><th scope=row>age_group10</th><td> 8.9676669  </td><td>0.9975673   </td><td>  8.989536  </td><td>2.482774e-19</td></tr>\n",
       "\t<tr><th scope=row>genderMale</th><td> 0.5891341  </td><td>0.0459453   </td><td> 12.822511  </td><td>1.226624e-37</td></tr>\n",
       "</tbody>\n",
       "</table>\n"
      ],
      "text/latex": [
       "\\begin{tabular}{r|llll}\n",
       "  & Estimate & Std. Error & z value & Pr(>\\textbar{}z\\textbar{})\\\\\n",
       "\\hline\n",
       "\t(Intercept) & -9.9914838   & 0.9965795    & -10.025777   & 1.174328e-23\\\\\n",
       "\tage\\_group6 &  3.2682547   & 1.0055592    &   3.250186   & 1.153294e-03\\\\\n",
       "\tage\\_group7 &  5.1588938   & 0.9987167    &   5.165523   & 2.397678e-07\\\\\n",
       "\tage\\_group8 &  6.8524072   & 0.9969721    &   6.873219   & 6.276920e-12\\\\\n",
       "\tage\\_group9 &  8.1101964   & 0.9967695    &   8.136481   & 4.069326e-16\\\\\n",
       "\tage\\_group10 &  8.9676669   & 0.9975673    &   8.989536   & 2.482774e-19\\\\\n",
       "\tgenderMale &  0.5891341   & 0.0459453    &  12.822511   & 1.226624e-37\\\\\n",
       "\\end{tabular}\n"
      ],
      "text/markdown": [
       "\n",
       "| <!--/--> | Estimate | Std. Error | z value | Pr(>|z|) |\n",
       "|---|---|---|---|---|\n",
       "| (Intercept) | -9.9914838   | 0.9965795    | -10.025777   | 1.174328e-23 |\n",
       "| age_group6 |  3.2682547   | 1.0055592    |   3.250186   | 1.153294e-03 |\n",
       "| age_group7 |  5.1588938   | 0.9987167    |   5.165523   | 2.397678e-07 |\n",
       "| age_group8 |  6.8524072   | 0.9969721    |   6.873219   | 6.276920e-12 |\n",
       "| age_group9 |  8.1101964   | 0.9967695    |   8.136481   | 4.069326e-16 |\n",
       "| age_group10 |  8.9676669   | 0.9975673    |   8.989536   | 2.482774e-19 |\n",
       "| genderMale |  0.5891341   | 0.0459453    |  12.822511   | 1.226624e-37 |\n",
       "\n"
      ],
      "text/plain": [
       "            Estimate   Std. Error z value    Pr(>|z|)    \n",
       "(Intercept) -9.9914838 0.9965795  -10.025777 1.174328e-23\n",
       "age_group6   3.2682547 1.0055592    3.250186 1.153294e-03\n",
       "age_group7   5.1588938 0.9987167    5.165523 2.397678e-07\n",
       "age_group8   6.8524072 0.9969721    6.873219 6.276920e-12\n",
       "age_group9   8.1101964 0.9967695    8.136481 4.069326e-16\n",
       "age_group10  8.9676669 0.9975673    8.989536 2.482774e-19\n",
       "genderMale   0.5891341 0.0459453   12.822511 1.226624e-37"
      ]
     },
     "metadata": {},
     "output_type": "display_data"
    }
   ],
   "source": [
    "temp <- unfolded_data %>% filter(age_group != 2) %>% filter(age_group != 3) %>% filter(age_group != 4) %>% filter(age_group != 5)\n",
    "model.age_gender.modified <- glm(dead ~ age_group + gender, family = \"binomial\", data=temp)\n",
    "coef(summary(model.age_gender.modified))"
   ]
  },
  {
   "cell_type": "code",
   "execution_count": 75,
   "id": "packed-bench",
   "metadata": {},
   "outputs": [
    {
     "data": {
      "text/html": [
       "<table>\n",
       "<thead><tr><th></th><th scope=col>Estimate</th><th scope=col>Std. Error</th><th scope=col>z value</th><th scope=col>Pr(&gt;|z|)</th></tr></thead>\n",
       "<tbody>\n",
       "\t<tr><th scope=row>(Intercept)</th><td>-19.566069 </td><td>125.2501   </td><td>-0.15621605</td><td>0.8758627  </td></tr>\n",
       "\t<tr><th scope=row>age_group6</th><td> 12.900325 </td><td>125.2503   </td><td> 0.10299640</td><td>0.9179658  </td></tr>\n",
       "\t<tr><th scope=row>age_group7</th><td> 14.810002 </td><td>125.2501   </td><td> 0.11824342</td><td>0.9058748  </td></tr>\n",
       "\t<tr><th scope=row>age_group8</th><td> 16.453234 </td><td>125.2501   </td><td> 0.13136306</td><td>0.8954881  </td></tr>\n",
       "\t<tr><th scope=row>age_group9</th><td> 17.686449 </td><td>125.2501   </td><td> 0.14120909</td><td>0.8877048  </td></tr>\n",
       "\t<tr><th scope=row>age_group10</th><td> 18.491329 </td><td>125.2501   </td><td> 0.14763527</td><td>0.8826306  </td></tr>\n",
       "\t<tr><th scope=row>genderMale</th><td> 10.575503 </td><td>125.2541   </td><td> 0.08443242</td><td>0.9327126  </td></tr>\n",
       "\t<tr><th scope=row>age_group6:genderMale</th><td>-10.079892 </td><td>125.2544   </td><td>-0.08047538</td><td>0.9358592  </td></tr>\n",
       "\t<tr><th scope=row>age_group7:genderMale</th><td>-10.106296 </td><td>125.2541   </td><td>-0.08068632</td><td>0.9356914  </td></tr>\n",
       "\t<tr><th scope=row>age_group8:genderMale</th><td>-10.028006 </td><td>125.2541   </td><td>-0.08006131</td><td>0.9361885  </td></tr>\n",
       "\t<tr><th scope=row>age_group9:genderMale</th><td> -9.989588 </td><td>125.2541   </td><td>-0.07975459</td><td>0.9364324  </td></tr>\n",
       "\t<tr><th scope=row>age_group10:genderMale</th><td> -9.837236 </td><td>125.2541   </td><td>-0.07853823</td><td>0.9373999  </td></tr>\n",
       "</tbody>\n",
       "</table>\n"
      ],
      "text/latex": [
       "\\begin{tabular}{r|llll}\n",
       "  & Estimate & Std. Error & z value & Pr(>\\textbar{}z\\textbar{})\\\\\n",
       "\\hline\n",
       "\t(Intercept) & -19.566069  & 125.2501    & -0.15621605 & 0.8758627  \\\\\n",
       "\tage\\_group6 &  12.900325  & 125.2503    &  0.10299640 & 0.9179658  \\\\\n",
       "\tage\\_group7 &  14.810002  & 125.2501    &  0.11824342 & 0.9058748  \\\\\n",
       "\tage\\_group8 &  16.453234  & 125.2501    &  0.13136306 & 0.8954881  \\\\\n",
       "\tage\\_group9 &  17.686449  & 125.2501    &  0.14120909 & 0.8877048  \\\\\n",
       "\tage\\_group10 &  18.491329  & 125.2501    &  0.14763527 & 0.8826306  \\\\\n",
       "\tgenderMale &  10.575503  & 125.2541    &  0.08443242 & 0.9327126  \\\\\n",
       "\tage\\_group6:genderMale & -10.079892  & 125.2544    & -0.08047538 & 0.9358592  \\\\\n",
       "\tage\\_group7:genderMale & -10.106296  & 125.2541    & -0.08068632 & 0.9356914  \\\\\n",
       "\tage\\_group8:genderMale & -10.028006  & 125.2541    & -0.08006131 & 0.9361885  \\\\\n",
       "\tage\\_group9:genderMale &  -9.989588  & 125.2541    & -0.07975459 & 0.9364324  \\\\\n",
       "\tage\\_group10:genderMale &  -9.837236  & 125.2541    & -0.07853823 & 0.9373999  \\\\\n",
       "\\end{tabular}\n"
      ],
      "text/markdown": [
       "\n",
       "| <!--/--> | Estimate | Std. Error | z value | Pr(>|z|) |\n",
       "|---|---|---|---|---|\n",
       "| (Intercept) | -19.566069  | 125.2501    | -0.15621605 | 0.8758627   |\n",
       "| age_group6 |  12.900325  | 125.2503    |  0.10299640 | 0.9179658   |\n",
       "| age_group7 |  14.810002  | 125.2501    |  0.11824342 | 0.9058748   |\n",
       "| age_group8 |  16.453234  | 125.2501    |  0.13136306 | 0.8954881   |\n",
       "| age_group9 |  17.686449  | 125.2501    |  0.14120909 | 0.8877048   |\n",
       "| age_group10 |  18.491329  | 125.2501    |  0.14763527 | 0.8826306   |\n",
       "| genderMale |  10.575503  | 125.2541    |  0.08443242 | 0.9327126   |\n",
       "| age_group6:genderMale | -10.079892  | 125.2544    | -0.08047538 | 0.9358592   |\n",
       "| age_group7:genderMale | -10.106296  | 125.2541    | -0.08068632 | 0.9356914   |\n",
       "| age_group8:genderMale | -10.028006  | 125.2541    | -0.08006131 | 0.9361885   |\n",
       "| age_group9:genderMale |  -9.989588  | 125.2541    | -0.07975459 | 0.9364324   |\n",
       "| age_group10:genderMale |  -9.837236  | 125.2541    | -0.07853823 | 0.9373999   |\n",
       "\n"
      ],
      "text/plain": [
       "                       Estimate   Std. Error z value     Pr(>|z|) \n",
       "(Intercept)            -19.566069 125.2501   -0.15621605 0.8758627\n",
       "age_group6              12.900325 125.2503    0.10299640 0.9179658\n",
       "age_group7              14.810002 125.2501    0.11824342 0.9058748\n",
       "age_group8              16.453234 125.2501    0.13136306 0.8954881\n",
       "age_group9              17.686449 125.2501    0.14120909 0.8877048\n",
       "age_group10             18.491329 125.2501    0.14763527 0.8826306\n",
       "genderMale              10.575503 125.2541    0.08443242 0.9327126\n",
       "age_group6:genderMale  -10.079892 125.2544   -0.08047538 0.9358592\n",
       "age_group7:genderMale  -10.106296 125.2541   -0.08068632 0.9356914\n",
       "age_group8:genderMale  -10.028006 125.2541   -0.08006131 0.9361885\n",
       "age_group9:genderMale   -9.989588 125.2541   -0.07975459 0.9364324\n",
       "age_group10:genderMale  -9.837236 125.2541   -0.07853823 0.9373999"
      ]
     },
     "metadata": {},
     "output_type": "display_data"
    }
   ],
   "source": [
    "model.age_interakt_gender.modified <- glm(dead ~ age_group * gender, family = \"binomial\", data=temp)\n",
    "coef(summary(model.age_interakt_gender.modified))"
   ]
  },
  {
   "cell_type": "code",
   "execution_count": 76,
   "id": "authentic-circuit",
   "metadata": {
    "scrolled": false
   },
   "outputs": [
    {
     "data": {
      "text/plain": [
       "\n",
       "Call:\n",
       "glm(formula = dead ~ age_group * gender, family = \"binomial\", \n",
       "    data = unfolded_data)\n",
       "\n",
       "Deviance Residuals: \n",
       "    Min       1Q   Median       3Q      Max  \n",
       "-1.0383  -0.0505  -0.0186   0.0000   4.2404  \n",
       "\n",
       "Coefficients:\n",
       "                         Estimate Std. Error z value Pr(>|z|)\n",
       "(Intercept)            -2.157e+01  3.405e+02  -0.063    0.949\n",
       "age_group2              3.008e-06  4.090e+02   0.000    1.000\n",
       "age_group3              3.008e-06  3.950e+02   0.000    1.000\n",
       "age_group4              1.330e+01  3.405e+02   0.039    0.969\n",
       "age_group5              1.290e+01  3.405e+02   0.038    0.970\n",
       "age_group6              1.490e+01  3.405e+02   0.044    0.965\n",
       "age_group7              1.681e+01  3.405e+02   0.049    0.961\n",
       "age_group8              1.845e+01  3.405e+02   0.054    0.957\n",
       "age_group9              1.969e+01  3.405e+02   0.058    0.954\n",
       "age_group10             2.049e+01  3.405e+02   0.060    0.952\n",
       "genderMale              1.258e+01  3.405e+02   0.037    0.971\n",
       "age_group2:genderMale  -1.258e+01  4.652e+02  -0.027    0.978\n",
       "age_group3:genderMale  -1.258e+01  4.452e+02  -0.028    0.977\n",
       "age_group4:genderMale  -1.322e+01  3.405e+02  -0.039    0.969\n",
       "age_group5:genderMale  -1.215e+01  3.405e+02  -0.036    0.972\n",
       "age_group6:genderMale  -1.208e+01  3.405e+02  -0.035    0.972\n",
       "age_group7:genderMale  -1.211e+01  3.405e+02  -0.036    0.972\n",
       "age_group8:genderMale  -1.203e+01  3.405e+02  -0.035    0.972\n",
       "age_group9:genderMale  -1.199e+01  3.405e+02  -0.035    0.972\n",
       "age_group10:genderMale -1.184e+01  3.405e+02  -0.035    0.972\n",
       "\n",
       "(Dispersion parameter for binomial family taken to be 1)\n",
       "\n",
       "    Null deviance: 26456  on 221841  degrees of freedom\n",
       "Residual deviance: 15220  on 221822  degrees of freedom\n",
       "AIC: 15260\n",
       "\n",
       "Number of Fisher Scoring iterations: 20\n"
      ]
     },
     "metadata": {},
     "output_type": "display_data"
    }
   ],
   "source": [
    "model.age_interakt_gender <- glm(dead ~ age_group * gender, family = \"binomial\", data=unfolded_data)\n",
    "summary(model.age_interakt_gender)"
   ]
  },
  {
   "cell_type": "code",
   "execution_count": 77,
   "id": "disciplinary-somerset",
   "metadata": {
    "scrolled": true
   },
   "outputs": [
    {
     "data": {
      "text/html": [
       "<table>\n",
       "<thead><tr><th scope=col>Resid. Df</th><th scope=col>Resid. Dev</th><th scope=col>Df</th><th scope=col>Deviance</th><th scope=col>Pr(&gt;Chi)</th></tr></thead>\n",
       "<tbody>\n",
       "\t<tr><td>221832      </td><td>15391.88    </td><td>NA          </td><td>      NA    </td><td>          NA</td></tr>\n",
       "\t<tr><td>221831      </td><td>15226.15    </td><td> 1          </td><td>165.7327    </td><td>6.327982e-38</td></tr>\n",
       "</tbody>\n",
       "</table>\n"
      ],
      "text/latex": [
       "\\begin{tabular}{r|lllll}\n",
       " Resid. Df & Resid. Dev & Df & Deviance & Pr(>Chi)\\\\\n",
       "\\hline\n",
       "\t 221832       & 15391.88     & NA           &       NA     &           NA\\\\\n",
       "\t 221831       & 15226.15     &  1           & 165.7327     & 6.327982e-38\\\\\n",
       "\\end{tabular}\n"
      ],
      "text/markdown": [
       "\n",
       "| Resid. Df | Resid. Dev | Df | Deviance | Pr(>Chi) |\n",
       "|---|---|---|---|---|\n",
       "| 221832       | 15391.88     | NA           |       NA     |           NA |\n",
       "| 221831       | 15226.15     |  1           | 165.7327     | 6.327982e-38 |\n",
       "\n"
      ],
      "text/plain": [
       "  Resid. Df Resid. Dev Df Deviance Pr(>Chi)    \n",
       "1 221832    15391.88   NA       NA           NA\n",
       "2 221831    15226.15    1 165.7327 6.327982e-38"
      ]
     },
     "metadata": {},
     "output_type": "display_data"
    }
   ],
   "source": [
    "#anova(model.default, model.age, test = \"Chisq\")\n",
    "#anova(model.default, model.gender, test = \"Chisq\")\n",
    "#anova(model.age, model.gender, test = \"Chisq\")\n",
    "anova(model.age, model.age_gender, test = \"Chisq\")"
   ]
  },
  {
   "cell_type": "code",
   "execution_count": 78,
   "id": "organic-judgment",
   "metadata": {},
   "outputs": [
    {
     "data": {
      "text/html": [
       "<table>\n",
       "<thead><tr><th scope=col>Resid. Df</th><th scope=col>Resid. Dev</th><th scope=col>Df</th><th scope=col>Deviance</th><th scope=col>Pr(&gt;Chi)</th></tr></thead>\n",
       "<tbody>\n",
       "\t<tr><td>221831   </td><td>15226.15 </td><td>NA       </td><td>      NA </td><td>       NA</td></tr>\n",
       "\t<tr><td>221822   </td><td>15220.23 </td><td> 9       </td><td>5.917161 </td><td>0.7481797</td></tr>\n",
       "</tbody>\n",
       "</table>\n"
      ],
      "text/latex": [
       "\\begin{tabular}{r|lllll}\n",
       " Resid. Df & Resid. Dev & Df & Deviance & Pr(>Chi)\\\\\n",
       "\\hline\n",
       "\t 221831    & 15226.15  & NA        &       NA  &        NA\\\\\n",
       "\t 221822    & 15220.23  &  9        & 5.917161  & 0.7481797\\\\\n",
       "\\end{tabular}\n"
      ],
      "text/markdown": [
       "\n",
       "| Resid. Df | Resid. Dev | Df | Deviance | Pr(>Chi) |\n",
       "|---|---|---|---|---|\n",
       "| 221831    | 15226.15  | NA        |       NA  |        NA |\n",
       "| 221822    | 15220.23  |  9        | 5.917161  | 0.7481797 |\n",
       "\n"
      ],
      "text/plain": [
       "  Resid. Df Resid. Dev Df Deviance Pr(>Chi) \n",
       "1 221831    15226.15   NA       NA        NA\n",
       "2 221822    15220.23    9 5.917161 0.7481797"
      ]
     },
     "metadata": {},
     "output_type": "display_data"
    },
    {
     "data": {
      "text/html": [
       "<table>\n",
       "<thead><tr><th scope=col>Resid. Df</th><th scope=col>Resid. Dev</th><th scope=col>Df</th><th scope=col>Deviance</th><th scope=col>Pr(&gt;Chi)</th></tr></thead>\n",
       "<tbody>\n",
       "\t<tr><td>83269    </td><td>14978.21 </td><td>NA       </td><td>      NA </td><td>       NA</td></tr>\n",
       "\t<tr><td>83264    </td><td>14974.53 </td><td> 5       </td><td>3.680103 </td><td>0.5963276</td></tr>\n",
       "</tbody>\n",
       "</table>\n"
      ],
      "text/latex": [
       "\\begin{tabular}{r|lllll}\n",
       " Resid. Df & Resid. Dev & Df & Deviance & Pr(>Chi)\\\\\n",
       "\\hline\n",
       "\t 83269     & 14978.21  & NA        &       NA  &        NA\\\\\n",
       "\t 83264     & 14974.53  &  5        & 3.680103  & 0.5963276\\\\\n",
       "\\end{tabular}\n"
      ],
      "text/markdown": [
       "\n",
       "| Resid. Df | Resid. Dev | Df | Deviance | Pr(>Chi) |\n",
       "|---|---|---|---|---|\n",
       "| 83269     | 14978.21  | NA        |       NA  |        NA |\n",
       "| 83264     | 14974.53  |  5        | 3.680103  | 0.5963276 |\n",
       "\n"
      ],
      "text/plain": [
       "  Resid. Df Resid. Dev Df Deviance Pr(>Chi) \n",
       "1 83269     14978.21   NA       NA        NA\n",
       "2 83264     14974.53    5 3.680103 0.5963276"
      ]
     },
     "metadata": {},
     "output_type": "display_data"
    }
   ],
   "source": [
    "anova(model.age_gender, model.age_interakt_gender, test = \"Chisq\")\n",
    "anova(model.age_gender.modified, model.age_interakt_gender.modified, test = \"Chisq\")"
   ]
  },
  {
   "cell_type": "markdown",
   "id": "proper-tenant",
   "metadata": {},
   "source": [
    "Modellen med interaktionsleddet forkastes, da denne er insignifikant sammenlignet med den simpler model."
   ]
  },
  {
   "cell_type": "markdown",
   "id": "corrected-agreement",
   "metadata": {},
   "source": [
    "#### Ressourcer til yderligere undersøgelse"
   ]
  },
  {
   "cell_type": "markdown",
   "id": "cultural-outreach",
   "metadata": {},
   "source": [
    "https://www.cdc.gov/csels/dsepd/ss1978/lesson3/section3.html#:~:text=An%20age%2Dspecific%20mortality%20rate,age%20group%20in%20the%20population.\n",
    "\n",
    "https://www.ncbi.nlm.nih.gov/pmc/articles/PMC4028711/\n",
    "\n",
    "https://www.un.org/development/desa/pd/sites/www.un.org.development.desa.pd/files/files/documents/2020/Jan/un_1955_age_and_sex_patterns_of_mortality_-_model_life-tables_for_under-developed_countries_0.pdf\n",
    "\n",
    "https://www.demogr.mpg.de/books/drm/009/12.pdf\n",
    "\n",
    "https://www.sciencedirect.com/science/article/pii/S2352827319300680"
   ]
  }
 ],
 "metadata": {
  "kernelspec": {
   "display_name": "R",
   "language": "R",
   "name": "ir"
  },
  "language_info": {
   "codemirror_mode": "r",
   "file_extension": ".r",
   "mimetype": "text/x-r-source",
   "name": "R",
   "pygments_lexer": "r",
   "version": "3.6.1"
  }
 },
 "nbformat": 4,
 "nbformat_minor": 5
}
