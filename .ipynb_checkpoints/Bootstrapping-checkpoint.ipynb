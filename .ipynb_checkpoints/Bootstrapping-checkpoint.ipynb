{
 "cells": [
  {
   "cell_type": "markdown",
   "id": "incorrect-operation",
   "metadata": {},
   "source": [
    "# Basic Package Mangement"
   ]
  },
  {
   "cell_type": "code",
   "execution_count": 1,
   "id": "hungarian-easter",
   "metadata": {
    "scrolled": true
   },
   "outputs": [
    {
     "name": "stderr",
     "output_type": "stream",
     "text": [
      "Loading required package: pacman\n",
      "Warning message:\n",
      "\"package 'pacman' was built under R version 3.6.3\""
     ]
    }
   ],
   "source": [
    "#install.packages(\"pacman\") # Execute this once.\n",
    "require(pacman)"
   ]
  },
  {
   "cell_type": "markdown",
   "id": "chemical-wireless",
   "metadata": {},
   "source": [
    "### Clearing and unloading packages"
   ]
  },
  {
   "cell_type": "code",
   "execution_count": 30,
   "id": "brief-render",
   "metadata": {
    "scrolled": false
   },
   "outputs": [
    {
     "name": "stderr",
     "output_type": "stream",
     "text": [
      "The following packages have been unloaded:\n",
      "\breadxl, magrittr, mosaic, ggridges, mosaicData, ggformula, ggstance, Matrix, lattice, forcats, stringr, dplyr, purrr, readr, tidyr, tibble, ggplot2, tidyverse, pacman\n",
      "\n"
     ]
    }
   ],
   "source": [
    "# Run this block, when done coding or before starting coding.\n",
    "p_unload(all)\n",
    "detach(\"package:datasets\", unload=TRUE)\n",
    "rm(list=ls()) # removes all previous stored variables"
   ]
  },
  {
   "cell_type": "markdown",
   "id": "fallen-revelation",
   "metadata": {},
   "source": [
    "### Loading packages"
   ]
  },
  {
   "cell_type": "code",
   "execution_count": 2,
   "id": "convinced-texas",
   "metadata": {},
   "outputs": [],
   "source": [
    "pacman::p_load(pacman, tidyverse, mosaic, magrittr)"
   ]
  },
  {
   "cell_type": "markdown",
   "id": "entire-taylor",
   "metadata": {},
   "source": [
    "# Initializing the dataframe"
   ]
  },
  {
   "cell_type": "code",
   "execution_count": 3,
   "id": "swiss-allen",
   "metadata": {},
   "outputs": [
    {
     "data": {
      "text/html": [
       "<table>\n",
       "<thead><tr><th scope=col>interval</th><th scope=col>age</th><th scope=col>infected</th><th scope=col>tested</th><th scope=col>female_deaths</th><th scope=col>male_deaths</th><th scope=col>tot_deaths</th><th scope=col>comorbidity</th><th scope=col>infected_fem</th><th scope=col>infected_male</th><th scope=col>tot_male</th><th scope=col>tot_fem</th><th scope=col>tot_num</th></tr></thead>\n",
       "<tbody>\n",
       "\t<tr><td> 1     </td><td>0-9    </td><td> 15400 </td><td> 395142</td><td>   0   </td><td>   1   </td><td>   1   </td><td>   1   </td><td>  7372 </td><td>  8028 </td><td> 313571</td><td> 297559</td><td> 611130</td></tr>\n",
       "\t<tr><td> 2     </td><td>10-19  </td><td> 34025 </td><td> 605344</td><td>   0   </td><td>   0   </td><td>   0   </td><td>   0   </td><td> 16626 </td><td> 17399 </td><td> 348964</td><td> 331889</td><td> 680853</td></tr>\n",
       "\t<tr><td> 3     </td><td>20-29  </td><td> 41545 </td><td> 688922</td><td>   0   </td><td>   0   </td><td>   0   </td><td>   0   </td><td> 21296 </td><td> 20249 </td><td> 397572</td><td> 381907</td><td> 779479</td></tr>\n",
       "\t<tr><td> 4     </td><td>30-39  </td><td> 30514 </td><td> 604186</td><td>   4   </td><td>   2   </td><td>   6   </td><td>   3   </td><td> 15615 </td><td> 14899 </td><td> 352231</td><td> 341194</td><td> 693425</td></tr>\n",
       "\t<tr><td> 5     </td><td>40-49  </td><td> 32482 </td><td> 646070</td><td>   3   </td><td>   4   </td><td>   7   </td><td>   5   </td><td> 17345 </td><td> 15137 </td><td> 376117</td><td> 375174</td><td> 751291</td></tr>\n",
       "\t<tr><td> 6     </td><td>50-59  </td><td> 31843 </td><td> 660087</td><td>  21   </td><td>  32   </td><td>  53   </td><td>  37   </td><td> 16507 </td><td> 15336 </td><td> 402188</td><td> 398825</td><td> 801013</td></tr>\n",
       "\t<tr><td> 7     </td><td>60-69  </td><td> 17558 </td><td> 490990</td><td>  73   </td><td> 122   </td><td> 195   </td><td> 153   </td><td>  8562 </td><td>  8996 </td><td> 327021</td><td> 338282</td><td> 666262</td></tr>\n",
       "\t<tr><td> 8     </td><td>70-79  </td><td> 10910 </td><td> 370426</td><td> 229   </td><td> 395   </td><td> 624   </td><td> 516   </td><td>  5378 </td><td>  5532 </td><td> 272021</td><td> 300894</td><td> 572915</td></tr>\n",
       "\t<tr><td> 9     </td><td>80-89  </td><td>  5760 </td><td> 140654</td><td> 441   </td><td> 523   </td><td> 964   </td><td> 784   </td><td>  3330 </td><td>  2430 </td><td>  99560</td><td> 135830</td><td> 235390</td></tr>\n",
       "\t<tr><td>10     </td><td>90+    </td><td>  1805 </td><td>  28610</td><td> 325   </td><td> 220   </td><td> 545   </td><td> 433   </td><td>  1277 </td><td>   528 </td><td>  13237</td><td>  32228</td><td>  45455</td></tr>\n",
       "\t<tr><td>11     </td><td>Alle   </td><td>221842 </td><td>4630431</td><td>1096   </td><td>1299   </td><td>2395   </td><td>1932   </td><td>113308 </td><td>108534 </td><td>2902482</td><td>2933782</td><td>5837213</td></tr>\n",
       "</tbody>\n",
       "</table>\n"
      ],
      "text/latex": [
       "\\begin{tabular}{r|lllllllllllll}\n",
       " interval & age & infected & tested & female\\_deaths & male\\_deaths & tot\\_deaths & comorbidity & infected\\_fem & infected\\_male & tot\\_male & tot\\_fem & tot\\_num\\\\\n",
       "\\hline\n",
       "\t  1      & 0-9     &  15400  &  395142 &    0    &    1    &    1    &    1    &   7372  &   8028  &  313571 &  297559 &  611130\\\\\n",
       "\t  2      & 10-19   &  34025  &  605344 &    0    &    0    &    0    &    0    &  16626  &  17399  &  348964 &  331889 &  680853\\\\\n",
       "\t  3      & 20-29   &  41545  &  688922 &    0    &    0    &    0    &    0    &  21296  &  20249  &  397572 &  381907 &  779479\\\\\n",
       "\t  4      & 30-39   &  30514  &  604186 &    4    &    2    &    6    &    3    &  15615  &  14899  &  352231 &  341194 &  693425\\\\\n",
       "\t  5      & 40-49   &  32482  &  646070 &    3    &    4    &    7    &    5    &  17345  &  15137  &  376117 &  375174 &  751291\\\\\n",
       "\t  6      & 50-59   &  31843  &  660087 &   21    &   32    &   53    &   37    &  16507  &  15336  &  402188 &  398825 &  801013\\\\\n",
       "\t  7      & 60-69   &  17558  &  490990 &   73    &  122    &  195    &  153    &   8562  &   8996  &  327021 &  338282 &  666262\\\\\n",
       "\t  8      & 70-79   &  10910  &  370426 &  229    &  395    &  624    &  516    &   5378  &   5532  &  272021 &  300894 &  572915\\\\\n",
       "\t  9      & 80-89   &   5760  &  140654 &  441    &  523    &  964    &  784    &   3330  &   2430  &   99560 &  135830 &  235390\\\\\n",
       "\t 10      & 90+     &   1805  &   28610 &  325    &  220    &  545    &  433    &   1277  &    528  &   13237 &   32228 &   45455\\\\\n",
       "\t 11      & Alle    & 221842  & 4630431 & 1096    & 1299    & 2395    & 1932    & 113308  & 108534  & 2902482 & 2933782 & 5837213\\\\\n",
       "\\end{tabular}\n"
      ],
      "text/markdown": [
       "\n",
       "| interval | age | infected | tested | female_deaths | male_deaths | tot_deaths | comorbidity | infected_fem | infected_male | tot_male | tot_fem | tot_num |\n",
       "|---|---|---|---|---|---|---|---|---|---|---|---|---|\n",
       "|  1      | 0-9     |  15400  |  395142 |    0    |    1    |    1    |    1    |   7372  |   8028  |  313571 |  297559 |  611130 |\n",
       "|  2      | 10-19   |  34025  |  605344 |    0    |    0    |    0    |    0    |  16626  |  17399  |  348964 |  331889 |  680853 |\n",
       "|  3      | 20-29   |  41545  |  688922 |    0    |    0    |    0    |    0    |  21296  |  20249  |  397572 |  381907 |  779479 |\n",
       "|  4      | 30-39   |  30514  |  604186 |    4    |    2    |    6    |    3    |  15615  |  14899  |  352231 |  341194 |  693425 |\n",
       "|  5      | 40-49   |  32482  |  646070 |    3    |    4    |    7    |    5    |  17345  |  15137  |  376117 |  375174 |  751291 |\n",
       "|  6      | 50-59   |  31843  |  660087 |   21    |   32    |   53    |   37    |  16507  |  15336  |  402188 |  398825 |  801013 |\n",
       "|  7      | 60-69   |  17558  |  490990 |   73    |  122    |  195    |  153    |   8562  |   8996  |  327021 |  338282 |  666262 |\n",
       "|  8      | 70-79   |  10910  |  370426 |  229    |  395    |  624    |  516    |   5378  |   5532  |  272021 |  300894 |  572915 |\n",
       "|  9      | 80-89   |   5760  |  140654 |  441    |  523    |  964    |  784    |   3330  |   2430  |   99560 |  135830 |  235390 |\n",
       "| 10      | 90+     |   1805  |   28610 |  325    |  220    |  545    |  433    |   1277  |    528  |   13237 |   32228 |   45455 |\n",
       "| 11      | Alle    | 221842  | 4630431 | 1096    | 1299    | 2395    | 1932    | 113308  | 108534  | 2902482 | 2933782 | 5837213 |\n",
       "\n"
      ],
      "text/plain": [
       "   interval age   infected tested  female_deaths male_deaths tot_deaths\n",
       "1   1       0-9    15400    395142    0             1           1      \n",
       "2   2       10-19  34025    605344    0             0           0      \n",
       "3   3       20-29  41545    688922    0             0           0      \n",
       "4   4       30-39  30514    604186    4             2           6      \n",
       "5   5       40-49  32482    646070    3             4           7      \n",
       "6   6       50-59  31843    660087   21            32          53      \n",
       "7   7       60-69  17558    490990   73           122         195      \n",
       "8   8       70-79  10910    370426  229           395         624      \n",
       "9   9       80-89   5760    140654  441           523         964      \n",
       "10 10       90+     1805     28610  325           220         545      \n",
       "11 11       Alle  221842   4630431 1096          1299        2395      \n",
       "   comorbidity infected_fem infected_male tot_male tot_fem tot_num\n",
       "1     1          7372         8028         313571   297559  611130\n",
       "2     0         16626        17399         348964   331889  680853\n",
       "3     0         21296        20249         397572   381907  779479\n",
       "4     3         15615        14899         352231   341194  693425\n",
       "5     5         17345        15137         376117   375174  751291\n",
       "6    37         16507        15336         402188   398825  801013\n",
       "7   153          8562         8996         327021   338282  666262\n",
       "8   516          5378         5532         272021   300894  572915\n",
       "9   784          3330         2430          99560   135830  235390\n",
       "10  433          1277          528          13237    32228   45455\n",
       "11 1932        113308       108534        2902482  2933782 5837213"
      ]
     },
     "metadata": {},
     "output_type": "display_data"
    }
   ],
   "source": [
    "library(\"readxl\")\n",
    "df <- read_excel(\"data/DeathsDK160321.xlsx\")\n",
    "df"
   ]
  },
  {
   "cell_type": "markdown",
   "id": "under-eleven",
   "metadata": {},
   "source": [
    "### Plotting and testing"
   ]
  },
  {
   "cell_type": "code",
   "execution_count": 4,
   "id": "aboriginal-release",
   "metadata": {},
   "outputs": [],
   "source": [
    "mortality = df %>% \n",
    "  filter(age != \"Alle\") %>% \n",
    "  select(age, infected, tested, tot_deaths) %>% \n",
    "  mutate(`Mortality given Infected` = tot_deaths/infected) %>% \n",
    "  rename(Age = age) %>% \n",
    "  select(-tested,-tot_deaths)"
   ]
  },
  {
   "cell_type": "code",
   "execution_count": 5,
   "id": "certain-wisdom",
   "metadata": {},
   "outputs": [
    {
     "data": {
      "text/html": [
       "<table>\n",
       "<thead><tr><th scope=col>Age</th><th scope=col>infected</th><th scope=col>Mortality given Infected</th></tr></thead>\n",
       "<tbody>\n",
       "\t<tr><td>0-9         </td><td>15400       </td><td>6.493506e-05</td></tr>\n",
       "\t<tr><td>10-19       </td><td>34025       </td><td>0.000000e+00</td></tr>\n",
       "\t<tr><td>20-29       </td><td>41545       </td><td>0.000000e+00</td></tr>\n",
       "\t<tr><td>30-39       </td><td>30514       </td><td>1.966311e-04</td></tr>\n",
       "\t<tr><td>40-49       </td><td>32482       </td><td>2.155040e-04</td></tr>\n",
       "\t<tr><td>50-59       </td><td>31843       </td><td>1.664416e-03</td></tr>\n",
       "\t<tr><td>60-69       </td><td>17558       </td><td>1.110605e-02</td></tr>\n",
       "\t<tr><td>70-79       </td><td>10910       </td><td>5.719523e-02</td></tr>\n",
       "\t<tr><td>80-89       </td><td> 5760       </td><td>1.673611e-01</td></tr>\n",
       "\t<tr><td>90+         </td><td> 1805       </td><td>3.019391e-01</td></tr>\n",
       "</tbody>\n",
       "</table>\n"
      ],
      "text/latex": [
       "\\begin{tabular}{r|lll}\n",
       " Age & infected & Mortality given Infected\\\\\n",
       "\\hline\n",
       "\t 0-9          & 15400        & 6.493506e-05\\\\\n",
       "\t 10-19        & 34025        & 0.000000e+00\\\\\n",
       "\t 20-29        & 41545        & 0.000000e+00\\\\\n",
       "\t 30-39        & 30514        & 1.966311e-04\\\\\n",
       "\t 40-49        & 32482        & 2.155040e-04\\\\\n",
       "\t 50-59        & 31843        & 1.664416e-03\\\\\n",
       "\t 60-69        & 17558        & 1.110605e-02\\\\\n",
       "\t 70-79        & 10910        & 5.719523e-02\\\\\n",
       "\t 80-89        &  5760        & 1.673611e-01\\\\\n",
       "\t 90+          &  1805        & 3.019391e-01\\\\\n",
       "\\end{tabular}\n"
      ],
      "text/markdown": [
       "\n",
       "| Age | infected | Mortality given Infected |\n",
       "|---|---|---|\n",
       "| 0-9          | 15400        | 6.493506e-05 |\n",
       "| 10-19        | 34025        | 0.000000e+00 |\n",
       "| 20-29        | 41545        | 0.000000e+00 |\n",
       "| 30-39        | 30514        | 1.966311e-04 |\n",
       "| 40-49        | 32482        | 2.155040e-04 |\n",
       "| 50-59        | 31843        | 1.664416e-03 |\n",
       "| 60-69        | 17558        | 1.110605e-02 |\n",
       "| 70-79        | 10910        | 5.719523e-02 |\n",
       "| 80-89        |  5760        | 1.673611e-01 |\n",
       "| 90+          |  1805        | 3.019391e-01 |\n",
       "\n"
      ],
      "text/plain": [
       "   Age   infected Mortality given Infected\n",
       "1  0-9   15400    6.493506e-05            \n",
       "2  10-19 34025    0.000000e+00            \n",
       "3  20-29 41545    0.000000e+00            \n",
       "4  30-39 30514    1.966311e-04            \n",
       "5  40-49 32482    2.155040e-04            \n",
       "6  50-59 31843    1.664416e-03            \n",
       "7  60-69 17558    1.110605e-02            \n",
       "8  70-79 10910    5.719523e-02            \n",
       "9  80-89  5760    1.673611e-01            \n",
       "10 90+    1805    3.019391e-01            "
      ]
     },
     "metadata": {},
     "output_type": "display_data"
    }
   ],
   "source": [
    "mortality"
   ]
  },
  {
   "cell_type": "code",
   "execution_count": 6,
   "id": "executive-princess",
   "metadata": {},
   "outputs": [],
   "source": [
    "Binomial_Bootstrap = function(p,n, B = 10000){\n",
    "  #Generate new MEAN data\n",
    "  p_B = rbinom(B,n,p)/n\n",
    "}"
   ]
  },
  {
   "cell_type": "code",
   "execution_count": 7,
   "id": "invalid-triple",
   "metadata": {},
   "outputs": [],
   "source": [
    "Quantiles_Binomial = mortality %>% \n",
    "  mutate(Bootstraps = map2(`Mortality given Infected`, infected, Binomial_Bootstrap, B = 10000)) %>% \n",
    "  mutate(Quantiles = map(Bootstraps, quantile, c(0.025,0.975))) %>% \n",
    "  mutate(`2.5% quantile` = unlist(map(Quantiles, function(x){x[1]}))) %>% \n",
    "  mutate(`97.5% quantile` = unlist(map(Quantiles, function(x){x[2]}))) %>% \n",
    "  select(Age, `2.5% quantile`, `97.5% quantile`)"
   ]
  },
  {
   "cell_type": "code",
   "execution_count": 8,
   "id": "daily-rochester",
   "metadata": {},
   "outputs": [
    {
     "data": {
      "text/html": [
       "<table>\n",
       "<thead><tr><th scope=col>Age</th><th scope=col>2.5% quantile</th><th scope=col>97.5% quantile</th></tr></thead>\n",
       "<tbody>\n",
       "\t<tr><td>0-9         </td><td>0.000000e+00</td><td>0.0001948052</td></tr>\n",
       "\t<tr><td>10-19       </td><td>0.000000e+00</td><td>0.0000000000</td></tr>\n",
       "\t<tr><td>20-29       </td><td>0.000000e+00</td><td>0.0000000000</td></tr>\n",
       "\t<tr><td>30-39       </td><td>6.554368e-05</td><td>0.0003604903</td></tr>\n",
       "\t<tr><td>40-49       </td><td>6.157256e-05</td><td>0.0004002217</td></tr>\n",
       "\t<tr><td>50-59       </td><td>1.224759e-03</td><td>0.0021354772</td></tr>\n",
       "\t<tr><td>60-69       </td><td>9.625242e-03</td><td>0.0127007632</td></tr>\n",
       "\t<tr><td>70-79       </td><td>5.297892e-02</td><td>0.0615948671</td></tr>\n",
       "\t<tr><td>80-89       </td><td>1.578125e-01</td><td>0.1772569444</td></tr>\n",
       "\t<tr><td>90+         </td><td>2.808864e-01</td><td>0.3235457064</td></tr>\n",
       "</tbody>\n",
       "</table>\n"
      ],
      "text/latex": [
       "\\begin{tabular}{r|lll}\n",
       " Age & 2.5\\% quantile & 97.5\\% quantile\\\\\n",
       "\\hline\n",
       "\t 0-9          & 0.000000e+00 & 0.0001948052\\\\\n",
       "\t 10-19        & 0.000000e+00 & 0.0000000000\\\\\n",
       "\t 20-29        & 0.000000e+00 & 0.0000000000\\\\\n",
       "\t 30-39        & 6.554368e-05 & 0.0003604903\\\\\n",
       "\t 40-49        & 6.157256e-05 & 0.0004002217\\\\\n",
       "\t 50-59        & 1.224759e-03 & 0.0021354772\\\\\n",
       "\t 60-69        & 9.625242e-03 & 0.0127007632\\\\\n",
       "\t 70-79        & 5.297892e-02 & 0.0615948671\\\\\n",
       "\t 80-89        & 1.578125e-01 & 0.1772569444\\\\\n",
       "\t 90+          & 2.808864e-01 & 0.3235457064\\\\\n",
       "\\end{tabular}\n"
      ],
      "text/markdown": [
       "\n",
       "| Age | 2.5% quantile | 97.5% quantile |\n",
       "|---|---|---|\n",
       "| 0-9          | 0.000000e+00 | 0.0001948052 |\n",
       "| 10-19        | 0.000000e+00 | 0.0000000000 |\n",
       "| 20-29        | 0.000000e+00 | 0.0000000000 |\n",
       "| 30-39        | 6.554368e-05 | 0.0003604903 |\n",
       "| 40-49        | 6.157256e-05 | 0.0004002217 |\n",
       "| 50-59        | 1.224759e-03 | 0.0021354772 |\n",
       "| 60-69        | 9.625242e-03 | 0.0127007632 |\n",
       "| 70-79        | 5.297892e-02 | 0.0615948671 |\n",
       "| 80-89        | 1.578125e-01 | 0.1772569444 |\n",
       "| 90+          | 2.808864e-01 | 0.3235457064 |\n",
       "\n"
      ],
      "text/plain": [
       "   Age   2.5% quantile 97.5% quantile\n",
       "1  0-9   0.000000e+00  0.0001948052  \n",
       "2  10-19 0.000000e+00  0.0000000000  \n",
       "3  20-29 0.000000e+00  0.0000000000  \n",
       "4  30-39 6.554368e-05  0.0003604903  \n",
       "5  40-49 6.157256e-05  0.0004002217  \n",
       "6  50-59 1.224759e-03  0.0021354772  \n",
       "7  60-69 9.625242e-03  0.0127007632  \n",
       "8  70-79 5.297892e-02  0.0615948671  \n",
       "9  80-89 1.578125e-01  0.1772569444  \n",
       "10 90+   2.808864e-01  0.3235457064  "
      ]
     },
     "metadata": {},
     "output_type": "display_data"
    }
   ],
   "source": [
    "Quantiles_Binomial"
   ]
  },
  {
   "cell_type": "code",
   "execution_count": 9,
   "id": "passive-identifier",
   "metadata": {},
   "outputs": [],
   "source": [
    "Bernoulli_Bootstrap = function(p,n, B = 10000){\n",
    "  #Generate new MEAN data\n",
    "  p_B = replicate(B,mean(rbernoulli(n,p)))\n",
    "}"
   ]
  },
  {
   "cell_type": "code",
   "execution_count": 10,
   "id": "commercial-there",
   "metadata": {},
   "outputs": [],
   "source": [
    "Quantiles_Bernoulli = mortality %>% \n",
    "  mutate(Bootstraps = map2(`Mortality given Infected`, infected, Bernoulli_Bootstrap, B = 1000)) %>% \n",
    "  mutate(Quantiles = map(Bootstraps, quantile, c(0.025,0.975))) %>% \n",
    "  mutate(`2.5% quantile` = unlist(map(Quantiles, function(x){x[1]}))) %>% \n",
    "  mutate(`97.5% quantile` = unlist(map(Quantiles, function(x){x[2]}))) %>% \n",
    "  select(Age, `2.5% quantile`, `97.5% quantile`)"
   ]
  },
  {
   "cell_type": "code",
   "execution_count": 11,
   "id": "supreme-marks",
   "metadata": {},
   "outputs": [
    {
     "data": {
      "text/html": [
       "<table>\n",
       "<thead><tr><th scope=col>Age</th><th scope=col>2.5% quantile</th><th scope=col>97.5% quantile</th></tr></thead>\n",
       "<tbody>\n",
       "\t<tr><td>0-9         </td><td>0.000000e+00</td><td>0.0002597403</td></tr>\n",
       "\t<tr><td>10-19       </td><td>0.000000e+00</td><td>0.0000000000</td></tr>\n",
       "\t<tr><td>20-29       </td><td>0.000000e+00</td><td>0.0000000000</td></tr>\n",
       "\t<tr><td>30-39       </td><td>6.554368e-05</td><td>0.0003604903</td></tr>\n",
       "\t<tr><td>40-49       </td><td>9.235884e-05</td><td>0.0004002217</td></tr>\n",
       "\t<tr><td>50-59       </td><td>1.224759e-03</td><td>0.0021354772</td></tr>\n",
       "\t<tr><td>60-69       </td><td>9.625242e-03</td><td>0.0126438091</td></tr>\n",
       "\t<tr><td>70-79       </td><td>5.325390e-02</td><td>0.0615032081</td></tr>\n",
       "\t<tr><td>80-89       </td><td>1.578125e-01</td><td>0.1772569444</td></tr>\n",
       "\t<tr><td>90+         </td><td>2.814404e-01</td><td>0.3229916898</td></tr>\n",
       "</tbody>\n",
       "</table>\n"
      ],
      "text/latex": [
       "\\begin{tabular}{r|lll}\n",
       " Age & 2.5\\% quantile & 97.5\\% quantile\\\\\n",
       "\\hline\n",
       "\t 0-9          & 0.000000e+00 & 0.0002597403\\\\\n",
       "\t 10-19        & 0.000000e+00 & 0.0000000000\\\\\n",
       "\t 20-29        & 0.000000e+00 & 0.0000000000\\\\\n",
       "\t 30-39        & 6.554368e-05 & 0.0003604903\\\\\n",
       "\t 40-49        & 9.235884e-05 & 0.0004002217\\\\\n",
       "\t 50-59        & 1.224759e-03 & 0.0021354772\\\\\n",
       "\t 60-69        & 9.625242e-03 & 0.0126438091\\\\\n",
       "\t 70-79        & 5.325390e-02 & 0.0615032081\\\\\n",
       "\t 80-89        & 1.578125e-01 & 0.1772569444\\\\\n",
       "\t 90+          & 2.814404e-01 & 0.3229916898\\\\\n",
       "\\end{tabular}\n"
      ],
      "text/markdown": [
       "\n",
       "| Age | 2.5% quantile | 97.5% quantile |\n",
       "|---|---|---|\n",
       "| 0-9          | 0.000000e+00 | 0.0002597403 |\n",
       "| 10-19        | 0.000000e+00 | 0.0000000000 |\n",
       "| 20-29        | 0.000000e+00 | 0.0000000000 |\n",
       "| 30-39        | 6.554368e-05 | 0.0003604903 |\n",
       "| 40-49        | 9.235884e-05 | 0.0004002217 |\n",
       "| 50-59        | 1.224759e-03 | 0.0021354772 |\n",
       "| 60-69        | 9.625242e-03 | 0.0126438091 |\n",
       "| 70-79        | 5.325390e-02 | 0.0615032081 |\n",
       "| 80-89        | 1.578125e-01 | 0.1772569444 |\n",
       "| 90+          | 2.814404e-01 | 0.3229916898 |\n",
       "\n"
      ],
      "text/plain": [
       "   Age   2.5% quantile 97.5% quantile\n",
       "1  0-9   0.000000e+00  0.0002597403  \n",
       "2  10-19 0.000000e+00  0.0000000000  \n",
       "3  20-29 0.000000e+00  0.0000000000  \n",
       "4  30-39 6.554368e-05  0.0003604903  \n",
       "5  40-49 9.235884e-05  0.0004002217  \n",
       "6  50-59 1.224759e-03  0.0021354772  \n",
       "7  60-69 9.625242e-03  0.0126438091  \n",
       "8  70-79 5.325390e-02  0.0615032081  \n",
       "9  80-89 1.578125e-01  0.1772569444  \n",
       "10 90+   2.814404e-01  0.3229916898  "
      ]
     },
     "metadata": {},
     "output_type": "display_data"
    }
   ],
   "source": [
    "Quantiles_Bernoulli"
   ]
  },
  {
   "cell_type": "code",
   "execution_count": 12,
   "id": "bearing-harassment",
   "metadata": {},
   "outputs": [],
   "source": [
    "Quantiles_Bernoulli %<>% mutate(Bootstrap = \"Bernoulli\")\n",
    "Quantiles_Binomial %<>% mutate(Bootstrap = \"Binomial\")"
   ]
  },
  {
   "cell_type": "code",
   "execution_count": 13,
   "id": "piano-adolescent",
   "metadata": {},
   "outputs": [],
   "source": [
    "Quantiles = rbind(Quantiles_Bernoulli,Quantiles_Binomial)"
   ]
  },
  {
   "cell_type": "code",
   "execution_count": 14,
   "id": "available-target",
   "metadata": {},
   "outputs": [
    {
     "data": {
      "text/html": [
       "<table>\n",
       "<thead><tr><th scope=col>Age</th><th scope=col>2.5% quantile</th><th scope=col>97.5% quantile</th><th scope=col>Bootstrap</th></tr></thead>\n",
       "<tbody>\n",
       "\t<tr><td>0-9         </td><td>0.000000e+00</td><td>0.0002597403</td><td>Bernoulli   </td></tr>\n",
       "\t<tr><td>10-19       </td><td>0.000000e+00</td><td>0.0000000000</td><td>Bernoulli   </td></tr>\n",
       "\t<tr><td>20-29       </td><td>0.000000e+00</td><td>0.0000000000</td><td>Bernoulli   </td></tr>\n",
       "\t<tr><td>30-39       </td><td>6.554368e-05</td><td>0.0003604903</td><td>Bernoulli   </td></tr>\n",
       "\t<tr><td>40-49       </td><td>9.235884e-05</td><td>0.0004002217</td><td>Bernoulli   </td></tr>\n",
       "\t<tr><td>50-59       </td><td>1.224759e-03</td><td>0.0021354772</td><td>Bernoulli   </td></tr>\n",
       "\t<tr><td>60-69       </td><td>9.625242e-03</td><td>0.0126438091</td><td>Bernoulli   </td></tr>\n",
       "\t<tr><td>70-79       </td><td>5.325390e-02</td><td>0.0615032081</td><td>Bernoulli   </td></tr>\n",
       "\t<tr><td>80-89       </td><td>1.578125e-01</td><td>0.1772569444</td><td>Bernoulli   </td></tr>\n",
       "\t<tr><td>90+         </td><td>2.814404e-01</td><td>0.3229916898</td><td>Bernoulli   </td></tr>\n",
       "\t<tr><td>0-9         </td><td>0.000000e+00</td><td>0.0001948052</td><td>Binomial    </td></tr>\n",
       "\t<tr><td>10-19       </td><td>0.000000e+00</td><td>0.0000000000</td><td>Binomial    </td></tr>\n",
       "\t<tr><td>20-29       </td><td>0.000000e+00</td><td>0.0000000000</td><td>Binomial    </td></tr>\n",
       "\t<tr><td>30-39       </td><td>6.554368e-05</td><td>0.0003604903</td><td>Binomial    </td></tr>\n",
       "\t<tr><td>40-49       </td><td>6.157256e-05</td><td>0.0004002217</td><td>Binomial    </td></tr>\n",
       "\t<tr><td>50-59       </td><td>1.224759e-03</td><td>0.0021354772</td><td>Binomial    </td></tr>\n",
       "\t<tr><td>60-69       </td><td>9.625242e-03</td><td>0.0127007632</td><td>Binomial    </td></tr>\n",
       "\t<tr><td>70-79       </td><td>5.297892e-02</td><td>0.0615948671</td><td>Binomial    </td></tr>\n",
       "\t<tr><td>80-89       </td><td>1.578125e-01</td><td>0.1772569444</td><td>Binomial    </td></tr>\n",
       "\t<tr><td>90+         </td><td>2.808864e-01</td><td>0.3235457064</td><td>Binomial    </td></tr>\n",
       "</tbody>\n",
       "</table>\n"
      ],
      "text/latex": [
       "\\begin{tabular}{r|llll}\n",
       " Age & 2.5\\% quantile & 97.5\\% quantile & Bootstrap\\\\\n",
       "\\hline\n",
       "\t 0-9          & 0.000000e+00 & 0.0002597403 & Bernoulli   \\\\\n",
       "\t 10-19        & 0.000000e+00 & 0.0000000000 & Bernoulli   \\\\\n",
       "\t 20-29        & 0.000000e+00 & 0.0000000000 & Bernoulli   \\\\\n",
       "\t 30-39        & 6.554368e-05 & 0.0003604903 & Bernoulli   \\\\\n",
       "\t 40-49        & 9.235884e-05 & 0.0004002217 & Bernoulli   \\\\\n",
       "\t 50-59        & 1.224759e-03 & 0.0021354772 & Bernoulli   \\\\\n",
       "\t 60-69        & 9.625242e-03 & 0.0126438091 & Bernoulli   \\\\\n",
       "\t 70-79        & 5.325390e-02 & 0.0615032081 & Bernoulli   \\\\\n",
       "\t 80-89        & 1.578125e-01 & 0.1772569444 & Bernoulli   \\\\\n",
       "\t 90+          & 2.814404e-01 & 0.3229916898 & Bernoulli   \\\\\n",
       "\t 0-9          & 0.000000e+00 & 0.0001948052 & Binomial    \\\\\n",
       "\t 10-19        & 0.000000e+00 & 0.0000000000 & Binomial    \\\\\n",
       "\t 20-29        & 0.000000e+00 & 0.0000000000 & Binomial    \\\\\n",
       "\t 30-39        & 6.554368e-05 & 0.0003604903 & Binomial    \\\\\n",
       "\t 40-49        & 6.157256e-05 & 0.0004002217 & Binomial    \\\\\n",
       "\t 50-59        & 1.224759e-03 & 0.0021354772 & Binomial    \\\\\n",
       "\t 60-69        & 9.625242e-03 & 0.0127007632 & Binomial    \\\\\n",
       "\t 70-79        & 5.297892e-02 & 0.0615948671 & Binomial    \\\\\n",
       "\t 80-89        & 1.578125e-01 & 0.1772569444 & Binomial    \\\\\n",
       "\t 90+          & 2.808864e-01 & 0.3235457064 & Binomial    \\\\\n",
       "\\end{tabular}\n"
      ],
      "text/markdown": [
       "\n",
       "| Age | 2.5% quantile | 97.5% quantile | Bootstrap |\n",
       "|---|---|---|---|\n",
       "| 0-9          | 0.000000e+00 | 0.0002597403 | Bernoulli    |\n",
       "| 10-19        | 0.000000e+00 | 0.0000000000 | Bernoulli    |\n",
       "| 20-29        | 0.000000e+00 | 0.0000000000 | Bernoulli    |\n",
       "| 30-39        | 6.554368e-05 | 0.0003604903 | Bernoulli    |\n",
       "| 40-49        | 9.235884e-05 | 0.0004002217 | Bernoulli    |\n",
       "| 50-59        | 1.224759e-03 | 0.0021354772 | Bernoulli    |\n",
       "| 60-69        | 9.625242e-03 | 0.0126438091 | Bernoulli    |\n",
       "| 70-79        | 5.325390e-02 | 0.0615032081 | Bernoulli    |\n",
       "| 80-89        | 1.578125e-01 | 0.1772569444 | Bernoulli    |\n",
       "| 90+          | 2.814404e-01 | 0.3229916898 | Bernoulli    |\n",
       "| 0-9          | 0.000000e+00 | 0.0001948052 | Binomial     |\n",
       "| 10-19        | 0.000000e+00 | 0.0000000000 | Binomial     |\n",
       "| 20-29        | 0.000000e+00 | 0.0000000000 | Binomial     |\n",
       "| 30-39        | 6.554368e-05 | 0.0003604903 | Binomial     |\n",
       "| 40-49        | 6.157256e-05 | 0.0004002217 | Binomial     |\n",
       "| 50-59        | 1.224759e-03 | 0.0021354772 | Binomial     |\n",
       "| 60-69        | 9.625242e-03 | 0.0127007632 | Binomial     |\n",
       "| 70-79        | 5.297892e-02 | 0.0615948671 | Binomial     |\n",
       "| 80-89        | 1.578125e-01 | 0.1772569444 | Binomial     |\n",
       "| 90+          | 2.808864e-01 | 0.3235457064 | Binomial     |\n",
       "\n"
      ],
      "text/plain": [
       "   Age   2.5% quantile 97.5% quantile Bootstrap\n",
       "1  0-9   0.000000e+00  0.0002597403   Bernoulli\n",
       "2  10-19 0.000000e+00  0.0000000000   Bernoulli\n",
       "3  20-29 0.000000e+00  0.0000000000   Bernoulli\n",
       "4  30-39 6.554368e-05  0.0003604903   Bernoulli\n",
       "5  40-49 9.235884e-05  0.0004002217   Bernoulli\n",
       "6  50-59 1.224759e-03  0.0021354772   Bernoulli\n",
       "7  60-69 9.625242e-03  0.0126438091   Bernoulli\n",
       "8  70-79 5.325390e-02  0.0615032081   Bernoulli\n",
       "9  80-89 1.578125e-01  0.1772569444   Bernoulli\n",
       "10 90+   2.814404e-01  0.3229916898   Bernoulli\n",
       "11 0-9   0.000000e+00  0.0001948052   Binomial \n",
       "12 10-19 0.000000e+00  0.0000000000   Binomial \n",
       "13 20-29 0.000000e+00  0.0000000000   Binomial \n",
       "14 30-39 6.554368e-05  0.0003604903   Binomial \n",
       "15 40-49 6.157256e-05  0.0004002217   Binomial \n",
       "16 50-59 1.224759e-03  0.0021354772   Binomial \n",
       "17 60-69 9.625242e-03  0.0127007632   Binomial \n",
       "18 70-79 5.297892e-02  0.0615948671   Binomial \n",
       "19 80-89 1.578125e-01  0.1772569444   Binomial \n",
       "20 90+   2.808864e-01  0.3235457064   Binomial "
      ]
     },
     "metadata": {},
     "output_type": "display_data"
    }
   ],
   "source": [
    "Quantiles"
   ]
  },
  {
   "cell_type": "code",
   "execution_count": 15,
   "id": "separate-argument",
   "metadata": {
    "scrolled": true
   },
   "outputs": [
    {
     "name": "stderr",
     "output_type": "stream",
     "text": [
      "Warning message:\n",
      "\"attributes are not identical across measure variables;\n",
      "they will be dropped\""
     ]
    },
    {
     "data": {
      "image/png": "[encoded data removed]",
      "text/plain": [
       "plot without title"
      ]
     },
     "metadata": {},
     "output_type": "display_data"
    }
   ],
   "source": [
    "Quantiles %>% gather(\"Quantile\",\"Value\", -Age,-Bootstrap) %>% \n",
    "  ggplot(aes(x = Age, y = Value, fill = Bootstrap)) + \n",
    "  geom_bar(stat = \"identity\",position=position_dodge()) + \n",
    "  facet_grid(vars(Quantile)) +\n",
    "  theme(axis.text.x = element_text(angle = 45, hjust=1)) + \n",
    "  ylab(\"Mortality given Infected\")"
   ]
  },
  {
   "cell_type": "markdown",
   "id": "celtic-dairy",
   "metadata": {},
   "source": [
    "# Logistisk regression på en kategorisk variabel"
   ]
  },
  {
   "cell_type": "markdown",
   "id": "worth-african",
   "metadata": {},
   "source": [
    "Vi vil undersøge, hvad sandsynligheden er for at man dør givet en specifik alder.\n",
    "Dog kan der opstå et problem, da modellen oftest operere på kontinuerete forklarende variable.\n",
    "\n",
    "Da kan det være nødvendigt at undersøge, hvorvidt det har nogen betydning i vores tilfælde. Vi har nemlig en variabel der originalt er kontinuert - altså variablen alder, men denne variabel er gjort diskret ved at afrunde alderen til kun at indeholde år. Efterfølgende er alderen yderligere opdelt kategorisk, så der er tale om en aldersgruppe.\n",
    "\n",
    "Har dette nogen signifikant betydning for resultatet?"
   ]
  },
  {
   "cell_type": "code",
   "execution_count": 139,
   "id": "alleged-interest",
   "metadata": {},
   "outputs": [
    {
     "data": {
      "text/html": [
       "<table>\n",
       "<thead><tr><th scope=col>age</th><th scope=col>total</th><th scope=col>male</th><th scope=col>female</th><th scope=col>P</th></tr></thead>\n",
       "<tbody>\n",
       "\t<tr><td>0         </td><td>61191     </td><td>31303     </td><td>29888     </td><td>0.01047783</td></tr>\n",
       "\t<tr><td>1         </td><td>61663     </td><td>31758     </td><td>29905     </td><td>0.01055865</td></tr>\n",
       "\t<tr><td>2         </td><td>61967     </td><td>31909     </td><td>30058     </td><td>0.01061071</td></tr>\n",
       "\t<tr><td>3         </td><td>62185     </td><td>31852     </td><td>30333     </td><td>0.01064803</td></tr>\n",
       "\t<tr><td>4         </td><td>62844     </td><td>32402     </td><td>30442     </td><td>0.01076088</td></tr>\n",
       "\t<tr><td>5         </td><td>59740     </td><td>30627     </td><td>29113     </td><td>0.01022937</td></tr>\n",
       "</tbody>\n",
       "</table>\n"
      ],
      "text/latex": [
       "\\begin{tabular}{r|lllll}\n",
       " age & total & male & female & P\\\\\n",
       "\\hline\n",
       "\t 0          & 61191      & 31303      & 29888      & 0.01047783\\\\\n",
       "\t 1          & 61663      & 31758      & 29905      & 0.01055865\\\\\n",
       "\t 2          & 61967      & 31909      & 30058      & 0.01061071\\\\\n",
       "\t 3          & 62185      & 31852      & 30333      & 0.01064803\\\\\n",
       "\t 4          & 62844      & 32402      & 30442      & 0.01076088\\\\\n",
       "\t 5          & 59740      & 30627      & 29113      & 0.01022937\\\\\n",
       "\\end{tabular}\n"
      ],
      "text/markdown": [
       "\n",
       "| age | total | male | female | P |\n",
       "|---|---|---|---|---|\n",
       "| 0          | 61191      | 31303      | 29888      | 0.01047783 |\n",
       "| 1          | 61663      | 31758      | 29905      | 0.01055865 |\n",
       "| 2          | 61967      | 31909      | 30058      | 0.01061071 |\n",
       "| 3          | 62185      | 31852      | 30333      | 0.01064803 |\n",
       "| 4          | 62844      | 32402      | 30442      | 0.01076088 |\n",
       "| 5          | 59740      | 30627      | 29113      | 0.01022937 |\n",
       "\n"
      ],
      "text/plain": [
       "  age total male  female P         \n",
       "1 0   61191 31303 29888  0.01047783\n",
       "2 1   61663 31758 29905  0.01055865\n",
       "3 2   61967 31909 30058  0.01061071\n",
       "4 3   62185 31852 30333  0.01064803\n",
       "5 4   62844 32402 30442  0.01076088\n",
       "6 5   59740 30627 29113  0.01022937"
      ]
     },
     "metadata": {},
     "output_type": "display_data"
    }
   ],
   "source": [
    "DKpop <- read_excel(\"data/folketal.xlsx\")\n",
    "DKpop %<>% mutate(P = total/sum(total))\n",
    "head(DKpop)"
   ]
  },
  {
   "cell_type": "code",
   "execution_count": 92,
   "id": "brilliant-malaysia",
   "metadata": {},
   "outputs": [],
   "source": [
    "#inverse_logit = function(p){\n",
    "#  exp(p)/(1+exp(p))\n",
    "#}"
   ]
  },
  {
   "cell_type": "code",
   "execution_count": 122,
   "id": "emotional-strap",
   "metadata": {},
   "outputs": [],
   "source": [
    "Sampler = function(n, beta_0, beta_1, uniform_displace = T){\n",
    "    X = with(DKpop, sample(age, n, replace = T, prob = P))\n",
    "    if (uniform_displace){\n",
    "        X = X + runif(n,0,1)\n",
    "    }\n",
    "    P_X = ilogit(beta_0 + beta_1*X)\n",
    "    Y = rbernoulli(n,P_X)\n",
    "    return(tibble(age = X,dead = Y))\n",
    "}"
   ]
  },
  {
   "cell_type": "code",
   "execution_count": 127,
   "id": "worth-major",
   "metadata": {},
   "outputs": [
    {
     "data": {
      "text/html": [
       "<table>\n",
       "<thead><tr><th scope=col>age</th><th scope=col>dead</th></tr></thead>\n",
       "<tbody>\n",
       "\t<tr><td>35.45491</td><td>FALSE   </td></tr>\n",
       "\t<tr><td>15.90395</td><td>FALSE   </td></tr>\n",
       "\t<tr><td>85.24125</td><td>FALSE   </td></tr>\n",
       "\t<tr><td>37.32474</td><td>FALSE   </td></tr>\n",
       "\t<tr><td>14.60384</td><td>FALSE   </td></tr>\n",
       "\t<tr><td>58.71595</td><td>FALSE   </td></tr>\n",
       "\t<tr><td>46.83278</td><td>FALSE   </td></tr>\n",
       "\t<tr><td>50.14032</td><td>FALSE   </td></tr>\n",
       "\t<tr><td>25.87285</td><td>FALSE   </td></tr>\n",
       "\t<tr><td>11.18786</td><td>FALSE   </td></tr>\n",
       "</tbody>\n",
       "</table>\n"
      ],
      "text/latex": [
       "\\begin{tabular}{r|ll}\n",
       " age & dead\\\\\n",
       "\\hline\n",
       "\t 35.45491 & FALSE   \\\\\n",
       "\t 15.90395 & FALSE   \\\\\n",
       "\t 85.24125 & FALSE   \\\\\n",
       "\t 37.32474 & FALSE   \\\\\n",
       "\t 14.60384 & FALSE   \\\\\n",
       "\t 58.71595 & FALSE   \\\\\n",
       "\t 46.83278 & FALSE   \\\\\n",
       "\t 50.14032 & FALSE   \\\\\n",
       "\t 25.87285 & FALSE   \\\\\n",
       "\t 11.18786 & FALSE   \\\\\n",
       "\\end{tabular}\n"
      ],
      "text/markdown": [
       "\n",
       "| age | dead |\n",
       "|---|---|\n",
       "| 35.45491 | FALSE    |\n",
       "| 15.90395 | FALSE    |\n",
       "| 85.24125 | FALSE    |\n",
       "| 37.32474 | FALSE    |\n",
       "| 14.60384 | FALSE    |\n",
       "| 58.71595 | FALSE    |\n",
       "| 46.83278 | FALSE    |\n",
       "| 50.14032 | FALSE    |\n",
       "| 25.87285 | FALSE    |\n",
       "| 11.18786 | FALSE    |\n",
       "\n"
      ],
      "text/plain": [
       "   age      dead \n",
       "1  35.45491 FALSE\n",
       "2  15.90395 FALSE\n",
       "3  85.24125 FALSE\n",
       "4  37.32474 FALSE\n",
       "5  14.60384 FALSE\n",
       "6  58.71595 FALSE\n",
       "7  46.83278 FALSE\n",
       "8  50.14032 FALSE\n",
       "9  25.87285 FALSE\n",
       "10 11.18786 FALSE"
      ]
     },
     "metadata": {},
     "output_type": "display_data"
    }
   ],
   "source": [
    "beta_0 = -9\n",
    "beta_1 = 0.1\n",
    "\n",
    "Sampled_Data = Sampler(1000,beta_0,beta_1)\n",
    "head(Sampled_Data, 10)"
   ]
  },
  {
   "cell_type": "code",
   "execution_count": 95,
   "id": "smoking-zimbabwe",
   "metadata": {
    "scrolled": true
   },
   "outputs": [
    {
     "data": {
      "image/png": "[encoded data removed]",
      "text/plain": [
       "plot without title"
      ]
     },
     "metadata": {},
     "output_type": "display_data"
    }
   ],
   "source": [
    "plot(Sampled_Data$dead)"
   ]
  },
  {
   "cell_type": "code",
   "execution_count": 96,
   "id": "legal-lingerie",
   "metadata": {},
   "outputs": [
    {
     "data": {
      "image/png": "[encoded data removed]",
      "text/plain": [
       "plot without title"
      ]
     },
     "metadata": {},
     "output_type": "display_data"
    }
   ],
   "source": [
    "Sampled_Data %>% \n",
    "  ggplot(aes(x = age, y = dead)) + geom_point()"
   ]
  },
  {
   "cell_type": "code",
   "execution_count": 143,
   "id": "underlying-samba",
   "metadata": {},
   "outputs": [
    {
     "data": {
      "text/html": [
       "<table>\n",
       "<thead><tr><th scope=col>age</th><th scope=col>P(Dead|Age)</th></tr></thead>\n",
       "<tbody>\n",
       "\t<tr><td>0       </td><td>1.000123</td></tr>\n",
       "\t<tr><td>1       </td><td>1.000136</td></tr>\n",
       "\t<tr><td>2       </td><td>1.000151</td></tr>\n",
       "\t<tr><td>3       </td><td>1.000167</td></tr>\n",
       "\t<tr><td>4       </td><td>1.000184</td></tr>\n",
       "\t<tr><td>5       </td><td>1.000203</td></tr>\n",
       "</tbody>\n",
       "</table>\n"
      ],
      "text/latex": [
       "\\begin{tabular}{r|ll}\n",
       " age & P(Dead\\textbar{}Age)\\\\\n",
       "\\hline\n",
       "\t 0        & 1.000123\\\\\n",
       "\t 1        & 1.000136\\\\\n",
       "\t 2        & 1.000151\\\\\n",
       "\t 3        & 1.000167\\\\\n",
       "\t 4        & 1.000184\\\\\n",
       "\t 5        & 1.000203\\\\\n",
       "\\end{tabular}\n"
      ],
      "text/markdown": [
       "\n",
       "| age | P(Dead|Age) |\n",
       "|---|---|\n",
       "| 0        | 1.000123 |\n",
       "| 1        | 1.000136 |\n",
       "| 2        | 1.000151 |\n",
       "| 3        | 1.000167 |\n",
       "| 4        | 1.000184 |\n",
       "| 5        | 1.000203 |\n",
       "\n"
      ],
      "text/plain": [
       "  age P(Dead|Age)\n",
       "1 0   1.000123   \n",
       "2 1   1.000136   \n",
       "3 2   1.000151   \n",
       "4 3   1.000167   \n",
       "5 4   1.000184   \n",
       "6 5   1.000203   "
      ]
     },
     "metadata": {},
     "output_type": "display_data"
    },
    {
     "data": {
      "text/html": [
       "<table>\n",
       "<thead><tr><th scope=col>age</th><th scope=col>P(Dead|Age)</th></tr></thead>\n",
       "<tbody>\n",
       "\t<tr><td>115     </td><td>1.924142</td></tr>\n",
       "\t<tr><td>116     </td><td>1.930862</td></tr>\n",
       "\t<tr><td>117     </td><td>1.937027</td></tr>\n",
       "\t<tr><td>118     </td><td>1.942676</td></tr>\n",
       "\t<tr><td>119     </td><td>1.947846</td></tr>\n",
       "\t<tr><td>120     </td><td>1.952574</td></tr>\n",
       "</tbody>\n",
       "</table>\n"
      ],
      "text/latex": [
       "\\begin{tabular}{r|ll}\n",
       " age & P(Dead\\textbar{}Age)\\\\\n",
       "\\hline\n",
       "\t 115      & 1.924142\\\\\n",
       "\t 116      & 1.930862\\\\\n",
       "\t 117      & 1.937027\\\\\n",
       "\t 118      & 1.942676\\\\\n",
       "\t 119      & 1.947846\\\\\n",
       "\t 120      & 1.952574\\\\\n",
       "\\end{tabular}\n"
      ],
      "text/markdown": [
       "\n",
       "| age | P(Dead|Age) |\n",
       "|---|---|\n",
       "| 115      | 1.924142 |\n",
       "| 116      | 1.930862 |\n",
       "| 117      | 1.937027 |\n",
       "| 118      | 1.942676 |\n",
       "| 119      | 1.947846 |\n",
       "| 120      | 1.952574 |\n",
       "\n"
      ],
      "text/plain": [
       "  age P(Dead|Age)\n",
       "1 115 1.924142   \n",
       "2 116 1.930862   \n",
       "3 117 1.937027   \n",
       "4 118 1.942676   \n",
       "5 119 1.947846   \n",
       "6 120 1.952574   "
      ]
     },
     "metadata": {},
     "output_type": "display_data"
    }
   ],
   "source": [
    "Logit_Curve = tibble(age = 0:120, `P(Dead|Age)` = ilogit(beta_0 + beta_1*0:120)+1)\n",
    "head(Logit_Curve)\n",
    "tail(Logit_Curve)"
   ]
  },
  {
   "cell_type": "code",
   "execution_count": 158,
   "id": "fourth-layer",
   "metadata": {},
   "outputs": [
    {
     "data": {
      "image/png": "[encoded data removed]",
      "text/plain": [
       "plot without title"
      ]
     },
     "metadata": {},
     "output_type": "display_data"
    }
   ],
   "source": [
    "Sampled_Data %>%\n",
    "    ggplot(aes(x = age, y = dead, color = \"Sampled Data\")) + geom_point(alpha = 0.5) + \n",
    "    geom_line(data = Logit_Curve, aes(x = age, y = `P(Dead|Age)`, color = \"P(Dead|Age)\"), size = .87, inherit.aes = F) + \n",
    "    xlab(\"Age\") + ylab(\"Dead\") + labs(color = \"\")"
   ]
  },
  {
   "cell_type": "code",
   "execution_count": 160,
   "id": "congressional-judgment",
   "metadata": {},
   "outputs": [
    {
     "data": {
      "text/html": [
       "<table>\n",
       "<thead><tr><th scope=col>age</th><th scope=col>dead</th><th scope=col>age_truncated</th></tr></thead>\n",
       "<tbody>\n",
       "\t<tr><td>35.45491</td><td>FALSE   </td><td>30      </td></tr>\n",
       "\t<tr><td>15.90395</td><td>FALSE   </td><td>10      </td></tr>\n",
       "\t<tr><td>85.24125</td><td>FALSE   </td><td>80      </td></tr>\n",
       "\t<tr><td>37.32474</td><td>FALSE   </td><td>30      </td></tr>\n",
       "\t<tr><td>14.60384</td><td>FALSE   </td><td>10      </td></tr>\n",
       "\t<tr><td>58.71595</td><td>FALSE   </td><td>50      </td></tr>\n",
       "</tbody>\n",
       "</table>\n"
      ],
      "text/latex": [
       "\\begin{tabular}{r|lll}\n",
       " age & dead & age\\_truncated\\\\\n",
       "\\hline\n",
       "\t 35.45491 & FALSE    & 30      \\\\\n",
       "\t 15.90395 & FALSE    & 10      \\\\\n",
       "\t 85.24125 & FALSE    & 80      \\\\\n",
       "\t 37.32474 & FALSE    & 30      \\\\\n",
       "\t 14.60384 & FALSE    & 10      \\\\\n",
       "\t 58.71595 & FALSE    & 50      \\\\\n",
       "\\end{tabular}\n"
      ],
      "text/markdown": [
       "\n",
       "| age | dead | age_truncated |\n",
       "|---|---|---|\n",
       "| 35.45491 | FALSE    | 30       |\n",
       "| 15.90395 | FALSE    | 10       |\n",
       "| 85.24125 | FALSE    | 80       |\n",
       "| 37.32474 | FALSE    | 30       |\n",
       "| 14.60384 | FALSE    | 10       |\n",
       "| 58.71595 | FALSE    | 50       |\n",
       "\n"
      ],
      "text/plain": [
       "  age      dead  age_truncated\n",
       "1 35.45491 FALSE 30           \n",
       "2 15.90395 FALSE 10           \n",
       "3 85.24125 FALSE 80           \n",
       "4 37.32474 FALSE 30           \n",
       "5 14.60384 FALSE 10           \n",
       "6 58.71595 FALSE 50           "
      ]
     },
     "metadata": {},
     "output_type": "display_data"
    }
   ],
   "source": [
    "Sampled_Data %<>% mutate(age_truncated = floor(age/10)*10)\n",
    "head(Sampled_Data)"
   ]
  },
  {
   "cell_type": "code",
   "execution_count": 161,
   "id": "catholic-rwanda",
   "metadata": {},
   "outputs": [
    {
     "data": {
      "text/plain": [
       "\n",
       "Call:\n",
       "glm(formula = dead ~ age, family = \"binomial\", data = Sampled_Data)\n",
       "\n",
       "Deviance Residuals: \n",
       "     Min        1Q    Median        3Q       Max  \n",
       "-1.32638  -0.28442  -0.12285  -0.04663   3.06087  \n",
       "\n",
       "Coefficients:\n",
       "            Estimate Std. Error z value Pr(>|z|)    \n",
       "(Intercept) -8.84152    0.88700  -9.968  < 2e-16 ***\n",
       "age          0.09781    0.01226   7.976 1.51e-15 ***\n",
       "---\n",
       "Signif. codes:  0 '***' 0.001 '**' 0.01 '*' 0.05 '.' 0.1 ' ' 1\n",
       "\n",
       "(Dispersion parameter for binomial family taken to be 1)\n",
       "\n",
       "    Null deviance: 402.90  on 999  degrees of freedom\n",
       "Residual deviance: 285.64  on 998  degrees of freedom\n",
       "AIC: 289.64\n",
       "\n",
       "Number of Fisher Scoring iterations: 7\n"
      ]
     },
     "metadata": {},
     "output_type": "display_data"
    }
   ],
   "source": [
    "glm.main <- glm(dead ~ age, family = \"binomial\", data = Sampled_Data)\n",
    "summary(glm.main)"
   ]
  },
  {
   "cell_type": "code",
   "execution_count": 162,
   "id": "disturbed-ridge",
   "metadata": {},
   "outputs": [
    {
     "data": {
      "text/plain": [
       "\n",
       "Call:\n",
       "glm(formula = dead ~ age_truncated, family = \"binomial\", data = Sampled_Data)\n",
       "\n",
       "Deviance Residuals: \n",
       "     Min        1Q    Median        3Q       Max  \n",
       "-1.35069  -0.24891  -0.15442  -0.05902   2.97832  \n",
       "\n",
       "Coefficients:\n",
       "              Estimate Std. Error z value Pr(>|z|)    \n",
       "(Intercept)   -8.28079    0.81604 -10.147  < 2e-16 ***\n",
       "age_truncated  0.09644    0.01209   7.978 1.49e-15 ***\n",
       "---\n",
       "Signif. codes:  0 '***' 0.001 '**' 0.01 '*' 0.05 '.' 0.1 ' ' 1\n",
       "\n",
       "(Dispersion parameter for binomial family taken to be 1)\n",
       "\n",
       "    Null deviance: 402.90  on 999  degrees of freedom\n",
       "Residual deviance: 286.28  on 998  degrees of freedom\n",
       "AIC: 290.28\n",
       "\n",
       "Number of Fisher Scoring iterations: 7\n"
      ]
     },
     "metadata": {},
     "output_type": "display_data"
    }
   ],
   "source": [
    "glm.truncated <- glm(dead ~ age_truncated, family = \"binomial\", data = Sampled_Data)\n",
    "summary(glm.truncated)"
   ]
  },
  {
   "cell_type": "code",
   "execution_count": 164,
   "id": "oriental-bundle",
   "metadata": {},
   "outputs": [
    {
     "data": {
      "text/html": [
       "0.0501070970023909"
      ],
      "text/latex": [
       "0.0501070970023909"
      ],
      "text/markdown": [
       "0.0501070970023909"
      ],
      "text/plain": [
       "[1] 0.0501071"
      ]
     },
     "metadata": {},
     "output_type": "display_data"
    }
   ],
   "source": [
    "`P(Age)` = DKpop$P\n",
    "`P(Dead|Age)` = ilogit(beta_0 + beta_1*DKpop$age)\n",
    "(`P(Dead)` = sum(`P(Dead|Age)`*`P(Age)`))"
   ]
  },
  {
   "cell_type": "markdown",
   "id": "closing-frost",
   "metadata": {},
   "source": [
    "# TEST KODE"
   ]
  },
  {
   "cell_type": "code",
   "execution_count": 63,
   "id": "entitled-claim",
   "metadata": {},
   "outputs": [],
   "source": [
    "temp_df <- df %>% \n",
    "  filter(age != \"Alle\")\n",
    "unfolded_data = pmap_dfr(temp_df, \n",
    "                      function(interval, tot_deaths, infected, infected_male,infected_fem, male_deaths, female_deaths,...) {\n",
    "                           data.frame(age = interval,\n",
    "                                      dead = c(rep(1, tot_deaths), rep(0, infected - tot_deaths)),\n",
    "                                      gender = c(rep(\"Male\", male_deaths),\n",
    "                                                rep(\"Female\", female_deaths),\n",
    "                                                rep(\"Male\",infected_male-male_deaths),\n",
    "                                                rep(\"Female\",infected_fem-female_deaths)))\n",
    "                                     \n",
    "                      }\n",
    ")"
   ]
  },
  {
   "cell_type": "code",
   "execution_count": 64,
   "id": "suffering-devon",
   "metadata": {},
   "outputs": [
    {
     "data": {
      "text/html": [
       "221842"
      ],
      "text/latex": [
       "221842"
      ],
      "text/markdown": [
       "221842"
      ],
      "text/plain": [
       "[1] 221842"
      ]
     },
     "metadata": {},
     "output_type": "display_data"
    }
   ],
   "source": [
    "nrow(unfolded_data)"
   ]
  },
  {
   "cell_type": "code",
   "execution_count": 65,
   "id": "adverse-robertson",
   "metadata": {},
   "outputs": [
    {
     "data": {
      "text/html": [
       "<table>\n",
       "<thead><tr><th scope=col>age</th><th scope=col>dead</th><th scope=col>gender</th></tr></thead>\n",
       "<tbody>\n",
       "\t<tr><td>1   </td><td>1   </td><td>Male</td></tr>\n",
       "\t<tr><td>1   </td><td>0   </td><td>Male</td></tr>\n",
       "\t<tr><td>1   </td><td>0   </td><td>Male</td></tr>\n",
       "\t<tr><td>1   </td><td>0   </td><td>Male</td></tr>\n",
       "\t<tr><td>1   </td><td>0   </td><td>Male</td></tr>\n",
       "\t<tr><td>1   </td><td>0   </td><td>Male</td></tr>\n",
       "\t<tr><td>1   </td><td>0   </td><td>Male</td></tr>\n",
       "\t<tr><td>1   </td><td>0   </td><td>Male</td></tr>\n",
       "\t<tr><td>1   </td><td>0   </td><td>Male</td></tr>\n",
       "\t<tr><td>1   </td><td>0   </td><td>Male</td></tr>\n",
       "</tbody>\n",
       "</table>\n"
      ],
      "text/latex": [
       "\\begin{tabular}{r|lll}\n",
       " age & dead & gender\\\\\n",
       "\\hline\n",
       "\t 1    & 1    & Male\\\\\n",
       "\t 1    & 0    & Male\\\\\n",
       "\t 1    & 0    & Male\\\\\n",
       "\t 1    & 0    & Male\\\\\n",
       "\t 1    & 0    & Male\\\\\n",
       "\t 1    & 0    & Male\\\\\n",
       "\t 1    & 0    & Male\\\\\n",
       "\t 1    & 0    & Male\\\\\n",
       "\t 1    & 0    & Male\\\\\n",
       "\t 1    & 0    & Male\\\\\n",
       "\\end{tabular}\n"
      ],
      "text/markdown": [
       "\n",
       "| age | dead | gender |\n",
       "|---|---|---|\n",
       "| 1    | 1    | Male |\n",
       "| 1    | 0    | Male |\n",
       "| 1    | 0    | Male |\n",
       "| 1    | 0    | Male |\n",
       "| 1    | 0    | Male |\n",
       "| 1    | 0    | Male |\n",
       "| 1    | 0    | Male |\n",
       "| 1    | 0    | Male |\n",
       "| 1    | 0    | Male |\n",
       "| 1    | 0    | Male |\n",
       "\n"
      ],
      "text/plain": [
       "   age dead gender\n",
       "1  1   1    Male  \n",
       "2  1   0    Male  \n",
       "3  1   0    Male  \n",
       "4  1   0    Male  \n",
       "5  1   0    Male  \n",
       "6  1   0    Male  \n",
       "7  1   0    Male  \n",
       "8  1   0    Male  \n",
       "9  1   0    Male  \n",
       "10 1   0    Male  "
      ]
     },
     "metadata": {},
     "output_type": "display_data"
    }
   ],
   "source": [
    "head(unfolded_data, 10)"
   ]
  }
 ],
 "metadata": {
  "kernelspec": {
   "display_name": "R",
   "language": "R",
   "name": "ir"
  },
  "language_info": {
   "codemirror_mode": "r",
   "file_extension": ".r",
   "mimetype": "text/x-r-source",
   "name": "R",
   "pygments_lexer": "r",
   "version": "3.6.1"
  }
 },
 "nbformat": 4,
 "nbformat_minor": 5
}
